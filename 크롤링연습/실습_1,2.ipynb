{
 "cells": [
  {
   "cell_type": "markdown",
   "id": "52c835ae",
   "metadata": {},
   "source": [
    "#  실습 1: 뉴스기사 불러오기"
   ]
  },
  {
   "cell_type": "code",
   "execution_count": 3,
   "id": "29fdb600",
   "metadata": {},
   "outputs": [],
   "source": [
    "import requests\n",
    "from bs4 import BeautifulSoup"
   ]
  },
  {
   "cell_type": "code",
   "execution_count": 4,
   "id": "2867e9b4",
   "metadata": {},
   "outputs": [
    {
     "name": "stdout",
     "output_type": "stream",
     "text": [
      "기사 개수: 50\n",
      "Save complete\n"
     ]
    }
   ],
   "source": [
    "news_rss = requests.get('https://www.hankyung.com/feed/entertainment/SectionRssFeed.do?sectionId=07')\n",
    "news_rss_soup = BeautifulSoup(news_rss.content, 'xml')\n",
    "link_list = news_rss_soup.select('item > link')\n",
    "print(\"기사 개수:\", len(link_list))\n",
    "\n",
    "title_list = news_rss_soup.select('item > title')\n",
    "title_list = [title.text for title in title_list]\n",
    "\n",
    "\n",
    "news_data = []\n",
    "\n",
    "for link in link_list:\n",
    "    news_response = requests.get(link.text)\n",
    "    news_content_soup = BeautifulSoup(news_response.content, 'html.parser')\n",
    "    news_content = news_content_soup.select_one(\"div[itemprop=articleBody]\")\n",
    "    news_data.append(news_content)\n",
    "\n",
    "import pandas as pd\n",
    "news_df = pd.DataFrame(data={'title': title_list, 'content': news_data})\n",
    "news_df.to_csv(\"news.csv\", encoding=\"utf-8-sig\", index=False)\n",
    "print(\"Save complete\")"
   ]
  },
  {
   "cell_type": "code",
   "execution_count": 5,
   "id": "17d8c163",
   "metadata": {},
   "outputs": [
    {
     "name": "stdout",
     "output_type": "stream",
     "text": [
      "c:\\githome\\hipython_rep\n"
     ]
    }
   ],
   "source": [
    "import os\n",
    "print(os.getcwd())"
   ]
  },
  {
   "cell_type": "markdown",
   "id": "c70f9124",
   "metadata": {},
   "source": [
    "# 실습 2: 멀티미디어 데이터 수집하기"
   ]
  },
  {
   "cell_type": "code",
   "execution_count": 6,
   "id": "f13b3a94",
   "metadata": {},
   "outputs": [
    {
     "name": "stdout",
     "output_type": "stream",
     "text": [
      "영화 정보를 출력합니다.\n",
      "수집한 영화 수: 20\n",
      "좀비딸\n",
      "F1 더 무비\n",
      "전지적 독자 시점\n",
      "킹 오브 킹스\n",
      "판타스틱 4: 새로운 출발\n",
      "악마가 이사왔다\n",
      "명탐정 코난: 척안의 잔상\n",
      "발레리나\n",
      "배드 가이즈 2\n",
      "베베핀 극장판: 사라진 베베핀과 핑크퐁 대모험\n",
      "쥬라기 월드: 새로운 시작\n",
      "노이즈\n",
      "콘스탄틴\n",
      "극장판 도라에몽: 진구의 그림이야기\n",
      "꼬마마법사 주니토니\n",
      "고고다이노 극장판: 게코도마뱀의 꿈\n",
      "슈퍼맨\n",
      "미세리코르디아\n",
      "강령: 귀신놀이\n",
      "추적\n"
     ]
    }
   ],
   "source": [
    "import requests\n",
    "from bs4 import BeautifulSoup\n",
    "from io import BytesIO\n",
    "from PIL import Image\n",
    "import re\n",
    "import os\n",
    "\n",
    "movie_ranking = requests.get(\"https://www.moviechart.co.kr/rank/realtime/index/image\")\n",
    "\n",
    "image_dir = 'images'\n",
    "if not os.path.exists(image_dir):\n",
    "    os.makedirs(image_dir)\n",
    "    \n",
    "pattern = r'[\\\\/:\"*?<>|]'\n",
    "\n",
    "if movie_ranking.status_code == 200:\n",
    "    print(\"영화 정보를 출력합니다.\")\n",
    "    soup = BeautifulSoup(movie_ranking.content, 'html.parser')\n",
    "    title_list = soup.select(\".movieBox-list .movie-title a\")\n",
    "    image_list = soup.select(\".movieBox-list .movieBox-item img\")\n",
    "    print(f\"수집한 영화 수: {len(title_list)}\")\n",
    "    for title, image in zip(title_list, image_list):\n",
    "        image_src = image.get('src')\n",
    "        image_response = requests.get(\"https://www.moviechart.co.kr\" + image_src)\n",
    "        img = Image.open(BytesIO(image_response.content))\n",
    "        image_filename = re.sub(pattern, '', title.text)\n",
    "        img.save(os.path.join(image_dir, image_filename + \".png\"))\n",
    "        print(title.text, )\n",
    "else:\n",
    "    print(\"페이지에 연결할 수 없습니다.\")"
   ]
  }
 ],
 "metadata": {
  "kernelspec": {
   "display_name": "webcrawl_env",
   "language": "python",
   "name": "python3"
  },
  "language_info": {
   "codemirror_mode": {
    "name": "ipython",
    "version": 3
   },
   "file_extension": ".py",
   "mimetype": "text/x-python",
   "name": "python",
   "nbconvert_exporter": "python",
   "pygments_lexer": "ipython3",
   "version": "3.10.18"
  }
 },
 "nbformat": 4,
 "nbformat_minor": 5
}
