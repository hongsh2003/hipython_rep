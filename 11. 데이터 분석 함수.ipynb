{
 "cells": [
  {
   "cell_type": "markdown",
   "id": "287f8e4c",
   "metadata": {},
   "source": [
    "# Datadefault"
   ]
  },
  {
   "cell_type": "code",
   "execution_count": 1,
   "id": "5ed1825a-9e32-4436-910d-78bcca406f3d",
   "metadata": {},
   "outputs": [],
   "source": [
    "from collections import defaultdict"
   ]
  },
  {
   "cell_type": "code",
   "execution_count": 2,
   "id": "aef0dc53",
   "metadata": {},
   "outputs": [
    {
     "name": "stdout",
     "output_type": "stream",
     "text": [
      "defaultdict(<class 'int'>, {'a': 1, 'b': 0, 'c': 2})\n"
     ]
    }
   ],
   "source": [
    "dd = defaultdict(int)\n",
    "dd['a'] = 1\n",
    "dd['b']\n",
    "dd['c'] = 2\n",
    "\n",
    "print(dd)"
   ]
  },
  {
   "cell_type": "code",
   "execution_count": 3,
   "id": "33260288",
   "metadata": {},
   "outputs": [
    {
     "data": {
      "text/plain": [
       "[('alice', 90), ('bob', 80), ('charlie', 70), ('alice', 80)]"
      ]
     },
     "execution_count": 3,
     "metadata": {},
     "output_type": "execute_result"
    }
   ],
   "source": [
    "scores = [ ('alice',90), ('bob',80), ('charlie',70), ('alice',80)]\n",
    "scores"
   ]
  },
  {
   "cell_type": "code",
   "execution_count": 4,
   "id": "062b98ac",
   "metadata": {},
   "outputs": [
    {
     "data": {
      "text/plain": [
       "{'alice': [90, 80], 'bob': [80], 'charlie': [70]}"
      ]
     },
     "execution_count": 4,
     "metadata": {},
     "output_type": "execute_result"
    }
   ],
   "source": [
    "grouped = defaultdict(list)\n",
    "for name, score in scores:\n",
    "  grouped[name].append(score)\n",
    "  \n",
    "dict(grouped)"
   ]
  },
  {
   "cell_type": "code",
   "execution_count": 5,
   "id": "179afa20",
   "metadata": {},
   "outputs": [
    {
     "data": {
      "text/plain": [
       "{'b': 1, 'a': 3, 'n': 2}"
      ]
     },
     "execution_count": 5,
     "metadata": {},
     "output_type": "execute_result"
    }
   ],
   "source": [
    "s = 'banana'\n",
    "cnt = defaultdict(int)\n",
    "\n",
    "for char in s:\n",
    "  cnt[char] += 1\n",
    "dict(cnt)"
   ]
  },
  {
   "cell_type": "markdown",
   "id": "1e19a057",
   "metadata": {},
   "source": [
    "# Counter\n",
    "\n",
    "collection 모듈의 클래스, 시퀀스 데이터, 리슽, 문자열의 원소 갯수를 카운트"
   ]
  },
  {
   "cell_type": "code",
   "execution_count": 9,
   "id": "22e59f95",
   "metadata": {},
   "outputs": [
    {
     "data": {
      "text/plain": [
       "Counter({2: 3, 3: 2, 0: 1, 1: 1, 4: 1})"
      ]
     },
     "execution_count": 9,
     "metadata": {},
     "output_type": "execute_result"
    }
   ],
   "source": [
    "from collections import Counter\n",
    "\n",
    "list1=[0 ,1,2,3,4,2,2,3]\n",
    "\n",
    "cnt=Counter(list1)\n",
    "cnt"
   ]
  },
  {
   "cell_type": "code",
   "execution_count": 10,
   "id": "d1effafc",
   "metadata": {},
   "outputs": [
    {
     "data": {
      "text/plain": [
       "[(2, 3), (3, 2)]"
      ]
     },
     "execution_count": 10,
     "metadata": {},
     "output_type": "execute_result"
    }
   ],
   "source": [
    "cnt.most_common(2)"
   ]
  },
  {
   "cell_type": "markdown",
   "id": "185888ca",
   "metadata": {},
   "source": [
    "# Extend ( )\n",
    "\n",
    "extend ( ): 리스트에 풀어서 붙임\\\n",
    "append ( ): 리스트에 1개씩 추가"
   ]
  },
  {
   "cell_type": "code",
   "execution_count": 11,
   "id": "bbdf55a3",
   "metadata": {},
   "outputs": [
    {
     "data": {
      "text/plain": [
       "[0, 1, 2, 3, 4, 2, 2, 3, [10, 11], 10, 11]"
      ]
     },
     "execution_count": 11,
     "metadata": {},
     "output_type": "execute_result"
    }
   ],
   "source": [
    "list1=[0 ,1,2,3,4,2,2,3]\n",
    "list1.append([10,11])\n",
    "list1.extend([10,11])\n",
    "list1"
   ]
  },
  {
   "cell_type": "code",
   "execution_count": null,
   "id": "b7b12b8c",
   "metadata": {},
   "outputs": [],
   "source": []
  }
 ],
 "metadata": {
  "kernelspec": {
   "display_name": "hipython",
   "language": "python",
   "name": "python3"
  },
  "language_info": {
   "codemirror_mode": {
    "name": "ipython",
    "version": 3
   },
   "file_extension": ".py",
   "mimetype": "text/x-python",
   "name": "python",
   "nbconvert_exporter": "python",
   "pygments_lexer": "ipython3",
   "version": "3.12.9"
  }
 },
 "nbformat": 4,
 "nbformat_minor": 5
}
