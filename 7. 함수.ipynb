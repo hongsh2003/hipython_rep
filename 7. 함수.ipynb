{
 "cells": [
  {
   "cell_type": "markdown",
   "id": "c9755a0b-c345-40c6-a59a-624ed325bcc4",
   "metadata": {},
   "source": [
    "# 함수\n",
    "\n",
    "- 인자 =  매개변수, 입력, 파라미터\n",
    "- 반환값 = 리턴값, 결과값\n",
    "- 함수이름\n",
    "\n",
    "- 함수 정의 > 호출"
   ]
  },
  {
   "cell_type": "code",
   "execution_count": 1,
   "id": "ba5d9cb6-0de4-4912-879c-eb62bfb35ce9",
   "metadata": {},
   "outputs": [],
   "source": [
    "def my_func():\n",
    "    print('my first function')\n",
    "    print('hungry')\n",
    "    print('sleepy')"
   ]
  },
  {
   "cell_type": "code",
   "execution_count": 2,
   "id": "ab3f5b97-1d7d-4dc3-988a-15cf295f3702",
   "metadata": {},
   "outputs": [
    {
     "name": "stdout",
     "output_type": "stream",
     "text": [
      "my first function\n",
      "hungry\n",
      "sleepy\n"
     ]
    }
   ],
   "source": [
    "# return이 없는 경우\n",
    "my_func()"
   ]
  },
  {
   "cell_type": "code",
   "execution_count": 3,
   "id": "d01d238f-78b7-4ebd-a857-2ac03335eef1",
   "metadata": {},
   "outputs": [
    {
     "name": "stdout",
     "output_type": "stream",
     "text": [
      "my first function\n",
      "hungry\n",
      "sleepy\n"
     ]
    }
   ],
   "source": [
    "my_func_var=my_func()\n",
    "my_func_var"
   ]
  },
  {
   "cell_type": "code",
   "execution_count": 4,
   "id": "1030f694-36d1-4f05-a208-b451672cbd76",
   "metadata": {},
   "outputs": [
    {
     "name": "stdout",
     "output_type": "stream",
     "text": [
      "None\n"
     ]
    }
   ],
   "source": [
    "print(my_func_var)"
   ]
  },
  {
   "cell_type": "code",
   "execution_count": 7,
   "id": "384c48e9-3380-4e41-9da0-25f2558419e0",
   "metadata": {},
   "outputs": [],
   "source": [
    "#return이 있는 경우\n",
    "def my_func1():\n",
    "    print('my first function')\n",
    "    print('hungry')\n",
    "    print('sleepy')\n",
    "    return 'hello'"
   ]
  },
  {
   "cell_type": "code",
   "execution_count": 8,
   "id": "4d53e32e-3fab-4436-a37b-b5d6a63bb3eb",
   "metadata": {},
   "outputs": [
    {
     "name": "stdout",
     "output_type": "stream",
     "text": [
      "my first function\n",
      "hungry\n",
      "sleepy\n"
     ]
    },
    {
     "data": {
      "text/plain": [
       "'hello'"
      ]
     },
     "execution_count": 8,
     "metadata": {},
     "output_type": "execute_result"
    }
   ],
   "source": [
    "my_func1()"
   ]
  },
  {
   "cell_type": "code",
   "execution_count": 9,
   "id": "c6ad5dac-0e5a-4f02-a4d2-ae7c5c60e188",
   "metadata": {},
   "outputs": [
    {
     "name": "stdout",
     "output_type": "stream",
     "text": [
      "my first function\n",
      "hungry\n",
      "sleepy\n"
     ]
    }
   ],
   "source": [
    "my_func_var2=my_func1()"
   ]
  },
  {
   "cell_type": "code",
   "execution_count": 10,
   "id": "e384632a-ecd8-458d-b85c-b197ecd8d2cc",
   "metadata": {},
   "outputs": [
    {
     "data": {
      "text/plain": [
       "'hello'"
      ]
     },
     "execution_count": 10,
     "metadata": {},
     "output_type": "execute_result"
    }
   ],
   "source": [
    "my_func_var2"
   ]
  },
  {
   "cell_type": "markdown",
   "id": "8134ed8b-786b-43fc-a50e-6f327096dde9",
   "metadata": {},
   "source": [
    "# 입력값이 있는 함수"
   ]
  },
  {
   "cell_type": "code",
   "execution_count": 17,
   "id": "40e717a3-0b45-4d24-941b-076e0c120fa7",
   "metadata": {},
   "outputs": [],
   "source": [
    "def my_calc(x):\n",
    "    print(f'{x}를 계산합니다.')"
   ]
  },
  {
   "cell_type": "code",
   "execution_count": 18,
   "id": "7c253091-155d-40af-8707-f92bf5767fce",
   "metadata": {},
   "outputs": [
    {
     "name": "stdout",
     "output_type": "stream",
     "text": [
      "10를 계산합니다.\n"
     ]
    }
   ],
   "source": [
    "my_calc(10)"
   ]
  },
  {
   "cell_type": "code",
   "execution_count": 19,
   "id": "7c9dcd2f-ea66-4c21-9171-361710ccb035",
   "metadata": {},
   "outputs": [],
   "source": [
    "def my_calc1(x):\n",
    "    print(f'{x}를 계산합니다.')\n",
    "    z=x*20\n",
    "    return z"
   ]
  },
  {
   "cell_type": "code",
   "execution_count": 20,
   "id": "9c3d0459-c2b9-4027-8d28-f5ca59236a77",
   "metadata": {},
   "outputs": [
    {
     "name": "stdout",
     "output_type": "stream",
     "text": [
      "10를 계산합니다.\n",
      "200\n"
     ]
    }
   ],
   "source": [
    "result=my_calc1(10)\n",
    "print(result)"
   ]
  },
  {
   "cell_type": "code",
   "execution_count": 21,
   "id": "750856e0-f83d-4cd1-a038-a4f271ee8b78",
   "metadata": {},
   "outputs": [],
   "source": [
    "def my_calc2(x,y):\n",
    "    print(f'{x}와 {y}를 계산합니다.')\n",
    "    add_result=x+y\n",
    "    mul_result=x*y\n",
    "    return add_result, mul_result"
   ]
  },
  {
   "cell_type": "code",
   "execution_count": 22,
   "id": "81b1e491-d7f8-4678-8bec-7321571a79f3",
   "metadata": {},
   "outputs": [
    {
     "name": "stdout",
     "output_type": "stream",
     "text": [
      "10와 20를 계산합니다.\n"
     ]
    },
    {
     "data": {
      "text/plain": [
       "(30, 200)"
      ]
     },
     "execution_count": 22,
     "metadata": {},
     "output_type": "execute_result"
    }
   ],
   "source": [
    "my_calc2(10,20)"
   ]
  },
  {
   "cell_type": "code",
   "execution_count": 24,
   "id": "e38485a9-0050-4c39-9974-ffd9b8da0b7b",
   "metadata": {},
   "outputs": [
    {
     "name": "stdout",
     "output_type": "stream",
     "text": [
      "10와 20를 계산합니다.\n"
     ]
    },
    {
     "ename": "TypeError",
     "evalue": "'tuple' object does not support item assignment",
     "output_type": "error",
     "traceback": [
      "\u001b[31m---------------------------------------------------------------------------\u001b[39m",
      "\u001b[31mTypeError\u001b[39m                                 Traceback (most recent call last)",
      "\u001b[36mCell\u001b[39m\u001b[36m \u001b[39m\u001b[32mIn[24]\u001b[39m\u001b[32m, line 2\u001b[39m\n\u001b[32m      1\u001b[39m func_result=my_calc2(\u001b[32m10\u001b[39m,\u001b[32m20\u001b[39m)\n\u001b[32m----> \u001b[39m\u001b[32m2\u001b[39m func_result[\u001b[32m0\u001b[39m]=-\u001b[32m100\u001b[39m\n",
      "\u001b[31mTypeError\u001b[39m: 'tuple' object does not support item assignment"
     ]
    }
   ],
   "source": [
    "func_result=my_calc2(10,20)\n",
    "func_result[0]=-100"
   ]
  },
  {
   "cell_type": "code",
   "execution_count": 25,
   "id": "ad7b4d11-3c31-4d0c-8786-68e054288727",
   "metadata": {},
   "outputs": [
    {
     "name": "stdout",
     "output_type": "stream",
     "text": [
      "10와 20를 계산합니다.\n"
     ]
    },
    {
     "data": {
      "text/plain": [
       "30"
      ]
     },
     "execution_count": 25,
     "metadata": {},
     "output_type": "execute_result"
    }
   ],
   "source": [
    "func_result1, f2=my_calc2(10,20)\n",
    "func_result1"
   ]
  },
  {
   "cell_type": "code",
   "execution_count": 26,
   "id": "8e5ec831-cadd-4bdc-9553-8dfac3d6ce59",
   "metadata": {},
   "outputs": [
    {
     "data": {
      "text/plain": [
       "200"
      ]
     },
     "execution_count": 26,
     "metadata": {},
     "output_type": "execute_result"
    }
   ],
   "source": [
    "f2"
   ]
  },
  {
   "cell_type": "markdown",
   "id": "4ebb4106-aa85-46e8-9129-9526e3d22249",
   "metadata": {},
   "source": [
    "## 입력값의 타입: 수치형 vs (리스트) 객체형\n",
    "\n",
    "- 수치형: 값에 의한 전달 call by value\n",
    "- 객체형: 값(참조)의 전달 call by reference => 같은 객체를 다룸"
   ]
  },
  {
   "cell_type": "code",
   "execution_count": 29,
   "id": "3361a8fd-9067-47e6-a9c1-9d6e5b0f24a6",
   "metadata": {},
   "outputs": [],
   "source": [
    "#리스트 매개변수의 실행\n",
    "def my_calc3(a,list1):\n",
    "    a+=1\n",
    "    list1.append(a)\n",
    "    return a"
   ]
  },
  {
   "cell_type": "code",
   "execution_count": 32,
   "id": "0b9e3367-c364-44ad-a706-5b665f0c79cb",
   "metadata": {},
   "outputs": [
    {
     "name": "stdout",
     "output_type": "stream",
     "text": [
      "before:10,[1, 2, '12']\n",
      "after:10,[1, 2, '12', 11]\n"
     ]
    }
   ],
   "source": [
    "num=10\n",
    "list_num=[1,2,'12']\n",
    "print(f'before:{num},{list_num}')\n",
    "\n",
    "my_calc3(num,list_num)\n",
    "print(f'after:{num},{list_num}')"
   ]
  },
  {
   "cell_type": "code",
   "execution_count": 33,
   "id": "2cb1ec07-72b4-4bb3-a70a-f3963850035b",
   "metadata": {},
   "outputs": [
    {
     "ename": "TypeError",
     "evalue": "'int' object is not iterable",
     "output_type": "error",
     "traceback": [
      "\u001b[31m---------------------------------------------------------------------------\u001b[39m",
      "\u001b[31mTypeError\u001b[39m                                 Traceback (most recent call last)",
      "\u001b[36mCell\u001b[39m\u001b[36m \u001b[39m\u001b[32mIn[33]\u001b[39m\u001b[32m, line 1\u001b[39m\n\u001b[32m----> \u001b[39m\u001b[32m1\u001b[39m my_calc3(list_num,num)\n",
      "\u001b[36mCell\u001b[39m\u001b[36m \u001b[39m\u001b[32mIn[29]\u001b[39m\u001b[32m, line 3\u001b[39m, in \u001b[36mmy_calc3\u001b[39m\u001b[34m(a, list1)\u001b[39m\n\u001b[32m      2\u001b[39m \u001b[38;5;28;01mdef\u001b[39;00m\u001b[38;5;250m \u001b[39m\u001b[34mmy_calc3\u001b[39m(a,list1):\n\u001b[32m----> \u001b[39m\u001b[32m3\u001b[39m     a+=\u001b[32m1\u001b[39m\n\u001b[32m      4\u001b[39m     list1.append(a)\n\u001b[32m      5\u001b[39m     \u001b[38;5;28;01mreturn\u001b[39;00m a\n",
      "\u001b[31mTypeError\u001b[39m: 'int' object is not iterable"
     ]
    }
   ],
   "source": [
    "my_calc3(list_num,num)"
   ]
  },
  {
   "cell_type": "code",
   "execution_count": 34,
   "id": "f5d05781-6fe2-49b6-a2c2-3aceff88e682",
   "metadata": {},
   "outputs": [
    {
     "data": {
      "text/plain": [
       "11"
      ]
     },
     "execution_count": 34,
     "metadata": {},
     "output_type": "execute_result"
    }
   ],
   "source": [
    "my_calc3(a=num,list1=list_num)"
   ]
  },
  {
   "cell_type": "markdown",
   "id": "3ed71cd3-ef32-4268-8ba2-bbf503ad5681",
   "metadata": {},
   "source": [
    "- 키워드 매개변수: 함수의 매개변수 목록은 변수명이 매개변수 명임\n",
    "- 매개변수명을 이용한 호출을 매개변수의 순서와 무관함"
   ]
  },
  {
   "cell_type": "code",
   "execution_count": 35,
   "id": "4ef50c95-fc36-4136-bfb8-7eab1e59c7eb",
   "metadata": {},
   "outputs": [
    {
     "data": {
      "text/plain": [
       "11"
      ]
     },
     "execution_count": 35,
     "metadata": {},
     "output_type": "execute_result"
    }
   ],
   "source": [
    "my_calc3(list1=list_num,a=num)"
   ]
  },
  {
   "cell_type": "code",
   "execution_count": 45,
   "id": "7576f879-30c4-4d34-979f-b7ab8480bce9",
   "metadata": {},
   "outputs": [
    {
     "name": "stdout",
     "output_type": "stream",
     "text": [
      "Hello, Sue님!\n"
     ]
    }
   ],
   "source": [
    "#기본값, 기본인자\n",
    "def greeting(name, greeting='Hello'):\n",
    "    print(f'{greeting},{name}님!')\n",
    "\n",
    "greeting(' Sue', 'Hello')"
   ]
  },
  {
   "cell_type": "code",
   "execution_count": 46,
   "id": "20f4740e-70f0-4e5d-84ea-4effff55cafd",
   "metadata": {},
   "outputs": [
    {
     "name": "stdout",
     "output_type": "stream",
     "text": [
      "Hello, Sue님!\n"
     ]
    }
   ],
   "source": [
    "greeting(' Sue')"
   ]
  },
  {
   "cell_type": "code",
   "execution_count": 47,
   "id": "c12afedb-bba6-421a-97ba-d654415a204d",
   "metadata": {},
   "outputs": [],
   "source": [
    "#가변인자\n",
    "def sum_all(*args):\n",
    "    return sum(args)"
   ]
  },
  {
   "cell_type": "code",
   "execution_count": 48,
   "id": "149820b4-7576-43df-88bb-49c9612f272d",
   "metadata": {},
   "outputs": [
    {
     "data": {
      "text/plain": [
       "15"
      ]
     },
     "execution_count": 48,
     "metadata": {},
     "output_type": "execute_result"
    }
   ],
   "source": [
    "sum_all(1,2,3,4,5)"
   ]
  },
  {
   "cell_type": "code",
   "execution_count": 56,
   "id": "658a5dc5-3a5c-434f-9bc8-eda292b313f3",
   "metadata": {},
   "outputs": [],
   "source": [
    "#매개변수의 순서가 중요\n",
    "def sum_all(arg1, arg2, *args):\n",
    "    result=arg1+arg2+sum(args)\n",
    "    return result"
   ]
  },
  {
   "cell_type": "code",
   "execution_count": 52,
   "id": "b7d56430-78ea-4d10-bb11-a7434573a6e1",
   "metadata": {},
   "outputs": [
    {
     "data": {
      "text/plain": [
       "15"
      ]
     },
     "execution_count": 52,
     "metadata": {},
     "output_type": "execute_result"
    }
   ],
   "source": [
    "sum_all(1,2,3,4,5)"
   ]
  },
  {
   "cell_type": "code",
   "execution_count": 93,
   "id": "2234a792-227e-4c17-89d5-4b557b4e5309",
   "metadata": {},
   "outputs": [],
   "source": [
    "#*args가 이 뒤에 별로안중요한거 다 가져가는건데 이 뒤에 specific한 arg인 arg2가 있으니까 에러뜨는거임 - *가 하나면 입력하는 순서대로 받아주는거\n",
    "def sum_all(arg1, *args, arg2):\n",
    "    result=arg1+arg2+sum(args)\n",
    "    return result"
   ]
  },
  {
   "cell_type": "code",
   "execution_count": 57,
   "id": "7cda6b6d-1a6d-46bc-b66c-2d4bc6ef0ef2",
   "metadata": {},
   "outputs": [
    {
     "data": {
      "text/plain": [
       "15"
      ]
     },
     "execution_count": 57,
     "metadata": {},
     "output_type": "execute_result"
    }
   ],
   "source": [
    "sum_all(1,2,3,4,5)"
   ]
  },
  {
   "cell_type": "code",
   "execution_count": 63,
   "id": "9d4ca534-79f2-442b-b402-039534f7f4a9",
   "metadata": {},
   "outputs": [],
   "source": [
    "## **kargs\n",
    "def print_info(**kwargs):\n",
    "    for k,v in kwargs.items():\n",
    "        print(f'{k},{v}')"
   ]
  },
  {
   "cell_type": "code",
   "execution_count": 65,
   "id": "99efa3d4-985b-475f-a6d0-e38fe9472d7e",
   "metadata": {},
   "outputs": [
    {
     "name": "stdout",
     "output_type": "stream",
     "text": [
      "name,Hong\n",
      "age,20\n",
      "city,seoul\n",
      "nick_name,Sue\n"
     ]
    }
   ],
   "source": [
    "print_info(name='Hong', age=20,city='seoul',nick_name='Sue')"
   ]
  },
  {
   "cell_type": "code",
   "execution_count": 97,
   "id": "cb55c762-b85f-4d1f-9547-b73ed914a3c1",
   "metadata": {},
   "outputs": [
    {
     "data": {
      "text/plain": [
       "3"
      ]
     },
     "execution_count": 97,
     "metadata": {},
     "output_type": "execute_result"
    }
   ],
   "source": [
    "import datetime\n",
    "today=datetime.date(2025,6,5)\n",
    "#type(today)\n",
    "#dir(today)\n",
    "today.weekday()"
   ]
  },
  {
   "cell_type": "markdown",
   "id": "7edab2c3-72ff-4cbc-9db2-0a2e82b8fa87",
   "metadata": {},
   "source": [
    "# 요일 구하는 함수 정의\n",
    "- 입력: year, month, day\n",
    "- 출력: 'Monday'\n",
    "- 함수명: 요일찾기( )"
   ]
  },
  {
   "cell_type": "code",
   "execution_count": 91,
   "id": "85f4a6e1-4e36-43d3-8c1e-4ce85d90a167",
   "metadata": {},
   "outputs": [],
   "source": [
    "year=2025\n",
    "month=3\n",
    "days=4"
   ]
  },
  {
   "cell_type": "code",
   "execution_count": 114,
   "id": "0602cb0f-9e36-457d-9af5-06c5aafc6314",
   "metadata": {},
   "outputs": [],
   "source": [
    "def 윤년체크(year):\n",
    "    윤년여부=False\n",
    "    \n",
    "    if year%400==0:\n",
    "        윤년여부=True\n",
    "    elif year%100==0:\n",
    "        윤년여부=False\n",
    "    elif year%4==0:\n",
    "        윤년여부=True\n",
    "    else: \n",
    "        윤년여부=False\n",
    "\n",
    "    return 윤년여부"
   ]
  },
  {
   "cell_type": "code",
   "execution_count": 115,
   "id": "34ad6cf0-e208-496d-83e5-fecb92af5c33",
   "metadata": {},
   "outputs": [
    {
     "data": {
      "text/plain": [
       "False"
      ]
     },
     "execution_count": 115,
     "metadata": {},
     "output_type": "execute_result"
    }
   ],
   "source": [
    "윤년체크(2025)"
   ]
  },
  {
   "cell_type": "code",
   "execution_count": 119,
   "id": "f3ec66f4-cbca-43df-8865-50636e9fb0fe",
   "metadata": {
    "collapsed": true,
    "jupyter": {
     "outputs_hidden": true
    }
   },
   "outputs": [
    {
     "name": "stdout",
     "output_type": "stream",
     "text": [
      "739402\n",
      "739407\n"
     ]
    },
    {
     "ename": "SyntaxError",
     "evalue": "'return' outside function (1320247536.py, line 40)",
     "output_type": "error",
     "traceback": [
      "  \u001b[36mCell\u001b[39m\u001b[36m \u001b[39m\u001b[32mIn[119]\u001b[39m\u001b[32m, line 40\u001b[39m\n\u001b[31m    \u001b[39m\u001b[31mreturn week_day_name\u001b[39m\n    ^\n\u001b[31mSyntaxError\u001b[39m\u001b[31m:\u001b[39m 'return' outside function\n"
     ]
    }
   ],
   "source": [
    "#날짜 - 연, 월, 일 year=2025, month=06, day=05\n",
    "\n",
    "total_days=0\n",
    "#년도일수 입력년도-1*365\n",
    "#윤년인지 체크 - 2월이 29일까지 있는거\n",
    "\n",
    "for i in range(1,year):\n",
    "    if 윤년체크(i):\n",
    "        total_days+=366\n",
    "    else:\n",
    "        total_days+=365\n",
    "    \n",
    "    \n",
    "    #윤년: 400으로 나누어 나머지가 0, 4로 나누어 나머지가 0\n",
    "    #평년: 100으로 나누어 나머지가 0\n",
    "\n",
    "#print(total_days)\n",
    "#월일수 입력한 월-1*30\n",
    "#월별일수\n",
    "month_days=[0,31,28,31,30,31,30,31,31,30,31,30,31]\n",
    "for m in range(1,month):\n",
    "    total_days+=month_days[m]\n",
    "\n",
    "#올해가 윤년인지\n",
    "if month>=3:\n",
    "    if 윤년체크(year):\n",
    "        total_days+=1\n",
    "    \n",
    "print(total_days)\n",
    "#일수 입력한 일 \n",
    "total_days+=days\n",
    "\n",
    "print(total_days)\n",
    "\n",
    "#요일정하기\n",
    "remain_days=total_days%7\n",
    "day_names=['Sun','Mon','Tue','Wed','Thu','Fri','Sat']\n",
    "week_day_name = day_names[remain_days]\n",
    "\n",
    "return week_day_name"
   ]
  },
  {
   "cell_type": "code",
   "execution_count": 109,
   "id": "0d84cce3-a838-433a-9f2d-024f5460deea",
   "metadata": {},
   "outputs": [],
   "source": [
    "def 요일찾기(year, month, day):\n",
    "    week_day_name='일요일'\n",
    "    \n",
    "    return week_day_name"
   ]
  },
  {
   "cell_type": "code",
   "execution_count": 110,
   "id": "51a35e51-3ba0-464e-a0e9-4c67eeb25702",
   "metadata": {},
   "outputs": [
    {
     "name": "stdout",
     "output_type": "stream",
     "text": [
      "입력하신 날짜는 {day_name}입니다.\n"
     ]
    }
   ],
   "source": [
    "year=2025\n",
    "month=6\n",
    "day=5\n",
    "\n",
    "day_name = 요일찾기(year, month, day)\n",
    "print('입력하신 날짜는 {day_name}입니다.')"
   ]
  },
  {
   "cell_type": "code",
   "execution_count": null,
   "id": "995b8745-69b1-447b-8a9b-c4ea396053e3",
   "metadata": {},
   "outputs": [],
   "source": [
    "    if i%400==0:\n",
    "        total_days+=366\n",
    "    elif i%100==0:\n",
    "        total_days+=365\n",
    "    elif i%4==0:\n",
    "        total_days+=366\n",
    "    else: \n",
    "        total_days+=365"
   ]
  },
  {
   "cell_type": "code",
   "execution_count": 121,
   "id": "b4e744c9-8648-40bd-9942-55d943ef3dad",
   "metadata": {},
   "outputs": [],
   "source": [
    "def 요일찾기(year, month, day):\n",
    "    week_day_name = '일요일'\n",
    "    total_days = 0\n",
    "    \n",
    "    for i in range(1,year):\n",
    "\n",
    "        if 윤년체크(i):\n",
    "            total_days += 366\n",
    "        else :\n",
    "            total_days += 365\n",
    "        \n",
    "    #print(total_days)\n",
    "    \n",
    "    #월일수 입력한 월 -1 * 30\n",
    "    #월별 일수\n",
    "    month_days = [0,31,28,31,30,31,30,31,31,30,31,30,31]\n",
    "    for m in range(1,month):\n",
    "        total_days += month_days[m]\n",
    "    \n",
    "    #올해가 윤년인지\n",
    "    if month>=3 :\n",
    "        if 윤년체크(year):\n",
    "            total_days += 1\n",
    "            \n",
    "    #print(total_days)\n",
    "    \n",
    "    #일수 입력한 일\n",
    "    total_days += day\n",
    "    \n",
    "    #print(total_days)\n",
    "    \n",
    "    #요일정하기\n",
    "    remain_days = total_days % 7\n",
    "    \n",
    "    day_names = ['일요일','월요일','화요일','수요일','목요일','금요일','토요일']\n",
    "    week_day_name = day_names[remain_days]\n",
    "    \n",
    "        \n",
    "    return week_day_name"
   ]
  },
  {
   "cell_type": "code",
   "execution_count": 123,
   "id": "f30f11df-a869-47b3-a51c-03153970a3c9",
   "metadata": {},
   "outputs": [
    {
     "name": "stdout",
     "output_type": "stream",
     "text": [
      "입력하신 날짜는 Thu입니다.\n"
     ]
    }
   ],
   "source": [
    "def 윤년체크(year):\n",
    "    return year % 400 == 0 or (year % 4 == 0 and year % 100 != 0)\n",
    "\n",
    "def 요일찾기(year, month, day):\n",
    "    total_days = 0\n",
    "\n",
    "    # 1년부터 전년도까지 일수 누적\n",
    "    for i in range(1, year):\n",
    "        total_days += 366 if 윤년체크(i) else 365\n",
    "\n",
    "    # 각 월의 일수 누적 (입력 월 전까지)\n",
    "    month_days = [0, 31, 28, 31, 30, 31, 30, 31, 31, 30, 31, 30, 31]\n",
    "    for m in range(1, month):\n",
    "        total_days += month_days[m]\n",
    "\n",
    "    # 윤년이고 3월 이후면 하루 더함\n",
    "    if month >= 3 and 윤년체크(year):\n",
    "        total_days += 1\n",
    "\n",
    "    # 일수 더하기\n",
    "    total_days += day\n",
    "\n",
    "    # 요일 계산\n",
    "    remain_days = total_days % 7\n",
    "    day_names = ['Sun', 'Mon', 'Tue', 'Wed', 'Thu', 'Fri', 'Sat']\n",
    "    return day_names[remain_days]\n",
    "\n",
    "# 사용 예시\n",
    "year = 2025\n",
    "month = 6\n",
    "day = 5\n",
    "\n",
    "day_name = 요일찾기(year, month, day)\n",
    "print(f'입력하신 날짜는 {day_name}입니다.')\n"
   ]
  },
  {
   "cell_type": "markdown",
   "id": "175a6717-a588-4851-9999-452c7d51c849",
   "metadata": {},
   "source": [
    "# 성적처리 시스템\n",
    "\n",
    "- calc_total( )\n",
    "- calc_average( )\n",
    "- calc_order( )\n",
    "\n",
    "- print_student(students): 전학생의 성적을 출력\n",
    "- print_class( ): 반평균, 각 과목별 평균 출력"
   ]
  },
  {
   "cell_type": "code",
   "execution_count": 133,
   "id": "07810613-4437-47d0-9cca-bb3499baedd8",
   "metadata": {},
   "outputs": [],
   "source": [
    "students = [\n",
    "               {'num':'1','name':'김철수','kor':90,'eng':80,'math':85,'total':0,'avg':0.0,'order':0 },\n",
    "               {'num':'2','name':'박제동','kor':90,'eng':85,'math':90,'total':0,'avg':0.0,'order':0 },\n",
    "               {'num':'3','name':'홍길동','kor':80,'eng':80,'math':80,'total':0,'avg':0.0,'order':0 }\n",
    "           ]"
   ]
  },
  {
   "cell_type": "code",
   "execution_count": 134,
   "id": "d2def1fa-1636-4a72-b452-648357c0be8f",
   "metadata": {},
   "outputs": [],
   "source": [
    "def calc_total(stus):\n",
    "    for s in stus:\n",
    "        s['total']=s['kor']+s['eng']+s['math']"
   ]
  },
  {
   "cell_type": "code",
   "execution_count": 135,
   "id": "0d0538f8-1c17-4e09-816f-16453d0e452e",
   "metadata": {},
   "outputs": [
    {
     "data": {
      "text/plain": [
       "[{'num': '1',\n",
       "  'name': '김철수',\n",
       "  'kor': 90,\n",
       "  'eng': 80,\n",
       "  'math': 85,\n",
       "  'total': 255,\n",
       "  'avg': 0.0,\n",
       "  'order': 0},\n",
       " {'num': '2',\n",
       "  'name': '박제동',\n",
       "  'kor': 90,\n",
       "  'eng': 85,\n",
       "  'math': 90,\n",
       "  'total': 265,\n",
       "  'avg': 0.0,\n",
       "  'order': 0},\n",
       " {'num': '3',\n",
       "  'name': '홍길동',\n",
       "  'kor': 80,\n",
       "  'eng': 80,\n",
       "  'math': 80,\n",
       "  'total': 240,\n",
       "  'avg': 0.0,\n",
       "  'order': 0}]"
      ]
     },
     "execution_count": 135,
     "metadata": {},
     "output_type": "execute_result"
    }
   ],
   "source": [
    "calc_total(students)\n",
    "students"
   ]
  },
  {
   "cell_type": "code",
   "execution_count": 136,
   "id": "b92ef1a8-dc38-4d90-884f-50290864785d",
   "metadata": {},
   "outputs": [],
   "source": [
    "def calc_average(stus):\n",
    "    for s in stus:\n",
    "        s['avg']=(s['kor']+s['eng']+s['math'])/3"
   ]
  },
  {
   "cell_type": "code",
   "execution_count": 137,
   "id": "35bc7803-ad48-4785-8644-adbc8b39c8d1",
   "metadata": {},
   "outputs": [
    {
     "data": {
      "text/plain": [
       "[{'num': '1',\n",
       "  'name': '김철수',\n",
       "  'kor': 90,\n",
       "  'eng': 80,\n",
       "  'math': 85,\n",
       "  'total': 255,\n",
       "  'avg': 85.0,\n",
       "  'order': 0},\n",
       " {'num': '2',\n",
       "  'name': '박제동',\n",
       "  'kor': 90,\n",
       "  'eng': 85,\n",
       "  'math': 90,\n",
       "  'total': 265,\n",
       "  'avg': 88.33333333333333,\n",
       "  'order': 0},\n",
       " {'num': '3',\n",
       "  'name': '홍길동',\n",
       "  'kor': 80,\n",
       "  'eng': 80,\n",
       "  'math': 80,\n",
       "  'total': 240,\n",
       "  'avg': 80.0,\n",
       "  'order': 0}]"
      ]
     },
     "execution_count": 137,
     "metadata": {},
     "output_type": "execute_result"
    }
   ],
   "source": [
    "calc_average(students)\n",
    "students"
   ]
  },
  {
   "cell_type": "code",
   "execution_count": 143,
   "id": "28ed7733-a787-401a-baa5-91b751edaf47",
   "metadata": {},
   "outputs": [],
   "source": [
    "def calc_order(stus):\n",
    "    rank=1\n",
    "    for s in stus:\n",
    "        if s['total']>students['total']: \n",
    "            rank += 1\n",
    "    student['order']=rank"
   ]
  },
  {
   "cell_type": "code",
   "execution_count": 144,
   "id": "4e47d3a9-1326-4a51-8871-47f003b93835",
   "metadata": {
    "scrolled": true
   },
   "outputs": [
    {
     "ename": "TypeError",
     "evalue": "list indices must be integers or slices, not str",
     "output_type": "error",
     "traceback": [
      "\u001b[31m---------------------------------------------------------------------------\u001b[39m",
      "\u001b[31mTypeError\u001b[39m                                 Traceback (most recent call last)",
      "\u001b[36mCell\u001b[39m\u001b[36m \u001b[39m\u001b[32mIn[144]\u001b[39m\u001b[32m, line 1\u001b[39m\n\u001b[32m----> \u001b[39m\u001b[32m1\u001b[39m calc_order(students)\n\u001b[32m      2\u001b[39m students\n",
      "\u001b[36mCell\u001b[39m\u001b[36m \u001b[39m\u001b[32mIn[143]\u001b[39m\u001b[32m, line 4\u001b[39m, in \u001b[36mcalc_order\u001b[39m\u001b[34m(stus)\u001b[39m\n\u001b[32m      2\u001b[39m rank=\u001b[32m1\u001b[39m\n\u001b[32m      3\u001b[39m \u001b[38;5;28;01mfor\u001b[39;00m s \u001b[38;5;129;01min\u001b[39;00m stus:\n\u001b[32m----> \u001b[39m\u001b[32m4\u001b[39m     \u001b[38;5;28;01mif\u001b[39;00m s[\u001b[33m'\u001b[39m\u001b[33mtotal\u001b[39m\u001b[33m'\u001b[39m]>students[\u001b[33m'\u001b[39m\u001b[33mtotal\u001b[39m\u001b[33m'\u001b[39m]: \n\u001b[32m      5\u001b[39m         rank += \u001b[32m1\u001b[39m\n\u001b[32m      6\u001b[39m student[\u001b[33m'\u001b[39m\u001b[33morder\u001b[39m\u001b[33m'\u001b[39m]=rank\n",
      "\u001b[31mTypeError\u001b[39m: list indices must be integers or slices, not str"
     ]
    }
   ],
   "source": [
    "calc_order(students)\n",
    "students"
   ]
  },
  {
   "cell_type": "code",
   "execution_count": 145,
   "id": "77f74b51-6034-4e45-8771-3066bb6a66e9",
   "metadata": {},
   "outputs": [],
   "source": [
    "def calc_order(students):\n",
    "    # 1. 총점과 평균 계산\n",
    "    for stu in students:\n",
    "        stu['total'] = stu['kor'] + stu['eng'] + stu['math']\n",
    "        stu['avg'] = round(stu['total'] / 3, 2)\n",
    "\n",
    "    # 2. 등수 초기화\n",
    "    for stu in students:\n",
    "        stu['order'] = 1  # 기본 등수는 1등\n",
    "\n",
    "    # 3. 등수 계산 (총점 비교)\n",
    "    for i in range(len(students)):\n",
    "        for j in range(len(students)):\n",
    "            if students[i]['total'] < students[j]['total']:\n",
    "                students[i]['order'] += 1\n"
   ]
  },
  {
   "cell_type": "code",
   "execution_count": 147,
   "id": "e4c400ed-0c0f-40cc-9da3-f522b6cc1284",
   "metadata": {},
   "outputs": [
    {
     "data": {
      "text/plain": [
       "[{'num': '1',\n",
       "  'name': '김철수',\n",
       "  'kor': 90,\n",
       "  'eng': 80,\n",
       "  'math': 85,\n",
       "  'total': 255,\n",
       "  'avg': 85.0,\n",
       "  'order': 2},\n",
       " {'num': '2',\n",
       "  'name': '박제동',\n",
       "  'kor': 90,\n",
       "  'eng': 85,\n",
       "  'math': 90,\n",
       "  'total': 265,\n",
       "  'avg': 88.33,\n",
       "  'order': 1},\n",
       " {'num': '3',\n",
       "  'name': '홍길동',\n",
       "  'kor': 80,\n",
       "  'eng': 80,\n",
       "  'math': 80,\n",
       "  'total': 240,\n",
       "  'avg': 80.0,\n",
       "  'order': 3}]"
      ]
     },
     "execution_count": 147,
     "metadata": {},
     "output_type": "execute_result"
    }
   ],
   "source": [
    "calc_order(students)\n",
    "students"
   ]
  },
  {
   "cell_type": "code",
   "execution_count": 153,
   "id": "fd5d1d37-41fe-459b-80ec-ab73d5b9c1d9",
   "metadata": {},
   "outputs": [],
   "source": [
    "def calc_order(stus):\n",
    "    \n",
    "    for student in stus: #student[0] 자료를 꺼낸 것이 student\n",
    "        rank=1\n",
    "        for other in stus:\n",
    "            if other['total']>student['total']: \n",
    "                rank += 1\n",
    "        student['order']=rank"
   ]
  },
  {
   "cell_type": "code",
   "execution_count": 155,
   "id": "acc0624a-2b50-4002-b4f3-2b2b6265d496",
   "metadata": {},
   "outputs": [
    {
     "data": {
      "text/plain": [
       "[{'num': '1',\n",
       "  'name': '김철수',\n",
       "  'kor': 90,\n",
       "  'eng': 80,\n",
       "  'math': 85,\n",
       "  'total': 255,\n",
       "  'avg': 85.0,\n",
       "  'order': 2},\n",
       " {'num': '2',\n",
       "  'name': '박제동',\n",
       "  'kor': 90,\n",
       "  'eng': 85,\n",
       "  'math': 90,\n",
       "  'total': 265,\n",
       "  'avg': 88.33,\n",
       "  'order': 1},\n",
       " {'num': '3',\n",
       "  'name': '홍길동',\n",
       "  'kor': 80,\n",
       "  'eng': 80,\n",
       "  'math': 80,\n",
       "  'total': 240,\n",
       "  'avg': 80.0,\n",
       "  'order': 3}]"
      ]
     },
     "execution_count": 155,
     "metadata": {},
     "output_type": "execute_result"
    }
   ],
   "source": [
    "calc_order(students)\n",
    "students"
   ]
  },
  {
   "cell_type": "code",
   "execution_count": 156,
   "id": "3591b37f-7f7e-4cb2-98ec-a0369f1225f7",
   "metadata": {},
   "outputs": [
    {
     "data": {
      "text/plain": [
       "[{'num': '1',\n",
       "  'name': '김철수',\n",
       "  'kor': 90,\n",
       "  'eng': 80,\n",
       "  'math': 85,\n",
       "  'total': 255,\n",
       "  'avg': 85.0,\n",
       "  'order': 2},\n",
       " {'num': '2',\n",
       "  'name': '박제동',\n",
       "  'kor': 90,\n",
       "  'eng': 85,\n",
       "  'math': 90,\n",
       "  'total': 265,\n",
       "  'avg': 88.33,\n",
       "  'order': 1},\n",
       " {'num': '3',\n",
       "  'name': '홍길동',\n",
       "  'kor': 80,\n",
       "  'eng': 80,\n",
       "  'math': 80,\n",
       "  'total': 240,\n",
       "  'avg': 80.0,\n",
       "  'order': 3}]"
      ]
     },
     "execution_count": 156,
     "metadata": {},
     "output_type": "execute_result"
    }
   ],
   "source": [
    "students"
   ]
  },
  {
   "cell_type": "code",
   "execution_count": 163,
   "id": "24c7577d-755e-4e81-af57-2747ff27f94e",
   "metadata": {},
   "outputs": [],
   "source": [
    "def print_student(stus):\n",
    "    for s in stus:\n",
    "        print(f'이름:{s['name']} 국어: {s['kor']} 영어:{s['eng']} 수학:{s['math']} 등수:{s['order']}')"
   ]
  },
  {
   "cell_type": "code",
   "execution_count": 164,
   "id": "27d48713-0c61-4d8e-b2b7-8f69aa338e65",
   "metadata": {},
   "outputs": [
    {
     "name": "stdout",
     "output_type": "stream",
     "text": [
      "이름:김철수 국어: 90 영어:80 수학:85 등수:2\n",
      "이름:박제동 국어: 90 영어:85 수학:90 등수:1\n",
      "이름:홍길동 국어: 80 영어:80 수학:80 등수:3\n"
     ]
    }
   ],
   "source": [
    "print_student(students)"
   ]
  },
  {
   "cell_type": "code",
   "execution_count": 166,
   "id": "9cda2ceb-2ec3-441b-ac52-09a6de116708",
   "metadata": {},
   "outputs": [],
   "source": [
    "def print_class(stus):\n",
    "    #반평균\n",
    "    class_avg=0\n",
    "    kor_avg=0\n",
    "    eng_avg=0\n",
    "    math_avg=0\n",
    "    \n",
    "    #각 과목별 평균 출력\n",
    "    print(f'반평균:{s['name']} 국어: {s['kor']} 영어:{s['eng']} 수학:{s['math']} ')"
   ]
  },
  {
   "cell_type": "code",
   "execution_count": 167,
   "id": "60624202-caae-4059-aa91-fb1e17ceccc7",
   "metadata": {},
   "outputs": [
    {
     "name": "stdout",
     "output_type": "stream",
     "text": [
      "이름:김철수 국어: 90 영어:80 수학:85 등수:2\n",
      "이름:박제동 국어: 90 영어:85 수학:90 등수:1\n",
      "이름:홍길동 국어: 80 영어:80 수학:80 등수:3\n"
     ]
    },
    {
     "ename": "NameError",
     "evalue": "name 's' is not defined",
     "output_type": "error",
     "traceback": [
      "\u001b[31m---------------------------------------------------------------------------\u001b[39m",
      "\u001b[31mNameError\u001b[39m                                 Traceback (most recent call last)",
      "\u001b[36mCell\u001b[39m\u001b[36m \u001b[39m\u001b[32mIn[167]\u001b[39m\u001b[32m, line 5\u001b[39m\n\u001b[32m      3\u001b[39m calc_order(students)\n\u001b[32m      4\u001b[39m print_student(students)\n\u001b[32m----> \u001b[39m\u001b[32m5\u001b[39m print_class(students)\n",
      "\u001b[36mCell\u001b[39m\u001b[36m \u001b[39m\u001b[32mIn[166]\u001b[39m\u001b[32m, line 9\u001b[39m, in \u001b[36mprint_class\u001b[39m\u001b[34m(stus)\u001b[39m\n\u001b[32m      6\u001b[39m math_avg=\u001b[32m0\u001b[39m\n\u001b[32m      8\u001b[39m \u001b[38;5;66;03m#각 과목별 평균 출력\u001b[39;00m\n\u001b[32m----> \u001b[39m\u001b[32m9\u001b[39m \u001b[38;5;28mprint\u001b[39m(\u001b[33mf\u001b[39m\u001b[33m'\u001b[39m\u001b[33m반평균:\u001b[39m\u001b[38;5;132;01m{\u001b[39;00ms[\u001b[33m'\u001b[39m\u001b[33mname\u001b[39m\u001b[33m'\u001b[39m]\u001b[38;5;132;01m}\u001b[39;00m\u001b[33m 국어: \u001b[39m\u001b[38;5;132;01m{\u001b[39;00ms[\u001b[33m'\u001b[39m\u001b[33mkor\u001b[39m\u001b[33m'\u001b[39m]\u001b[38;5;132;01m}\u001b[39;00m\u001b[33m 영어:\u001b[39m\u001b[38;5;132;01m{\u001b[39;00ms[\u001b[33m'\u001b[39m\u001b[33meng\u001b[39m\u001b[33m'\u001b[39m]\u001b[38;5;132;01m}\u001b[39;00m\u001b[33m 수학:\u001b[39m\u001b[38;5;132;01m{\u001b[39;00ms[\u001b[33m'\u001b[39m\u001b[33mmath\u001b[39m\u001b[33m'\u001b[39m]\u001b[38;5;132;01m}\u001b[39;00m\u001b[33m \u001b[39m\u001b[33m'\u001b[39m)\n",
      "\u001b[31mNameError\u001b[39m: name 's' is not defined"
     ]
    }
   ],
   "source": [
    "calc_total(students)\n",
    "calc_average(students)\n",
    "calc_order(students)\n",
    "print_student(students)\n",
    "print_class(students)"
   ]
  },
  {
   "cell_type": "code",
   "execution_count": null,
   "id": "1d90f185-24b2-4cef-b038-c80787a018e8",
   "metadata": {},
   "outputs": [],
   "source": []
  },
  {
   "cell_type": "code",
   "execution_count": 169,
   "id": "afec9788-827d-4712-8ca7-e148df7a7de4",
   "metadata": {},
   "outputs": [],
   "source": [
    "def calc_total(stus) :\n",
    "    for s in stus:\n",
    "        s['total'] = s['kor'] +  s['eng'] +  s['math'] "
   ]
  },
  {
   "cell_type": "code",
   "execution_count": 170,
   "id": "1b8c5fb6-58e8-4490-b560-15d93e466403",
   "metadata": {},
   "outputs": [],
   "source": [
    "def calc_average(stus):\n",
    "    for s in stus:\n",
    "        s['avg'] = (s['kor'] +  s['eng'] +  s['math'])/3 "
   ]
  },
  {
   "cell_type": "code",
   "execution_count": 171,
   "id": "e90eda6f-c105-453d-8138-ada3f20de300",
   "metadata": {},
   "outputs": [],
   "source": [
    "def calc_order(stus):\n",
    "    \n",
    "    for student in stus :  #students[0] 자료를 꺼낸 것이 student\n",
    "        rank = 1\n",
    "        for other in stus :\n",
    "            if other['total'] > student['total'] :\n",
    "                rank += 1\n",
    "        student['order'] = rank\n",
    "        #print(student['name'], student['order'])"
   ]
  },
  {
   "cell_type": "code",
   "execution_count": 172,
   "id": "777dceea-d645-4029-a826-89bbd6ae11f9",
   "metadata": {},
   "outputs": [],
   "source": [
    "def print_student(stus):\n",
    "    for s in stus:\n",
    "        print(f'이름: {s['name']} 국어: {s['kor']} 영어: {s['eng']} 수학: {s['math']} 등수: { s['order']}')"
   ]
  },
  {
   "cell_type": "code",
   "execution_count": 191,
   "id": "33ee1a51-ce10-4fb8-b575-60fa54379bf7",
   "metadata": {},
   "outputs": [],
   "source": [
    "def print_class(stus):\n",
    "    #반평균\n",
    "    class_avg=0\n",
    "    count=len(stus)\n",
    "    \n",
    "    class_avg =sum(student['total'] for student in stus)/count/3\n",
    "    kor_avg =sum(student['kor'] for student in stus)/count\n",
    "    eng_avg = sum(student['eng'] for student in stus)/count\n",
    "    math_avg = sum(student['math'] for student in stus)/count\n",
    "    \n",
    "    #각 과목별 평균 출력\n",
    "    print(f'반평균: {class_avg} 국어: {kor_avg} 영어: {eng_avg} 수학: {math_avg}')"
   ]
  },
  {
   "cell_type": "code",
   "execution_count": 192,
   "id": "e561532a-fbb6-4101-a241-ec2ede83ca64",
   "metadata": {},
   "outputs": [
    {
     "name": "stdout",
     "output_type": "stream",
     "text": [
      "이름: 김철수 국어: 90 영어: 80 수학: 85 등수: 2\n",
      "이름: 박제동 국어: 90 영어: 85 수학: 90 등수: 1\n",
      "이름: 홍길동 국어: 80 영어: 80 수학: 80 등수: 3\n",
      "반평균: 84.44444444444444 국어: 86.66666666666667 영어: 81.66666666666667 수학: 85.0\n"
     ]
    }
   ],
   "source": [
    "calc_total(students)\n",
    "calc_average(students)\n",
    "calc_order(students)\n",
    "print_student(students)\n",
    "print_class(students)"
   ]
  },
  {
   "cell_type": "code",
   "execution_count": 196,
   "id": "6a63a68b-9fe6-41c4-a902-5d106608d320",
   "metadata": {},
   "outputs": [],
   "source": [
    "# 함수 도출 - 기능의 세분화, 함수를 정의\n",
    "# 함수 구현\n",
    "# 문제점 - 오류처리, 예외처리"
   ]
  },
  {
   "cell_type": "code",
   "execution_count": 207,
   "id": "c8892983-48d4-4269-9e90-15f4eae655f7",
   "metadata": {},
   "outputs": [],
   "source": [
    "#1. 간식박스 생성 create\n",
    "def make_snack_box():\n",
    "    snack_box=['초코파이']\n",
    "    new_snack=input('먹고 싶은 간식을 추가하세요. 단 쉼표(,)로 연결하세요').split(',')\n",
    "    snack_box+=new_snack\n",
    "    return snack_box"
   ]
  },
  {
   "cell_type": "code",
   "execution_count": 203,
   "id": "5d612fe3-9c10-45a0-825d-58d3dc06cfbc",
   "metadata": {},
   "outputs": [],
   "source": [
    "#2. 간식세트 포장 update\n",
    "def multiply_snack_box(snack_box):\n",
    "    qty=int(input('간식박스를 몇 세트로 포장할까요? 예: 2-> 2박스'))\n",
    "    return snack_box*qty"
   ]
  },
  {
   "cell_type": "code",
   "execution_count": 209,
   "id": "aa90d5ad-aedc-4d72-b537-7a795b11349b",
   "metadata": {},
   "outputs": [],
   "source": [
    "#6. 간식박스 전체보기 read\n",
    "def display_snack_box(snack_box):\n",
    "    print(f'{snack_box[::-1]}, 총 {len(snack_box)}개 입니다.')"
   ]
  },
  {
   "cell_type": "code",
   "execution_count": 215,
   "id": "ac9f1ff3-0123-4a3f-a6b9-6615d9416279",
   "metadata": {},
   "outputs": [],
   "source": [
    "#3. 간식박스 미리보기 read - signature\n",
    "#def preview_snack_box(snack_box):\n",
    "#    print(f'현재 간식박스에 있는 간식은 {snack_box}입니다.')"
   ]
  },
  {
   "cell_type": "code",
   "execution_count": null,
   "id": "98c1e3a4-e1c6-4af7-8724-87e0670c7489",
   "metadata": {},
   "outputs": [],
   "source": [
    "#3. 간식박스 미리보기 read - signature\n",
    "def preview_snack_box(snack_box):\n",
    "    preview=','.join(snack_box[:3])\n",
    "    print(f'선택하신 간식은 {preview}입니다.')"
   ]
  },
  {
   "cell_type": "code",
   "execution_count": 226,
   "id": "185af320-3076-47b1-9d36-b25f7b44b2e4",
   "metadata": {},
   "outputs": [],
   "source": [
    "#4. 간식삭제 delete\n",
    "def remove_snack_box(snack_box):\n",
    "    #예외처리\n",
    "    if not snack_box:\n",
    "        print('간식박스가 비어있어요.')\n",
    "        return\n",
    "        \n",
    "    display_snack_box(snack_box)\n",
    "    \n",
    "    msg=f'혹시 빼고싶은 간식이 있으면 번호를 입력하세요 (0~{len(snack_box)-1})'\n",
    "    snack_no=int(input(msg))\n",
    "    \n",
    "    #snack_no validation\n",
    "    \n",
    "    del snack_box[snack_no]\n",
    "    return box"
   ]
  },
  {
   "cell_type": "code",
   "execution_count": 223,
   "id": "c025eb95-e17a-4f14-aa24-ecf6b515afaf",
   "metadata": {},
   "outputs": [],
   "source": [
    "#5. 간식찾기 search\n",
    "def search_snack(snack_box):\n",
    "    snack_name=input('찾고싶은 간식을 입력하세요.')\n",
    "    print('있어요' if snack_name in snack_box else '없어요')"
   ]
  },
  {
   "cell_type": "code",
   "execution_count": 224,
   "id": "a5f1a1a3-8254-415b-a8da-94ef8bdb999c",
   "metadata": {},
   "outputs": [],
   "source": [
    "#관리프로그램 crud처리\n",
    "#1. 간식박스 생성 create\n",
    "#2. 간식세트 포장 update - 기존에 만들었던 데이터를 일부만 바꿈\n",
    "#3. 간식박스 미리보기 read\n",
    "#4. 간식삭제 delete\n",
    "#5. 간식찾기 search\n",
    "#6. 간식박스 전체보기 read"
   ]
  },
  {
   "cell_type": "code",
   "execution_count": 234,
   "id": "052cd95b-ac87-4188-89a5-d5a1665cc61f",
   "metadata": {},
   "outputs": [],
   "source": [
    "#7. 간식박스 요약\n",
    "def summarise_snacks(snack_box):\n",
    "    summary={}\n",
    "    for snack in snack_box:\n",
    "        summary[snack]=summary.get(snack,0)+1\n",
    "\n",
    "    print('간식박스 정리')\n",
    "    for snack, qty in summary.items():\n",
    "        print(f'- {snack}: {qty}개')"
   ]
  },
  {
   "cell_type": "code",
   "execution_count": 238,
   "id": "d479390f-8285-49bc-9666-d19f9a7d2a35",
   "metadata": {},
   "outputs": [
    {
     "name": "stdin",
     "output_type": "stream",
     "text": [
      "먹고 싶은 간식을 추가하세요. 단 쉼표(,)로 연결하세요 빈츠\n"
     ]
    },
    {
     "name": "stdout",
     "output_type": "stream",
     "text": [
      "간식박스가 만들어졌어요.\n",
      "['빈츠', '초코파이'], 총 2개 입니다.\n"
     ]
    },
    {
     "name": "stdin",
     "output_type": "stream",
     "text": [
      "간식박스를 몇 세트로 포장할까요? 예: 2-> 2박스 2\n"
     ]
    },
    {
     "name": "stdout",
     "output_type": "stream",
     "text": [
      "['빈츠', '초코파이', '빈츠', '초코파이'], 총 4개 입니다.\n",
      "간식박스 정리\n",
      "- 초코파이: 2개\n",
      "- 빈츠: 2개\n"
     ]
    },
    {
     "name": "stdin",
     "output_type": "stream",
     "text": [
      "찾고싶은 간식을 입력하세요. 빈츠\n"
     ]
    },
    {
     "name": "stdout",
     "output_type": "stream",
     "text": [
      "있어요\n",
      "['빈츠', '초코파이', '빈츠', '초코파이'], 총 4개 입니다.\n"
     ]
    },
    {
     "name": "stdin",
     "output_type": "stream",
     "text": [
      "혹시 빼고싶은 간식이 있으면 번호를 입력하세요 (0~3) 2\n"
     ]
    },
    {
     "name": "stdout",
     "output_type": "stream",
     "text": [
      "['빈츠', '빈츠', '초코파이'], 총 3개 입니다.\n"
     ]
    }
   ],
   "source": [
    "#서비스의 흐름 - 순차\n",
    "box=make_snack_box()\n",
    "print('간식박스가 만들어졌어요.')\n",
    "display_snack_box(box)\n",
    "box=multiply_snack_box(box)\n",
    "display_snack_box(box)\n",
    "summarise_snacks(box)\n",
    "\n",
    "#검색후 삭제 가능\n",
    "search_snack(box)\n",
    "remove_snack_box(box)\n",
    "display_snack_box(box)"
   ]
  },
  {
   "cell_type": "markdown",
   "id": "ab58cd7e-c9cf-4bd0-8306-49a475e46bb1",
   "metadata": {},
   "source": [
    "# 메뉴 형식으로 구조를 개편"
   ]
  },
  {
   "cell_type": "code",
   "execution_count": 239,
   "id": "11da5cd8-ab51-4c28-83c6-bb7c46c9d6c9",
   "metadata": {},
   "outputs": [],
   "source": [
    "# 선택, 반복"
   ]
  },
  {
   "cell_type": "code",
   "execution_count": 262,
   "id": "a6974e0d-aa37-4307-9a21-0d8c803ac7fd",
   "metadata": {},
   "outputs": [],
   "source": [
    "#-- 공통 유틸리티 함수\n",
    "\n",
    "def get_valid_text_input(msg):\n",
    "    user_input=input('😈'+msg).strip()\n",
    "    if not user_input:\n",
    "        print('😈입력값을 확인하세요')\n",
    "        return None\n",
    "    return user_input\n",
    "\n",
    "# 숫자검증\n",
    "def get_valid_number_input(msg, min_no=1,max_no=5):\n",
    "    #숫자체크\n",
    "    try:\n",
    "        number=int(input(msg))\n",
    "        if number < min_no:\n",
    "            print(f'{min_no}이상 숫자를 입력하세요')\n",
    "            return None\n",
    "        elif number > max_no:\n",
    "            print(f'{max_no}이하 숫자를 입력하세요')\n",
    "            return None\n",
    "        else:\n",
    "            return number\n",
    "    except ValueError:\n",
    "        print('숫자로 입력하세요.')\n",
    "        return None"
   ]
  },
  {
   "cell_type": "code",
   "execution_count": 263,
   "id": "88dd712d-bacd-4bd0-943e-01189254928d",
   "metadata": {},
   "outputs": [],
   "source": [
    "#-- 기본 함수 정의\n",
    "#1. 간식박스 생성 create\n",
    "def make_snack_box():\n",
    "    snack_box=['초코파이']\n",
    "    make_msg='먹고싶은 간식을 추가하세요. 단, 쉼표(,)로 연결하세요.'\n",
    "    new_snack= get_valid_text_input(make_msg).split(',')\n",
    "    snack_box+=[item.strip() for item in new_snack]\n",
    "    return snack_box\n",
    "\n",
    "#2. 간식세트 포장 update\n",
    "def multiply_snack_box(snack_box):\n",
    "    mul_msg='간식박스를 몇 세트로 포장할까요? 예: 2 -> 2박스'\n",
    "    qty=get_valid_number_input(mul_msg, 2, 5)\n",
    "    return snack_box*qty\n",
    "\n",
    "#6. 간식박스 전체보기 read\n",
    "def display_snack_box(snack_box):\n",
    "    print(f'{snack_box}, 총 {len(snack_box)}개 입니다.')\n",
    "\n",
    "#3. 간식박스 미리보기 read - signature\n",
    "def preview_snack_box(snack_box):\n",
    "    preview=','.join(snack_box[:3])\n",
    "    print(f'선택하신 간식은 {preview}입니다.')\n",
    "\n",
    "#4. 간식삭제 delete\n",
    "def remove_snack_box(snack_box):\n",
    "    #예외처리\n",
    "    if not snack_box:\n",
    "        print('간식박스가 비어있어요.')\n",
    "        return\n",
    "        \n",
    "    display_snack_box(snack_box)\n",
    "\n",
    "    snack_count=len(snack_box)-1\n",
    "    rem_msg=f'혹시 빼고싶은 간식이 있으면 번호를 입력하세요 (0~{snack_count})'\n",
    "    snack_no=get_valid_number_input(rem_msg, 0, snack_count)\n",
    "    \n",
    "    del snack_box[snack_no]\n",
    "    return box\n",
    "\n",
    "#5. 간식찾기 search\n",
    "def search_snack(snack_box):\n",
    "    search_msg='찾고싶은 간식을 입력하세요.'\n",
    "    snack_name=get_valid_text_input(search_msg)\n",
    "    print('있어요' if snack_name in snack_box else '없어요')\n",
    "\n",
    "#7. 간식박스 요약\n",
    "def summarise_snacks(snack_box):\n",
    "    summary={}\n",
    "    for snack in snack_box:\n",
    "        summary[snack]=summary.get(snack,0)+1\n",
    "\n",
    "    print('간식박스 정리')\n",
    "    for snack, qty in summary.items():\n",
    "        print(f'- {snack}: {qty}개')"
   ]
  },
  {
   "cell_type": "code",
   "execution_count": 260,
   "id": "d0fad8a2-a4bf-4366-92d6-c21cac921fb6",
   "metadata": {},
   "outputs": [],
   "source": [
    "#서비스의 흐름 - 선택과 반복\n",
    "def run_menu_program():\n",
    "    snack_box=[]\n",
    "    while True:\n",
    "        print('간식박스 관리 프로그램 메뉴')\n",
    "        print('1. 간식박스 생성')\n",
    "        print('2. 세트 생성')\n",
    "        print('3. 세트 미리보기')\n",
    "        print('4. 간식 삭제')\n",
    "        print('5. 간식 검색')\n",
    "        print('6. 간식박스 요약')\n",
    "        print('7. 최종 간식박스 확인')\n",
    "\n",
    "        menu_msg='원하는 메뉴 번호를 입력하세요: '\n",
    "        choice=str(get_valid_number_input(menu_msg, 1, 7))\n",
    "\n",
    "        if choice=='1':\n",
    "            snack_box=make_snack_box()\n",
    "        elif choice=='2':\n",
    "            snack_box=multiply_snack_box(snack_box)\n",
    "        elif choice=='3':\n",
    "            preview_snack_box(snack_box)\n",
    "        elif choice=='4':\n",
    "            remove_snack_box(snack_box)\n",
    "        elif choice=='5':\n",
    "            search_snack(snack_box)\n",
    "        elif choice=='6':\n",
    "            summarise_snacks(snack_box)\n",
    "        elif choice=='7':\n",
    "            display_snack_box(snack_box)"
   ]
  },
  {
   "cell_type": "code",
   "execution_count": 261,
   "id": "be888b44-75d4-48f4-8c40-72fb087f1309",
   "metadata": {},
   "outputs": [
    {
     "name": "stdout",
     "output_type": "stream",
     "text": [
      "간식박스 관리 프로그램 메뉴\n",
      "1. 간식박스 생성\n",
      "2. 세트 생성\n",
      "3. 세트 미리보기\n",
      "4. 간식 삭제\n",
      "5. 간식 검색\n",
      "6. 간식박스 요약\n",
      "7. 최종 간식박스 확인\n"
     ]
    },
    {
     "name": "stdin",
     "output_type": "stream",
     "text": [
      "원하는 메뉴 번호를 입력하세요:  1\n",
      "😈먹고싶은 간식을 추가하세요. 단, 쉼표(,)로 연결하세요. 빈츠\n"
     ]
    },
    {
     "name": "stdout",
     "output_type": "stream",
     "text": [
      "간식박스 관리 프로그램 메뉴\n",
      "1. 간식박스 생성\n",
      "2. 세트 생성\n",
      "3. 세트 미리보기\n",
      "4. 간식 삭제\n",
      "5. 간식 검색\n",
      "6. 간식박스 요약\n",
      "7. 최종 간식박스 확인\n"
     ]
    },
    {
     "name": "stdin",
     "output_type": "stream",
     "text": [
      "원하는 메뉴 번호를 입력하세요:  3\n"
     ]
    },
    {
     "name": "stdout",
     "output_type": "stream",
     "text": [
      "선택하신 간식은 초코파이,빈츠입니다.\n",
      "간식박스 관리 프로그램 메뉴\n",
      "1. 간식박스 생성\n",
      "2. 세트 생성\n",
      "3. 세트 미리보기\n",
      "4. 간식 삭제\n",
      "5. 간식 검색\n",
      "6. 간식박스 요약\n",
      "7. 최종 간식박스 확인\n"
     ]
    },
    {
     "ename": "KeyboardInterrupt",
     "evalue": "Interrupted by user",
     "output_type": "error",
     "traceback": [
      "\u001b[31m---------------------------------------------------------------------------\u001b[39m",
      "\u001b[31mKeyboardInterrupt\u001b[39m                         Traceback (most recent call last)",
      "\u001b[36mCell\u001b[39m\u001b[36m \u001b[39m\u001b[32mIn[261]\u001b[39m\u001b[32m, line 2\u001b[39m\n\u001b[32m      1\u001b[39m \u001b[38;5;66;03m#실행\u001b[39;00m\n\u001b[32m----> \u001b[39m\u001b[32m2\u001b[39m run_menu_program()\n",
      "\u001b[36mCell\u001b[39m\u001b[36m \u001b[39m\u001b[32mIn[260]\u001b[39m\u001b[32m, line 15\u001b[39m, in \u001b[36mrun_menu_program\u001b[39m\u001b[34m()\u001b[39m\n\u001b[32m     12\u001b[39m \u001b[38;5;28mprint\u001b[39m(\u001b[33m'\u001b[39m\u001b[33m7. 최종 간식박스 확인\u001b[39m\u001b[33m'\u001b[39m)\n\u001b[32m     14\u001b[39m menu_msg=\u001b[33m'\u001b[39m\u001b[33m원하는 메뉴 번호를 입력하세요: \u001b[39m\u001b[33m'\u001b[39m\n\u001b[32m---> \u001b[39m\u001b[32m15\u001b[39m choice=\u001b[38;5;28mstr\u001b[39m(get_valid_number_input(menu_msg, \u001b[32m1\u001b[39m, \u001b[32m7\u001b[39m))\n\u001b[32m     17\u001b[39m \u001b[38;5;28;01mif\u001b[39;00m choice==\u001b[33m'\u001b[39m\u001b[33m1\u001b[39m\u001b[33m'\u001b[39m:\n\u001b[32m     18\u001b[39m     snack_box=make_snack_box()\n",
      "\u001b[36mCell\u001b[39m\u001b[36m \u001b[39m\u001b[32mIn[258]\u001b[39m\u001b[32m, line 14\u001b[39m, in \u001b[36mget_valid_number_input\u001b[39m\u001b[34m(msg, min_no, max_no)\u001b[39m\n\u001b[32m     11\u001b[39m \u001b[38;5;28;01mdef\u001b[39;00m\u001b[38;5;250m \u001b[39m\u001b[34mget_valid_number_input\u001b[39m(msg, min_no=\u001b[32m1\u001b[39m,max_no=\u001b[32m5\u001b[39m):\n\u001b[32m     12\u001b[39m     \u001b[38;5;66;03m#숫자체크\u001b[39;00m\n\u001b[32m     13\u001b[39m     \u001b[38;5;28;01mtry\u001b[39;00m:\n\u001b[32m---> \u001b[39m\u001b[32m14\u001b[39m         number=\u001b[38;5;28mint\u001b[39m(\u001b[38;5;28minput\u001b[39m(msg))\n\u001b[32m     15\u001b[39m         \u001b[38;5;28;01mif\u001b[39;00m number < min_no:\n\u001b[32m     16\u001b[39m             \u001b[38;5;28mprint\u001b[39m(\u001b[33m'\u001b[39m\u001b[38;5;132;01m{min_no}\u001b[39;00m\u001b[33m이상 숫자를 입력하세요\u001b[39m\u001b[33m'\u001b[39m)\n",
      "\u001b[36mFile \u001b[39m\u001b[32m~\\miniconda3\\envs\\hipython\\Lib\\site-packages\\ipykernel\\kernelbase.py:1282\u001b[39m, in \u001b[36mKernel.raw_input\u001b[39m\u001b[34m(self, prompt)\u001b[39m\n\u001b[32m   1280\u001b[39m     msg = \u001b[33m\"\u001b[39m\u001b[33mraw_input was called, but this frontend does not support input requests.\u001b[39m\u001b[33m\"\u001b[39m\n\u001b[32m   1281\u001b[39m     \u001b[38;5;28;01mraise\u001b[39;00m StdinNotImplementedError(msg)\n\u001b[32m-> \u001b[39m\u001b[32m1282\u001b[39m \u001b[38;5;28;01mreturn\u001b[39;00m \u001b[38;5;28mself\u001b[39m._input_request(\n\u001b[32m   1283\u001b[39m     \u001b[38;5;28mstr\u001b[39m(prompt),\n\u001b[32m   1284\u001b[39m     \u001b[38;5;28mself\u001b[39m._parent_ident[\u001b[33m\"\u001b[39m\u001b[33mshell\u001b[39m\u001b[33m\"\u001b[39m],\n\u001b[32m   1285\u001b[39m     \u001b[38;5;28mself\u001b[39m.get_parent(\u001b[33m\"\u001b[39m\u001b[33mshell\u001b[39m\u001b[33m\"\u001b[39m),\n\u001b[32m   1286\u001b[39m     password=\u001b[38;5;28;01mFalse\u001b[39;00m,\n\u001b[32m   1287\u001b[39m )\n",
      "\u001b[36mFile \u001b[39m\u001b[32m~\\miniconda3\\envs\\hipython\\Lib\\site-packages\\ipykernel\\kernelbase.py:1325\u001b[39m, in \u001b[36mKernel._input_request\u001b[39m\u001b[34m(self, prompt, ident, parent, password)\u001b[39m\n\u001b[32m   1322\u001b[39m \u001b[38;5;28;01mexcept\u001b[39;00m \u001b[38;5;167;01mKeyboardInterrupt\u001b[39;00m:\n\u001b[32m   1323\u001b[39m     \u001b[38;5;66;03m# re-raise KeyboardInterrupt, to truncate traceback\u001b[39;00m\n\u001b[32m   1324\u001b[39m     msg = \u001b[33m\"\u001b[39m\u001b[33mInterrupted by user\u001b[39m\u001b[33m\"\u001b[39m\n\u001b[32m-> \u001b[39m\u001b[32m1325\u001b[39m     \u001b[38;5;28;01mraise\u001b[39;00m \u001b[38;5;167;01mKeyboardInterrupt\u001b[39;00m(msg) \u001b[38;5;28;01mfrom\u001b[39;00m\u001b[38;5;250m \u001b[39m\u001b[38;5;28;01mNone\u001b[39;00m\n\u001b[32m   1326\u001b[39m \u001b[38;5;28;01mexcept\u001b[39;00m \u001b[38;5;167;01mException\u001b[39;00m:\n\u001b[32m   1327\u001b[39m     \u001b[38;5;28mself\u001b[39m.log.warning(\u001b[33m\"\u001b[39m\u001b[33mInvalid Message:\u001b[39m\u001b[33m\"\u001b[39m, exc_info=\u001b[38;5;28;01mTrue\u001b[39;00m)\n",
      "\u001b[31mKeyboardInterrupt\u001b[39m: Interrupted by user"
     ]
    }
   ],
   "source": [
    "#실행\n",
    "run_menu_program()"
   ]
  },
  {
   "cell_type": "markdown",
   "id": "71244186-9ee3-41c8-a322-a43fe5902fb5",
   "metadata": {},
   "source": [
    "# 람다 함수\n",
    "\n",
    "선언 >> lambda <매개변수>: 코드 \\\n",
    "호출 >> (lambda <매개변수>: 코드) (매개변수값)"
   ]
  },
  {
   "cell_type": "code",
   "execution_count": 264,
   "id": "231db17d-a60f-4087-b2f7-295c70d014fe",
   "metadata": {},
   "outputs": [],
   "source": [
    "def aaa(a):\n",
    "    result=a+1\n",
    "    return result"
   ]
  },
  {
   "cell_type": "code",
   "execution_count": 265,
   "id": "1ca2a627-079e-4501-b940-8bc94f6cfbfa",
   "metadata": {},
   "outputs": [
    {
     "data": {
      "text/plain": [
       "<function __main__.<lambda>(a)>"
      ]
     },
     "execution_count": 265,
     "metadata": {},
     "output_type": "execute_result"
    }
   ],
   "source": [
    "lambda a: a+1"
   ]
  },
  {
   "cell_type": "code",
   "execution_count": 268,
   "id": "aef47c23-f419-43a8-88e1-7f1e766ed9fb",
   "metadata": {},
   "outputs": [
    {
     "data": {
      "text/plain": [
       "3"
      ]
     },
     "execution_count": 268,
     "metadata": {},
     "output_type": "execute_result"
    }
   ],
   "source": [
    "(lambda a: a+1)(2) #람다의 호출"
   ]
  },
  {
   "cell_type": "code",
   "execution_count": 269,
   "id": "f88cdf12-26ab-4510-b055-a93294b327ad",
   "metadata": {},
   "outputs": [
    {
     "data": {
      "text/plain": [
       "(4, 5, 131)"
      ]
     },
     "execution_count": 269,
     "metadata": {},
     "output_type": "execute_result"
    }
   ],
   "source": [
    "my_lambda=lambda a: a+1 #람다의 재정의\n",
    "my_lambda(3), my_lambda(4), my_lambda(130)"
   ]
  },
  {
   "cell_type": "code",
   "execution_count": 270,
   "id": "93d3e3e2-df6c-45ae-96ec-95608ff7922e",
   "metadata": {},
   "outputs": [
    {
     "data": {
      "text/plain": [
       "5"
      ]
     },
     "execution_count": 270,
     "metadata": {},
     "output_type": "execute_result"
    }
   ],
   "source": [
    "def sum1(a,b):\n",
    "    return a+b\n",
    "sum1(2,3)"
   ]
  },
  {
   "cell_type": "code",
   "execution_count": 272,
   "id": "c33e4114-b1cf-4652-9a28-edd5bdca5994",
   "metadata": {},
   "outputs": [
    {
     "data": {
      "text/plain": [
       "5"
      ]
     },
     "execution_count": 272,
     "metadata": {},
     "output_type": "execute_result"
    }
   ],
   "source": [
    "(lambda a,b:a+b)(2,3)"
   ]
  },
  {
   "cell_type": "code",
   "execution_count": 274,
   "id": "5366f78c-7d22-44ef-b11f-db7e2e79ee58",
   "metadata": {},
   "outputs": [],
   "source": [
    "def calc_func(a,b,opr_func):\n",
    "    result=opr_func(a,b)\n",
    "    return result"
   ]
  },
  {
   "cell_type": "code",
   "execution_count": 275,
   "id": "2975b75a-17bb-49e8-9605-195874956063",
   "metadata": {},
   "outputs": [
    {
     "data": {
      "text/plain": [
       "3"
      ]
     },
     "execution_count": 275,
     "metadata": {},
     "output_type": "execute_result"
    }
   ],
   "source": [
    "calc_func(1,2,lambda x,y:x+y)"
   ]
  },
  {
   "cell_type": "code",
   "execution_count": 276,
   "id": "ecc0507a-fcd1-42f4-9146-d602c561a05b",
   "metadata": {},
   "outputs": [
    {
     "data": {
      "text/plain": [
       "0.5"
      ]
     },
     "execution_count": 276,
     "metadata": {},
     "output_type": "execute_result"
    }
   ],
   "source": [
    "calc_func(1,2,lambda x,y:x/y)"
   ]
  },
  {
   "cell_type": "code",
   "execution_count": 277,
   "id": "ea5baa71-da0b-4f0c-87c3-9880f7af3d7a",
   "metadata": {},
   "outputs": [
    {
     "data": {
      "text/plain": [
       "2"
      ]
     },
     "execution_count": 277,
     "metadata": {},
     "output_type": "execute_result"
    }
   ],
   "source": [
    "calc_func(1,2,lambda x,y:x*y)"
   ]
  },
  {
   "cell_type": "code",
   "execution_count": 278,
   "id": "89e28728-bcc5-4889-bde7-005885ce8444",
   "metadata": {},
   "outputs": [
    {
     "data": {
      "text/plain": [
       "-1"
      ]
     },
     "execution_count": 278,
     "metadata": {},
     "output_type": "execute_result"
    }
   ],
   "source": [
    "calc_func(1,2,lambda x,y:x-y)"
   ]
  },
  {
   "cell_type": "code",
   "execution_count": 297,
   "id": "32e69f60-995e-4c40-becd-4435e0648722",
   "metadata": {},
   "outputs": [
    {
     "data": {
      "text/plain": [
       "['APPLE', 'BANANA', 'CHERRY']"
      ]
     },
     "execution_count": 297,
     "metadata": {},
     "output_type": "execute_result"
    }
   ],
   "source": [
    "#map 함수\n",
    "fruits=['apple','banana','cherry']\n",
    "#str.upper \n",
    "#fruits[0].upper()\n",
    "\n",
    "list(map(str.upper, fruits)) #출력하고싶으면 리스트로 넣기"
   ]
  },
  {
   "cell_type": "code",
   "execution_count": 287,
   "id": "05ae72d3-6e2b-4329-8919-fe297dae20c0",
   "metadata": {},
   "outputs": [
    {
     "data": {
      "text/plain": [
       "['1', '2', '3', '4', '5']"
      ]
     },
     "execution_count": 287,
     "metadata": {},
     "output_type": "execute_result"
    }
   ],
   "source": [
    "str_number='12345'\n",
    "list(str_number) #문자열 리스트"
   ]
  },
  {
   "cell_type": "code",
   "execution_count": 288,
   "id": "93ef9f98-7813-4d12-8c37-9849e6daa4ad",
   "metadata": {},
   "outputs": [
    {
     "ename": "TypeError",
     "evalue": "int() argument must be a string, a bytes-like object or a real number, not 'list'",
     "output_type": "error",
     "traceback": [
      "\u001b[31m---------------------------------------------------------------------------\u001b[39m",
      "\u001b[31mTypeError\u001b[39m                                 Traceback (most recent call last)",
      "\u001b[36mCell\u001b[39m\u001b[36m \u001b[39m\u001b[32mIn[288]\u001b[39m\u001b[32m, line 1\u001b[39m\n\u001b[32m----> \u001b[39m\u001b[32m1\u001b[39m \u001b[38;5;28mint\u001b[39m(\u001b[38;5;28mlist\u001b[39m(str_number))\n",
      "\u001b[31mTypeError\u001b[39m: int() argument must be a string, a bytes-like object or a real number, not 'list'"
     ]
    }
   ],
   "source": [
    "int(list(str_number))"
   ]
  },
  {
   "cell_type": "code",
   "execution_count": 293,
   "id": "326dc7d9-080b-4b3f-8a65-4a0d47febcdc",
   "metadata": {},
   "outputs": [
    {
     "data": {
      "text/plain": [
       "[1, 2, 3, 4, 5]"
      ]
     },
     "execution_count": 293,
     "metadata": {},
     "output_type": "execute_result"
    }
   ],
   "source": [
    "numbers=list(map(int, str_number))\n",
    "numbers"
   ]
  },
  {
   "cell_type": "code",
   "execution_count": 294,
   "id": "8c15a518-e865-4605-a9e4-7e506588d028",
   "metadata": {},
   "outputs": [
    {
     "data": {
      "text/plain": [
       "[1, 4, 9, 16, 25]"
      ]
     },
     "execution_count": 294,
     "metadata": {},
     "output_type": "execute_result"
    }
   ],
   "source": [
    "list(map(lambda x: x**2, numbers))"
   ]
  },
  {
   "cell_type": "code",
   "execution_count": 298,
   "id": "8e65eef2-853a-4724-8c64-452908293f69",
   "metadata": {},
   "outputs": [
    {
     "data": {
      "text/plain": [
       "[12, 15, 18]"
      ]
     },
     "execution_count": 298,
     "metadata": {},
     "output_type": "execute_result"
    }
   ],
   "source": [
    "kor_score=[1,2,3]\n",
    "eng_score=[4,5,6]\n",
    "math_score=[7,8,9]\n",
    "\n",
    "list(map(lambda x,y,z: x+y+z, kor_score, eng_score, math_score))"
   ]
  },
  {
   "cell_type": "code",
   "execution_count": 310,
   "id": "2122d482-c337-4451-a97e-cb2239f4b7a1",
   "metadata": {},
   "outputs": [
    {
     "name": "stdout",
     "output_type": "stream",
     "text": [
      "[12, 15, 18]\n"
     ]
    },
    {
     "data": {
      "text/plain": [
       "[4.0, 5.0, 6.0]"
      ]
     },
     "execution_count": 310,
     "metadata": {},
     "output_type": "execute_result"
    }
   ],
   "source": [
    "#합계, 평균, 최대값, 최소값\n",
    "\n",
    "kor_score=[1,2,3]\n",
    "eng_score=[4,5,6]\n",
    "math_score=[7,8,9]\n",
    "\n",
    "print(list(map(lambda s: sum(s), zip(kor_score, eng_score, math_score)))) #Total\n",
    "list(map(lambda s: sum(s)/3, zip(kor_score, eng_score, math_score))) #Average\n",
    "list(map(lambda s: sum(s), zip(kor_score, eng_score, math_score))) #Maximum\n",
    "list(map(lambda s: sum(s)/3, zip(kor_score, eng_score, math_score))) #Minimum"
   ]
  },
  {
   "cell_type": "code",
   "execution_count": 1,
   "id": "6ae692d4-d6c3-464b-bdc8-206cd1aa7261",
   "metadata": {},
   "outputs": [
    {
     "data": {
      "text/plain": [
       "[2, 4]"
      ]
     },
     "execution_count": 1,
     "metadata": {},
     "output_type": "execute_result"
    }
   ],
   "source": [
    "# 리스트 컴프리헨션의 필터\n",
    "numbers=[1,2,3,4,5]\n",
    "\n",
    "[x for x in numbers if x%2==0]"
   ]
  },
  {
   "cell_type": "code",
   "execution_count": 3,
   "id": "065373ec-ac65-470b-a10e-e9364d8fc480",
   "metadata": {},
   "outputs": [
    {
     "data": {
      "text/plain": [
       "[2, 4]"
      ]
     },
     "execution_count": 3,
     "metadata": {},
     "output_type": "execute_result"
    }
   ],
   "source": [
    "# 필터함수\n",
    "list(filter(lambda x: x%2==0, numbers))"
   ]
  },
  {
   "cell_type": "code",
   "execution_count": 6,
   "id": "ef454c1a-abeb-4c30-9251-cdcf624b26fe",
   "metadata": {},
   "outputs": [
    {
     "data": {
      "text/plain": [
       "[4, 16]"
      ]
     },
     "execution_count": 6,
     "metadata": {},
     "output_type": "execute_result"
    }
   ],
   "source": [
    "#numbers를 제곱하고, 그 중에 짝수만 리스트로 리턴\n",
    "list(filter(lambda x: x%2==0, map(lambda x: x*x, numbers)))"
   ]
  },
  {
   "cell_type": "code",
   "execution_count": 7,
   "id": "1891e980-798a-4a55-b757-c2534e985f1e",
   "metadata": {},
   "outputs": [],
   "source": [
    "#sorted 함수"
   ]
  },
  {
   "cell_type": "code",
   "execution_count": 10,
   "id": "85e981b0-db60-42af-96ed-292eb3c395f6",
   "metadata": {},
   "outputs": [
    {
     "data": {
      "text/plain": [
       "[1, 2, 3, 4, 5, 6, 7, 8, 9]"
      ]
     },
     "execution_count": 10,
     "metadata": {},
     "output_type": "execute_result"
    }
   ],
   "source": [
    "numbers=[3,1,5,4,7,2,8,6,9]\n",
    "numbers.sort()\n",
    "numbers"
   ]
  },
  {
   "cell_type": "code",
   "execution_count": 17,
   "id": "4df82022-4a08-4aea-865b-9115b05258c1",
   "metadata": {},
   "outputs": [
    {
     "data": {
      "text/plain": [
       "[9, 8, 7, 6, 5, 4, 3, 2, 1]"
      ]
     },
     "execution_count": 17,
     "metadata": {},
     "output_type": "execute_result"
    }
   ],
   "source": [
    "numbers=[3,1,5,4,7,2,8,6,9]\n",
    "nums=sorted(numbers,reverse=True)\n",
    "nums"
   ]
  },
  {
   "cell_type": "code",
   "execution_count": 18,
   "id": "da9e507b-cfe7-460a-943c-6f7efc4cca18",
   "metadata": {},
   "outputs": [
    {
     "data": {
      "text/plain": [
       "[3, 1, 5, 4, 7, 2, 8, 6, 9]"
      ]
     },
     "execution_count": 18,
     "metadata": {},
     "output_type": "execute_result"
    }
   ],
   "source": [
    "numbers"
   ]
  },
  {
   "cell_type": "code",
   "execution_count": 21,
   "id": "125667fe-49fa-44ba-9bf8-05bc535fb876",
   "metadata": {},
   "outputs": [
    {
     "data": {
      "text/plain": [
       "[1, -3, 5, -6, -8]"
      ]
     },
     "execution_count": 21,
     "metadata": {},
     "output_type": "execute_result"
    }
   ],
   "source": [
    "numbers1=[-3,1,5,-6,-8]\n",
    "sorted(numbers1, key=abs) #code"
   ]
  },
  {
   "cell_type": "code",
   "execution_count": 26,
   "id": "1b35ef57-e9b2-4dd5-a002-5ab79e424008",
   "metadata": {},
   "outputs": [
    {
     "data": {
      "text/plain": [
       "['apple', 'banana', 'blueberry', 'tomato']"
      ]
     },
     "execution_count": 26,
     "metadata": {},
     "output_type": "execute_result"
    }
   ],
   "source": [
    "words=['apple','banana','tomato','blueberry']\n",
    "sorted(words)"
   ]
  },
  {
   "cell_type": "code",
   "execution_count": 27,
   "id": "d4e164fa-5d64-4b22-a609-7a6b9ec177ef",
   "metadata": {},
   "outputs": [
    {
     "data": {
      "text/plain": [
       "['blueberry', 'banana', 'tomato', 'apple']"
      ]
     },
     "execution_count": 27,
     "metadata": {},
     "output_type": "execute_result"
    }
   ],
   "source": [
    "sorted(words, key=len, reverse=True)"
   ]
  },
  {
   "cell_type": "code",
   "execution_count": 29,
   "id": "e7a7bfff-1385-4473-9c3c-f169dc1959b8",
   "metadata": {},
   "outputs": [
    {
     "data": {
      "text/plain": [
       "['banana', 'apple', 'tomato', 'blueberry']"
      ]
     },
     "execution_count": 29,
     "metadata": {},
     "output_type": "execute_result"
    }
   ],
   "source": [
    "#마지막글자의 순\n",
    "sorted(words, key=lambda w: w [-1])"
   ]
  },
  {
   "cell_type": "code",
   "execution_count": 31,
   "id": "df50feb7-30e8-4e5d-8032-e4d717dcef36",
   "metadata": {},
   "outputs": [
    {
     "data": {
      "text/plain": [
       "[(3, 2), (2, 3), (1, 4)]"
      ]
     },
     "execution_count": 31,
     "metadata": {},
     "output_type": "execute_result"
    }
   ],
   "source": [
    "#튜플의 요소기준 정렬\n",
    "data=[(1,4),(2,3),(3,2)]\n",
    "sorted(data, key=lambda x:x[1])"
   ]
  },
  {
   "cell_type": "code",
   "execution_count": 39,
   "id": "28d1e49a-fddc-482b-885d-eec7b6e75e18",
   "metadata": {},
   "outputs": [
    {
     "name": "stdout",
     "output_type": "stream",
     "text": [
      "[('Alice', 20, 85), ('Charlie', 21, 78), ('Bob', 22, 90)]\n"
     ]
    },
    {
     "data": {
      "text/plain": [
       "[('Bob', 22, 90), ('Alice', 20, 85), ('Charlie', 21, 78)]"
      ]
     },
     "execution_count": 39,
     "metadata": {},
     "output_type": "execute_result"
    }
   ],
   "source": [
    "# 이름, 나이, 점수\n",
    "students=[('Alice',20,85),('Bob',22,90),('Charlie',21,78)]\n",
    "\n",
    "# 나이 기준으로 정렬\n",
    "# 높은 점수순으로 정렬\n",
    "\n",
    "print(sorted(students, key=lambda a:a[1]))\n",
    "sorted(students, key=lambda a:a[2], reverse=True)"
   ]
  },
  {
   "cell_type": "code",
   "execution_count": null,
   "id": "0abd1180-da27-4ba6-875d-16fd50696cc8",
   "metadata": {},
   "outputs": [],
   "source": []
  },
  {
   "cell_type": "code",
   "execution_count": null,
   "id": "ff60a2f7-b410-48bf-8ed5-53e2f669ddda",
   "metadata": {},
   "outputs": [],
   "source": []
  },
  {
   "cell_type": "code",
   "execution_count": null,
   "id": "4d3643c9-4ca5-42d4-a49d-c20c82c0ff32",
   "metadata": {},
   "outputs": [],
   "source": []
  },
  {
   "cell_type": "code",
   "execution_count": null,
   "id": "fac63ef1-371e-47c7-8b95-9471c1f5c1b8",
   "metadata": {},
   "outputs": [],
   "source": []
  },
  {
   "cell_type": "code",
   "execution_count": null,
   "id": "75efc2fa-08a2-4a06-85f3-583376dec3f8",
   "metadata": {},
   "outputs": [],
   "source": []
  },
  {
   "cell_type": "code",
   "execution_count": null,
   "id": "fa3a4db2-9f70-4d4d-bfa5-629d40d4aed7",
   "metadata": {},
   "outputs": [],
   "source": []
  },
  {
   "cell_type": "code",
   "execution_count": null,
   "id": "05f232a6-54a5-4009-abbd-6aabf3b36127",
   "metadata": {},
   "outputs": [],
   "source": []
  },
  {
   "cell_type": "code",
   "execution_count": null,
   "id": "31ed4903-b56f-40a5-b922-1ec114c19b4e",
   "metadata": {},
   "outputs": [],
   "source": []
  },
  {
   "cell_type": "code",
   "execution_count": null,
   "id": "0277c21b-efd2-4aa4-a7ed-de11c70f9b21",
   "metadata": {},
   "outputs": [],
   "source": []
  }
 ],
 "metadata": {
  "kernelspec": {
   "display_name": "Python 3 (ipykernel)",
   "language": "python",
   "name": "python3"
  },
  "language_info": {
   "codemirror_mode": {
    "name": "ipython",
    "version": 3
   },
   "file_extension": ".py",
   "mimetype": "text/x-python",
   "name": "python",
   "nbconvert_exporter": "python",
   "pygments_lexer": "ipython3",
   "version": "3.12.9"
  }
 },
 "nbformat": 4,
 "nbformat_minor": 5
}
