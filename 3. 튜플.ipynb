{
 "cells": [
  {
   "cell_type": "markdown",
   "id": "164b61a9-a5ee-4511-ad33-3ab846df77d8",
   "metadata": {},
   "source": [
    "# 튜플\n",
    "리스트랑 비슷하지만 변경이 안된다는 특징을 갖는다"
   ]
  },
  {
   "cell_type": "code",
   "execution_count": 15,
   "id": "6ff12400-63a8-42d6-a3ac-ac5caa8661a1",
   "metadata": {},
   "outputs": [
    {
     "data": {
      "text/plain": [
       "((), tuple)"
      ]
     },
     "execution_count": 15,
     "metadata": {},
     "output_type": "execute_result"
    }
   ],
   "source": [
    "a=tuple()\n",
    "a, type (a)"
   ]
  },
  {
   "cell_type": "code",
   "execution_count": 16,
   "id": "c06e2389-388c-477e-9438-d20da225db43",
   "metadata": {},
   "outputs": [
    {
     "data": {
      "text/plain": [
       "(1, int)"
      ]
     },
     "execution_count": 16,
     "metadata": {},
     "output_type": "execute_result"
    }
   ],
   "source": [
    "b=(1)\n",
    "b, type (b)"
   ]
  },
  {
   "cell_type": "code",
   "execution_count": 17,
   "id": "444cfbec-e936-4fb3-a899-f1de310747df",
   "metadata": {},
   "outputs": [
    {
     "data": {
      "text/plain": [
       "((1,), tuple)"
      ]
     },
     "execution_count": 17,
     "metadata": {},
     "output_type": "execute_result"
    }
   ],
   "source": [
    "bb=(1, )\n",
    "bb, type(bb)"
   ]
  },
  {
   "cell_type": "code",
   "execution_count": 18,
   "id": "4ff4c4b8-897a-4522-8e31-8489d8e88091",
   "metadata": {},
   "outputs": [
    {
     "data": {
      "text/plain": [
       "(1, 2, (3, 4), '5', [1, 2])"
      ]
     },
     "execution_count": 18,
     "metadata": {},
     "output_type": "execute_result"
    }
   ],
   "source": [
    "c=(1,2,(3,4),'5',[1,2])\n",
    "c"
   ]
  },
  {
   "cell_type": "code",
   "execution_count": 19,
   "id": "4959dd3d-696f-4983-be88-f69deae368ca",
   "metadata": {},
   "outputs": [
    {
     "data": {
      "text/plain": [
       "1"
      ]
     },
     "execution_count": 19,
     "metadata": {},
     "output_type": "execute_result"
    }
   ],
   "source": [
    "c[0]"
   ]
  },
  {
   "cell_type": "code",
   "execution_count": 20,
   "id": "336721bf-3c7a-4d6b-9e01-071c9f9d434b",
   "metadata": {},
   "outputs": [
    {
     "ename": "TypeError",
     "evalue": "'tuple' object does not support item assignment",
     "output_type": "error",
     "traceback": [
      "\u001b[31m---------------------------------------------------------------------------\u001b[39m",
      "\u001b[31mTypeError\u001b[39m                                 Traceback (most recent call last)",
      "\u001b[36mCell\u001b[39m\u001b[36m \u001b[39m\u001b[32mIn[20]\u001b[39m\u001b[32m, line 1\u001b[39m\n\u001b[32m----> \u001b[39m\u001b[32m1\u001b[39m c[\u001b[32m0\u001b[39m]=\u001b[32m3\u001b[39m\n",
      "\u001b[31mTypeError\u001b[39m: 'tuple' object does not support item assignment"
     ]
    }
   ],
   "source": [
    "c[0]=3 #값 추가 못함"
   ]
  },
  {
   "cell_type": "code",
   "execution_count": 21,
   "id": "7ec3a9c1-0bc0-45be-99a4-36561f726eb6",
   "metadata": {},
   "outputs": [
    {
     "data": {
      "text/plain": [
       "(('apple', 'peach', 'strawberry'), tuple)"
      ]
     },
     "execution_count": 21,
     "metadata": {},
     "output_type": "execute_result"
    }
   ],
   "source": [
    "#tuple의 ( ) 괄호는 생력 가능 but 쉼표로 요소는 하나 이상이어야함\n",
    "fruits='apple','peach','strawberry'\n",
    "fruits, type(fruits)"
   ]
  },
  {
   "cell_type": "code",
   "execution_count": 22,
   "id": "83d2c0fb-e507-49da-988f-ec03b4d609d7",
   "metadata": {},
   "outputs": [
    {
     "data": {
      "text/plain": [
       "(1, 2, 3)"
      ]
     },
     "execution_count": 22,
     "metadata": {},
     "output_type": "execute_result"
    }
   ],
   "source": [
    "# 패킹, 언패킹\n",
    "\n",
    "nums=[1,2,3] \n",
    "a,b,c=nums #리스트의 언패킹(unpacking)\n",
    "a,b,c"
   ]
  },
  {
   "cell_type": "code",
   "execution_count": 23,
   "id": "8a286ad6-7b3a-4df0-b67d-7228d99cf1e8",
   "metadata": {},
   "outputs": [
    {
     "data": {
      "text/plain": [
       "'h'"
      ]
     },
     "execution_count": 23,
     "metadata": {},
     "output_type": "execute_result"
    }
   ],
   "source": [
    "#s=hello를 넣으면 에러가 뜨는데 s=hi를 넣으면 에러가 안뜸\n",
    "s='hi'\n",
    "a,b=s\n",
    "a"
   ]
  },
  {
   "cell_type": "code",
   "execution_count": 24,
   "id": "8cc1952c-8305-44ef-a5d2-0c0a2be13870",
   "metadata": {},
   "outputs": [
    {
     "data": {
      "text/plain": [
       "('h', ['e', 'l', 'l'], 'o')"
      ]
     },
     "execution_count": 24,
     "metadata": {},
     "output_type": "execute_result"
    }
   ],
   "source": [
    "s='hello' #packing\n",
    "a,*b, c=s #unpacking * - rest는 너가 다 가져\n",
    "a,b,c"
   ]
  },
  {
   "cell_type": "code",
   "execution_count": 25,
   "id": "924de6a4-92f4-4afb-b811-956373463a1a",
   "metadata": {},
   "outputs": [
    {
     "data": {
      "text/plain": [
       "('홍길동', 20, '1학년')"
      ]
     },
     "execution_count": 25,
     "metadata": {},
     "output_type": "execute_result"
    }
   ],
   "source": [
    "student=('홍길동',20,'1학년') #패킹\n",
    "student"
   ]
  },
  {
   "cell_type": "code",
   "execution_count": 26,
   "id": "d2cbe97c-d9a6-4086-be19-a231ea311b3b",
   "metadata": {},
   "outputs": [
    {
     "data": {
      "text/plain": [
       "'이름은 홍길동이고요, 나이는 20이고요, 1학년입니다.'"
      ]
     },
     "execution_count": 26,
     "metadata": {},
     "output_type": "execute_result"
    }
   ],
   "source": [
    "name,age,grade=student #언패킹\n",
    "f'이름은 {name}이고요, 나이는 {age}이고요, {grade}입니다.'"
   ]
  },
  {
   "cell_type": "code",
   "execution_count": 27,
   "id": "d314031d-d7b9-4b51-ad56-c9a7a96614ea",
   "metadata": {},
   "outputs": [],
   "source": [
    "#미션\n",
    "x=1\n",
    "y=2\n",
    "\n",
    "#x=2,y=1"
   ]
  },
  {
   "cell_type": "code",
   "execution_count": 28,
   "id": "b072f4ab-30b4-4f6d-85a2-d43e3ede5911",
   "metadata": {},
   "outputs": [
    {
     "name": "stdout",
     "output_type": "stream",
     "text": [
      "x=2, y=1\n"
     ]
    }
   ],
   "source": [
    "print(f'x={y}, y={x}')"
   ]
  },
  {
   "cell_type": "code",
   "execution_count": 29,
   "id": "8dab4845-92e9-4c0d-a4b9-6e957aede6c9",
   "metadata": {},
   "outputs": [],
   "source": [
    "#x=2,y=1\n",
    "tmp=x\n",
    "x=y\n",
    "y=tmp"
   ]
  },
  {
   "cell_type": "code",
   "execution_count": 30,
   "id": "839eaa05-ee07-4cd0-8238-8ce6c92919cf",
   "metadata": {},
   "outputs": [],
   "source": [
    "tmp=(y,x)\n",
    "x,y=tmp"
   ]
  },
  {
   "cell_type": "code",
   "execution_count": 31,
   "id": "db4b002f-2697-4fcb-80c9-9f6dd5d64cf5",
   "metadata": {},
   "outputs": [],
   "source": [
    "x,y=y,x #tuple의 패킹, 언패킹"
   ]
  },
  {
   "cell_type": "code",
   "execution_count": 32,
   "id": "9d5950bf-0dcb-4558-96f8-ac48191d5af9",
   "metadata": {},
   "outputs": [
    {
     "name": "stdout",
     "output_type": "stream",
     "text": [
      "5 4 3\n"
     ]
    },
    {
     "data": {
      "text/plain": [
       "(3, 4, 5)"
      ]
     },
     "execution_count": 32,
     "metadata": {},
     "output_type": "execute_result"
    }
   ],
   "source": [
    "#함수의 정의\n",
    "def func_a(a,b,c):\n",
    "    print(a,b,c)\n",
    "    return c,b,a\n",
    "\n",
    "#함수의 호출\n",
    "result=func_a(5,4,3)\n",
    "#함수의 반환값\n",
    "result"
   ]
  },
  {
   "cell_type": "code",
   "execution_count": 33,
   "id": "4cf9b7f3-06cf-416e-ae20-d38b60a96fe6",
   "metadata": {},
   "outputs": [
    {
     "name": "stdout",
     "output_type": "stream",
     "text": [
      "1 2 3\n"
     ]
    },
    {
     "data": {
      "text/plain": [
       "(3, 2, 1)"
      ]
     },
     "execution_count": 33,
     "metadata": {},
     "output_type": "execute_result"
    }
   ],
   "source": [
    "a1,b1,c1=func_a(1,2,3)\n",
    "a1,b1,c1"
   ]
  },
  {
   "cell_type": "code",
   "execution_count": 34,
   "id": "3dbdf6c5-2a6e-495a-85c6-ae10afca3942",
   "metadata": {},
   "outputs": [],
   "source": [
    "#tuple에 값을 추가하려면?\n",
    "#형번환 > 리스트"
   ]
  },
  {
   "cell_type": "code",
   "execution_count": 35,
   "id": "8dd73f76-8f20-4210-b4ca-243424e2d336",
   "metadata": {},
   "outputs": [
    {
     "data": {
      "text/plain": [
       "('수현', '석현', '아빠')"
      ]
     },
     "execution_count": 35,
     "metadata": {},
     "output_type": "execute_result"
    }
   ],
   "source": [
    "name_tuple=('수현','석현','아빠')\n",
    "name_tuple"
   ]
  },
  {
   "cell_type": "code",
   "execution_count": 36,
   "id": "29e0f5d0-8ce7-4cb0-89aa-75680c871966",
   "metadata": {},
   "outputs": [
    {
     "data": {
      "text/plain": [
       "['수현', '석현', '아빠']"
      ]
     },
     "execution_count": 36,
     "metadata": {},
     "output_type": "execute_result"
    }
   ],
   "source": [
    "name_list=list(name_tuple)\n",
    "name_list"
   ]
  },
  {
   "cell_type": "code",
   "execution_count": 37,
   "id": "6cb71d2f-9a1d-41dd-83a0-3617a0711c85",
   "metadata": {},
   "outputs": [
    {
     "data": {
      "text/plain": [
       "['수현', '석현', '아빠', '엄마']"
      ]
     },
     "execution_count": 37,
     "metadata": {},
     "output_type": "execute_result"
    }
   ],
   "source": [
    "name_list.append('엄마')\n",
    "name_list"
   ]
  },
  {
   "cell_type": "code",
   "execution_count": 38,
   "id": "10f4bec5-659f-4372-8a6a-1e2bd4a52665",
   "metadata": {},
   "outputs": [
    {
     "data": {
      "text/plain": [
       "('수현', '석현', '아빠', '엄마')"
      ]
     },
     "execution_count": 38,
     "metadata": {},
     "output_type": "execute_result"
    }
   ],
   "source": [
    "name_tuple=tuple(name_list)\n",
    "name_tuple"
   ]
  },
  {
   "cell_type": "code",
   "execution_count": 39,
   "id": "1540ecba-d9ea-4246-85c5-4b5f4e91b62e",
   "metadata": {},
   "outputs": [],
   "source": [
    "#__add__ +\n",
    "#__mul__ *"
   ]
  },
  {
   "cell_type": "code",
   "execution_count": 40,
   "id": "8e44e342-9a6f-4c65-b68d-f35d0eb205dc",
   "metadata": {},
   "outputs": [
    {
     "data": {
      "text/plain": [
       "('수현', '석훈', '형진', '지영')"
      ]
     },
     "execution_count": 40,
     "metadata": {},
     "output_type": "execute_result"
    }
   ],
   "source": [
    "name_tuple=('수현','석훈','형진','지영')\n",
    "name_tuple"
   ]
  },
  {
   "cell_type": "code",
   "execution_count": 41,
   "id": "dafe822e-d698-4f7a-879c-6db1c1300719",
   "metadata": {},
   "outputs": [
    {
     "name": "stdout",
     "output_type": "stream",
     "text": [
      "['수현', '석훈', '형진', '지영', '드래곤볼']\n"
     ]
    }
   ],
   "source": [
    "list=['수현','석훈','형진','지영']\n",
    "new_list=list.__add__(['드래곤볼'])\n",
    "\n",
    "print(new_list)"
   ]
  },
  {
   "cell_type": "code",
   "execution_count": 42,
   "id": "a746f607-3711-4db5-b2c2-a846c94e68d9",
   "metadata": {},
   "outputs": [
    {
     "name": "stdout",
     "output_type": "stream",
     "text": [
      "['수현', '석훈', '형진', '지영', '수현', '석훈', '형진', '지영']\n"
     ]
    }
   ],
   "source": [
    "list=['수현','석훈','형진','지영']\n",
    "new_list=list.__mul__(2)\n",
    "\n",
    "print(new_list)"
   ]
  },
  {
   "cell_type": "code",
   "execution_count": 43,
   "id": "991314cb-e373-4954-83de-35c0aadef466",
   "metadata": {},
   "outputs": [
    {
     "data": {
      "text/plain": [
       "(1, 2, 3, 4, 5, 6)"
      ]
     },
     "execution_count": 43,
     "metadata": {},
     "output_type": "execute_result"
    }
   ],
   "source": [
    "t1=(1,2,3)\n",
    "t2=(4,5,6)\n",
    "t1+t2"
   ]
  },
  {
   "cell_type": "code",
   "execution_count": 44,
   "id": "74bb2247-eee5-4398-bf87-712af4f838b6",
   "metadata": {},
   "outputs": [
    {
     "data": {
      "text/plain": [
       "(1, 2, 3, 1, 2, 3)"
      ]
     },
     "execution_count": 44,
     "metadata": {},
     "output_type": "execute_result"
    }
   ],
   "source": [
    "t3=t1*2\n",
    "t3"
   ]
  },
  {
   "cell_type": "code",
   "execution_count": 45,
   "id": "b7fe7c25-4f5f-40e2-8ded-d303d4543f6d",
   "metadata": {},
   "outputs": [
    {
     "data": {
      "text/plain": [
       "1"
      ]
     },
     "execution_count": 45,
     "metadata": {},
     "output_type": "execute_result"
    }
   ],
   "source": [
    "t3[0] "
   ]
  },
  {
   "cell_type": "code",
   "execution_count": 46,
   "id": "67ae75e3-4aea-464c-a0f6-27518269a21d",
   "metadata": {},
   "outputs": [
    {
     "data": {
      "text/plain": [
       "(1, 2, 3)"
      ]
     },
     "execution_count": 46,
     "metadata": {},
     "output_type": "execute_result"
    }
   ],
   "source": [
    "t3[:3]"
   ]
  },
  {
   "cell_type": "code",
   "execution_count": 47,
   "id": "90a50d00-f26d-4147-8190-da40409c9883",
   "metadata": {},
   "outputs": [
    {
     "ename": "TypeError",
     "evalue": "'tuple' object does not support item assignment",
     "output_type": "error",
     "traceback": [
      "\u001b[31m---------------------------------------------------------------------------\u001b[39m",
      "\u001b[31mTypeError\u001b[39m                                 Traceback (most recent call last)",
      "\u001b[36mCell\u001b[39m\u001b[36m \u001b[39m\u001b[32mIn[47]\u001b[39m\u001b[32m, line 1\u001b[39m\n\u001b[32m----> \u001b[39m\u001b[32m1\u001b[39m t3[\u001b[32m0\u001b[39m]=\u001b[32m2\u001b[39m\n",
      "\u001b[31mTypeError\u001b[39m: 'tuple' object does not support item assignment"
     ]
    }
   ],
   "source": [
    "t3[0]=2 #readonly > typerror"
   ]
  },
  {
   "cell_type": "markdown",
   "id": "0a3e409e-829f-4b7e-8c3a-8d32a90396ff",
   "metadata": {},
   "source": [
    "# 집합 (Set)\n",
    "\n",
    "- set( ),{ }\n",
    "- 중복이 안됨, 순서없음, 키 없음\n",
    "- 속도 빠름, 해싱을 하는 자료형 (딕셔너리, 집합)"
   ]
  },
  {
   "cell_type": "code",
   "execution_count": 49,
   "id": "3d3f1907-6807-40c4-9334-eb8ed1125889",
   "metadata": {},
   "outputs": [
    {
     "data": {
      "text/plain": [
       "{1, 2, 3}"
      ]
     },
     "execution_count": 49,
     "metadata": {},
     "output_type": "execute_result"
    }
   ],
   "source": [
    "s=set([1,2,3])\n",
    "s"
   ]
  },
  {
   "cell_type": "code",
   "execution_count": 50,
   "id": "4341a017-b6eb-4982-a6b4-fc678e2efe63",
   "metadata": {},
   "outputs": [
    {
     "data": {
      "text/plain": [
       "{1, 2, 3}"
      ]
     },
     "execution_count": 50,
     "metadata": {},
     "output_type": "execute_result"
    }
   ],
   "source": [
    "s1={1,2,3}\n",
    "s1"
   ]
  },
  {
   "cell_type": "code",
   "execution_count": 51,
   "id": "f10c04bd-f137-4342-8ad9-b0b78656da46",
   "metadata": {},
   "outputs": [
    {
     "data": {
      "text/plain": [
       "{1, 2, 3}"
      ]
     },
     "execution_count": 51,
     "metadata": {},
     "output_type": "execute_result"
    }
   ],
   "source": [
    "s2={1,2,3,1}\n",
    "s2"
   ]
  },
  {
   "cell_type": "code",
   "execution_count": 52,
   "id": "619be1f9-8026-4618-8c3c-bc1a9f17b8e9",
   "metadata": {},
   "outputs": [
    {
     "data": {
      "text/plain": [
       "[1, 2, 3, 1, 2, 3]"
      ]
     },
     "execution_count": 52,
     "metadata": {},
     "output_type": "execute_result"
    }
   ],
   "source": [
    "l2=[1,2,3]\n",
    "l2=l2*2\n",
    "l2"
   ]
  },
  {
   "cell_type": "code",
   "execution_count": 53,
   "id": "619dd480-36c0-4595-8b8c-80b3f2272b8f",
   "metadata": {},
   "outputs": [
    {
     "data": {
      "text/plain": [
       "{1, 2, 3}"
      ]
     },
     "execution_count": 53,
     "metadata": {},
     "output_type": "execute_result"
    }
   ],
   "source": [
    "#Set으로 중복 제거\n",
    "s3=set(l2)\n",
    "s3"
   ]
  },
  {
   "cell_type": "code",
   "execution_count": 54,
   "id": "acd38338-9b72-4ac5-8e99-aad4c5983c62",
   "metadata": {},
   "outputs": [
    {
     "data": {
      "text/plain": [
       "[1, 2, 3, 1, 2, 3, 4, 5, 6]"
      ]
     },
     "execution_count": 54,
     "metadata": {},
     "output_type": "execute_result"
    }
   ],
   "source": [
    "l3=l2+[4,5,6]\n",
    "l3"
   ]
  },
  {
   "cell_type": "code",
   "execution_count": 55,
   "id": "0cf9eba6-a8ab-411e-a769-b40be6801f1e",
   "metadata": {},
   "outputs": [
    {
     "data": {
      "text/plain": [
       "[1, 2, 3, 1, 2, 3, [4, 5, 6]]"
      ]
     },
     "execution_count": 55,
     "metadata": {},
     "output_type": "execute_result"
    }
   ],
   "source": [
    "l2.append([4,5,6])\n",
    "l2"
   ]
  },
  {
   "cell_type": "code",
   "execution_count": 56,
   "id": "6300438a-f18f-45ef-840b-c45d38d8f09b",
   "metadata": {},
   "outputs": [
    {
     "data": {
      "text/plain": [
       "([1, 2, 3, 1, 2, 3, [4, 5, 6]], list)"
      ]
     },
     "execution_count": 56,
     "metadata": {},
     "output_type": "execute_result"
    }
   ],
   "source": [
    "l2,type(l2)"
   ]
  },
  {
   "cell_type": "code",
   "execution_count": 57,
   "id": "0c3927d9-0c93-496b-925d-bb0459c72c7b",
   "metadata": {},
   "outputs": [
    {
     "data": {
      "text/plain": [
       "4601015976649337687"
      ]
     },
     "execution_count": 57,
     "metadata": {},
     "output_type": "execute_result"
    }
   ],
   "source": [
    "hash ('hi') #해시코드 => 해싱 가능한 데어터 문자열"
   ]
  },
  {
   "cell_type": "code",
   "execution_count": 58,
   "id": "e8e5f21f-531f-4609-80ea-b7923bea9eb7",
   "metadata": {},
   "outputs": [
    {
     "data": {
      "text/plain": [
       "123"
      ]
     },
     "execution_count": 58,
     "metadata": {},
     "output_type": "execute_result"
    }
   ],
   "source": [
    "hash(123) #해싱가능: int, float, boolean"
   ]
  },
  {
   "cell_type": "code",
   "execution_count": 59,
   "id": "62c74c57-af8a-4fbc-8ac2-aa289653dca6",
   "metadata": {},
   "outputs": [
    {
     "data": {
      "text/plain": [
       "{123, 'hi'}"
      ]
     },
     "execution_count": 59,
     "metadata": {},
     "output_type": "execute_result"
    }
   ],
   "source": [
    "set(['hi',123]) #해싱으로 바뀐 값을 저장 > 집합 연산"
   ]
  },
  {
   "cell_type": "code",
   "execution_count": 60,
   "id": "93b9aaed-cb59-4049-be47-2f5c7972bdb0",
   "metadata": {},
   "outputs": [
    {
     "ename": "TypeError",
     "evalue": "unhashable type: 'list'",
     "output_type": "error",
     "traceback": [
      "\u001b[31m---------------------------------------------------------------------------\u001b[39m",
      "\u001b[31mTypeError\u001b[39m                                 Traceback (most recent call last)",
      "\u001b[36mCell\u001b[39m\u001b[36m \u001b[39m\u001b[32mIn[60]\u001b[39m\u001b[32m, line 2\u001b[39m\n\u001b[32m      1\u001b[39m l1=[\u001b[32m1\u001b[39m,\u001b[32m2\u001b[39m,\u001b[32m3\u001b[39m]\n\u001b[32m----> \u001b[39m\u001b[32m2\u001b[39m \u001b[38;5;28mhash\u001b[39m(l1)\n",
      "\u001b[31mTypeError\u001b[39m: unhashable type: 'list'"
     ]
    }
   ],
   "source": [
    "l1=[1,2,3]\n",
    "hash(l1)"
   ]
  },
  {
   "cell_type": "code",
   "execution_count": 61,
   "id": "aa2c9b6d-5ea1-4c9c-a401-475b268ca2c7",
   "metadata": {},
   "outputs": [
    {
     "data": {
      "text/plain": [
       "529344067295497451"
      ]
     },
     "execution_count": 61,
     "metadata": {},
     "output_type": "execute_result"
    }
   ],
   "source": [
    "hash((1,2,3))"
   ]
  },
  {
   "cell_type": "code",
   "execution_count": 62,
   "id": "730d3093-f69b-43a6-aa4d-2f911b11be6d",
   "metadata": {},
   "outputs": [
    {
     "ename": "TypeError",
     "evalue": "unhashable type: 'set'",
     "output_type": "error",
     "traceback": [
      "\u001b[31m---------------------------------------------------------------------------\u001b[39m",
      "\u001b[31mTypeError\u001b[39m                                 Traceback (most recent call last)",
      "\u001b[36mCell\u001b[39m\u001b[36m \u001b[39m\u001b[32mIn[62]\u001b[39m\u001b[32m, line 1\u001b[39m\n\u001b[32m----> \u001b[39m\u001b[32m1\u001b[39m \u001b[38;5;28mhash\u001b[39m({\u001b[32m1\u001b[39m,\u001b[32m2\u001b[39m,\u001b[32m3\u001b[39m})\n",
      "\u001b[31mTypeError\u001b[39m: unhashable type: 'set'"
     ]
    }
   ],
   "source": [
    "hash({1,2,3})"
   ]
  },
  {
   "cell_type": "code",
   "execution_count": 63,
   "id": "7980a3ac-29c1-4cc4-98c3-dbd6973d77ae",
   "metadata": {},
   "outputs": [
    {
     "data": {
      "text/plain": [
       "{1, 2, 3}"
      ]
     },
     "execution_count": 63,
     "metadata": {},
     "output_type": "execute_result"
    }
   ],
   "source": [
    "set((1,2,3)) #set: 해싱불가능, 요소는 해싱가능해야함"
   ]
  },
  {
   "cell_type": "markdown",
   "id": "1d07abcd-dd60-4dc1-9b06-2b5047bb93b4",
   "metadata": {},
   "source": [
    "# Set 집합연산\n",
    "\n",
    "- 교집합 &, intersection ( )\n",
    "- 합집합 |, union ( )\n",
    "- 차집합 -, difference ( )"
   ]
  },
  {
   "cell_type": "code",
   "execution_count": null,
   "id": "26699857-d1ed-4b08-b84c-a37f5d51a2dd",
   "metadata": {},
   "outputs": [],
   "source": [
    "s=set([1,2,3,4])\n",
    "x={2,3,4}\n",
    "y={3,4,5}"
   ]
  },
  {
   "cell_type": "code",
   "execution_count": null,
   "id": "0acccf33-a013-43c9-916c-a51e4b41052b",
   "metadata": {},
   "outputs": [],
   "source": [
    "#교집합\n",
    "x&y"
   ]
  },
  {
   "cell_type": "code",
   "execution_count": null,
   "id": "cf7f005c-d376-4005-9df3-f2c48c49f409",
   "metadata": {},
   "outputs": [],
   "source": [
    "x.intersection(y)"
   ]
  },
  {
   "cell_type": "code",
   "execution_count": null,
   "id": "748fb230-e7f5-4fb5-b1dc-bb32d5a5ef07",
   "metadata": {},
   "outputs": [],
   "source": [
    "#합집합\n",
    "x|y"
   ]
  },
  {
   "cell_type": "code",
   "execution_count": null,
   "id": "e627b7f8-fe1d-4185-8f13-6ac943b69d01",
   "metadata": {},
   "outputs": [],
   "source": [
    "#차집합\n",
    "x-y"
   ]
  },
  {
   "cell_type": "code",
   "execution_count": null,
   "id": "ac50dd00-b22b-4c1c-b6dd-be8e9c6c19ab",
   "metadata": {},
   "outputs": [],
   "source": [
    "x.difference(y)"
   ]
  },
  {
   "cell_type": "code",
   "execution_count": null,
   "id": "072967fd-43dd-4bd0-84f5-c4c5f97c7724",
   "metadata": {},
   "outputs": [],
   "source": [
    "dir(x)"
   ]
  },
  {
   "cell_type": "markdown",
   "id": "a3d97e7d-74d8-4e3c-95e4-09705d8abcd2",
   "metadata": {},
   "source": [
    "# 연습"
   ]
  },
  {
   "cell_type": "code",
   "execution_count": null,
   "id": "7fb7eb35-1cf5-47d7-b9a3-f26bb3c5df49",
   "metadata": {},
   "outputs": [],
   "source": [
    "#리스트 numbers가 다음과 같을 때, 첫 번째 원소와 마지막 원소의 합을 구하는 코드를 작성하세요.\n",
    "numbers = [10, 20,  30,  40,  50,  60, 70, 80, 90, 100]\n",
    "\n",
    "#답을 작성하세요.\n",
    "\n",
    "numbers[0]+numbers[-1]"
   ]
  },
  {
   "cell_type": "code",
   "execution_count": null,
   "id": "aa4332d2-5211-4ea2-8586-77bb84ba390e",
   "metadata": {},
   "outputs": [],
   "source": [
    "#리스트 colors가 다음과 같을 때, 첫 3개 원소와 마지막 2개 원소를 슬라이싱을 사용하여 출력하는 코드를 작성하세요.\n",
    "colors = [\"red\", \"green\", \"blue\", \"yellow\", \"purple\", \"orange\", \"black\"]\n",
    "#답을 작성하세요.\n",
    "\n",
    "colors[:3],colors[-2:]"
   ]
  },
  {
   "cell_type": "code",
   "execution_count": null,
   "id": "4f382599-05a5-4958-aad8-ff019004e70e",
   "metadata": {},
   "outputs": [],
   "source": [
    "#다음 리스트에서 \"korean\"이라는 문자열을 찾아 출력하는 코드를 작성하세요. - indexing\n",
    "list_a = [\n",
    "    [1, 2, 3],\n",
    "    [\"red\", \"green\", \"blue\"],\n",
    "    [False, \"korean\", True]\n",
    "]\n",
    "# 답을 작성하세요.\n",
    "\n",
    "list_a[2][1]"
   ]
  },
  {
   "cell_type": "code",
   "execution_count": null,
   "id": "5a4a9ff3-2e85-4b3c-a904-00540de32ecd",
   "metadata": {},
   "outputs": [],
   "source": [
    "for sub in list_a:\n",
    "    for item in sub:\n",
    "        #print(item)\n",
    "        if item =='korean':\n",
    "            print(item)"
   ]
  },
  {
   "cell_type": "code",
   "execution_count": null,
   "id": "600d2809-418c-4519-85d3-0244ce3a2123",
   "metadata": {},
   "outputs": [],
   "source": [
    "# 리스트 list_a과 list_b가 다음과 같을 때, 두 리스트를 합쳐서 새로운 리스트 list_c를 만드는 코드를 작성하세요.\n",
    "list_a = [1, 2, 3]\n",
    "list_b = [4, 5, 6]\n",
    "\n",
    "list_c=list_a+list_b\n",
    "list_c"
   ]
  },
  {
   "cell_type": "code",
   "execution_count": null,
   "id": "29951d36-09e3-4b11-b8ee-ea6b39dad81c",
   "metadata": {},
   "outputs": [],
   "source": [
    "#아래의 튜플 tuple_a에서 \"banana\"를 \"blueberry\"로 변경하는 코드를 작성하세요.\n",
    "tuple_a = (\"apple\", \"banana\", \"cherry\")\n",
    "\n",
    "tem_list=list(tuple_a)\n",
    "tem_list[1]='bluebberry'\n",
    "tuple_a=tuple(tem_list)\n",
    "\n",
    "tuple_a"
   ]
  },
  {
   "cell_type": "code",
   "execution_count": null,
   "id": "35df2142-9b2c-43eb-82df-39d933b943b6",
   "metadata": {},
   "outputs": [],
   "source": [
    "#변수 a, b, c의 값을 사용하여 튜플 tuple_a를 생성하고 출력하는 코드를 작성하세요.\n",
    "a = 5\n",
    "b = 10\n",
    "c = 15\n",
    "\n",
    "tuple_a=(a,b,c)\n",
    "tuple_a"
   ]
  },
  {
   "cell_type": "code",
   "execution_count": null,
   "id": "defcf8c4-a6a7-4565-b7aa-5fff4951dd69",
   "metadata": {},
   "outputs": [],
   "source": [
    "#튜플 numbers가 주어졌을 때, 튜플의 최대값과 최소값을 출력하는 코드를 작성하세요.\n",
    "numbers = (92, 89, 72, 31, 71, 33, 19)\n",
    "\n",
    "print('Max:',max(numbers))\n",
    "print('Min:',min(numbers))"
   ]
  },
  {
   "cell_type": "code",
   "execution_count": null,
   "id": "9f342677-fe49-4a33-996a-ad84b353464d",
   "metadata": {},
   "outputs": [],
   "source": [
    "#튜플 numbers가 주어졌을 때, 튜플의 최대값과 최소값을 출력하는 코드를 작성하세요.\n",
    "numbers = (92, 89, 72, 31, 71, 33, 19)\n",
    "\n",
    "max(numbers), min(numbers)"
   ]
  },
  {
   "cell_type": "code",
   "execution_count": null,
   "id": "1343c72d-7c19-4022-aed4-b00d87054d46",
   "metadata": {},
   "outputs": [],
   "source": [
    "#dict 타입의 student(변수명)를 생성하고, 아래의 키-값 쌍을 추가하는 코드를 작성하세요.\n",
    "student={\n",
    "    \"name\": \"Alice\",\n",
    "    \"age\": 24,\n",
    "    \"major\": \"Computer Science\"\n",
    "}\n",
    "\n",
    "student"
   ]
  },
  {
   "cell_type": "code",
   "execution_count": null,
   "id": "e43628d1-3e9a-47af-830a-920468389ea0",
   "metadata": {},
   "outputs": [],
   "source": [
    "#dict 타입의 student(변수명)를 생성하고, 아래의 키-값 쌍을 추가하는 코드를 작성하세요.\n",
    "student={}\n",
    "student['name']='Alice'\n",
    "student['age']=24\n",
    "student['major']='Computer Science'\n",
    "student"
   ]
  },
  {
   "cell_type": "code",
   "execution_count": null,
   "id": "848f44cc-ec1a-4b9b-8ea1-0e95367af76a",
   "metadata": {},
   "outputs": [],
   "source": [
    "#위에서 생성한 student에서, 모든 키와 값을 출력하는 코드를 작성하세요\n",
    "print(student.items())\n",
    "print(student.keys())\n",
    "print(student.values())"
   ]
  },
  {
   "cell_type": "code",
   "execution_count": null,
   "id": "0c6b49f5-d592-4b5e-ab6c-e9edad4d7a67",
   "metadata": {},
   "outputs": [],
   "source": [
    "for k, v in student.items():\n",
    "    print(f'{k}:{v}')"
   ]
  },
  {
   "cell_type": "code",
   "execution_count": null,
   "id": "1e3254cc-b4ae-4e3a-b8f9-54f634cc967e",
   "metadata": {},
   "outputs": [],
   "source": [
    "for k in student:\n",
    "    print(f'{k}')"
   ]
  },
  {
   "cell_type": "code",
   "execution_count": null,
   "id": "ea5a95a1-f43a-4755-bf16-314e52d2e3ea",
   "metadata": {},
   "outputs": [],
   "source": [
    "#위에서 생성한 student에서, age(나이)를 26으로 변경하세요.\n",
    "\n",
    "student['age']=26\n",
    "student"
   ]
  },
  {
   "cell_type": "code",
   "execution_count": null,
   "id": "76755d3f-ae84-40ba-bd09-967cccbaa81c",
   "metadata": {},
   "outputs": [],
   "source": [
    "#다음 딕셔너리 students에서 name의 값을 리스트(name_list)로, age의 값을 튜플(age_tuple) 만드는 코드를 작성하세요\n",
    "students = {\n",
    "    \"student1\": {\"name\": \"Alice\", \"age\": 24},\n",
    "    \"student2\": {\"name\": \"Bob\", \"age\": 22},\n",
    "    \"student3\": {\"name\": \"Charlie\", \"age\": 23}\n",
    "}"
   ]
  },
  {
   "cell_type": "code",
   "execution_count": null,
   "id": "9253a327-d739-4343-b5df-d9894319844e",
   "metadata": {},
   "outputs": [],
   "source": [
    "name_list=[]\n",
    "age_list=[]\n",
    "\n",
    "for key in students.keys():\n",
    "    stu=students[key]\n",
    "    name_list.append(stu['name'])\n",
    "    age_list.append(stu['age'])\n",
    "\n",
    "age_tuple=tuple(age_list)\n",
    "name_list, age_tuple"
   ]
  }
 ],
 "metadata": {
  "kernelspec": {
   "display_name": "Python 3 (ipykernel)",
   "language": "python",
   "name": "python3"
  },
  "language_info": {
   "codemirror_mode": {
    "name": "ipython",
    "version": 3
   },
   "file_extension": ".py",
   "mimetype": "text/x-python",
   "name": "python",
   "nbconvert_exporter": "python",
   "pygments_lexer": "ipython3",
   "version": "3.12.9"
  }
 },
 "nbformat": 4,
 "nbformat_minor": 5
}
