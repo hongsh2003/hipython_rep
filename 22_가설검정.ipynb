{
 "cells": [
  {
   "cell_type": "markdown",
   "id": "7e41d297",
   "metadata": {},
   "source": [
    "# 가설검정 단계"
   ]
  },
  {
   "cell_type": "markdown",
   "id": "52c6a4b9",
   "metadata": {},
   "source": [
    "대한민국 남성의 평균 몸무게는 70kg이다"
   ]
  },
  {
   "cell_type": "code",
   "execution_count": 5,
   "id": "86d4c328",
   "metadata": {},
   "outputs": [],
   "source": [
    "import numpy as np\n",
    "import pandas as pd\n",
    "import matplotlib.pyplot as plt\n",
    "import scipy.stats as stats\n",
    "%matplotlib inline\n",
    "plt.rc('figure', figsize=(10, 6))\n",
    "from matplotlib import rcParams\n",
    "rcParams['font.family'] = 'New Gulim'\n",
    "rcParams['font.size'] = 10\n",
    "rcParams['axes.unicode_minus'] = False"
   ]
  },
  {
   "cell_type": "code",
   "execution_count": 10,
   "id": "a981a1f3",
   "metadata": {},
   "outputs": [
    {
     "name": "stdout",
     "output_type": "stream",
     "text": [
      "평균: 70.08573280308887\n",
      "p-value: 0.953913826658112\n",
      "검정결과: 귀무가설 채택\n",
      "대한민국 남성의 평균 몸무게는 70kg이다\n"
     ]
    }
   ],
   "source": [
    "# 1. 가설수립\n",
    "    # H0: 대한민국 남성의 평균 몸무게는 70kg이다 (차이가 없다)\n",
    "    # H1: 대한민국 남성의 평균 몸무게는 70kg이 아니다 \n",
    "    \n",
    "# 2. 통계량 산출 - 데이터 수집\n",
    "np.random.seed(123)\n",
    "weight = np.random.uniform(40, 100, 100)\n",
    "# weight\n",
    "\n",
    "test_result = stats.ttest_1samp(weight, 70)\n",
    "print(f'평균: {np.mean(weight)}')\n",
    "print(f'p-value: {test_result.pvalue}')\n",
    "\n",
    "# 3. 기각/채택여부 판단\n",
    "print(f'검정결과: {'귀무가설 기각' if test_result.pvalue < 0.05 else '귀무가설 채택'}')\n",
    "\n",
    "# 4. 결정\n",
    "if test_result.pvalue < 0.05:\n",
    "    print('대한민국 남성의 평균 몸무게는 70kg이 아니다')\n",
    "else:\n",
    "    print('대한민국 남성의 평균 몸무게는 70kg이다')"
   ]
  },
  {
   "cell_type": "markdown",
   "id": "686568e9",
   "metadata": {},
   "source": [
    "### 예제 1: 평균 비교 - 일표본(단표본) t검정\n",
    "\n",
    "**문제:** 하루 커피 섭취량이 평균 2.5잔이라고 알려져 있다. 실제 설문조사에서 2.8잔이 나왔다. 과연 차이가 통계적으로 유의한가?"
   ]
  },
  {
   "cell_type": "code",
   "execution_count": 19,
   "id": "a27584ba",
   "metadata": {},
   "outputs": [
    {
     "name": "stdout",
     "output_type": "stream",
     "text": [
      "t값 = 7.031, p값 = 0.000\n",
      "2.5잔과 유의한 차이가 있다\n"
     ]
    }
   ],
   "source": [
    "# 예제 1: 평균 비교 - 일표본(단표본) t검정\n",
    "# 표본 데이터 (30명)\n",
    "coffee_data = [2.9, 2.4, 2.7, 3.0, 2.6, 2.8, 2.9, 3.1, 2.7, 2.6,\n",
    "               2.8, 2.5, 3.2, 3.0, 2.4, 2.6, 2.7, 3.1, 2.8, 2.7,\n",
    "               2.5, 2.9, 2.6, 2.8, 2.9, 2.5, 2.7, 2.8, 3.0, 2.9]\n",
    "\n",
    "# 단일표본 t-검정\n",
    "t_stat, p_value = stats.ttest_1samp(coffee_data, popmean=2.5)\n",
    "\n",
    "print(f\"t값 = {t_stat:.3f}, p값 = {p_value:.3f}\")\n",
    "\n",
    "if p_value < 0.05:\n",
    "    print('2.5잔과 유의한 차이가 있다')\n",
    "else:\n",
    "    print('2.5잔과 유의한 차이가 없다')"
   ]
  },
  {
   "cell_type": "markdown",
   "id": "d287616f",
   "metadata": {},
   "source": [
    "t값=7.031은 표본과 모집단 평균 간 차이가 표준오차의 7배라는 통계량 -> 표본의 평균이 모집단 평균 2.5에서 7*표준오차 만큼 떨어져 있다 -> 매우 큰 차이를 보인다.\n",
    "\n",
    "이 통계량은 p-value<0.05 이므로 통계적으로 유의한 차이가 있다고 할 수 있습니다."
   ]
  },
  {
   "cell_type": "markdown",
   "id": "b23250d3",
   "metadata": {},
   "source": [
    "### 예제 2: 두 그룹 비교 - 이표본(독립표본) t검정\n",
    "\n",
    "**문제:** A와 B 수업의 시험 평균 점수가 차이가 있는가?"
   ]
  },
  {
   "cell_type": "code",
   "execution_count": 18,
   "id": "778760d2",
   "metadata": {},
   "outputs": [
    {
     "name": "stdout",
     "output_type": "stream",
     "text": [
      "t값 = 5.331, p값 = 0.000\n",
      "A와 B 두 수업간에 유의한 점수 차이가 있다\n"
     ]
    }
   ],
   "source": [
    "# 예제 2: 두 그룹 비교 - 이표본(독립표본) t검정\n",
    "group_A = [78, 85, 82, 88, 76, 81, 79, 84, 82, 80]\n",
    "group_B = [72, 75, 78, 74, 71, 77, 70, 76, 75, 73]\n",
    "\n",
    "t_stat, p_value = stats.ttest_ind(group_A, group_B, equal_var=False)\n",
    "print(f\"t값 = {t_stat:.3f}, p값 = {p_value:.3f}\")\n",
    "\n",
    "if p_value < 0.05:\n",
    "    print('A와 B 두 수업간에 유의한 점수 차이가 있다')\n",
    "else:\n",
    "    print('A와 B 두 수업간에 유의한 점수 차이가 없다')"
   ]
  },
  {
   "cell_type": "markdown",
   "id": "8506026f",
   "metadata": {},
   "source": [
    "H0: A와 B 두 수업간에 유의한 점수 차이가 없다\\\n",
    "H1: A와 B 두 수업간에 유의한 점수 차이가 있다\n",
    "\n",
    "통계량: 5.331, 표준오차의 5배 정도 차이가 난다\\\n",
    "유의확률: 0.00 < 0.05\n",
    "\n",
    "귀무가설을 기각/채택: 기각\\\n",
    "결론: 두 그룹의 평균은 유의미하게 차이가 있다"
   ]
  },
  {
   "cell_type": "markdown",
   "id": "f3630d3d",
   "metadata": {},
   "source": [
    "### 예제 3: 전후의 비교 -  대응 표본 T 검정 "
   ]
  },
  {
   "cell_type": "code",
   "execution_count": 20,
   "id": "39641186",
   "metadata": {},
   "outputs": [
    {
     "name": "stdout",
     "output_type": "stream",
     "text": [
      "t값 = 25.327, p값 = 0.000\n"
     ]
    }
   ],
   "source": [
    "# 대응 표본 t-검정 예제: 약물 투여 전후 혈압 비교\n",
    "before = [120, 122, 143, 130, 135, 118, 127, 140, 132, 125]\n",
    "after = [115, 117, 138, 125, 129, 112, 120, 135, 126, 119]\n",
    "\n",
    "t_stat, p_value = stats.ttest_rel(before, after)\n",
    "print(f\"t값 = {t_stat:.3f}, p값 = {p_value:.3f}\")"
   ]
  },
  {
   "cell_type": "markdown",
   "id": "6e4cacfa",
   "metadata": {},
   "source": [
    "H0: 약물 투여 전과 후에 혈압의 차이가 없다\\\n",
    "H1: 약물 투여 전과 후에 혈압의 차이가 있다\n",
    "\n",
    "통계량: 25.327, 표준오차의 25배 정도 차이가 난다\\\n",
    "유의확률: 0.00 < 0.05\n",
    "\n",
    "귀무가설을 기각/채택: 기각\\\n",
    "결론: 약물 투여 전과 후에 혈압의 차이가 있다"
   ]
  },
  {
   "cell_type": "markdown",
   "id": "7e559e5f",
   "metadata": {},
   "source": [
    "### 예제 4: 범주형 변수 - 카이제곱 검정\n",
    "\n",
    "**문제:** 성별에 따라 커피를 더 선호하는지?"
   ]
  },
  {
   "cell_type": "code",
   "execution_count": 23,
   "id": "d7b27f63",
   "metadata": {},
   "outputs": [
    {
     "name": "stdout",
     "output_type": "stream",
     "text": [
      "chi2 = 3.857, p값 = 0.0495346134\n"
     ]
    }
   ],
   "source": [
    "# 문제: 성별에 따라 커피를 더 선호하는지?\n",
    "import numpy as np\n",
    "obs = np.array([[40, 10],  # 남자 (좋아함, 안좋아함) 교차표\n",
    "                [30, 20]]) # 여자\n",
    "\n",
    "chi2, p, dof, expected = stats.chi2_contingency(obs)\n",
    "print(f\"chi2 = {chi2:.3f}, p값 = {p:.10f}\")"
   ]
  }
 ],
 "metadata": {
  "kernelspec": {
   "display_name": "hipython",
   "language": "python",
   "name": "python3"
  },
  "language_info": {
   "codemirror_mode": {
    "name": "ipython",
    "version": 3
   },
   "file_extension": ".py",
   "mimetype": "text/x-python",
   "name": "python",
   "nbconvert_exporter": "python",
   "pygments_lexer": "ipython3",
   "version": "3.12.9"
  }
 },
 "nbformat": 4,
 "nbformat_minor": 5
}
