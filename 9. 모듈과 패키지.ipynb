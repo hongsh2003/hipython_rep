{
 "cells": [
  {
   "cell_type": "markdown",
   "id": "2926e03b-0fc4-4098-8329-e8033dee8bfa",
   "metadata": {},
   "source": [
    "모듈은 파이썬 파일이다. 확장자가 '.py'여야 한다."
   ]
  },
  {
   "cell_type": "code",
   "execution_count": 2,
   "id": "7f73b86d-d442-4536-8cc5-43762c6fdfb8",
   "metadata": {},
   "outputs": [
    {
     "name": "stdout",
     "output_type": "stream",
     "text": [
      "hello\n"
     ]
    }
   ],
   "source": [
    "import first\n",
    "\n",
    "first.my_func()"
   ]
  },
  {
   "cell_type": "code",
   "execution_count": 5,
   "id": "8e93d891-fea4-466f-b2fd-24ead7cdf407",
   "metadata": {},
   "outputs": [
    {
     "name": "stdout",
     "output_type": "stream",
     "text": [
      "2nd hello\n"
     ]
    }
   ],
   "source": [
    "first.my_func1()"
   ]
  },
  {
   "cell_type": "code",
   "execution_count": 1,
   "id": "5ee037ad-0d4e-4c25-b3cf-0b06d998195c",
   "metadata": {},
   "outputs": [
    {
     "name": "stdout",
     "output_type": "stream",
     "text": [
      "First module입니다\n",
      "the end...\n",
      "hello\n"
     ]
    }
   ],
   "source": [
    "import first as f\n",
    "f.my_func()"
   ]
  },
  {
   "cell_type": "code",
   "execution_count": 18,
   "id": "91389f88-ff1f-4464-a2dd-18587f1af3e0",
   "metadata": {},
   "outputs": [
    {
     "name": "stdout",
     "output_type": "stream",
     "text": [
      "2nd hello\n"
     ]
    }
   ],
   "source": [
    "f.my_func1()"
   ]
  },
  {
   "cell_type": "code",
   "execution_count": 21,
   "id": "8a2667c1-57f4-42f0-a852-efdccb21ad08",
   "metadata": {},
   "outputs": [
    {
     "data": {
      "text/plain": [
       "['__annotations__',\n",
       " '__builtins__',\n",
       " '__call__',\n",
       " '__class__',\n",
       " '__closure__',\n",
       " '__code__',\n",
       " '__defaults__',\n",
       " '__delattr__',\n",
       " '__dict__',\n",
       " '__dir__',\n",
       " '__doc__',\n",
       " '__eq__',\n",
       " '__format__',\n",
       " '__ge__',\n",
       " '__get__',\n",
       " '__getattribute__',\n",
       " '__getstate__',\n",
       " '__globals__',\n",
       " '__gt__',\n",
       " '__hash__',\n",
       " '__init__',\n",
       " '__init_subclass__',\n",
       " '__kwdefaults__',\n",
       " '__le__',\n",
       " '__lt__',\n",
       " '__module__',\n",
       " '__name__',\n",
       " '__ne__',\n",
       " '__new__',\n",
       " '__qualname__',\n",
       " '__reduce__',\n",
       " '__reduce_ex__',\n",
       " '__repr__',\n",
       " '__setattr__',\n",
       " '__sizeof__',\n",
       " '__str__',\n",
       " '__subclasshook__',\n",
       " '__type_params__']"
      ]
     },
     "execution_count": 21,
     "metadata": {},
     "output_type": "execute_result"
    }
   ],
   "source": [
    "dir(my_func)"
   ]
  },
  {
   "cell_type": "code",
   "execution_count": 17,
   "id": "e9acbef7-9d95-4f66-bd5a-7e52b4e7e244",
   "metadata": {},
   "outputs": [
    {
     "name": "stdout",
     "output_type": "stream",
     "text": [
      "First module입니다\n",
      "the end...\n"
     ]
    }
   ],
   "source": [
    "import my_first_package.second"
   ]
  },
  {
   "cell_type": "markdown",
   "id": "00d045e9-6d30-46d8-a589-b4ce2c9f0d4b",
   "metadata": {},
   "source": [
    "# 모듈의 실행 vs 모듈의 import 구분\n",
    "\n",
    "- 모듈 단독 실행시에만 호출되는 코드 <br>\n",
    "if__name__=='__main__':<br>\n",
    "    실행함수<br>\n",
    "else:<br>\n",
    "    변수설정<br>\n",
    "\n",
    "- import 할 때는 실행되지 않는다"
   ]
  },
  {
   "cell_type": "markdown",
   "id": "ae28c921-9bb0-4b28-b252-ba0f8752d2e0",
   "metadata": {},
   "source": [
    "# 패키지: 모듈의 묶음\n",
    "\n",
    "윈도우, 리눅스: 디렉토리/폴더\n",
    "\n",
    "import 폴더명.모듈명"
   ]
  },
  {
   "cell_type": "code",
   "execution_count": 4,
   "id": "f54b6cee-cf72-4730-9b1a-d6f0aa9f4aef",
   "metadata": {},
   "outputs": [
    {
     "ename": "ModuleNotFoundError",
     "evalue": "No module named 'magic_calc'",
     "output_type": "error",
     "traceback": [
      "\u001b[31m---------------------------------------------------------------------------\u001b[39m",
      "\u001b[31mModuleNotFoundError\u001b[39m                       Traceback (most recent call last)",
      "\u001b[36mCell\u001b[39m\u001b[36m \u001b[39m\u001b[32mIn[4]\u001b[39m\u001b[32m, line 2\u001b[39m\n\u001b[32m      1\u001b[39m \u001b[38;5;66;03m#방법1\u001b[39;00m\n\u001b[32m----> \u001b[39m\u001b[32m2\u001b[39m \u001b[38;5;28;01mimport\u001b[39;00m\u001b[38;5;250m \u001b[39m\u001b[34;01mmagic_calc\u001b[39;00m\n\u001b[32m      4\u001b[39m result_add = magic_calc.basic_ops.add(\u001b[32m10\u001b[39m,\u001b[32m5\u001b[39m)\n\u001b[32m      5\u001b[39m \u001b[38;5;28mprint\u001b[39m(result_add)\n",
      "\u001b[31mModuleNotFoundError\u001b[39m: No module named 'magic_calc'"
     ]
    }
   ],
   "source": [
    "#방법1\n",
    "import magic_calc\n",
    "\n",
    "result_add = magic_calc.basic_ops.add(10,5)\n",
    "print(result_add)"
   ]
  },
  {
   "cell_type": "code",
   "execution_count": null,
   "id": "467d1195-7ad4-4b12-87fe-97721897a541",
   "metadata": {},
   "outputs": [],
   "source": []
  }
 ],
 "metadata": {
  "kernelspec": {
   "display_name": "Python 3 (ipykernel)",
   "language": "python",
   "name": "python3"
  },
  "language_info": {
   "codemirror_mode": {
    "name": "ipython",
    "version": 3
   },
   "file_extension": ".py",
   "mimetype": "text/x-python",
   "name": "python",
   "nbconvert_exporter": "python",
   "pygments_lexer": "ipython3",
   "version": "3.12.9"
  }
 },
 "nbformat": 4,
 "nbformat_minor": 5
}
