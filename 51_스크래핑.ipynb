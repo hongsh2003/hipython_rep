{
 "cells": [
  {
   "cell_type": "code",
   "execution_count": 1,
   "id": "a0642988",
   "metadata": {},
   "outputs": [],
   "source": [
    "import requests"
   ]
  },
  {
   "cell_type": "code",
   "execution_count": 2,
   "id": "895cf2f5",
   "metadata": {},
   "outputs": [
    {
     "name": "stdout",
     "output_type": "stream",
     "text": [
      "c:\\githome\\hipython_rep\n",
      "c:\\githome\\hipython_rep\\sample.html\n"
     ]
    }
   ],
   "source": [
    "import os\n",
    "print(os.getcwd())\n",
    "print(os.path.abspath('sample.html')) # path"
   ]
  },
  {
   "cell_type": "code",
   "execution_count": 3,
   "id": "116553ce",
   "metadata": {},
   "outputs": [],
   "source": [
    "import urllib.request"
   ]
  },
  {
   "cell_type": "code",
   "execution_count": 4,
   "id": "50f9b923",
   "metadata": {},
   "outputs": [
    {
     "data": {
      "text/plain": [
       "'<!DOCTYPE html>\\r\\n<html lang=\"en\">\\r\\n<head>\\r\\n    <meta charset=\"UTF-8\">\\r\\n    <meta name=\"viewport\" con'"
      ]
     },
     "execution_count": 4,
     "metadata": {},
     "output_type": "execute_result"
    }
   ],
   "source": [
    "# 파일의 절대경로\n",
    "abs_path = os.path.abspath('html/sample.html')\n",
    "\n",
    "url_path = 'file:///' + abs_path\n",
    "\n",
    "with urllib.request.urlopen(url_path) as f: \n",
    "    html = f.read().decode('utf-8')\n",
    "    \n",
    "html[:100]"
   ]
  },
  {
   "cell_type": "code",
   "execution_count": 5,
   "id": "0e465d6e",
   "metadata": {},
   "outputs": [
    {
     "name": "stdout",
     "output_type": "stream",
     "text": [
      "200\n",
      "<!DOCTYPE html>\n",
      "<html lang=\"en\">\n",
      "<head>\n",
      "    <meta charset=\"UTF-8\">\n",
      "    <meta name=\"viewport\" content=\"width=device-width, initial-scale=1.0\">\n",
      "    <title>Hello LG U+ SWBootCamp</title>\n",
      "        <title>Document</title>\n",
      "    <!-- Code injected by live-server -->\n",
      "<script>\n",
      "\t// <![CDATA[  <-- For SVG support\n",
      "\tif ('WebSocket' in window) {\n",
      "\t\t(function () {\n",
      "\t\t\tfunction refreshCSS() {\n",
      "\t\t\t\tvar sheets = [].slice.call(document.getElementsByTagName(\"link\"));\n",
      "\t\t\t\tvar head = document.getElementsByTagName(\"head\")[0];\n",
      "\t\t\t\tfor (var i = 0; i < sheets.length; ++i) {\n",
      "\t\t\t\t\tvar elem = sheets[i];\n",
      "\t\t\t\t\tvar parent = elem.parentElement || head;\n",
      "\t\t\t\t\tparent.removeChild(elem);\n",
      "\t\t\t\t\tvar rel = elem.rel;\n",
      "\t\t\t\t\tif (elem.href && typeof rel != \"string\" || rel.length == 0 || rel.toLowerCase() == \"stylesheet\") {\n",
      "\t\t\t\t\t\tvar url = elem.href.replace(/(&|\\?)_cacheOverride=\\d+/, '');\n",
      "\t\t\t\t\t\telem.href = url + (url.indexOf('?') >= 0 ? '&' : '?') + '_cacheOverride=' + (new Date().valueOf());\n",
      "\t\t\t\t\t}\n",
      "\t\t\t\t\tparent.appendChild(elem);\n",
      "\t\t\t\t}\n",
      "\t\t\t}\n",
      "\t\t\tvar protocol = window.location.protocol === 'http:' ? 'ws://' : 'wss://';\n",
      "\t\t\tvar address = protocol + window.location.host + window.location.pathname + '/ws';\n",
      "\t\t\tvar socket = new WebSocket(address);\n",
      "\t\t\tsocket.onmessage = function (msg) {\n",
      "\t\t\t\tif (msg.data == 'reload') window.location.reload();\n",
      "\t\t\t\telse if (msg.data == 'refreshcss') refreshCSS();\n",
      "\t\t\t};\n",
      "\t\t\tif (sessionStorage && !sessionStorage.getItem('IsThisFirstTime_Log_From_LiveServer')) {\n",
      "\t\t\t\tconsole.log('Live reload enabled.');\n",
      "\t\t\t\tsessionStorage.setItem('IsThisFirstTime_Log_From_LiveServer', true);\n",
      "\t\t\t}\n",
      "\t\t})();\n",
      "\t}\n",
      "\telse {\n",
      "\t\tconsole.error('Upgrade your browser. This Browser is NOT supported WebSocket for Live-Reloading.');\n",
      "\t}\n",
      "\t// ]]>\n",
      "</script>\n",
      "</head>\n",
      "    <body>\n",
      "        <h1>Hello scrapping</h1>\n",
      "        <div id= 'subject'>선택자</div>\n",
      "        <div class= 'content'>\n",
      "            선택자가 중요합니다. 잘 찾아주세요\n",
      "            <span> 다른 <b>요소가 나올수도</b>있습니다</span>\n",
      "        </div>\n",
      "        <div>CSS 선택자에는 요소 선택자, 클래스 선택자, ID 선택자가 있습니다 </div>\n"
     ]
    }
   ],
   "source": [
    "res = requests.get('http://localhost:5500/html/sample.html')\n",
    "print(res.status_code)\n",
    "print(res.text)"
   ]
  },
  {
   "cell_type": "code",
   "execution_count": 6,
   "id": "c73a9ccf",
   "metadata": {},
   "outputs": [
    {
     "data": {
      "text/plain": [
       "<!DOCTYPE html>\n",
       "\n",
       "<html lang=\"en\">\n",
       "<head>\n",
       "<meta charset=\"utf-8\"/>\n",
       "<meta content=\"width=device-width, initial-scale=1.0\" name=\"viewport\"/>\n",
       "<title>Hello LG U+ SWBootCamp</title>\n",
       "<title>Document</title>\n",
       "<!-- Code injected by live-server -->\n",
       "<script>\n",
       "\t// <![CDATA[  <-- For SVG support\n",
       "\tif ('WebSocket' in window) {\n",
       "\t\t(function () {\n",
       "\t\t\tfunction refreshCSS() {\n",
       "\t\t\t\tvar sheets = [].slice.call(document.getElementsByTagName(\"link\"));\n",
       "\t\t\t\tvar head = document.getElementsByTagName(\"head\")[0];\n",
       "\t\t\t\tfor (var i = 0; i < sheets.length; ++i) {\n",
       "\t\t\t\t\tvar elem = sheets[i];\n",
       "\t\t\t\t\tvar parent = elem.parentElement || head;\n",
       "\t\t\t\t\tparent.removeChild(elem);\n",
       "\t\t\t\t\tvar rel = elem.rel;\n",
       "\t\t\t\t\tif (elem.href && typeof rel != \"string\" || rel.length == 0 || rel.toLowerCase() == \"stylesheet\") {\n",
       "\t\t\t\t\t\tvar url = elem.href.replace(/(&|\\?)_cacheOverride=\\d+/, '');\n",
       "\t\t\t\t\t\telem.href = url + (url.indexOf('?') >= 0 ? '&' : '?') + '_cacheOverride=' + (new Date().valueOf());\n",
       "\t\t\t\t\t}\n",
       "\t\t\t\t\tparent.appendChild(elem);\n",
       "\t\t\t\t}\n",
       "\t\t\t}\n",
       "\t\t\tvar protocol = window.location.protocol === 'http:' ? 'ws://' : 'wss://';\n",
       "\t\t\tvar address = protocol + window.location.host + window.location.pathname + '/ws';\n",
       "\t\t\tvar socket = new WebSocket(address);\n",
       "\t\t\tsocket.onmessage = function (msg) {\n",
       "\t\t\t\tif (msg.data == 'reload') window.location.reload();\n",
       "\t\t\t\telse if (msg.data == 'refreshcss') refreshCSS();\n",
       "\t\t\t};\n",
       "\t\t\tif (sessionStorage && !sessionStorage.getItem('IsThisFirstTime_Log_From_LiveServer')) {\n",
       "\t\t\t\tconsole.log('Live reload enabled.');\n",
       "\t\t\t\tsessionStorage.setItem('IsThisFirstTime_Log_From_LiveServer', true);\n",
       "\t\t\t}\n",
       "\t\t})();\n",
       "\t}\n",
       "\telse {\n",
       "\t\tconsole.error('Upgrade your browser. This Browser is NOT supported WebSocket for Live-Reloading.');\n",
       "\t}\n",
       "\t// ]]>\n",
       "</script>\n",
       "</head>\n",
       "<body>\n",
       "<h1>Hello scrapping</h1>\n",
       "<div id=\"subject\">선택자</div>\n",
       "<div class=\"content\">\n",
       "            선택자가 중요합니다. 잘 찾아주세요\n",
       "            <span> 다른 <b>요소가 나올수도</b>있습니다</span>\n",
       "</div>\n",
       "<div>CSS 선택자에는 요소 선택자, 클래스 선택자, ID 선택자가 있습니다 </div></body></html>"
      ]
     },
     "execution_count": 6,
     "metadata": {},
     "output_type": "execute_result"
    }
   ],
   "source": [
    "from bs4 import BeautifulSoup\n",
    "soup = BeautifulSoup(res.text, 'html.parser') # 파서\n",
    "soup"
   ]
  },
  {
   "cell_type": "code",
   "execution_count": 7,
   "id": "6ca82492",
   "metadata": {},
   "outputs": [
    {
     "data": {
      "text/plain": [
       "[<div id=\"subject\">선택자</div>,\n",
       " <div class=\"content\">\n",
       "             선택자가 중요합니다. 잘 찾아주세요\n",
       "             <span> 다른 <b>요소가 나올수도</b>있습니다</span>\n",
       " </div>,\n",
       " <div>CSS 선택자에는 요소 선택자, 클래스 선택자, ID 선택자가 있습니다 </div>]"
      ]
     },
     "execution_count": 7,
     "metadata": {},
     "output_type": "execute_result"
    }
   ],
   "source": [
    "soup.select('div', class_ = 'contents')"
   ]
  },
  {
   "cell_type": "code",
   "execution_count": 8,
   "id": "c70f4fba",
   "metadata": {},
   "outputs": [
    {
     "data": {
      "text/plain": [
       "[<div id=\"subject\">선택자</div>,\n",
       " <div class=\"content\">\n",
       "             선택자가 중요합니다. 잘 찾아주세요\n",
       "             <span> 다른 <b>요소가 나올수도</b>있습니다</span>\n",
       " </div>,\n",
       " <div>CSS 선택자에는 요소 선택자, 클래스 선택자, ID 선택자가 있습니다 </div>]"
      ]
     },
     "execution_count": 8,
     "metadata": {},
     "output_type": "execute_result"
    }
   ],
   "source": [
    "soup.select('div', id_ = 'subject')"
   ]
  },
  {
   "cell_type": "code",
   "execution_count": 9,
   "id": "87829303",
   "metadata": {},
   "outputs": [
    {
     "data": {
      "text/plain": [
       "[<span> 다른 <b>요소가 나올수도</b>있습니다</span>]"
      ]
     },
     "execution_count": 9,
     "metadata": {},
     "output_type": "execute_result"
    }
   ],
   "source": [
    "soup.select('span')"
   ]
  },
  {
   "cell_type": "code",
   "execution_count": 10,
   "id": "84cb1ddc",
   "metadata": {},
   "outputs": [
    {
     "data": {
      "text/plain": [
       "[<b>요소가 나올수도</b>]"
      ]
     },
     "execution_count": 10,
     "metadata": {},
     "output_type": "execute_result"
    }
   ],
   "source": [
    "soup.select('b')"
   ]
  },
  {
   "cell_type": "code",
   "execution_count": 11,
   "id": "c6ca2016",
   "metadata": {},
   "outputs": [
    {
     "data": {
      "text/plain": [
       "[<title>Hello LG U+ SWBootCamp</title>, <title>Document</title>]"
      ]
     },
     "execution_count": 11,
     "metadata": {},
     "output_type": "execute_result"
    }
   ],
   "source": [
    "soup.select('title')"
   ]
  },
  {
   "cell_type": "code",
   "execution_count": 12,
   "id": "fa9e29da",
   "metadata": {},
   "outputs": [
    {
     "data": {
      "text/plain": [
       "[<h1>Hello scrapping</h1>]"
      ]
     },
     "execution_count": 12,
     "metadata": {},
     "output_type": "execute_result"
    }
   ],
   "source": [
    "soup.select('h1')"
   ]
  },
  {
   "cell_type": "code",
   "execution_count": 13,
   "id": "31818d87",
   "metadata": {},
   "outputs": [
    {
     "data": {
      "text/plain": [
       "[<div class=\"content\">\n",
       "             선택자가 중요합니다. 잘 찾아주세요\n",
       "             <span> 다른 <b>요소가 나올수도</b>있습니다</span>\n",
       " </div>]"
      ]
     },
     "execution_count": 13,
     "metadata": {},
     "output_type": "execute_result"
    }
   ],
   "source": [
    "soup.select('div.content') # class 선택자 . , id 선택자 #"
   ]
  },
  {
   "cell_type": "code",
   "execution_count": 14,
   "id": "c1b048e9",
   "metadata": {},
   "outputs": [
    {
     "data": {
      "text/plain": [
       "[<div id=\"subject\">선택자</div>]"
      ]
     },
     "execution_count": 14,
     "metadata": {},
     "output_type": "execute_result"
    }
   ],
   "source": [
    "soup.select('#subject')"
   ]
  },
  {
   "cell_type": "code",
   "execution_count": 15,
   "id": "e9c4a397",
   "metadata": {},
   "outputs": [
    {
     "data": {
      "text/plain": [
       "[<div id=\"subject\">선택자</div>,\n",
       " <div class=\"content\">\n",
       "             선택자가 중요합니다. 잘 찾아주세요\n",
       "             <span> 다른 <b>요소가 나올수도</b>있습니다</span>\n",
       " </div>,\n",
       " <div>CSS 선택자에는 요소 선택자, 클래스 선택자, ID 선택자가 있습니다 </div>]"
      ]
     },
     "execution_count": 15,
     "metadata": {},
     "output_type": "execute_result"
    }
   ],
   "source": [
    "soup.select('div')"
   ]
  },
  {
   "cell_type": "code",
   "execution_count": 16,
   "id": "6112ec27",
   "metadata": {},
   "outputs": [
    {
     "data": {
      "text/plain": [
       "<div id=\"subject\">선택자</div>"
      ]
     },
     "execution_count": 16,
     "metadata": {},
     "output_type": "execute_result"
    }
   ],
   "source": [
    "soup.select_one('div')"
   ]
  },
  {
   "cell_type": "markdown",
   "id": "40dc8eb8",
   "metadata": {},
   "source": [
    "# 네이버 환율 정보 가져오기"
   ]
  },
  {
   "cell_type": "code",
   "execution_count": 17,
   "id": "b5a120b4",
   "metadata": {},
   "outputs": [],
   "source": [
    "url = 'https://finance.naver.com/marketindex/'\n",
    "m_index = requests.get(url)"
   ]
  },
  {
   "cell_type": "code",
   "execution_count": null,
   "id": "06e0d402",
   "metadata": {},
   "outputs": [
    {
     "name": "stdout",
     "output_type": "stream",
     "text": [
      "1,378.50\n"
     ]
    }
   ],
   "source": [
    "if m_index.status_code == 200:\n",
    "    soup = BeautifulSoup(m_index.content, 'html.parser') # soup이 가지고 있는건 페이지 전체\n",
    "    price = soup.select_one('span.value') # span 태그 목록 중에서 1번째\n",
    "    print(price.text)"
   ]
  },
  {
   "cell_type": "markdown",
   "id": "a624d286",
   "metadata": {},
   "source": [
    "#exchangeList > li.on > a.head.usd > div > span.value\\\n",
    "#worldExchangeList > li.on > a.head.jpy_usd > div > span.value"
   ]
  },
  {
   "cell_type": "code",
   "execution_count": 24,
   "id": "65a286da",
   "metadata": {},
   "outputs": [
    {
     "name": "stdout",
     "output_type": "stream",
     "text": [
      "1,378.50\n"
     ]
    }
   ],
   "source": [
    "if m_index.status_code == 200:\n",
    "    soup = BeautifulSoup(m_index.content, 'html.parser') # soup이 가지고 있는건 페이지 전체\n",
    "    us_price = soup.select_one('a.head.usd > div > span.value') \n",
    "    print(us_price.text)"
   ]
  },
  {
   "cell_type": "code",
   "execution_count": 25,
   "id": "601f70ad",
   "metadata": {},
   "outputs": [
    {
     "name": "stdout",
     "output_type": "stream",
     "text": [
      "146.7900\n"
     ]
    }
   ],
   "source": [
    "if m_index.status_code == 200:\n",
    "    soup = BeautifulSoup(m_index.content, 'html.parser') # soup이 가지고 있는건 페이지 전체\n",
    "    jp_price = soup.select_one('a.head.jpy_usd > div > span.value') \n",
    "    print(jp_price.text)"
   ]
  },
  {
   "cell_type": "markdown",
   "id": "c99311d8",
   "metadata": {},
   "source": [
    "# basic.html을 읽어서 셀럭터로 꺼내기"
   ]
  },
  {
   "cell_type": "code",
   "execution_count": 27,
   "id": "c5b47f94",
   "metadata": {},
   "outputs": [
    {
     "name": "stdout",
     "output_type": "stream",
     "text": [
      "200\n",
      "<!DOCTYPE html>\n",
      "<html>\n",
      "  <head>\n",
      "    <meta charset=\"UTF-8\" />\n",
      "    <meta name=\"viewport\" content=\"width=device-width, initial-scale=1.0\" />\n",
      "    <title>문서의 제목</title>\n",
      "    <link rel=\"styleshee\" href=\"default.css\" />\n",
      "    <style type=\"text/css\">\n",
      "      /* css 스타일 지정 */\n",
      "    </style>\n",
      "    <script type=\"text/javascript\">\n",
      "      //자바스크립트 코드\n",
      "    </script>\n",
      "  </head>\n",
      "  <body>\n",
      "    <!-- 주석 -->\n",
      "    본문의 내용...\n",
      "  <!-- Code injected by live-server -->\n",
      "<script>\n",
      "\t// <![CDATA[  <-- For SVG support\n",
      "\tif ('WebSocket' in window) {\n",
      "\t\t(function () {\n",
      "\t\t\tfunction refreshCSS() {\n",
      "\t\t\t\tvar sheets = [].slice.call(document.getElementsByTagName(\"link\"));\n",
      "\t\t\t\tvar head = document.getElementsByTagName(\"head\")[0];\n",
      "\t\t\t\tfor (var i = 0; i < sheets.length; ++i) {\n",
      "\t\t\t\t\tvar elem = sheets[i];\n",
      "\t\t\t\t\tvar parent = elem.parentElement || head;\n",
      "\t\t\t\t\tparent.removeChild(elem);\n",
      "\t\t\t\t\tvar rel = elem.rel;\n",
      "\t\t\t\t\tif (elem.href && typeof rel != \"string\" || rel.length == 0 || rel.toLowerCase() == \"stylesheet\") {\n",
      "\t\t\t\t\t\tvar url = elem.href.replace(/(&|\\?)_cacheOverride=\\d+/, '');\n",
      "\t\t\t\t\t\telem.href = url + (url.indexOf('?') >= 0 ? '&' : '?') + '_cacheOverride=' + (new Date().valueOf());\n",
      "\t\t\t\t\t}\n",
      "\t\t\t\t\tparent.appendChild(elem);\n",
      "\t\t\t\t}\n",
      "\t\t\t}\n",
      "\t\t\tvar protocol = window.location.protocol === 'http:' ? 'ws://' : 'wss://';\n",
      "\t\t\tvar address = protocol + window.location.host + window.location.pathname + '/ws';\n",
      "\t\t\tvar socket = new WebSocket(address);\n",
      "\t\t\tsocket.onmessage = function (msg) {\n",
      "\t\t\t\tif (msg.data == 'reload') window.location.reload();\n",
      "\t\t\t\telse if (msg.data == 'refreshcss') refreshCSS();\n",
      "\t\t\t};\n",
      "\t\t\tif (sessionStorage && !sessionStorage.getItem('IsThisFirstTime_Log_From_LiveServer')) {\n",
      "\t\t\t\tconsole.log('Live reload enabled.');\n",
      "\t\t\t\tsessionStorage.setItem('IsThisFirstTime_Log_From_LiveServer', true);\n",
      "\t\t\t}\n",
      "\t\t})();\n",
      "\t}\n",
      "\telse {\n",
      "\t\tconsole.error('Upgrade your browser. This Browser is NOT supported WebSocket for Live-Reloading.');\n",
      "\t}\n",
      "\t// ]]>\n",
      "</script>\n",
      "</body>\n",
      "</html>\n"
     ]
    }
   ],
   "source": [
    "res1 = requests.get('http://localhost:5500/html/basic.html')\n",
    "print(res1.status_code)\n",
    "print(res1.text)"
   ]
  },
  {
   "cell_type": "code",
   "execution_count": 28,
   "id": "188d86f7",
   "metadata": {},
   "outputs": [
    {
     "data": {
      "text/plain": [
       "<!DOCTYPE html>\n",
       "\n",
       "<html>\n",
       "<head>\n",
       "<meta charset=\"utf-8\"/>\n",
       "<meta content=\"width=device-width, initial-scale=1.0\" name=\"viewport\"/>\n",
       "<title>문서의 제목</title>\n",
       "<link href=\"default.css\" rel=\"styleshee\"/>\n",
       "<style type=\"text/css\">\n",
       "      /* css 스타일 지정 */\n",
       "    </style>\n",
       "<script type=\"text/javascript\">\n",
       "      //자바스크립트 코드\n",
       "    </script>\n",
       "</head>\n",
       "<body>\n",
       "<!-- 주석 -->\n",
       "    본문의 내용...\n",
       "  <!-- Code injected by live-server -->\n",
       "<script>\n",
       "\t// <![CDATA[  <-- For SVG support\n",
       "\tif ('WebSocket' in window) {\n",
       "\t\t(function () {\n",
       "\t\t\tfunction refreshCSS() {\n",
       "\t\t\t\tvar sheets = [].slice.call(document.getElementsByTagName(\"link\"));\n",
       "\t\t\t\tvar head = document.getElementsByTagName(\"head\")[0];\n",
       "\t\t\t\tfor (var i = 0; i < sheets.length; ++i) {\n",
       "\t\t\t\t\tvar elem = sheets[i];\n",
       "\t\t\t\t\tvar parent = elem.parentElement || head;\n",
       "\t\t\t\t\tparent.removeChild(elem);\n",
       "\t\t\t\t\tvar rel = elem.rel;\n",
       "\t\t\t\t\tif (elem.href && typeof rel != \"string\" || rel.length == 0 || rel.toLowerCase() == \"stylesheet\") {\n",
       "\t\t\t\t\t\tvar url = elem.href.replace(/(&|\\?)_cacheOverride=\\d+/, '');\n",
       "\t\t\t\t\t\telem.href = url + (url.indexOf('?') >= 0 ? '&' : '?') + '_cacheOverride=' + (new Date().valueOf());\n",
       "\t\t\t\t\t}\n",
       "\t\t\t\t\tparent.appendChild(elem);\n",
       "\t\t\t\t}\n",
       "\t\t\t}\n",
       "\t\t\tvar protocol = window.location.protocol === 'http:' ? 'ws://' : 'wss://';\n",
       "\t\t\tvar address = protocol + window.location.host + window.location.pathname + '/ws';\n",
       "\t\t\tvar socket = new WebSocket(address);\n",
       "\t\t\tsocket.onmessage = function (msg) {\n",
       "\t\t\t\tif (msg.data == 'reload') window.location.reload();\n",
       "\t\t\t\telse if (msg.data == 'refreshcss') refreshCSS();\n",
       "\t\t\t};\n",
       "\t\t\tif (sessionStorage && !sessionStorage.getItem('IsThisFirstTime_Log_From_LiveServer')) {\n",
       "\t\t\t\tconsole.log('Live reload enabled.');\n",
       "\t\t\t\tsessionStorage.setItem('IsThisFirstTime_Log_From_LiveServer', true);\n",
       "\t\t\t}\n",
       "\t\t})();\n",
       "\t}\n",
       "\telse {\n",
       "\t\tconsole.error('Upgrade your browser. This Browser is NOT supported WebSocket for Live-Reloading.');\n",
       "\t}\n",
       "\t// ]]>\n",
       "</script>\n",
       "</body>\n",
       "</html>"
      ]
     },
     "execution_count": 28,
     "metadata": {},
     "output_type": "execute_result"
    }
   ],
   "source": [
    "from bs4 import BeautifulSoup\n",
    "soup1 = BeautifulSoup(res1.text, 'html.parser') # 파서\n",
    "soup1"
   ]
  },
  {
   "cell_type": "code",
   "execution_count": 31,
   "id": "6b29ebb8",
   "metadata": {},
   "outputs": [
    {
     "data": {
      "text/plain": [
       "[<style type=\"text/css\">\n",
       "       /* css 스타일 지정 */\n",
       "     </style>]"
      ]
     },
     "execution_count": 31,
     "metadata": {},
     "output_type": "execute_result"
    }
   ],
   "source": [
    "soup1.select('style')"
   ]
  },
  {
   "cell_type": "code",
   "execution_count": 37,
   "id": "9708ea3f",
   "metadata": {},
   "outputs": [
    {
     "name": "stdout",
     "output_type": "stream",
     "text": [
      "\n",
      "      /* css 스타일 지정 */\n",
      "    \n"
     ]
    }
   ],
   "source": [
    "if m_index.status_code == 200:\n",
    "    soup1 = BeautifulSoup(res1.content, 'html.parser') # soup이 가지고 있는건 페이지 전체\n",
    "    style_tag = soup1.select_one('style') \n",
    "    print(style_tag.text)"
   ]
  },
  {
   "cell_type": "code",
   "execution_count": null,
   "id": "025c6745",
   "metadata": {},
   "outputs": [],
   "source": []
  }
 ],
 "metadata": {
  "kernelspec": {
   "display_name": "webcrawl_env",
   "language": "python",
   "name": "python3"
  },
  "language_info": {
   "codemirror_mode": {
    "name": "ipython",
    "version": 3
   },
   "file_extension": ".py",
   "mimetype": "text/x-python",
   "name": "python",
   "nbconvert_exporter": "python",
   "pygments_lexer": "ipython3",
   "version": "3.10.18"
  }
 },
 "nbformat": 4,
 "nbformat_minor": 5
}
