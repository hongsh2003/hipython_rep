{
 "cells": [
  {
   "cell_type": "code",
   "execution_count": 1,
   "id": "9d7ed6f7",
   "metadata": {},
   "outputs": [],
   "source": [
    "html = \"\"\"\n",
    "<html>\n",
    "<head><title>HTML Sample</title>\n",
    "</head>\n",
    "<body>\n",
    "    <h1>Hello CSS</h1>\n",
    "    <div id=\"subject\">선택자</div>\n",
    "    <div class=\"contents\">선택자를 어떻게 작성하느냐에 따라\n",
    "      <span>다른 <b>요소가 반환</b></span> 됩니다.</div>\n",
    "    <div>CSS 선택자는 다양한 곳에서 <b>활용</b>됩니다.</div>\n",
    "</body>\n",
    "</html>\n",
    "\"\"\""
   ]
  },
  {
   "cell_type": "code",
   "execution_count": 2,
   "id": "33102206",
   "metadata": {},
   "outputs": [
    {
     "data": {
      "text/plain": [
       "'\\n<html>\\n<head><title>HTML Sample</title>\\n</head>\\n<body>\\n    <h1>Hello CSS</h1>\\n    <div id=\"subject\">선택자</div>\\n    <div class=\"contents\">선택자를 어떻게 작성하느냐에 따라\\n      <span>다른 <b>요소가 반환</b></span> 됩니다.</div>\\n    <div>CSS 선택자는 다양한 곳에서 <b>활용</b>됩니다.</div>\\n</body>\\n</html>\\n'"
      ]
     },
     "execution_count": 2,
     "metadata": {},
     "output_type": "execute_result"
    }
   ],
   "source": [
    "html"
   ]
  },
  {
   "cell_type": "code",
   "execution_count": 3,
   "id": "a49dede7",
   "metadata": {},
   "outputs": [],
   "source": [
    "from bs4 import BeautifulSoup\n",
    "soup = BeautifulSoup(html, 'html.parser')"
   ]
  },
  {
   "cell_type": "code",
   "execution_count": 6,
   "id": "e030d961",
   "metadata": {},
   "outputs": [
    {
     "data": {
      "text/plain": [
       "'Hello CSS'"
      ]
     },
     "execution_count": 6,
     "metadata": {},
     "output_type": "execute_result"
    }
   ],
   "source": [
    "el = soup.select_one('h1')\n",
    "el.text"
   ]
  },
  {
   "cell_type": "code",
   "execution_count": 7,
   "id": "ea55f7ac",
   "metadata": {},
   "outputs": [
    {
     "data": {
      "text/plain": [
       "[<div id=\"subject\">선택자</div>,\n",
       " <div class=\"contents\">선택자를 어떻게 작성하느냐에 따라\n",
       "       <span>다른 <b>요소가 반환</b></span> 됩니다.</div>,\n",
       " <div>CSS 선택자는 다양한 곳에서 <b>활용</b>됩니다.</div>]"
      ]
     },
     "execution_count": 7,
     "metadata": {},
     "output_type": "execute_result"
    }
   ],
   "source": [
    "div_el = soup.select('div')\n",
    "div_el"
   ]
  },
  {
   "cell_type": "code",
   "execution_count": 9,
   "id": "50669023",
   "metadata": {},
   "outputs": [
    {
     "data": {
      "text/plain": [
       "[<span>다른 <b>요소가 반환</b></span>]"
      ]
     },
     "execution_count": 9,
     "metadata": {},
     "output_type": "execute_result"
    }
   ],
   "source": [
    "soup.select('hi, span')"
   ]
  },
  {
   "cell_type": "code",
   "execution_count": null,
   "id": "f212e727",
   "metadata": {},
   "outputs": [
    {
     "data": {
      "text/plain": [
       "<b>요소가 반환</b>"
      ]
     },
     "execution_count": 13,
     "metadata": {},
     "output_type": "execute_result"
    }
   ],
   "source": [
    "# div > span > b\n",
    "soup.select_one('div b') # 후손"
   ]
  },
  {
   "cell_type": "code",
   "execution_count": null,
   "id": "41b0a7ce",
   "metadata": {},
   "outputs": [
    {
     "data": {
      "text/plain": [
       "<b>활용</b>"
      ]
     },
     "execution_count": 14,
     "metadata": {},
     "output_type": "execute_result"
    }
   ],
   "source": [
    "soup.select_one('div > b') # 직계"
   ]
  },
  {
   "cell_type": "code",
   "execution_count": null,
   "id": "2ee74601",
   "metadata": {},
   "outputs": [
    {
     "data": {
      "text/plain": [
       "[<div class=\"contents\">선택자를 어떻게 작성하느냐에 따라\n",
       "       <span>다른 <b>요소가 반환</b></span> 됩니다.</div>]"
      ]
     },
     "execution_count": 16,
     "metadata": {},
     "output_type": "execute_result"
    }
   ],
   "source": [
    "soup.select('.contents') # .은 class => 클래스 선택자"
   ]
  },
  {
   "cell_type": "code",
   "execution_count": 17,
   "id": "ef0c5bbc",
   "metadata": {},
   "outputs": [
    {
     "data": {
      "text/plain": [
       "[<div id=\"subject\">선택자</div>]"
      ]
     },
     "execution_count": 17,
     "metadata": {},
     "output_type": "execute_result"
    }
   ],
   "source": [
    "# 아이디선택자\n",
    "soup.select('#subject') # #은 ID"
   ]
  },
  {
   "cell_type": "code",
   "execution_count": 18,
   "id": "b7aee644",
   "metadata": {},
   "outputs": [
    {
     "data": {
      "text/plain": [
       "[<div id=\"subject\">선택자</div>]"
      ]
     },
     "execution_count": 18,
     "metadata": {},
     "output_type": "execute_result"
    }
   ],
   "source": [
    "# 속성 선택자\n",
    "soup.select('[id = subject]')"
   ]
  },
  {
   "cell_type": "code",
   "execution_count": 19,
   "id": "ac457b39",
   "metadata": {},
   "outputs": [
    {
     "data": {
      "text/plain": [
       "[<div class=\"contents\">선택자를 어떻게 작성하느냐에 따라\n",
       "       <span>다른 <b>요소가 반환</b></span> 됩니다.</div>]"
      ]
     },
     "execution_count": 19,
     "metadata": {},
     "output_type": "execute_result"
    }
   ],
   "source": [
    "# 속성 선택자\n",
    "soup.select('[class = contents]')"
   ]
  },
  {
   "cell_type": "markdown",
   "id": "50909bd1",
   "metadata": {},
   "source": [
    "exchangeList => li.on => a.head.usd => div => span.value\n",
    "\n",
    "worldExchangeList => li.on => a.head.jpy_usd => div => span.value"
   ]
  },
  {
   "cell_type": "markdown",
   "id": "a5b50d82",
   "metadata": {},
   "source": [
    "# 정규 표현식"
   ]
  },
  {
   "cell_type": "markdown",
   "id": "3cd9e23c",
   "metadata": {},
   "source": [
    "f-string\\\n",
    "f'dddd{code}'\\\n",
    "r-string"
   ]
  },
  {
   "cell_type": "code",
   "execution_count": 20,
   "id": "2512532c",
   "metadata": {},
   "outputs": [
    {
     "name": "stdout",
     "output_type": "stream",
     "text": [
      "123\n"
     ]
    }
   ],
   "source": [
    "import re\n",
    "pattern = re.compile(r'\\d+')  # 숫자이면서 1개 이상 반복되는 것\n",
    "match = pattern.match('123abc')\n",
    "if match:\n",
    "    print(match.group())  "
   ]
  },
  {
   "cell_type": "code",
   "execution_count": 21,
   "id": "d81504fb",
   "metadata": {},
   "outputs": [],
   "source": [
    "import re\n",
    "\n",
    "# 1. 전화번호 추출\n",
    "string = 'hello grovy04@gmail.com 010-222-3333 world 02-5678-9988'"
   ]
  },
  {
   "cell_type": "code",
   "execution_count": 24,
   "id": "fdc3024e",
   "metadata": {},
   "outputs": [
    {
     "data": {
      "text/plain": [
       "['010-222-3333', '02-5678-9988']"
      ]
     },
     "execution_count": 24,
     "metadata": {},
     "output_type": "execute_result"
    }
   ],
   "source": [
    "# 2. 패턴 정하기\n",
    "# d는 숫자 찾기, {이상, 이하} 반복횟수 지정\n",
    "pattern = re.compile(r'\\d{2,3}-\\d{3,4}-\\d{4}') # Capital D는 숫자가 아니다, Small d는 숫자이다 라는 뜻\n",
    "match_list = pattern.findall(string) # 처음부터 찾기\n",
    "match_list"
   ]
  },
  {
   "cell_type": "code",
   "execution_count": 25,
   "id": "4c4da27d",
   "metadata": {},
   "outputs": [
    {
     "data": {
      "text/plain": [
       "['grovy04@gmail.com']"
      ]
     },
     "execution_count": 25,
     "metadata": {},
     "output_type": "execute_result"
    }
   ],
   "source": [
    "# 이메일 패턴\n",
    "email_pattern = re.compile(r'[a-zA-Z0-9._%+-]+@[a-zA-Z0-9.-]+\\.[a-zA-Z]{2,}') \n",
    "email_pattern = email_pattern.findall(string)\n",
    "email_pattern"
   ]
  },
  {
   "cell_type": "code",
   "execution_count": 30,
   "id": "c32aab37",
   "metadata": {},
   "outputs": [
    {
     "data": {
      "text/plain": [
       "'abc***def***'"
      ]
     },
     "execution_count": 30,
     "metadata": {},
     "output_type": "execute_result"
    }
   ],
   "source": [
    "string2 = 'abc123def456'\n",
    "result = re.compile(r'\\d+') # 하나 이상 찾으려면 + add하기\n",
    "#result.findall(string2)\n",
    "result.sub('***', string2)"
   ]
  },
  {
   "cell_type": "markdown",
   "id": "880e1136",
   "metadata": {},
   "source": [
    "# Selenium"
   ]
  },
  {
   "cell_type": "code",
   "execution_count": 31,
   "id": "ec41a5a8",
   "metadata": {},
   "outputs": [
    {
     "name": "stdout",
     "output_type": "stream",
     "text": [
      "4.34.2\n"
     ]
    }
   ],
   "source": [
    "import selenium\n",
    "print(selenium.__version__)"
   ]
  },
  {
   "cell_type": "code",
   "execution_count": 33,
   "id": "5ff6b6f0",
   "metadata": {},
   "outputs": [],
   "source": [
    "from selenium import webdriver\n",
    "\n",
    "driver = webdriver.Chrome()\n",
    "driver.get('https://www.python.org/')"
   ]
  },
  {
   "cell_type": "code",
   "execution_count": 34,
   "id": "bf254f73",
   "metadata": {},
   "outputs": [],
   "source": [
    "driver.close()"
   ]
  }
 ],
 "metadata": {
  "kernelspec": {
   "display_name": "webcrawl_env",
   "language": "python",
   "name": "python3"
  },
  "language_info": {
   "codemirror_mode": {
    "name": "ipython",
    "version": 3
   },
   "file_extension": ".py",
   "mimetype": "text/x-python",
   "name": "python",
   "nbconvert_exporter": "python",
   "pygments_lexer": "ipython3",
   "version": "3.10.18"
  }
 },
 "nbformat": 4,
 "nbformat_minor": 5
}
