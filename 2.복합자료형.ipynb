{
 "cells": [
  {
   "cell_type": "markdown",
   "id": "74e7b93b-f5fc-4f81-9150-d3170a3095e6",
   "metadata": {},
   "source": [
    "# 복합자료 리스트\n",
    "\n",
    "여러개의 값을 묶어서 하나의 변수로 다루는 자료형\n",
    "\n",
    "생성법\n",
    "1. [] 대괄호 사용\n",
    "2. 데이터는 , 쉼표로 구분\n",
    "3. [] 빈 대괄호는 초기화\n",
    "4. 숫자, 문자, 부울, 리스트, 같은 객체 모두를 담을 수 있음\n",
    "5. 순서 index를 가진다 0시작\n",
    "6. 음수 인덱스도 가진다"
   ]
  },
  {
   "cell_type": "code",
   "execution_count": 1,
   "id": "a152b41e-6484-41b4-8732-c72e46765cd9",
   "metadata": {},
   "outputs": [
    {
     "data": {
      "text/plain": [
       "30"
      ]
     },
     "execution_count": 1,
     "metadata": {},
     "output_type": "execute_result"
    }
   ],
   "source": [
    "score=[30,50,90,80,100]\n",
    "score[0] #첫번재 학생의 점수"
   ]
  },
  {
   "cell_type": "code",
   "execution_count": 2,
   "id": "597b130b-a39b-43fa-927a-3d4f47ad453d",
   "metadata": {},
   "outputs": [
    {
     "data": {
      "text/plain": [
       "(list, int)"
      ]
     },
     "execution_count": 2,
     "metadata": {},
     "output_type": "execute_result"
    }
   ],
   "source": [
    "type(score), type(score[0])"
   ]
  },
  {
   "cell_type": "code",
   "execution_count": 1,
   "id": "1fb5d8b6-0b7b-469d-840e-27de0291c64f",
   "metadata": {},
   "outputs": [
    {
     "data": {
      "text/plain": [
       "['__add__',\n",
       " '__class__',\n",
       " '__class_getitem__',\n",
       " '__contains__',\n",
       " '__delattr__',\n",
       " '__delitem__',\n",
       " '__dir__',\n",
       " '__doc__',\n",
       " '__eq__',\n",
       " '__format__',\n",
       " '__ge__',\n",
       " '__getattribute__',\n",
       " '__getitem__',\n",
       " '__getstate__',\n",
       " '__gt__',\n",
       " '__hash__',\n",
       " '__iadd__',\n",
       " '__imul__',\n",
       " '__init__',\n",
       " '__init_subclass__',\n",
       " '__iter__',\n",
       " '__le__',\n",
       " '__len__',\n",
       " '__lt__',\n",
       " '__mul__',\n",
       " '__ne__',\n",
       " '__new__',\n",
       " '__reduce__',\n",
       " '__reduce_ex__',\n",
       " '__repr__',\n",
       " '__reversed__',\n",
       " '__rmul__',\n",
       " '__setattr__',\n",
       " '__setitem__',\n",
       " '__sizeof__',\n",
       " '__str__',\n",
       " '__subclasshook__',\n",
       " 'append',\n",
       " 'clear',\n",
       " 'copy',\n",
       " 'count',\n",
       " 'extend',\n",
       " 'index',\n",
       " 'insert',\n",
       " 'pop',\n",
       " 'remove',\n",
       " 'reverse',\n",
       " 'sort']"
      ]
     },
     "execution_count": 1,
     "metadata": {},
     "output_type": "execute_result"
    }
   ],
   "source": [
    "dir(list)"
   ]
  },
  {
   "cell_type": "code",
   "execution_count": 2,
   "id": "f7f5e6fd-ee4c-4562-bad2-11e0460bd607",
   "metadata": {},
   "outputs": [
    {
     "ename": "NameError",
     "evalue": "name 'score' is not defined",
     "output_type": "error",
     "traceback": [
      "\u001b[31m---------------------------------------------------------------------------\u001b[39m",
      "\u001b[31mNameError\u001b[39m                                 Traceback (most recent call last)",
      "\u001b[36mCell\u001b[39m\u001b[36m \u001b[39m\u001b[32mIn[2]\u001b[39m\u001b[32m, line 1\u001b[39m\n\u001b[32m----> \u001b[39m\u001b[32m1\u001b[39m \u001b[38;5;28mdir\u001b[39m(score)\n",
      "\u001b[31mNameError\u001b[39m: name 'score' is not defined"
     ]
    }
   ],
   "source": [
    "dir(score)"
   ]
  },
  {
   "cell_type": "code",
   "execution_count": 9,
   "id": "631b95da-44f9-42c8-a444-4e6e76c0c16f",
   "metadata": {},
   "outputs": [],
   "source": [
    "ra=range(2,20,2) #숫자의 배열 만들어줌"
   ]
  },
  {
   "cell_type": "code",
   "execution_count": 10,
   "id": "3846e280-7450-4cb9-b5db-bddaf7223fb9",
   "metadata": {},
   "outputs": [
    {
     "data": {
      "text/plain": [
       "[2, 4, 6, 8, 10, 12, 14, 16, 18]"
      ]
     },
     "execution_count": 10,
     "metadata": {},
     "output_type": "execute_result"
    }
   ],
   "source": [
    "num_list=list(ra) #생성자\n",
    "num_list"
   ]
  },
  {
   "cell_type": "code",
   "execution_count": 11,
   "id": "87e9bc01-ca56-409a-90a4-9a63dc9f2a00",
   "metadata": {},
   "outputs": [
    {
     "data": {
      "text/plain": [
       "18"
      ]
     },
     "execution_count": 11,
     "metadata": {},
     "output_type": "execute_result"
    }
   ],
   "source": [
    "num_list[-1]"
   ]
  },
  {
   "cell_type": "code",
   "execution_count": 12,
   "id": "4f5f096b-66a3-4994-bef7-541ce0b9a816",
   "metadata": {},
   "outputs": [
    {
     "data": {
      "text/plain": [
       "9"
      ]
     },
     "execution_count": 12,
     "metadata": {},
     "output_type": "execute_result"
    }
   ],
   "source": [
    "ra.__len__() #Method"
   ]
  },
  {
   "cell_type": "code",
   "execution_count": 13,
   "id": "64c066d5-2059-4f51-945e-ce861ff44065",
   "metadata": {},
   "outputs": [
    {
     "data": {
      "text/plain": [
       "1"
      ]
     },
     "execution_count": 13,
     "metadata": {},
     "output_type": "execute_result"
    }
   ],
   "source": [
    "num_list.count(2)"
   ]
  },
  {
   "cell_type": "markdown",
   "id": "7f9b89a6-93e4-4e43-846f-e8c51f8d1b34",
   "metadata": {},
   "source": [
    "Method와 Function\n",
    "\n",
    "1. Method: 객체의 한해서 동작하는 함수 > 객체명.함수( )\n",
    "2. Function: 함수(매개변수) > 매개변수로 동작하는 함수\n",
    "\n",
    "dir( ) > Function\n",
    "list_obj.__len__( ) > Method"
   ]
  },
  {
   "cell_type": "code",
   "execution_count": 16,
   "id": "f99a95dc-2a3f-46d0-9a83-ef7ad26e8d6c",
   "metadata": {},
   "outputs": [
    {
     "ename": "TypeError",
     "evalue": "'str' object does not support item assignment",
     "output_type": "error",
     "traceback": [
      "\u001b[31m---------------------------------------------------------------------------\u001b[39m",
      "\u001b[31mTypeError\u001b[39m                                 Traceback (most recent call last)",
      "\u001b[36mCell\u001b[39m\u001b[36m \u001b[39m\u001b[32mIn[16]\u001b[39m\u001b[32m, line 2\u001b[39m\n\u001b[32m      1\u001b[39m str_1=\u001b[33m'\u001b[39m\u001b[33mhello\u001b[39m\u001b[33m'\u001b[39m\n\u001b[32m----> \u001b[39m\u001b[32m2\u001b[39m str_1[\u001b[32m0\u001b[39m] = \u001b[33m'\u001b[39m\u001b[33mH\u001b[39m\u001b[33m'\u001b[39m\n",
      "\u001b[31mTypeError\u001b[39m: 'str' object does not support item assignment"
     ]
    }
   ],
   "source": [
    "str_1='hello'\n",
    "str_1[0] = 'H' #Type error"
   ]
  },
  {
   "cell_type": "code",
   "execution_count": 18,
   "id": "6c990010-a3da-46ba-bf8f-8bae2a7834ff",
   "metadata": {},
   "outputs": [
    {
     "data": {
      "text/plain": [
       "['H', 'e', 'l', 'l', 'o']"
      ]
     },
     "execution_count": 18,
     "metadata": {},
     "output_type": "execute_result"
    }
   ],
   "source": [
    "str_2=list(str_1) #문자열 > 문자열리스트\n",
    "str_2[0]='H'\n",
    "str_2"
   ]
  },
  {
   "cell_type": "code",
   "execution_count": 19,
   "id": "1b66e12c-d5a3-41f5-a607-c9aecc30caa0",
   "metadata": {},
   "outputs": [
    {
     "data": {
      "text/plain": [
       "\"['H', 'e', 'l', 'l', 'o']\""
      ]
     },
     "execution_count": 19,
     "metadata": {},
     "output_type": "execute_result"
    }
   ],
   "source": [
    "str(str_2)"
   ]
  },
  {
   "cell_type": "code",
   "execution_count": 23,
   "id": "74b653c8-ec98-440f-aa21-86a7b4a5af83",
   "metadata": {},
   "outputs": [
    {
     "data": {
      "text/plain": [
       "'Hello'"
      ]
     },
     "execution_count": 23,
     "metadata": {},
     "output_type": "execute_result"
    }
   ],
   "source": [
    "\"\".join(['H', 'e', 'l', 'l', 'o'])"
   ]
  },
  {
   "cell_type": "code",
   "execution_count": 22,
   "id": "5cf93393-8ca2-471d-996a-d0b16fa23b30",
   "metadata": {},
   "outputs": [
    {
     "data": {
      "text/plain": [
       "'Hello'"
      ]
     },
     "execution_count": 22,
     "metadata": {},
     "output_type": "execute_result"
    }
   ],
   "source": [
    "\"\".join(str_2)"
   ]
  },
  {
   "cell_type": "code",
   "execution_count": 26,
   "id": "6b8427bc-f26c-4bd5-8d97-f1eea10ffb1b",
   "metadata": {},
   "outputs": [
    {
     "data": {
      "text/plain": [
       "[['aaa', 'bbb', 'ccc'], [1, 2, 'aaa', 'bbb']]"
      ]
     },
     "execution_count": 26,
     "metadata": {},
     "output_type": "execute_result"
    }
   ],
   "source": [
    "#리스트의 생성\n",
    "a=list()\n",
    "a=[]\n",
    "b=[1,2,3,4,5]\n",
    "c=['aaa','bbb','ccc']\n",
    "d=[1,2,'aaa','bbb']\n",
    "e=[c,d]\n",
    "e"
   ]
  },
  {
   "cell_type": "code",
   "execution_count": 28,
   "id": "ac88b7ce-7e61-4435-9d76-d6d7277dd1d3",
   "metadata": {},
   "outputs": [
    {
     "data": {
      "text/plain": [
       "(['aaa', 'bbb', 'ccc'], list)"
      ]
     },
     "execution_count": 28,
     "metadata": {},
     "output_type": "execute_result"
    }
   ],
   "source": [
    "e[0], type(e[0])"
   ]
  },
  {
   "cell_type": "code",
   "execution_count": 29,
   "id": "d9b0473c-1be4-40d6-bf00-30506ce9e5e9",
   "metadata": {},
   "outputs": [
    {
     "data": {
      "text/plain": [
       "([1, 2, 'aaa', 'bbb'], [1, 2, 'aaa', 'bbb'])"
      ]
     },
     "execution_count": 29,
     "metadata": {},
     "output_type": "execute_result"
    }
   ],
   "source": [
    "e[1], e[-1]"
   ]
  },
  {
   "cell_type": "code",
   "execution_count": 31,
   "id": "877d82cc-a423-49d8-b2ad-6b874d6ec62d",
   "metadata": {},
   "outputs": [
    {
     "data": {
      "text/plain": [
       "('aaa', [['aaa', 'bbb', 'ccc']])"
      ]
     },
     "execution_count": 31,
     "metadata": {},
     "output_type": "execute_result"
    }
   ],
   "source": [
    "e[1][2], e[0:1]"
   ]
  },
  {
   "cell_type": "code",
   "execution_count": 32,
   "id": "aa31aff1-48b1-48bf-b9e2-a0d25c27d4f9",
   "metadata": {},
   "outputs": [
    {
     "data": {
      "text/plain": [
       "[1, 2]"
      ]
     },
     "execution_count": 32,
     "metadata": {},
     "output_type": "execute_result"
    }
   ],
   "source": [
    "e[1][:2]"
   ]
  },
  {
   "cell_type": "code",
   "execution_count": 37,
   "id": "43d3a73a-e6c7-4632-a2a4-b80fcf007988",
   "metadata": {},
   "outputs": [
    {
     "data": {
      "text/plain": [
       "'bbb'"
      ]
     },
     "execution_count": 37,
     "metadata": {},
     "output_type": "execute_result"
    }
   ],
   "source": [
    "e[1][3]"
   ]
  },
  {
   "cell_type": "code",
   "execution_count": 42,
   "id": "d3552826-2324-417c-b1a4-1ac424eac788",
   "metadata": {},
   "outputs": [
    {
     "data": {
      "text/plain": [
       "'ccc'"
      ]
     },
     "execution_count": 42,
     "metadata": {},
     "output_type": "execute_result"
    }
   ],
   "source": [
    "e[0][2]"
   ]
  },
  {
   "cell_type": "code",
   "execution_count": 43,
   "id": "9c56ae6b-bb45-42b9-a5b5-d916a72b7203",
   "metadata": {},
   "outputs": [
    {
     "data": {
      "text/plain": [
       "[[1, 2], [3, 4]]"
      ]
     },
     "execution_count": 43,
     "metadata": {},
     "output_type": "execute_result"
    }
   ],
   "source": [
    "score=[[1,2],[3,4]]\n",
    "score"
   ]
  },
  {
   "cell_type": "markdown",
   "id": "7d9f86b4-843a-49f0-af09-079aeb162287",
   "metadata": {},
   "source": [
    "복사\n",
    "1. 얕은 복사 Shallow copy\n",
    "2. 깊은 복사 Deep copy"
   ]
  },
  {
   "cell_type": "code",
   "execution_count": 48,
   "id": "f7677426-3567-4cf6-958b-807efad16e65",
   "metadata": {},
   "outputs": [
    {
     "data": {
      "text/plain": [
       "[[100, 2], [3, 4]]"
      ]
     },
     "execution_count": 48,
     "metadata": {},
     "output_type": "execute_result"
    }
   ],
   "source": [
    "new_score=score[:] #얕은카피\n",
    "new_score[0][0]=100\n",
    "new_score"
   ]
  },
  {
   "cell_type": "code",
   "execution_count": 46,
   "id": "e47091a0-16ea-4146-8ca0-d3dfac807b70",
   "metadata": {},
   "outputs": [
    {
     "data": {
      "text/plain": [
       "[[100, 2], [3, 4]]"
      ]
     },
     "execution_count": 46,
     "metadata": {},
     "output_type": "execute_result"
    }
   ],
   "source": [
    "score"
   ]
  },
  {
   "cell_type": "code",
   "execution_count": 49,
   "id": "a00768f7-d5a4-4434-8c8b-67b38c3abee4",
   "metadata": {},
   "outputs": [
    {
     "data": {
      "text/plain": [
       "[[100, 99], [3, 4]]"
      ]
     },
     "execution_count": 49,
     "metadata": {},
     "output_type": "execute_result"
    }
   ],
   "source": [
    "import copy\n",
    "copied=copy.copy(score)\n",
    "copied[0][1]=99\n",
    "copied"
   ]
  },
  {
   "cell_type": "code",
   "execution_count": 50,
   "id": "ee730db2-7dce-4ba8-b9f4-2b39376833e3",
   "metadata": {},
   "outputs": [
    {
     "data": {
      "text/plain": [
       "[[100, 99], [3, 4]]"
      ]
     },
     "execution_count": 50,
     "metadata": {},
     "output_type": "execute_result"
    }
   ],
   "source": [
    "score"
   ]
  },
  {
   "cell_type": "code",
   "execution_count": 51,
   "id": "cc77137a-8257-4aa5-80e3-9ee7f7264895",
   "metadata": {},
   "outputs": [
    {
     "data": {
      "text/plain": [
       "[[100, 99], [100, 4]]"
      ]
     },
     "execution_count": 51,
     "metadata": {},
     "output_type": "execute_result"
    }
   ],
   "source": [
    "deepcopied=copy.deepcopy(score)\n",
    "deepcopied[1][0]=100\n",
    "deepcopied"
   ]
  },
  {
   "cell_type": "code",
   "execution_count": 52,
   "id": "a6dd7ac1-663e-43d0-9628-044afa40fa13",
   "metadata": {},
   "outputs": [
    {
     "data": {
      "text/plain": [
       "[[100, 99], [3, 4]]"
      ]
     },
     "execution_count": 52,
     "metadata": {},
     "output_type": "execute_result"
    }
   ],
   "source": [
    "score"
   ]
  },
  {
   "cell_type": "markdown",
   "id": "d1607cb5-a74a-4730-ba74-45908ad80c87",
   "metadata": {},
   "source": [
    "# 리스트의 연산\n",
    "\n",
    "- '+' __add__( )\n",
    "- '*' __mul__( )\n",
    "- del list [항목번호]\n",
    "- in list => True/False"
   ]
  },
  {
   "cell_type": "code",
   "execution_count": 73,
   "id": "21bd3b05-a0aa-438d-9810-6c86ee896a76",
   "metadata": {},
   "outputs": [
    {
     "data": {
      "text/plain": [
       "['해물라면', '샐러드', '떡볶이', '오므라이스', '볶음밥', '떡볶이', '제육볶음', '주먹밥']"
      ]
     },
     "execution_count": 73,
     "metadata": {},
     "output_type": "execute_result"
    }
   ],
   "source": [
    "lunch1=['해물라면','샐러드','떡볶이']\n",
    "lunch2=['오므라이스','볶음밥','떡볶이','제육볶음','주먹밥']\n",
    "lunch1+lunch2"
   ]
  },
  {
   "cell_type": "code",
   "execution_count": 74,
   "id": "4ee031e1-dbf2-4daf-bf34-84a0ac739758",
   "metadata": {},
   "outputs": [
    {
     "data": {
      "text/plain": [
       "['해물라면', '샐러드', '떡볶이', '해물라면', '샐러드', '떡볶이']"
      ]
     },
     "execution_count": 74,
     "metadata": {},
     "output_type": "execute_result"
    }
   ],
   "source": [
    "lunch1*2"
   ]
  },
  {
   "cell_type": "code",
   "execution_count": 75,
   "id": "fd8be849-5ffd-4de1-93ab-04d26b350612",
   "metadata": {},
   "outputs": [
    {
     "data": {
      "text/plain": [
       "['해물라면', '샐러드', '떡볶이']"
      ]
     },
     "execution_count": 75,
     "metadata": {},
     "output_type": "execute_result"
    }
   ],
   "source": [
    "lunch1"
   ]
  },
  {
   "cell_type": "code",
   "execution_count": 76,
   "id": "d3012e8d-a692-480e-aa23-305a1bcfd5a5",
   "metadata": {},
   "outputs": [
    {
     "data": {
      "text/plain": [
       "['해물라면', '샐러드', '오므라이스', '볶음밥', '떡볶이', '제육볶음', '주먹밥']"
      ]
     },
     "execution_count": 76,
     "metadata": {},
     "output_type": "execute_result"
    }
   ],
   "source": [
    "#lunch1과 lunch2를 합하고 '떡볶이' 제외하기\n",
    "lunch3=lunch1+lunch2\n",
    "del lunch3[2]\n",
    "lunch3"
   ]
  },
  {
   "cell_type": "code",
   "execution_count": 78,
   "id": "897e14bc-c333-41f7-9c21-9572556c9ef8",
   "metadata": {},
   "outputs": [
    {
     "data": {
      "text/plain": [
       "True"
      ]
     },
     "execution_count": 78,
     "metadata": {},
     "output_type": "execute_result"
    }
   ],
   "source": [
    "'떡볶이' in lunch3"
   ]
  },
  {
   "cell_type": "code",
   "execution_count": 83,
   "id": "828ebcf4-ccac-4a3b-9ce4-2fa4e1897996",
   "metadata": {},
   "outputs": [],
   "source": [
    "del input"
   ]
  },
  {
   "cell_type": "code",
   "execution_count": 2,
   "id": "120e9b5a-88ef-4b85-9dfb-b553d018945e",
   "metadata": {},
   "outputs": [
    {
     "name": "stdin",
     "output_type": "stream",
     "text": [
      "먹고 싶은 간식을 추가하세요. 단 쉼표(,)로 연결하세요 ㄷ\n"
     ]
    }
   ],
   "source": [
    "#간식박스 관리 프로그램 1\n",
    "snack_box=['빈츠']\n",
    "new_snack=input('먹고 싶은 간식을 추가하세요. 단 쉼표(,)로 연결하세요').split(',')\n",
    "snack_box += new_snack"
   ]
  },
  {
   "cell_type": "code",
   "execution_count": 98,
   "id": "c3ea0ae5-264b-45a3-9082-8f4b524a0195",
   "metadata": {},
   "outputs": [
    {
     "data": {
      "text/plain": [
       "['빈츠', '홈런볼', ' 포카칩']"
      ]
     },
     "execution_count": 98,
     "metadata": {},
     "output_type": "execute_result"
    }
   ],
   "source": [
    "snack_box"
   ]
  },
  {
   "cell_type": "code",
   "execution_count": 99,
   "id": "5c6d5edd-e4fc-48d6-bded-0e5e55c9f97f",
   "metadata": {},
   "outputs": [
    {
     "name": "stdin",
     "output_type": "stream",
     "text": [
      "간식박스 몇 세트로 포장할까요? 예:2 -> 2box 2\n"
     ]
    }
   ],
   "source": [
    "#간식박스 관리 프로그램 2\n",
    "qty=int(input('간식박스 몇 세트로 포장할까요? 예:2 -> 2box'))"
   ]
  },
  {
   "cell_type": "code",
   "execution_count": 100,
   "id": "a650f9b2-7c57-4c05-ac09-c06d4134d67b",
   "metadata": {},
   "outputs": [
    {
     "data": {
      "text/plain": [
       "['빈츠', '홈런볼', ' 포카칩', '빈츠', '홈런볼', ' 포카칩']"
      ]
     },
     "execution_count": 100,
     "metadata": {},
     "output_type": "execute_result"
    }
   ],
   "source": [
    "snack_box*=qty\n",
    "snack_box"
   ]
  },
  {
   "cell_type": "code",
   "execution_count": 101,
   "id": "c94a74e9-a08a-4c49-b87b-b0d661388fd3",
   "metadata": {},
   "outputs": [
    {
     "name": "stdout",
     "output_type": "stream",
     "text": [
      "주문하신 간식상자는 빈츠,홈런볼, 포카칩 등 입니다. 확인해주세요.\n"
     ]
    }
   ],
   "source": [
    "print(f'주문하신 간식상자는 {snack_box[0]},{snack_box[1]},{snack_box[2]} 등 입니다. 확인해주세요.')"
   ]
  },
  {
   "cell_type": "code",
   "execution_count": 105,
   "id": "b7f0f380-1e6f-4819-9aa1-a2531ea9cc12",
   "metadata": {},
   "outputs": [
    {
     "name": "stdin",
     "output_type": "stream",
     "text": [
      "혹시 빼고싶은 간식이 있으면 번호를 입력하세요 (0~5) 0\n"
     ]
    }
   ],
   "source": [
    "#간식박스 관리 프로그램 3\n",
    "msg=f'혹시 빼고싶은 간식이 있으면 번호를 입력하세요 (0~{len(snack_box)-1})'\n",
    "snack_no=int(input(msg))"
   ]
  },
  {
   "cell_type": "code",
   "execution_count": 109,
   "id": "7d406e0b-b3e3-4cb7-8ef8-64b6441b8f6e",
   "metadata": {},
   "outputs": [],
   "source": [
    "del snack_box[snack_no]"
   ]
  },
  {
   "cell_type": "markdown",
   "id": "9133d56a-f732-41ed-976a-1d67f6981256",
   "metadata": {},
   "source": [
    "#간식박스 관리 프로그램 4\n",
    "#찾고싶은 간식이름을 입력하세요\n",
    "#있어요 or 없어요 출력\n",
    "snack_name=input('찾고싶은 간식을 입력하세요')\n",
    "if snack_name in snack_box:\n",
    "    print('있어요')\n",
    "else:\n",
    "    print('없어요')"
   ]
  },
  {
   "cell_type": "code",
   "execution_count": 1,
   "id": "80825d9b-0704-4651-9b94-927beb84733f",
   "metadata": {},
   "outputs": [
    {
     "name": "stdout",
     "output_type": "stream",
     "text": [
      "주문하신 간식 박스는 뒤에서부터 다음과 같습니다.\n"
     ]
    },
    {
     "ename": "NameError",
     "evalue": "name 'snack_box' is not defined",
     "output_type": "error",
     "traceback": [
      "\u001b[31m---------------------------------------------------------------------------\u001b[39m",
      "\u001b[31mNameError\u001b[39m                                 Traceback (most recent call last)",
      "\u001b[36mCell\u001b[39m\u001b[36m \u001b[39m\u001b[32mIn[1]\u001b[39m\u001b[32m, line 3\u001b[39m\n\u001b[32m      1\u001b[39m \u001b[38;5;66;03m#간식박스 관리 프로그램 5\u001b[39;00m\n\u001b[32m      2\u001b[39m \u001b[38;5;28mprint\u001b[39m(\u001b[33m'\u001b[39m\u001b[33m주문하신 간식 박스는 뒤에서부터 다음과 같습니다.\u001b[39m\u001b[33m'\u001b[39m)\n\u001b[32m----> \u001b[39m\u001b[32m3\u001b[39m \u001b[38;5;28mprint\u001b[39m(\u001b[33mf\u001b[39m\u001b[33m'\u001b[39m\u001b[38;5;132;01m{\u001b[39;00msnack_box[::-\u001b[32m1\u001b[39m]\u001b[38;5;132;01m}\u001b[39;00m\u001b[33m, 총 \u001b[39m\u001b[38;5;132;01m{\u001b[39;00m\u001b[38;5;28mlen\u001b[39m(snack_box)\u001b[38;5;132;01m}\u001b[39;00m\u001b[33m개입니다.\u001b[39m\u001b[33m'\u001b[39m)\n",
      "\u001b[31mNameError\u001b[39m: name 'snack_box' is not defined"
     ]
    }
   ],
   "source": [
    "#간식박스 관리 프로그램 5\n",
    "print('주문하신 간식 박스는 뒤에서부터 다음과 같습니다.')\n",
    "print(f'{snack_box[::-1]}, 총 {len(snack_box)}개입니다.')"
   ]
  },
  {
   "cell_type": "markdown",
   "id": "9a0b0bcc-aef3-409c-bc2e-7ff036f240f6",
   "metadata": {},
   "source": [
    "# 리스트의 Method"
   ]
  },
  {
   "cell_type": "markdown",
   "id": "c3661744-8848-46d3-980b-38b595afda02",
   "metadata": {},
   "source": [
    "| 메서드                  | 사용 예시                    | 설명                |\n",
    "| -------------------- | ------------------------ | ----------------- |\n",
    "| `append(x)`          | `lst.append(4)`          | 맨 뒤에 `x` 추가       |\n",
    "| `insert(i, x)`       | `lst.insert(1, \"a\")`     | `i` 위치에 `x` 삽입    |\n",
    "| `extend(iter)`       | `lst.extend([4, 5])`     | 리스트에 여러 값 추가      |\n",
    "| `remove(x)`          | `lst.remove(\"a\")`        | `x`와 일치하는 첫 항목 삭제 |\n",
    "| `pop()`              | `lst.pop()`              | 마지막 항목 제거하고 반환    |\n",
    "| `pop(i)`             | `lst.pop(0)`             | `i`번째 항목 제거하고 반환  |\n",
    "| `clear()`            | `lst.clear()`            | 리스트 전체 비우기        |\n",
    "| `index(x)`           | `lst.index(\"a\")`         | `x`의 위치(인덱스) 반환   |\n",
    "| `count(x)`           | `lst.count(\"a\")`         | `x`의 개수 세기        |\n",
    "| `sort()`             | `lst.sort()`             | 오름차순 정렬 (원본 변경)   |\n",
    "| `sort(reverse=True)` | `lst.sort(reverse=True)` | 내림차순 정렬           |\n",
    "| `reverse()`          | `lst.reverse()`          | 항목 순서 뒤집기         |\n",
    "| `copy()`             | `lst2 = lst.copy()`      | 리스트 복사            |\n"
   ]
  },
  {
   "cell_type": "code",
   "execution_count": 14,
   "id": "2a9d24ab-2291-4440-bc4a-12086bba076a",
   "metadata": {},
   "outputs": [
    {
     "data": {
      "text/plain": [
       "[1, 2, 3, 4]"
      ]
     },
     "execution_count": 14,
     "metadata": {},
     "output_type": "execute_result"
    }
   ],
   "source": [
    "a=[1,2,3]\n",
    "a.append(4)\n",
    "a"
   ]
  },
  {
   "cell_type": "code",
   "execution_count": 15,
   "id": "51b6f3f6-418c-4640-b668-cae384475188",
   "metadata": {},
   "outputs": [
    {
     "data": {
      "text/plain": [
       "[1, 2, 3, 4, [5, 6]]"
      ]
     },
     "execution_count": 15,
     "metadata": {},
     "output_type": "execute_result"
    }
   ],
   "source": [
    "a.append([5,6])\n",
    "a"
   ]
  },
  {
   "cell_type": "code",
   "execution_count": 16,
   "id": "e385a721-2a7a-4e61-90bb-48158a4a0ac4",
   "metadata": {},
   "outputs": [
    {
     "data": {
      "text/plain": [
       "[1, 2, 3, 4]"
      ]
     },
     "execution_count": 16,
     "metadata": {},
     "output_type": "execute_result"
    }
   ],
   "source": [
    "a=[1,4,2,3]\n",
    "a.sort()\n",
    "a"
   ]
  },
  {
   "cell_type": "code",
   "execution_count": 17,
   "id": "1163fe89-f4ae-431c-a8d8-9c152c5ae971",
   "metadata": {},
   "outputs": [
    {
     "data": {
      "text/plain": [
       "['a', 'b', 'c']"
      ]
     },
     "execution_count": 17,
     "metadata": {},
     "output_type": "execute_result"
    }
   ],
   "source": [
    "a=['a','b','c']\n",
    "a.sort()\n",
    "a"
   ]
  },
  {
   "cell_type": "code",
   "execution_count": 19,
   "id": "63974dcc-4c46-466b-8530-3a9725a90f59",
   "metadata": {},
   "outputs": [
    {
     "data": {
      "text/plain": [
       "['c', 'b', 'a']"
      ]
     },
     "execution_count": 19,
     "metadata": {},
     "output_type": "execute_result"
    }
   ],
   "source": [
    "a.reverse()\n",
    "a"
   ]
  },
  {
   "cell_type": "code",
   "execution_count": 23,
   "id": "691ffcce-a363-4a96-a2e9-c01180aca3b6",
   "metadata": {},
   "outputs": [
    {
     "data": {
      "text/plain": [
       "2"
      ]
     },
     "execution_count": 23,
     "metadata": {},
     "output_type": "execute_result"
    }
   ],
   "source": [
    "a.index('a')"
   ]
  },
  {
   "cell_type": "code",
   "execution_count": 28,
   "id": "1aa34c06-db10-43cb-b2f1-387c5a78d9e9",
   "metadata": {},
   "outputs": [
    {
     "data": {
      "text/plain": [
       "[1, 'c', 'b', 'a']"
      ]
     },
     "execution_count": 28,
     "metadata": {},
     "output_type": "execute_result"
    }
   ],
   "source": [
    "a.insert(0,1)\n",
    "a"
   ]
  },
  {
   "cell_type": "code",
   "execution_count": 29,
   "id": "4153ae2f-1e91-4cc0-b0ce-6086ae8158e3",
   "metadata": {},
   "outputs": [
    {
     "data": {
      "text/plain": [
       "['c', 'b', 'a']"
      ]
     },
     "execution_count": 29,
     "metadata": {},
     "output_type": "execute_result"
    }
   ],
   "source": [
    "a.remove(1)\n",
    "a"
   ]
  },
  {
   "cell_type": "code",
   "execution_count": 33,
   "id": "607bf552-7ee0-4a9d-9f59-b58ee6b53a0a",
   "metadata": {},
   "outputs": [
    {
     "data": {
      "text/plain": [
       "[1, 2, 4]"
      ]
     },
     "execution_count": 33,
     "metadata": {},
     "output_type": "execute_result"
    }
   ],
   "source": [
    "a=[1,2,3,4]\n",
    "a.pop(2)\n",
    "a"
   ]
  },
  {
   "cell_type": "code",
   "execution_count": 35,
   "id": "77022fd0-0e00-42d3-ac45-43d4828b97d9",
   "metadata": {},
   "outputs": [
    {
     "data": {
      "text/plain": [
       "2"
      ]
     },
     "execution_count": 35,
     "metadata": {},
     "output_type": "execute_result"
    }
   ],
   "source": [
    "b=[1,1,2,3,4,5,5]\n",
    "b.count(5)"
   ]
  },
  {
   "cell_type": "code",
   "execution_count": 36,
   "id": "ce9ece87-62c7-4441-91c7-2d8f4671c92c",
   "metadata": {},
   "outputs": [
    {
     "data": {
      "text/plain": [
       "[1, 1, 2, 3, 4, 5, 5, 6, 7]"
      ]
     },
     "execution_count": 36,
     "metadata": {},
     "output_type": "execute_result"
    }
   ],
   "source": [
    "b.extend([6,7])\n",
    "b"
   ]
  },
  {
   "cell_type": "code",
   "execution_count": 37,
   "id": "0b4d4925-7e55-4a1f-8217-7d47959e024b",
   "metadata": {},
   "outputs": [
    {
     "data": {
      "text/plain": [
       "[8, 9, 1, 1, 2, 3, 4, 5, 5, 6, 7]"
      ]
     },
     "execution_count": 37,
     "metadata": {},
     "output_type": "execute_result"
    }
   ],
   "source": [
    "a=[8,9]\n",
    "a.extend(b)\n",
    "a"
   ]
  },
  {
   "cell_type": "markdown",
   "id": "898be0ef-eeec-439d-9ae3-c6b7a4e99563",
   "metadata": {},
   "source": [
    "# 연산자\n",
    "\n",
    "- 비식별연산자\n",
    "    1. 수치연산: 사칙연산\n",
    "       - add ( ) -> 특별메소드를 저의하고 객체에서 쓸 수 있음\n",
    "                   객체가 아니라 숫자일 때는 기본연산\n",
    "                   형변환이 자동으로 일어남\n",
    "                       eg) int + float > float\n",
    "                           int / int > float\n",
    "    2. 대입연산: assign, 할당 '='\n",
    "       - 변수 = 값 (변수에 값을 넣을 때 할당하는 것)\n",
    "       - 자기 자신에게 대입하는 연산 > +=, -=, *=, /= > ( )가 자동으로 적용\n",
    "    3. 비교연산\n",
    "       - '='와 '=='는 다름 => '=': 대입엽산, '==': 비교연산\n",
    "       - '!=': 다른지 비교, '>=': 크거나 같은지 비교, '<=': 작거나 같은지 비교\n",
    "       - 리스트의 비교 '==' => 내용이 같은가?\n",
    "       - 리스트의 비교 'is' => 주소가 같은가?\n",
    "           - 리스트의 주소 'id( )' 값이 같은지를 비교 => 메모리 영역이 같은가?\n",
    "    4. 논리연산\n",
    "       - and (&,&&), or(|), not (!)\n",
    "   \n",
    "- 식별연산자\n",
    "    1. is, is not"
   ]
  },
  {
   "cell_type": "code",
   "execution_count": 45,
   "id": "28d5c178-2b47-4e99-88de-25b38c0c13d1",
   "metadata": {},
   "outputs": [
    {
     "data": {
      "text/plain": [
       "True"
      ]
     },
     "execution_count": 45,
     "metadata": {},
     "output_type": "execute_result"
    }
   ],
   "source": [
    "lunch1=['주먹밥','치킨','칼국수']\n",
    "lunch2=['주먹밥','치킨','칼국수']\n",
    "lunch1==lunch2 #값의 비교"
   ]
  },
  {
   "cell_type": "code",
   "execution_count": 43,
   "id": "f6cbfc70-545d-401f-9bdf-2b4c657270e1",
   "metadata": {},
   "outputs": [
    {
     "data": {
      "text/plain": [
       "False"
      ]
     },
     "execution_count": 43,
     "metadata": {},
     "output_type": "execute_result"
    }
   ],
   "source": [
    "id(lunch1)==id(lunch2) #주소를 비교"
   ]
  },
  {
   "cell_type": "code",
   "execution_count": 44,
   "id": "9cb80474-6548-47df-ae36-5e6eddbe0a55",
   "metadata": {},
   "outputs": [
    {
     "data": {
      "text/plain": [
       "False"
      ]
     },
     "execution_count": 44,
     "metadata": {},
     "output_type": "execute_result"
    }
   ],
   "source": [
    "lunch1 is lunch2 #주소를 비교"
   ]
  },
  {
   "cell_type": "code",
   "execution_count": 16,
   "id": "65794f2c-acec-4d94-a608-cc64c97cfeed",
   "metadata": {},
   "outputs": [],
   "source": [
    "a=5\n",
    "#a=a+5\n",
    "a+=5"
   ]
  },
  {
   "cell_type": "code",
   "execution_count": 17,
   "id": "3874018b-89e8-41b4-8024-53b9a799c51c",
   "metadata": {},
   "outputs": [],
   "source": [
    "a=5\n",
    "b=2"
   ]
  },
  {
   "cell_type": "code",
   "execution_count": 18,
   "id": "0e07b9cf-baed-4102-a9fa-e3b32d0cbe51",
   "metadata": {},
   "outputs": [
    {
     "data": {
      "text/plain": [
       "20"
      ]
     },
     "execution_count": 18,
     "metadata": {},
     "output_type": "execute_result"
    }
   ],
   "source": [
    "a *= 2 + b #a=5*(2+2) 괄호를 안써도 셀프로 들어감\n",
    "a"
   ]
  },
  {
   "cell_type": "code",
   "execution_count": 22,
   "id": "29224526-67c9-4e7c-bfee-3a547d12b5aa",
   "metadata": {},
   "outputs": [],
   "source": [
    "students = [\n",
    "               {'num':'1','name':'김철수','kor':90,'eng':80,'math':85,'total':0,'avg':0.0,'order':0 },\n",
    "               {'num':'2','name':'박제동','kor':90,'eng':85,'math':90,'total':0,'avg':0.0,'order':0 },\n",
    "               {'num':'3','name':'홍길동','kor':80,'eng':80,'math':80,'total':0,'avg':0.0,'order':0 }\n",
    "           ]"
   ]
  },
  {
   "cell_type": "code",
   "execution_count": 24,
   "id": "9bf34cc2-8af1-4de0-b56f-dacc73eaad46",
   "metadata": {},
   "outputs": [
    {
     "data": {
      "text/plain": [
       "255"
      ]
     },
     "execution_count": 24,
     "metadata": {},
     "output_type": "execute_result"
    }
   ],
   "source": [
    "students[0]['total']=students[0]['kor']+students[0]['eng']+students[0]['math']\n",
    "students[0]['total']"
   ]
  },
  {
   "cell_type": "code",
   "execution_count": 25,
   "id": "8af754a2-3c96-4650-9c4f-0d0c99ded76b",
   "metadata": {},
   "outputs": [
    {
     "data": {
      "text/plain": [
       "265"
      ]
     },
     "execution_count": 25,
     "metadata": {},
     "output_type": "execute_result"
    }
   ],
   "source": [
    "students[1]['total']=students[1]['kor']+students[1]['eng']+students[1]['math']\n",
    "students[1]['total']"
   ]
  },
  {
   "cell_type": "code",
   "execution_count": 26,
   "id": "99747052-86f9-49da-9d19-cb23af8706e4",
   "metadata": {},
   "outputs": [
    {
     "data": {
      "text/plain": [
       "240"
      ]
     },
     "execution_count": 26,
     "metadata": {},
     "output_type": "execute_result"
    }
   ],
   "source": [
    "students[2]['total']=students[2]['kor']+students[2]['eng']+students[2]['math']\n",
    "students[2]['total']"
   ]
  },
  {
   "cell_type": "code",
   "execution_count": 28,
   "id": "a5d64641-4d5b-4bdf-b13a-4d051b59a8d9",
   "metadata": {},
   "outputs": [
    {
     "name": "stdout",
     "output_type": "stream",
     "text": [
      "{'num': '1', 'name': '김철수', 'kor': 90, 'eng': 80, 'math': 85, 'total': 255, 'avg': 0.0, 'order': 0}\n",
      "{'num': '2', 'name': '박제동', 'kor': 90, 'eng': 85, 'math': 90, 'total': 265, 'avg': 0.0, 'order': 0}\n",
      "{'num': '3', 'name': '홍길동', 'kor': 80, 'eng': 80, 'math': 80, 'total': 240, 'avg': 0.0, 'order': 0}\n"
     ]
    }
   ],
   "source": [
    "#for 문에서는 in 키워드를 사용하여 리스트의 요소를 하나씩 꺼낼 수 있음\n",
    "# total 구하기\n",
    "for student in students: #0,1,2 순서대로 하나씩 꺼내줌 0 => 1 => 2 this is called iterator\n",
    "    student['total']=student['kor']+student['eng']+student['math']\n",
    "    print(student)"
   ]
  },
  {
   "cell_type": "code",
   "execution_count": 31,
   "id": "aa26a8d7-a653-4d0a-9215-7273fbae7a35",
   "metadata": {
    "scrolled": true
   },
   "outputs": [
    {
     "name": "stdout",
     "output_type": "stream",
     "text": [
      "{'num': '1', 'name': '김철수', 'kor': 90, 'eng': 80, 'math': 85, 'total': 255, 'avg': 85.0, 'order': 255}\n",
      "{'num': '2', 'name': '박제동', 'kor': 90, 'eng': 85, 'math': 90, 'total': 265, 'avg': 88.33333333333333, 'order': 265}\n",
      "{'num': '3', 'name': '홍길동', 'kor': 80, 'eng': 80, 'math': 80, 'total': 240, 'avg': 80.0, 'order': 240}\n"
     ]
    }
   ],
   "source": [
    "#avg 구해서 차트에 넣기\n",
    "for student in students:\n",
    "    student['avg']=(student['kor']+student['eng']+student['math'])/3\n",
    "    print(student)"
   ]
  },
  {
   "cell_type": "code",
   "execution_count": 33,
   "id": "109f8a59-0dab-4988-b3ed-5bc75740dfec",
   "metadata": {},
   "outputs": [
    {
     "name": "stdout",
     "output_type": "stream",
     "text": [
      "85.0\n",
      "88.33333333333333\n",
      "80.0\n"
     ]
    }
   ],
   "source": [
    "#avg만 보기\n",
    "for student in students:\n",
    "    student['avg']=(student['kor']+student['eng']+student['math'])/3\n",
    "    print(student['avg'])"
   ]
  },
  {
   "cell_type": "code",
   "execution_count": 37,
   "id": "c40ba809-7914-433e-b52c-94f929346e05",
   "metadata": {},
   "outputs": [
    {
     "name": "stdout",
     "output_type": "stream",
     "text": [
      "김철수 2\n",
      "박제동 1\n",
      "홍길동 3\n"
     ]
    }
   ],
   "source": [
    "#order 구하기 (이름이랑 등수만 보기)\n",
    "for student in students: #student[0] 자료를 꺼낸 것이 student\n",
    "    rank=1\n",
    "    for other in students:\n",
    "        if other['total']>student['total']: \n",
    "            rank += 1\n",
    "    student['order']=rank\n",
    "    print(student['name'],student['order'])"
   ]
  },
  {
   "cell_type": "code",
   "execution_count": 36,
   "id": "f56211b1-a923-4aa5-8707-0f7a0dd38bd5",
   "metadata": {},
   "outputs": [
    {
     "name": "stdout",
     "output_type": "stream",
     "text": [
      "김철수 2 255 85.0\n",
      "박제동 1 265 88.33333333333333\n",
      "홍길동 3 240 80.0\n"
     ]
    }
   ],
   "source": [
    "for student in students:\n",
    "    print(student['name'], student['order'], student['total'], student['avg'])"
   ]
  },
  {
   "cell_type": "markdown",
   "id": "a5d7f257-59be-4169-8325-ca26e57e9ed4",
   "metadata": {},
   "source": [
    "# 리스트에 많이 쓰는 내장 함수들"
   ]
  },
  {
   "cell_type": "code",
   "execution_count": null,
   "id": "706d6230-bb20-434e-bc22-e139baf5c6b9",
   "metadata": {},
   "outputs": [],
   "source": [
    "- type()\n",
    "- sorted()\n",
    "- dir()\n",
    "- id()\n",
    "- len()\n",
    "- sum(), max(), min()"
   ]
  },
  {
   "cell_type": "code",
   "execution_count": 49,
   "id": "e4f53393-c5d0-4974-8e90-86e87abbdd0c",
   "metadata": {},
   "outputs": [
    {
     "data": {
      "text/plain": [
       "[1, 2, 3, 4, 5, 6]"
      ]
     },
     "execution_count": 49,
     "metadata": {},
     "output_type": "execute_result"
    }
   ],
   "source": [
    "a=[1,2,3]\n",
    "b=[4,5,6]\n",
    "a+b"
   ]
  },
  {
   "cell_type": "code",
   "execution_count": 50,
   "id": "4221e5ef-f2d1-4230-9d35-84f089860f3b",
   "metadata": {},
   "outputs": [
    {
     "data": {
      "text/plain": [
       "(1, 2, 3, 4, 5, 6)"
      ]
     },
     "execution_count": 50,
     "metadata": {},
     "output_type": "execute_result"
    }
   ],
   "source": [
    "a=1,2,3\n",
    "b=4,5,6\n",
    "a+b"
   ]
  },
  {
   "cell_type": "code",
   "execution_count": 52,
   "id": "e5829d28-af34-41c8-9b81-d1e795e80802",
   "metadata": {},
   "outputs": [
    {
     "name": "stdout",
     "output_type": "stream",
     "text": [
      "6\n"
     ]
    }
   ],
   "source": [
    "print(sum(a))"
   ]
  },
  {
   "cell_type": "code",
   "execution_count": 53,
   "id": "cf85b125-ec1c-4791-9d3e-978bd188740a",
   "metadata": {},
   "outputs": [
    {
     "data": {
      "text/plain": [
       "15"
      ]
     },
     "execution_count": 53,
     "metadata": {},
     "output_type": "execute_result"
    }
   ],
   "source": [
    "sum(b)"
   ]
  },
  {
   "cell_type": "code",
   "execution_count": 54,
   "id": "137dc789-4d15-4db3-9512-99022378084c",
   "metadata": {},
   "outputs": [
    {
     "data": {
      "text/plain": [
       "6"
      ]
     },
     "execution_count": 54,
     "metadata": {},
     "output_type": "execute_result"
    }
   ],
   "source": [
    "sum(a)"
   ]
  },
  {
   "cell_type": "code",
   "execution_count": 55,
   "id": "e8f234af-2566-4d58-927a-952c1c2630b3",
   "metadata": {},
   "outputs": [
    {
     "data": {
      "text/plain": [
       "3"
      ]
     },
     "execution_count": 55,
     "metadata": {},
     "output_type": "execute_result"
    }
   ],
   "source": [
    "max(a)"
   ]
  },
  {
   "cell_type": "code",
   "execution_count": 56,
   "id": "4db4cab2-c291-49eb-bb98-5aa0e3bef7c0",
   "metadata": {},
   "outputs": [
    {
     "data": {
      "text/plain": [
       "4"
      ]
     },
     "execution_count": 56,
     "metadata": {},
     "output_type": "execute_result"
    }
   ],
   "source": [
    "min(b)"
   ]
  },
  {
   "cell_type": "code",
   "execution_count": 58,
   "id": "883162a7-1474-4e14-8b9d-734c0b76eaa8",
   "metadata": {},
   "outputs": [
    {
     "data": {
      "text/plain": [
       "(tuple, tuple)"
      ]
     },
     "execution_count": 58,
     "metadata": {},
     "output_type": "execute_result"
    }
   ],
   "source": [
    "type(a), type(b)"
   ]
  },
  {
   "cell_type": "code",
   "execution_count": 59,
   "id": "38ba8e9e-a4e6-48e0-8429-fb61063b9060",
   "metadata": {},
   "outputs": [],
   "source": [
    "c=[5,8,2,0,3]"
   ]
  },
  {
   "cell_type": "code",
   "execution_count": 61,
   "id": "039939ef-db7f-4ca0-995e-21e9add45adb",
   "metadata": {},
   "outputs": [
    {
     "data": {
      "text/plain": [
       "[0, 2, 3, 5, 8]"
      ]
     },
     "execution_count": 61,
     "metadata": {},
     "output_type": "execute_result"
    }
   ],
   "source": [
    "sorted(c)"
   ]
  },
  {
   "cell_type": "code",
   "execution_count": 62,
   "id": "2186064e-7331-4d28-905d-b4d7bb7fc7e2",
   "metadata": {},
   "outputs": [
    {
     "data": {
      "text/plain": [
       "5"
      ]
     },
     "execution_count": 62,
     "metadata": {},
     "output_type": "execute_result"
    }
   ],
   "source": [
    "len(c)"
   ]
  },
  {
   "cell_type": "code",
   "execution_count": 69,
   "id": "44fb04de-fe32-4e11-abc3-1dec99c36c1d",
   "metadata": {},
   "outputs": [
    {
     "data": {
      "text/plain": [
       "[5, 4, 3, 2, 1]"
      ]
     },
     "execution_count": 69,
     "metadata": {},
     "output_type": "execute_result"
    }
   ],
   "source": [
    "#Q1. [1,3,5,4,2]라는 리스트를 [5,4,3,2,1]로 만들어보자\n",
    "d=[1,3,5,4,2]\n",
    "sorted(d,reverse=True)"
   ]
  },
  {
   "cell_type": "code",
   "execution_count": 70,
   "id": "d421a171-4abd-4975-88e7-d362e447af75",
   "metadata": {},
   "outputs": [
    {
     "name": "stdout",
     "output_type": "stream",
     "text": [
      "Life is too short\n"
     ]
    }
   ],
   "source": [
    "#Q2. ['Life','is','too','short']라는 리스트를 Life is too short라는 문자열로 만들어 출력해 보자\n",
    "words=['Life','is','too','short']\n",
    "sentence=\" \".join(words)\n",
    "print(sentence)"
   ]
  },
  {
   "cell_type": "code",
   "execution_count": 74,
   "id": "b37ede29-0887-4d0c-81bb-149df36d75d1",
   "metadata": {},
   "outputs": [
    {
     "name": "stdout",
     "output_type": "stream",
     "text": [
      "[3, 5, 7, 9, 1]\n"
     ]
    }
   ],
   "source": [
    "#Q3. 다음 리스트 L의 순서를 아래와 같이 변경하시오. (힌트: pop())\n",
    "#변경 전 [1, 3, 5, 7, 9]\n",
    "#변경 후 [3, 5, 7, 9, 1]\n",
    "L=[1, 3, 5, 7, 9]\n",
    "first=L.pop(0) # 첫 번째 요소 1을 꺼냄\n",
    "L.append(first) # 꺼낸 요소를 리스트 끝에 추가\n",
    "print(L)"
   ]
  },
  {
   "cell_type": "markdown",
   "id": "dad806e4-1b5a-41b5-b193-cc9f925fb9c8",
   "metadata": {},
   "source": [
    "# 딕셔너리\n",
    "\n",
    "딕셔너리의 문법: {키: 값, 키: 값,}"
   ]
  },
  {
   "cell_type": "code",
   "execution_count": 75,
   "id": "ac9ea4b7-9b14-4272-95c9-0616dddbe6e3",
   "metadata": {},
   "outputs": [
    {
     "data": {
      "text/plain": [
       "{'name': 'alice', 'age': 25, 'city': 'seoul'}"
      ]
     },
     "execution_count": 75,
     "metadata": {},
     "output_type": "execute_result"
    }
   ],
   "source": [
    "person={'name':'alice', 'age':25, 'city':'seoul'}\n",
    "person"
   ]
  },
  {
   "cell_type": "code",
   "execution_count": 76,
   "id": "63dc7674-42d4-445b-bd92-280ec2a3c73b",
   "metadata": {},
   "outputs": [
    {
     "data": {
      "text/plain": [
       "{'name': 'sue', 'age': 22, 'city': 'seoul'}"
      ]
     },
     "execution_count": 76,
     "metadata": {},
     "output_type": "execute_result"
    }
   ],
   "source": [
    "person2=dict(name='sue', age=22, city='seoul')\n",
    "person2"
   ]
  },
  {
   "cell_type": "code",
   "execution_count": 77,
   "id": "07e65947-b5d0-4987-b4e6-f97fdde3b0f9",
   "metadata": {},
   "outputs": [
    {
     "data": {
      "text/plain": [
       "{'name': 'john', 'age': 25, 'city': 'seoul'}"
      ]
     },
     "execution_count": 77,
     "metadata": {},
     "output_type": "execute_result"
    }
   ],
   "source": [
    "person['name']='john'\n",
    "person"
   ]
  },
  {
   "cell_type": "code",
   "execution_count": 79,
   "id": "dfbd364d-e9a2-4b95-8962-b5bdc5f98503",
   "metadata": {},
   "outputs": [
    {
     "data": {
      "text/plain": [
       "{'name': 'john', 'age': 25, 'city': 'seoul', 0: 'alice'}"
      ]
     },
     "execution_count": 79,
     "metadata": {},
     "output_type": "execute_result"
    }
   ],
   "source": [
    "person[0]='alice' #\n",
    "person"
   ]
  },
  {
   "cell_type": "code",
   "execution_count": null,
   "id": "afc49bec-0178-44c6-932a-7234278c1aef",
   "metadata": {},
   "outputs": [],
   "source": [
    "#person[2] key error"
   ]
  },
  {
   "cell_type": "code",
   "execution_count": 80,
   "id": "d8838860-83b8-43a1-abe3-09c0eb7b0f3e",
   "metadata": {},
   "outputs": [
    {
     "data": {
      "text/plain": [
       "dict"
      ]
     },
     "execution_count": 80,
     "metadata": {},
     "output_type": "execute_result"
    }
   ],
   "source": [
    "type(person)"
   ]
  },
  {
   "cell_type": "code",
   "execution_count": 81,
   "id": "ec26529a-168b-4346-8589-2340e09c0ca0",
   "metadata": {},
   "outputs": [
    {
     "data": {
      "text/plain": [
       "['__class__',\n",
       " '__class_getitem__',\n",
       " '__contains__',\n",
       " '__delattr__',\n",
       " '__delitem__',\n",
       " '__dir__',\n",
       " '__doc__',\n",
       " '__eq__',\n",
       " '__format__',\n",
       " '__ge__',\n",
       " '__getattribute__',\n",
       " '__getitem__',\n",
       " '__getstate__',\n",
       " '__gt__',\n",
       " '__hash__',\n",
       " '__init__',\n",
       " '__init_subclass__',\n",
       " '__ior__',\n",
       " '__iter__',\n",
       " '__le__',\n",
       " '__len__',\n",
       " '__lt__',\n",
       " '__ne__',\n",
       " '__new__',\n",
       " '__or__',\n",
       " '__reduce__',\n",
       " '__reduce_ex__',\n",
       " '__repr__',\n",
       " '__reversed__',\n",
       " '__ror__',\n",
       " '__setattr__',\n",
       " '__setitem__',\n",
       " '__sizeof__',\n",
       " '__str__',\n",
       " '__subclasshook__',\n",
       " 'clear',\n",
       " 'copy',\n",
       " 'fromkeys',\n",
       " 'get',\n",
       " 'items',\n",
       " 'keys',\n",
       " 'pop',\n",
       " 'popitem',\n",
       " 'setdefault',\n",
       " 'update',\n",
       " 'values']"
      ]
     },
     "execution_count": 81,
     "metadata": {},
     "output_type": "execute_result"
    }
   ],
   "source": [
    "dir(person)"
   ]
  },
  {
   "cell_type": "code",
   "execution_count": 91,
   "id": "0a05e18d-e452-4adc-941c-3394bdd448ba",
   "metadata": {},
   "outputs": [
    {
     "data": {
      "text/plain": [
       "dict_items"
      ]
     },
     "execution_count": 91,
     "metadata": {},
     "output_type": "execute_result"
    }
   ],
   "source": [
    "items=person.items()\n",
    "type(items)"
   ]
  },
  {
   "cell_type": "code",
   "execution_count": 87,
   "id": "4df99566-ae90-4b82-a1f1-7429f15c932c",
   "metadata": {},
   "outputs": [
    {
     "data": {
      "text/plain": [
       "dict_keys"
      ]
     },
     "execution_count": 87,
     "metadata": {},
     "output_type": "execute_result"
    }
   ],
   "source": [
    "keys=person.keys()\n",
    "type(keys)"
   ]
  },
  {
   "cell_type": "code",
   "execution_count": 86,
   "id": "4f4471d2-2fd3-4fcf-9d1a-ef9484260949",
   "metadata": {},
   "outputs": [
    {
     "name": "stdout",
     "output_type": "stream",
     "text": [
      "name\n",
      "age\n",
      "city\n",
      "0\n"
     ]
    }
   ],
   "source": [
    "for k in keys:\n",
    "    print(k)"
   ]
  },
  {
   "cell_type": "code",
   "execution_count": 100,
   "id": "631bce71-8738-4d60-ad10-8e0a52cb3bf2",
   "metadata": {},
   "outputs": [
    {
     "name": "stdout",
     "output_type": "stream",
     "text": [
      "('name', 'alice')\n",
      "('age', 22)\n",
      "('city', 'seoul')\n",
      "(0, 'alice')\n",
      "('gender', 'female')\n",
      "('hobby', 'sleeping')\n"
     ]
    }
   ],
   "source": [
    "for it in items:\n",
    "    print(it)"
   ]
  },
  {
   "cell_type": "code",
   "execution_count": null,
   "id": "2efd4a52-9c3e-4664-883c-7d0bb3f3fa5e",
   "metadata": {},
   "outputs": [],
   "source": [
    "#values() 연습"
   ]
  },
  {
   "cell_type": "code",
   "execution_count": 95,
   "id": "0082ff82-2598-4cef-b5bc-af90a9b9216d",
   "metadata": {},
   "outputs": [
    {
     "data": {
      "text/plain": [
       "{'name': 'sue', 'age': 22, 'city': 'seoul', 0: 'alice'}"
      ]
     },
     "execution_count": 95,
     "metadata": {},
     "output_type": "execute_result"
    }
   ],
   "source": [
    "#update()는 딕셔너리에 딕셔너리를 추가함\n",
    "person.update(person2)\n",
    "person"
   ]
  },
  {
   "cell_type": "code",
   "execution_count": null,
   "id": "645ffc5f-c8ec-418f-9d52-0ee87ba4d2ce",
   "metadata": {},
   "outputs": [],
   "source": [
    "#person3를 추가한다면?\n",
    "#키가 같으므로 값이 업데이트\n",
    "#키가 다르면 추가됨"
   ]
  },
  {
   "cell_type": "code",
   "execution_count": 96,
   "id": "3a9e05fc-09cb-4aa9-a914-e554c188552b",
   "metadata": {},
   "outputs": [],
   "source": [
    "person['name']='alice'"
   ]
  },
  {
   "cell_type": "code",
   "execution_count": 97,
   "id": "41ac4298-6b8c-4e67-8cb3-a24d2efe84bb",
   "metadata": {},
   "outputs": [
    {
     "data": {
      "text/plain": [
       "{'name': 'alice',\n",
       " 'age': 22,\n",
       " 'city': 'seoul',\n",
       " 0: 'alice',\n",
       " 'gender': 'female',\n",
       " 'hobby': 'sleeping'}"
      ]
     },
     "execution_count": 97,
     "metadata": {},
     "output_type": "execute_result"
    }
   ],
   "source": [
    "person3={'gender':'female','hobby':'sleeping'}\n",
    "person.update(person3)\n",
    "person"
   ]
  },
  {
   "cell_type": "markdown",
   "id": "3b0373da-6cad-459c-ba0f-ed86275f94e0",
   "metadata": {},
   "source": [
    "# 메뉴판 만들기"
   ]
  },
  {
   "cell_type": "code",
   "execution_count": 119,
   "id": "5cc57969-23e6-40ea-bd7c-4ee164e4a050",
   "metadata": {
    "jupyter": {
     "source_hidden": true
    }
   },
   "outputs": [
    {
     "name": "stdout",
     "output_type": "stream",
     "text": [
      "****************************************\n",
      "어서오세요 바리스타 Sue's 카페에 오신 것을 환영합니다\n",
      "1.에스프레소 3,000원\n",
      "2.아이스아메리카노 4,000원\n",
      "3.따뜻한라떼 5,000원\n"
     ]
    },
    {
     "name": "stdin",
     "output_type": "stream",
     "text": [
      "주문할 메뉴 번호를 입력하세요: 2\n",
      "주문할 수량을 숫자로 입력하세요: 3\n"
     ]
    },
    {
     "name": "stdout",
     "output_type": "stream",
     "text": [
      "주문하신 메뉴는 아이스아메리카노 3잔입니다. 결제하실 금액은 12,000원 입니다.\n"
     ]
    }
   ],
   "source": [
    "store_name=\"바리스타 Sue's 카페\"\n",
    "menu_list=['에스프레소','아이스아메리카노','따뜻한라떼']\n",
    "price_list=[3000,4000,5000]\n",
    "\n",
    "#환영인사\n",
    "print('*'*40)\n",
    "print(f'어서오세요 {store_name}에 오신 것을 환영합니다')\n",
    "\n",
    "#메뉴목록 출력\n",
    "for i in range (len(menu_list)):\n",
    "    print(f'{i+1}.{menu_list[i]} {price_list[i]:,}원')\n",
    "\n",
    "#주문화면\n",
    "order_num=int(input('주문할 메뉴 번호를 입력하세요:'))-1\n",
    "qty=int(input('주문할 수량을 숫자로 입력하세요:'))\n",
    "amt=qty*price_list[order_num]\n",
    "\n",
    "print(f'주문하신 메뉴는 {menu_list[order_num]} {qty}잔입니다. 결제하실 금액은 {amt:,}원 입니다.')"
   ]
  },
  {
   "cell_type": "markdown",
   "id": "18df7267-91ea-4b2b-9a52-014d9d9b8bce",
   "metadata": {},
   "source": [
    "## 딕셔너리 버전"
   ]
  },
  {
   "cell_type": "code",
   "execution_count": 130,
   "id": "829e5420-29bb-4895-ba6d-13e1ff1a26b0",
   "metadata": {},
   "outputs": [
    {
     "name": "stdout",
     "output_type": "stream",
     "text": [
      "****************************************\n",
      "어서오세요 바리스타 Sue's 카페에 오신 것을 환영합니다\n",
      "1.에스프레소 3,000원\n",
      "2.아이스아메리카노 4,000원\n",
      "3.따뜻한라떼 5,000원\n",
      "4.말차프라푸치노 7,000원\n"
     ]
    },
    {
     "name": "stdin",
     "output_type": "stream",
     "text": [
      "주문할 메뉴 번호를 입력하세요: 3\n",
      "주문할 수량을 숫자로 입력하세요: 4\n"
     ]
    },
    {
     "name": "stdout",
     "output_type": "stream",
     "text": [
      "주문하신 메뉴는 따뜻한라떼 4잔입니다. 결제하실 금액은 20,000원 입니다.\n"
     ]
    }
   ],
   "source": [
    "#환영인사\n",
    "print('*'*40)\n",
    "print(f'어서오세요 {store_name}에 오신 것을 환영합니다')\n",
    "\n",
    "store_name=\"바리스타 Sue's 카페\"\n",
    "\n",
    "menu_list=[\n",
    "    {'name':'에스프레소','price':3000},\n",
    "    {'name':'아이스아메리카노','price':4000},\n",
    "    {'name':'따뜻한라떼','price':5000},\n",
    "    {'name':'말차프라푸치노','price':7000},\n",
    "]\n",
    "\n",
    "#['에스프레소','아이스아메리카노','따뜻한라떼']\n",
    "#price_list=[3000,4000,5000]\n",
    "\n",
    "#메뉴목록 출력\n",
    "for i, menu in enumerate(menu_list):\n",
    "    #print(i+1,menu)\n",
    "    print(f'{i+1}.{menu['name']} {menu['price']:,}원')\n",
    "\n",
    "#주문화면\n",
    "order_num=int(input('주문할 메뉴 번호를 입력하세요:'))-1\n",
    "qty=int(input('주문할 수량을 숫자로 입력하세요:'))\n",
    "amt=qty*menu_list[order_num]['price']\n",
    "\n",
    "name=menu_list[order_num]['name']\n",
    "\n",
    "print(f'주문하신 메뉴는 {name} {qty}잔입니다. 결제하실 금액은 {amt:,}원 입니다.')"
   ]
  }
 ],
 "metadata": {
  "kernelspec": {
   "display_name": "Python 3 (ipykernel)",
   "language": "python",
   "name": "python3"
  },
  "language_info": {
   "codemirror_mode": {
    "name": "ipython",
    "version": 3
   },
   "file_extension": ".py",
   "mimetype": "text/x-python",
   "name": "python",
   "nbconvert_exporter": "python",
   "pygments_lexer": "ipython3",
   "version": "3.12.9"
  }
 },
 "nbformat": 4,
 "nbformat_minor": 5
}
