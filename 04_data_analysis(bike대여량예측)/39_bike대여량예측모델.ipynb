{
 "cells": [
  {
   "cell_type": "markdown",
   "id": "0752a692",
   "metadata": {},
   "source": [
    "# 자전거 대여량 예측 모델"
   ]
  },
  {
   "cell_type": "code",
   "execution_count": 77,
   "id": "d6a19f98",
   "metadata": {},
   "outputs": [],
   "source": [
    "from sklearn.model_selection import train_test_split\n",
    "from sklearn.linear_model import LinearRegression\n",
    "from sklearn.ensemble import RandomForestRegressor\n",
    "from sklearn.metrics import mean_squared_error, r2_score\n",
    "from sklearn.preprocessing import StandardScaler\n",
    "import numpy as np\n",
    "import matplotlib.pyplot as plt\n",
    "import pandas as pd\n",
    "%matplotlib inline"
   ]
  },
  {
   "cell_type": "code",
   "execution_count": 2,
   "id": "e4b9cd7e",
   "metadata": {},
   "outputs": [],
   "source": [
    "bike = pd.read_csv('./data/bike-sharing-demand/train.csv')"
   ]
  },
  {
   "cell_type": "markdown",
   "id": "be32f5ea",
   "metadata": {},
   "source": [
    "# 데이터 확인"
   ]
  },
  {
   "cell_type": "code",
   "execution_count": 3,
   "id": "e9b3ccc9",
   "metadata": {},
   "outputs": [
    {
     "data": {
      "text/html": [
       "<div>\n",
       "<style scoped>\n",
       "    .dataframe tbody tr th:only-of-type {\n",
       "        vertical-align: middle;\n",
       "    }\n",
       "\n",
       "    .dataframe tbody tr th {\n",
       "        vertical-align: top;\n",
       "    }\n",
       "\n",
       "    .dataframe thead th {\n",
       "        text-align: right;\n",
       "    }\n",
       "</style>\n",
       "<table border=\"1\" class=\"dataframe\">\n",
       "  <thead>\n",
       "    <tr style=\"text-align: right;\">\n",
       "      <th></th>\n",
       "      <th>datetime</th>\n",
       "      <th>season</th>\n",
       "      <th>holiday</th>\n",
       "      <th>workingday</th>\n",
       "      <th>weather</th>\n",
       "      <th>temp</th>\n",
       "      <th>atemp</th>\n",
       "      <th>humidity</th>\n",
       "      <th>windspeed</th>\n",
       "      <th>casual</th>\n",
       "      <th>registered</th>\n",
       "      <th>count</th>\n",
       "    </tr>\n",
       "  </thead>\n",
       "  <tbody>\n",
       "    <tr>\n",
       "      <th>0</th>\n",
       "      <td>2011-01-01 00:00:00</td>\n",
       "      <td>1</td>\n",
       "      <td>0</td>\n",
       "      <td>0</td>\n",
       "      <td>1</td>\n",
       "      <td>9.84</td>\n",
       "      <td>14.395</td>\n",
       "      <td>81</td>\n",
       "      <td>0.0</td>\n",
       "      <td>3</td>\n",
       "      <td>13</td>\n",
       "      <td>16</td>\n",
       "    </tr>\n",
       "    <tr>\n",
       "      <th>1</th>\n",
       "      <td>2011-01-01 01:00:00</td>\n",
       "      <td>1</td>\n",
       "      <td>0</td>\n",
       "      <td>0</td>\n",
       "      <td>1</td>\n",
       "      <td>9.02</td>\n",
       "      <td>13.635</td>\n",
       "      <td>80</td>\n",
       "      <td>0.0</td>\n",
       "      <td>8</td>\n",
       "      <td>32</td>\n",
       "      <td>40</td>\n",
       "    </tr>\n",
       "    <tr>\n",
       "      <th>2</th>\n",
       "      <td>2011-01-01 02:00:00</td>\n",
       "      <td>1</td>\n",
       "      <td>0</td>\n",
       "      <td>0</td>\n",
       "      <td>1</td>\n",
       "      <td>9.02</td>\n",
       "      <td>13.635</td>\n",
       "      <td>80</td>\n",
       "      <td>0.0</td>\n",
       "      <td>5</td>\n",
       "      <td>27</td>\n",
       "      <td>32</td>\n",
       "    </tr>\n",
       "    <tr>\n",
       "      <th>3</th>\n",
       "      <td>2011-01-01 03:00:00</td>\n",
       "      <td>1</td>\n",
       "      <td>0</td>\n",
       "      <td>0</td>\n",
       "      <td>1</td>\n",
       "      <td>9.84</td>\n",
       "      <td>14.395</td>\n",
       "      <td>75</td>\n",
       "      <td>0.0</td>\n",
       "      <td>3</td>\n",
       "      <td>10</td>\n",
       "      <td>13</td>\n",
       "    </tr>\n",
       "    <tr>\n",
       "      <th>4</th>\n",
       "      <td>2011-01-01 04:00:00</td>\n",
       "      <td>1</td>\n",
       "      <td>0</td>\n",
       "      <td>0</td>\n",
       "      <td>1</td>\n",
       "      <td>9.84</td>\n",
       "      <td>14.395</td>\n",
       "      <td>75</td>\n",
       "      <td>0.0</td>\n",
       "      <td>0</td>\n",
       "      <td>1</td>\n",
       "      <td>1</td>\n",
       "    </tr>\n",
       "  </tbody>\n",
       "</table>\n",
       "</div>"
      ],
      "text/plain": [
       "              datetime  season  holiday  workingday  weather  temp   atemp  \\\n",
       "0  2011-01-01 00:00:00       1        0           0        1  9.84  14.395   \n",
       "1  2011-01-01 01:00:00       1        0           0        1  9.02  13.635   \n",
       "2  2011-01-01 02:00:00       1        0           0        1  9.02  13.635   \n",
       "3  2011-01-01 03:00:00       1        0           0        1  9.84  14.395   \n",
       "4  2011-01-01 04:00:00       1        0           0        1  9.84  14.395   \n",
       "\n",
       "   humidity  windspeed  casual  registered  count  \n",
       "0        81        0.0       3          13     16  \n",
       "1        80        0.0       8          32     40  \n",
       "2        80        0.0       5          27     32  \n",
       "3        75        0.0       3          10     13  \n",
       "4        75        0.0       0           1      1  "
      ]
     },
     "execution_count": 3,
     "metadata": {},
     "output_type": "execute_result"
    }
   ],
   "source": [
    "bike.head()"
   ]
  },
  {
   "cell_type": "markdown",
   "id": "8a03bd3d",
   "metadata": {},
   "source": [
    ".head()를 이용하여 데이터를 확인하였다."
   ]
  },
  {
   "cell_type": "markdown",
   "id": "9e69c04f",
   "metadata": {},
   "source": [
    "## 결측치 확인"
   ]
  },
  {
   "cell_type": "code",
   "execution_count": 4,
   "id": "c55e64c6",
   "metadata": {},
   "outputs": [
    {
     "name": "stdout",
     "output_type": "stream",
     "text": [
      "<class 'pandas.core.frame.DataFrame'>\n",
      "RangeIndex: 10886 entries, 0 to 10885\n",
      "Data columns (total 12 columns):\n",
      " #   Column      Non-Null Count  Dtype  \n",
      "---  ------      --------------  -----  \n",
      " 0   datetime    10886 non-null  object \n",
      " 1   season      10886 non-null  int64  \n",
      " 2   holiday     10886 non-null  int64  \n",
      " 3   workingday  10886 non-null  int64  \n",
      " 4   weather     10886 non-null  int64  \n",
      " 5   temp        10886 non-null  float64\n",
      " 6   atemp       10886 non-null  float64\n",
      " 7   humidity    10886 non-null  int64  \n",
      " 8   windspeed   10886 non-null  float64\n",
      " 9   casual      10886 non-null  int64  \n",
      " 10  registered  10886 non-null  int64  \n",
      " 11  count       10886 non-null  int64  \n",
      "dtypes: float64(3), int64(8), object(1)\n",
      "memory usage: 1020.7+ KB\n"
     ]
    }
   ],
   "source": [
    "bike.info()"
   ]
  },
  {
   "cell_type": "markdown",
   "id": "8961f49a",
   "metadata": {},
   "source": [
    ".info()를 이용하여 결측치를 확인하였다 (count의 갯수가 다른 컬럼들 보다 낮은게 있으면 결측치가 있는거). 결측치 확인 결과 bike dataset에는 결측치가 존재하지 않는다는 것을 알게되었다."
   ]
  },
  {
   "cell_type": "markdown",
   "id": "3829c3c0",
   "metadata": {},
   "source": [
    "## 이상치 확인"
   ]
  },
  {
   "cell_type": "code",
   "execution_count": null,
   "id": "f95a7413",
   "metadata": {},
   "outputs": [
    {
     "name": "stdout",
     "output_type": "stream",
     "text": [
      "--- IQR 기반 이상치 탐지 결과 ---\n",
      "\n",
      "컬럼 'season'에서 이상치가 발견되지 않았습니다.\n",
      "\n",
      "컬럼 'holiday'에서 발견된 이상치 (총 311개):\n",
      "372      1\n",
      "373      1\n",
      "374      1\n",
      "375      1\n",
      "376      1\n",
      "        ..\n",
      "10257    1\n",
      "10258    1\n",
      "10259    1\n",
      "10260    1\n",
      "10261    1\n",
      "Name: holiday, Length: 311, dtype: int64\n",
      "\n",
      "컬럼 'workingday'에서 이상치가 발견되지 않았습니다.\n",
      "\n",
      "컬럼 'weather'에서 발견된 이상치 (총 1개):\n",
      "5631    4\n",
      "Name: weather, dtype: int64\n",
      "\n",
      "컬럼 'temp'에서 이상치가 발견되지 않았습니다.\n",
      "\n",
      "컬럼 'atemp'에서 이상치가 발견되지 않았습니다.\n",
      "\n",
      "컬럼 'humidity'에서 발견된 이상치 (총 22개):\n",
      "1091    0\n",
      "1092    0\n",
      "1093    0\n",
      "1094    0\n",
      "1095    0\n",
      "1096    0\n",
      "1097    0\n",
      "1098    0\n",
      "1099    0\n",
      "1100    0\n",
      "1101    0\n",
      "1102    0\n",
      "1103    0\n",
      "1104    0\n",
      "1105    0\n",
      "1106    0\n",
      "1107    0\n",
      "1108    0\n",
      "1109    0\n",
      "1110    0\n",
      "1111    0\n",
      "1112    0\n",
      "Name: humidity, dtype: int64\n",
      "\n",
      "컬럼 'windspeed'에서 발견된 이상치 (총 227개):\n",
      "175      32.9975\n",
      "178      36.9974\n",
      "194      35.0008\n",
      "196      35.0008\n",
      "265      39.0007\n",
      "          ...   \n",
      "10013    32.9975\n",
      "10154    32.9975\n",
      "10263    43.0006\n",
      "10540    32.9975\n",
      "10853    32.9975\n",
      "Name: windspeed, Length: 227, dtype: float64\n",
      "\n",
      "컬럼 'casual'에서 발견된 이상치 (총 749개):\n",
      "1173     144\n",
      "1174     149\n",
      "1175     124\n",
      "1311     126\n",
      "1312     174\n",
      "        ... \n",
      "10610    122\n",
      "10611    148\n",
      "10612    164\n",
      "10613    167\n",
      "10614    139\n",
      "Name: casual, Length: 749, dtype: int64\n",
      "\n",
      "컬럼 'registered'에서 발견된 이상치 (총 423개):\n",
      "1987     539\n",
      "2011     532\n",
      "2059     540\n",
      "2179     521\n",
      "2371     516\n",
      "        ... \n",
      "10855    533\n",
      "10856    512\n",
      "10870    665\n",
      "10879    536\n",
      "10880    546\n",
      "Name: registered, Length: 423, dtype: int64\n",
      "\n",
      "컬럼 'count'에서 발견된 이상치 (총 300개):\n",
      "6611     712\n",
      "6634     676\n",
      "6635     734\n",
      "6649     662\n",
      "6658     782\n",
      "        ... \n",
      "10678    724\n",
      "10702    688\n",
      "10726    679\n",
      "10846    662\n",
      "10870    678\n",
      "Name: count, Length: 300, dtype: int64\n",
      "\n",
      "-------------------------------\n"
     ]
    }
   ],
   "source": [
    "import pandas as pd\n",
    "\n",
    "def find_outliers_iqr(df):\n",
    "    \"\"\"\n",
    "    DataFrame의 각 수치형 컬럼에 대해 IQR 기반 이상치를 탐지하고 출력합니다.\n",
    "\n",
    "    Args:\n",
    "        df (pd.DataFrame): 이상치를 탐지할 데이터프레임.\n",
    "        \n",
    "    Returns:\n",
    "        dict: 각 컬럼의 이상치 데이터를 담은 딕셔너리.\n",
    "    \"\"\"\n",
    "    outliers_data = {}\n",
    "    \n",
    "    # 수치형 컬럼만 선택\n",
    "    numeric_cols = df.select_dtypes(include=['number']).columns\n",
    "    \n",
    "    print(\"--- IQR 기반 이상치 탐지 결과 ---\")\n",
    "    \n",
    "    for col in numeric_cols:\n",
    "        Q1 = df[col].quantile(0.25)\n",
    "        Q3 = df[col].quantile(0.75)\n",
    "        IQR = Q3 - Q1\n",
    "        \n",
    "        # 이상치 경계 설정\n",
    "        lower_bound = Q1 - 1.5 * IQR\n",
    "        upper_bound = Q3 + 1.5 * IQR\n",
    "        \n",
    "        # 이상치 필터링\n",
    "        outliers = df[(df[col] < lower_bound) | (df[col] > upper_bound)][col]\n",
    "        \n",
    "        if not outliers.empty:\n",
    "            print(f\"\\n컬럼 '{col}'에서 발견된 이상치 (총 {len(outliers)}개):\")\n",
    "            print(outliers)\n",
    "            outliers_data[col] = outliers\n",
    "        else:\n",
    "            print(f\"\\n컬럼 '{col}'에서 이상치가 발견되지 않았습니다.\")\n",
    "            \n",
    "    print(\"\\n-------------------------------\")\n",
    "    return outliers_data\n",
    "\n",
    "# 함수 호출 (이전에 정의된 'bike' 데이터프레임을 사용)\n",
    "outliers_found = find_outliers_iqr(bike)"
   ]
  },
  {
   "cell_type": "markdown",
   "id": "af7279e0",
   "metadata": {},
   "source": [
    "이상치를 확인하기 위해서 IQR을 사용하여 이상치 경계를 설정하였다.\\\n",
    "이상치의 경계는\n",
    "- lower_bound = Q1 - 1.5 * IQR\n",
    "- upper_bound = Q3 + 1.5 * IQR\\\n",
    "로 설정하였다."
   ]
  },
  {
   "cell_type": "code",
   "execution_count": 7,
   "id": "be3b8677",
   "metadata": {},
   "outputs": [
    {
     "name": "stdout",
     "output_type": "stream",
     "text": [
      "--- IQR 기반 이상치 제거 시작 ---\n",
      "컬럼 'season'에서 제거된 이상치 행이 없습니다.\n",
      "컬럼 'holiday'에서 311개의 이상치 행이 제거되었습니다.\n",
      "컬럼 'workingday'에서 제거된 이상치 행이 없습니다.\n",
      "컬럼 'weather'에서 1개의 이상치 행이 제거되었습니다.\n",
      "컬럼 'temp'에서 제거된 이상치 행이 없습니다.\n",
      "컬럼 'atemp'에서 제거된 이상치 행이 없습니다.\n",
      "컬럼 'humidity'에서 22개의 이상치 행이 제거되었습니다.\n",
      "컬럼 'windspeed'에서 220개의 이상치 행이 제거되었습니다.\n",
      "컬럼 'casual'에서 709개의 이상치 행이 제거되었습니다.\n",
      "컬럼 'registered'에서 510개의 이상치 행이 제거되었습니다.\n",
      "컬럼 'count'에서 24개의 이상치 행이 제거되었습니다.\n",
      "--- IQR 기반 이상치 제거 완료 ---\n",
      "\n",
      "원본 데이터프레임 행 수: 10886\n",
      "이상치 제거 후 데이터프레임 행 수: 9089\n"
     ]
    }
   ],
   "source": [
    "import pandas as pd\n",
    "\n",
    "def remove_outliers_iqr(df):\n",
    "    \"\"\"\n",
    "    DataFrame의 각 수치형 컬럼에 대해 IQR 기반 이상치를 제거합니다.\n",
    "    \n",
    "    Args:\n",
    "        df (pd.DataFrame): 이상치를 제거할 데이터프레임.\n",
    "        \n",
    "    Returns:\n",
    "        pd.DataFrame: 이상치가 제거된 새로운 데이터프레임.\n",
    "    \"\"\"\n",
    "    df_cleaned = df.copy() # 원본 데이터프레임을 수정하지 않기 위해 복사\n",
    "    \n",
    "    # 수치형 컬럼만 선택\n",
    "    numeric_cols = df_cleaned.select_dtypes(include=['number']).columns\n",
    "    \n",
    "    print(\"--- IQR 기반 이상치 제거 시작 ---\")\n",
    "    \n",
    "    for col in numeric_cols:\n",
    "        Q1 = df_cleaned[col].quantile(0.25)\n",
    "        Q3 = df_cleaned[col].quantile(0.75)\n",
    "        IQR = Q3 - Q1\n",
    "        \n",
    "        lower_bound = Q1 - 1.5 * IQR\n",
    "        upper_bound = Q3 + 1.5 * IQR\n",
    "        \n",
    "        # 이상치가 아닌 데이터만 선택 (이상치 제거)\n",
    "        # 조건: lower_bound <= 값 <= upper_bound\n",
    "        initial_rows = len(df_cleaned)\n",
    "        df_cleaned = df_cleaned[(df_cleaned[col] >= lower_bound) & (df_cleaned[col] <= upper_bound)]\n",
    "        removed_rows = initial_rows - len(df_cleaned)\n",
    "        \n",
    "        if removed_rows > 0:\n",
    "            print(f\"컬럼 '{col}'에서 {removed_rows}개의 이상치 행이 제거되었습니다.\")\n",
    "        else:\n",
    "            print(f\"컬럼 '{col}'에서 제거된 이상치 행이 없습니다.\")\n",
    "            \n",
    "    print(\"--- IQR 기반 이상치 제거 완료 ---\")\n",
    "    return df_cleaned\n",
    "\n",
    "# 함수 호출: bike_cleaned 변수에 이상치가 제거된 새로운 데이터프레임 저장\n",
    "bike_cleaned = remove_outliers_iqr(bike)\n",
    "\n",
    "# 제거 전후 데이터프레임 행 수 비교\n",
    "print(f\"\\n원본 데이터프레임 행 수: {len(bike)}\")\n",
    "print(f\"이상치 제거 후 데이터프레임 행 수: {len(bike_cleaned)}\")"
   ]
  },
  {
   "cell_type": "markdown",
   "id": "2bd2f71b",
   "metadata": {},
   "source": [
    "각 컬럼에서 이상치가 들어있는 행을 제거하였다."
   ]
  },
  {
   "cell_type": "markdown",
   "id": "09b8f166",
   "metadata": {},
   "source": [
    "## 상관관계 확인"
   ]
  },
  {
   "cell_type": "code",
   "execution_count": 8,
   "id": "a71da961",
   "metadata": {},
   "outputs": [
    {
     "name": "stdout",
     "output_type": "stream",
     "text": [
      "상관관계 (count 기준):\n",
      " count         1.000000\n",
      "registered    0.984713\n",
      "casual        0.711535\n",
      "temp          0.335394\n",
      "atemp         0.332581\n",
      "season        0.166762\n",
      "workingday    0.127000\n",
      "windspeed     0.112027\n",
      "weather      -0.099841\n",
      "humidity     -0.300010\n",
      "holiday            NaN\n",
      "Name: count, dtype: float64\n"
     ]
    },
    {
     "data": {
      "image/png": "[encoded data removed]",
      "text/plain": [
       "<Figure size 1000x800 with 2 Axes>"
      ]
     },
     "metadata": {},
     "output_type": "display_data"
    }
   ],
   "source": [
    "import pandas as pd\n",
    "import seaborn as sns\n",
    "import matplotlib.pyplot as plt\n",
    "\n",
    "# 'count' 컬럼과의 상관관계 계산\n",
    "# numeric_only=True 옵션을 사용하여 숫자형 컬럼만 포함\n",
    "correlations = bike_cleaned.corr(numeric_only=True)['count'].sort_values(ascending=False)\n",
    "print(\"상관관계 (count 기준):\\n\", correlations)\n",
    "\n",
    "# 상관관계를 시각화하는 히트맵 그리기\n",
    "plt.figure(figsize=(10, 8))\n",
    "sns.heatmap(bike_cleaned.corr(numeric_only=True), annot=True, cmap='coolwarm', fmt=\".2f\")\n",
    "plt.title('Correlation Matrix of Bike Data')\n",
    "plt.show()"
   ]
  },
  {
   "cell_type": "markdown",
   "id": "1ad6b56e",
   "metadata": {},
   "source": [
    "y element인 'count'와 연관이 없는 컬럼을 찾아내기 위해 correlation matrix를 사용하였다."
   ]
  },
  {
   "cell_type": "markdown",
   "id": "505597a5",
   "metadata": {},
   "source": [
    "# 모델 만들기"
   ]
  },
  {
   "cell_type": "code",
   "execution_count": 29,
   "id": "673131d1",
   "metadata": {},
   "outputs": [
    {
     "data": {
      "text/plain": [
       "(9089, 12)"
      ]
     },
     "execution_count": 29,
     "metadata": {},
     "output_type": "execute_result"
    }
   ],
   "source": [
    "X = bike_cleaned.drop(['datetime', 'count', 'weather', 'holiday', 'humidity', 'casual', 'registered'], axis=1).values\n",
    "y = bike_cleaned['count'].values\n",
    "bike_cleaned.shape"
   ]
  },
  {
   "cell_type": "markdown",
   "id": "83f403fb",
   "metadata": {},
   "source": [
    "X 제외 목록\n",
    "- Weather, Humidity => 상관계수가 음수\n",
    "- Holiday => 상관계수가 NaN\n",
    "- Casual, Registered => 둘을 합치면 결국 y element인 count"
   ]
  },
  {
   "cell_type": "markdown",
   "id": "97a99584",
   "metadata": {},
   "source": [
    "## 스케일러 객체 생성"
   ]
  },
  {
   "cell_type": "code",
   "execution_count": 134,
   "id": "37ed7a18",
   "metadata": {},
   "outputs": [],
   "source": [
    "scaler = StandardScaler()\n",
    "X_scaled = scaler.fit_transform(X)"
   ]
  },
  {
   "cell_type": "code",
   "execution_count": 81,
   "id": "c9275a09",
   "metadata": {},
   "outputs": [
    {
     "data": {
      "text/plain": [
       "array([139.80637438, 219.59485906, 187.33620623])"
      ]
     },
     "execution_count": 81,
     "metadata": {},
     "output_type": "execute_result"
    }
   ],
   "source": [
    "X_train, X_test, y_train, y_test = train_test_split(X_scaled, y, test_size = 0.3, random_state = 156)\n",
    "lr = LinearRegression()\n",
    "lr.fit(X_train, y_train)\n",
    "y_pred = lr.predict(X_test)\n",
    "y_pred[:3]"
   ]
  },
  {
   "cell_type": "code",
   "execution_count": 135,
   "id": "724720be",
   "metadata": {},
   "outputs": [],
   "source": [
    "X_train_scaled = scaler.fit_transform(X_train)\n",
    "X_test_scaled = scaler.transform(X_test)"
   ]
  },
  {
   "cell_type": "markdown",
   "id": "53cb34d4",
   "metadata": {},
   "source": [
    "더 나은 결과를 위해 스케일러 객체를 생성하였다."
   ]
  },
  {
   "cell_type": "markdown",
   "id": "fbbeb213",
   "metadata": {},
   "source": [
    "# 모델평가"
   ]
  },
  {
   "cell_type": "markdown",
   "id": "88c50814",
   "metadata": {},
   "source": [
    "## 단독모델"
   ]
  },
  {
   "cell_type": "code",
   "execution_count": 82,
   "id": "26a33fe5",
   "metadata": {},
   "outputs": [
    {
     "data": {
      "text/plain": [
       "(np.float64(114.26169933581403), np.float64(13055.735935107963))"
      ]
     },
     "execution_count": 82,
     "metadata": {},
     "output_type": "execute_result"
    }
   ],
   "source": [
    "# 평가\n",
    "mse = mean_squared_error(y_test, y_pred)\n",
    "rmse = np.sqrt(mse)\n",
    "rmse, mse"
   ]
  },
  {
   "cell_type": "code",
   "execution_count": 83,
   "id": "8298ca84",
   "metadata": {},
   "outputs": [
    {
     "data": {
      "text/plain": [
       "np.float64(0.11794264285300216)"
      ]
     },
     "execution_count": 83,
     "metadata": {},
     "output_type": "execute_result"
    }
   ],
   "source": [
    "# 결정계수\n",
    "r2_score(y_test, y_pred)"
   ]
  },
  {
   "cell_type": "code",
   "execution_count": 84,
   "id": "ecdb8e89",
   "metadata": {},
   "outputs": [
    {
     "data": {
      "text/plain": [
       "(np.float64(144.14084540907305),\n",
       " array([11.26421207, 10.98705648,  6.72596063, 32.7709523 , 18.1437777 ]))"
      ]
     },
     "execution_count": 84,
     "metadata": {},
     "output_type": "execute_result"
    }
   ],
   "source": [
    "# 회귀식\n",
    "# W1, W0\n",
    "lr.intercept_, lr.coef_"
   ]
  },
  {
   "cell_type": "code",
   "execution_count": 85,
   "id": "e077f523",
   "metadata": {},
   "outputs": [
    {
     "data": {
      "text/plain": [
       "(np.float64(144.1), array([11.3, 11. ,  6.7, 32.8, 18.1]))"
      ]
     },
     "execution_count": 85,
     "metadata": {},
     "output_type": "execute_result"
    }
   ],
   "source": [
    "np.round(lr.intercept_, 1), np.round(lr.coef_, 1) # 위에 있는 식을 계산한 결과"
   ]
  },
  {
   "cell_type": "code",
   "execution_count": 86,
   "id": "0c831595",
   "metadata": {},
   "outputs": [
    {
     "data": {
      "text/plain": [
       "atemp         32.8\n",
       "windspeed     18.1\n",
       "season        11.3\n",
       "workingday    11.0\n",
       "temp           6.7\n",
       "dtype: float64"
      ]
     },
     "execution_count": 86,
     "metadata": {},
     "output_type": "execute_result"
    }
   ],
   "source": [
    "pd.Series(data = np.round(lr.coef_, 1), index = bike_cleaned.drop(['datetime', 'count', 'weather', 'holiday', 'humidity', 'casual', 'registered'], axis=1).columns).sort_values(ascending = False)"
   ]
  },
  {
   "cell_type": "code",
   "execution_count": 87,
   "id": "2eefbfaf",
   "metadata": {},
   "outputs": [
    {
     "data": {
      "text/plain": [
       "array([ -7261.92576343, -14921.72675252, -13042.09237345, -15602.91116367,\n",
       "       -18484.52315686])"
      ]
     },
     "execution_count": 87,
     "metadata": {},
     "output_type": "execute_result"
    }
   ],
   "source": [
    "from sklearn.model_selection import cross_val_score\n",
    "neg_mse_scores = cross_val_score(lr, X_scaled, y, scoring = 'neg_mean_squared_error', cv = 5)\n",
    "neg_mse_scores"
   ]
  },
  {
   "cell_type": "code",
   "execution_count": 88,
   "id": "35581b40",
   "metadata": {},
   "outputs": [
    {
     "data": {
      "text/plain": [
       "(np.float64(116.48856934338994),\n",
       " array([ 85.21693355, 122.15451998, 114.2019806 , 124.91161341,\n",
       "        135.95779918]))"
      ]
     },
     "execution_count": 88,
     "metadata": {},
     "output_type": "execute_result"
    }
   ],
   "source": [
    "# MSE, RMSE\n",
    "RMSE = np.sqrt(neg_mse_scores * -1)\n",
    "np.mean(RMSE), RMSE"
   ]
  },
  {
   "cell_type": "code",
   "execution_count": 89,
   "id": "6f60e8b1",
   "metadata": {},
   "outputs": [
    {
     "data": {
      "text/plain": [
       "(array([-0.07576539, -0.01207646, -0.017916  ,  0.09644222, -0.00511995]),\n",
       " np.float64(-0.0028871142523802184))"
      ]
     },
     "execution_count": 89,
     "metadata": {},
     "output_type": "execute_result"
    }
   ],
   "source": [
    "# R2\n",
    "r2_scores = cross_val_score(lr, X_scaled, y, scoring = 'r2', cv = 5)\n",
    "r2_scores, np.mean(r2_scores)"
   ]
  },
  {
   "cell_type": "code",
   "execution_count": 90,
   "id": "82f6b5a4",
   "metadata": {},
   "outputs": [
    {
     "name": "stdout",
     "output_type": "stream",
     "text": [
      "Linear Regression\n",
      "RMSE: 114.26\n",
      "R²: 0.1179\n"
     ]
    }
   ],
   "source": [
    "# Linear Regression 학습 및 평가\n",
    "lr = LinearRegression()\n",
    "lr.fit(X_train, y_train)\n",
    "lr_pred = lr.predict(X_test)\n",
    "lr_rmse = np.sqrt(mean_squared_error(y_test, lr_pred))\n",
    "lr_r2 = r2_score(y_test, lr_pred)\n",
    "\n",
    "print(\"Linear Regression\")\n",
    "print(f\"RMSE: {lr_rmse:.2f}\")\n",
    "print(f\"R²: {lr_r2:.4f}\")"
   ]
  },
  {
   "cell_type": "code",
   "execution_count": 91,
   "id": "f8910ede",
   "metadata": {},
   "outputs": [
    {
     "name": "stdout",
     "output_type": "stream",
     "text": [
      "Random Forest Regression\n",
      "RMSE: 120.84\n",
      "R²: 0.0135\n"
     ]
    }
   ],
   "source": [
    "# Random Forest Regressor 학습 및 평가\n",
    "rf = RandomForestRegressor(n_estimators=100, random_state=200)\n",
    "rf.fit(X_train, y_train)\n",
    "rf_pred = rf.predict(X_test)\n",
    "rf_rmse = np.sqrt(mean_squared_error(y_test, rf_pred))\n",
    "rf_r2 = r2_score(y_test, rf_pred)\n",
    "\n",
    "print(\"Random Forest Regression\")\n",
    "print(f\"RMSE: {rf_rmse:.2f}\")\n",
    "print(f\"R²: {rf_r2:.4f}\")"
   ]
  },
  {
   "cell_type": "markdown",
   "id": "9af3d48e",
   "metadata": {},
   "source": [
    "Linear regression을 사용하였을 때:\n",
    "- RMSE: 114.26\n",
    "- R²: 0.1179\n",
    "\n",
    "Random Forest Regression를 사용하였을 때:\n",
    "- RMSE: 120.84\n",
    "- R²: 0.0135\n",
    "\n",
    "Linear Regression이 RMSE와 R² 모두에서 Random Forest보다 성능이 우수하다. 특히 R²가 Random Forest에서 0.01 수준으로 매우 낮게 나온 것은, 모델이 데이터를 거의 설명하지 못하고 있다는 뜻이다. 이는 과적합 혹은 데이터가 비선형이긴 하나, feature 간 구조가 Random Forest가 잘 잡아내지 못하는 경우일 수 있다. 반면, Linear Regression은 비록 R²가 높지는 않지만 상대적으로 더 나은 일반화 성능을 보였다."
   ]
  },
  {
   "cell_type": "markdown",
   "id": "2a68421e",
   "metadata": {},
   "source": [
    "## 교차검증"
   ]
  },
  {
   "cell_type": "code",
   "execution_count": 92,
   "id": "4db31a58",
   "metadata": {},
   "outputs": [
    {
     "name": "stdout",
     "output_type": "stream",
     "text": [
      "RMSE (각 fold): [103.2240262  139.22812287 131.78927149 133.24666441 143.67899192]\n",
      "평균 RMSE: 130.23341537915593\n",
      "R² (각 fold): [-0.57843736 -0.31476512 -0.35557884 -0.0281654  -0.12252542]\n",
      "평균 R²: -0.2798944304351033\n"
     ]
    }
   ],
   "source": [
    "from sklearn.ensemble import RandomForestRegressor\n",
    "from sklearn.model_selection import cross_val_score\n",
    "import numpy as np\n",
    "\n",
    "# 모델 정의\n",
    "rf = RandomForestRegressor(random_state=42)\n",
    "\n",
    "# MSE 기반 교차검증\n",
    "neg_mse_scores = cross_val_score(rf, X_scaled, y, scoring='neg_mean_squared_error', cv=5)\n",
    "rmse_scores = np.sqrt(-neg_mse_scores)\n",
    "\n",
    "print(\"RMSE (각 fold):\", rmse_scores)\n",
    "print(\"평균 RMSE:\", np.mean(rmse_scores))\n",
    "\n",
    "# R² 기반 교차검증\n",
    "r2_scores = cross_val_score(rf, X_scaled, y, scoring='r2', cv=5)\n",
    "\n",
    "print(\"R² (각 fold):\", r2_scores)\n",
    "print(\"평균 R²:\", np.mean(r2_scores))"
   ]
  },
  {
   "cell_type": "code",
   "execution_count": null,
   "id": "4817802e",
   "metadata": {},
   "outputs": [
    {
     "name": "stdout",
     "output_type": "stream",
     "text": [
      "RMSE (각 fold): [ 85.21693355 122.15451998 114.2019806  124.91161341 135.95779918]\n",
      "평균 RMSE: 116.48856934338994\n",
      "R² (각 fold): [-0.07576539 -0.01207646 -0.017916    0.09644222 -0.00511995]\n",
      "평균 R²: -0.0028871142523802184\n"
     ]
    }
   ],
   "source": [
    "from sklearn.linear_model import LinearRegression\n",
    "from sklearn.model_selection import cross_val_score\n",
    "import numpy as np\n",
    "\n",
    "# 모델 정의\n",
    "lr = LinearRegression()\n",
    "\n",
    "# MSE 기반 교차검증\n",
    "neg_mse_scores = cross_val_score(lr, X_scaled, y, scoring='neg_mean_squared_error', cv=5)\n",
    "rmse_scores = np.sqrt(-neg_mse_scores)\n",
    "\n",
    "print(\"RMSE (각 fold):\", rmse_scores)\n",
    "print(\"평균 RMSE:\", np.mean(rmse_scores))\n",
    "\n",
    "# R² 기반 교차검증\n",
    "r2_scores = cross_val_score(lr, X_scaled, y, scoring='r2', cv=5)\n",
    "\n",
    "print(\"R² (각 fold):\", r2_scores)\n",
    "print(\"평균 R²:\", np.mean(r2_scores)) "
   ]
  },
  {
   "cell_type": "markdown",
   "id": "a863f4b7",
   "metadata": {},
   "source": [
    "## 다항회귀"
   ]
  },
  {
   "cell_type": "code",
   "execution_count": 94,
   "id": "cccddb04",
   "metadata": {},
   "outputs": [],
   "source": [
    "from sklearn.pipeline import Pipeline\n",
    "from sklearn.preprocessing import PolynomialFeatures"
   ]
  },
  {
   "cell_type": "code",
   "execution_count": 95,
   "id": "6093a32b",
   "metadata": {},
   "outputs": [
    {
     "data": {
      "text/html": [
       "<style>#sk-container-id-5 {\n",
       "  /* Definition of color scheme common for light and dark mode */\n",
       "  --sklearn-color-text: black;\n",
       "  --sklearn-color-line: gray;\n",
       "  /* Definition of color scheme for unfitted estimators */\n",
       "  --sklearn-color-unfitted-level-0: #fff5e6;\n",
       "  --sklearn-color-unfitted-level-1: #f6e4d2;\n",
       "  --sklearn-color-unfitted-level-2: #ffe0b3;\n",
       "  --sklearn-color-unfitted-level-3: chocolate;\n",
       "  /* Definition of color scheme for fitted estimators */\n",
       "  --sklearn-color-fitted-level-0: #f0f8ff;\n",
       "  --sklearn-color-fitted-level-1: #d4ebff;\n",
       "  --sklearn-color-fitted-level-2: #b3dbfd;\n",
       "  --sklearn-color-fitted-level-3: cornflowerblue;\n",
       "\n",
       "  /* Specific color for light theme */\n",
       "  --sklearn-color-text-on-default-background: var(--sg-text-color, var(--theme-code-foreground, var(--jp-content-font-color1, black)));\n",
       "  --sklearn-color-background: var(--sg-background-color, var(--theme-background, var(--jp-layout-color0, white)));\n",
       "  --sklearn-color-border-box: var(--sg-text-color, var(--theme-code-foreground, var(--jp-content-font-color1, black)));\n",
       "  --sklearn-color-icon: #696969;\n",
       "\n",
       "  @media (prefers-color-scheme: dark) {\n",
       "    /* Redefinition of color scheme for dark theme */\n",
       "    --sklearn-color-text-on-default-background: var(--sg-text-color, var(--theme-code-foreground, var(--jp-content-font-color1, white)));\n",
       "    --sklearn-color-background: var(--sg-background-color, var(--theme-background, var(--jp-layout-color0, #111)));\n",
       "    --sklearn-color-border-box: var(--sg-text-color, var(--theme-code-foreground, var(--jp-content-font-color1, white)));\n",
       "    --sklearn-color-icon: #878787;\n",
       "  }\n",
       "}\n",
       "\n",
       "#sk-container-id-5 {\n",
       "  color: var(--sklearn-color-text);\n",
       "}\n",
       "\n",
       "#sk-container-id-5 pre {\n",
       "  padding: 0;\n",
       "}\n",
       "\n",
       "#sk-container-id-5 input.sk-hidden--visually {\n",
       "  border: 0;\n",
       "  clip: rect(1px 1px 1px 1px);\n",
       "  clip: rect(1px, 1px, 1px, 1px);\n",
       "  height: 1px;\n",
       "  margin: -1px;\n",
       "  overflow: hidden;\n",
       "  padding: 0;\n",
       "  position: absolute;\n",
       "  width: 1px;\n",
       "}\n",
       "\n",
       "#sk-container-id-5 div.sk-dashed-wrapped {\n",
       "  border: 1px dashed var(--sklearn-color-line);\n",
       "  margin: 0 0.4em 0.5em 0.4em;\n",
       "  box-sizing: border-box;\n",
       "  padding-bottom: 0.4em;\n",
       "  background-color: var(--sklearn-color-background);\n",
       "}\n",
       "\n",
       "#sk-container-id-5 div.sk-container {\n",
       "  /* jupyter's `normalize.less` sets `[hidden] { display: none; }`\n",
       "     but bootstrap.min.css set `[hidden] { display: none !important; }`\n",
       "     so we also need the `!important` here to be able to override the\n",
       "     default hidden behavior on the sphinx rendered scikit-learn.org.\n",
       "     See: https://github.com/scikit-learn/scikit-learn/issues/21755 */\n",
       "  display: inline-block !important;\n",
       "  position: relative;\n",
       "}\n",
       "\n",
       "#sk-container-id-5 div.sk-text-repr-fallback {\n",
       "  display: none;\n",
       "}\n",
       "\n",
       "div.sk-parallel-item,\n",
       "div.sk-serial,\n",
       "div.sk-item {\n",
       "  /* draw centered vertical line to link estimators */\n",
       "  background-image: linear-gradient(var(--sklearn-color-text-on-default-background), var(--sklearn-color-text-on-default-background));\n",
       "  background-size: 2px 100%;\n",
       "  background-repeat: no-repeat;\n",
       "  background-position: center center;\n",
       "}\n",
       "\n",
       "/* Parallel-specific style estimator block */\n",
       "\n",
       "#sk-container-id-5 div.sk-parallel-item::after {\n",
       "  content: \"\";\n",
       "  width: 100%;\n",
       "  border-bottom: 2px solid var(--sklearn-color-text-on-default-background);\n",
       "  flex-grow: 1;\n",
       "}\n",
       "\n",
       "#sk-container-id-5 div.sk-parallel {\n",
       "  display: flex;\n",
       "  align-items: stretch;\n",
       "  justify-content: center;\n",
       "  background-color: var(--sklearn-color-background);\n",
       "  position: relative;\n",
       "}\n",
       "\n",
       "#sk-container-id-5 div.sk-parallel-item {\n",
       "  display: flex;\n",
       "  flex-direction: column;\n",
       "}\n",
       "\n",
       "#sk-container-id-5 div.sk-parallel-item:first-child::after {\n",
       "  align-self: flex-end;\n",
       "  width: 50%;\n",
       "}\n",
       "\n",
       "#sk-container-id-5 div.sk-parallel-item:last-child::after {\n",
       "  align-self: flex-start;\n",
       "  width: 50%;\n",
       "}\n",
       "\n",
       "#sk-container-id-5 div.sk-parallel-item:only-child::after {\n",
       "  width: 0;\n",
       "}\n",
       "\n",
       "/* Serial-specific style estimator block */\n",
       "\n",
       "#sk-container-id-5 div.sk-serial {\n",
       "  display: flex;\n",
       "  flex-direction: column;\n",
       "  align-items: center;\n",
       "  background-color: var(--sklearn-color-background);\n",
       "  padding-right: 1em;\n",
       "  padding-left: 1em;\n",
       "}\n",
       "\n",
       "\n",
       "/* Toggleable style: style used for estimator/Pipeline/ColumnTransformer box that is\n",
       "clickable and can be expanded/collapsed.\n",
       "- Pipeline and ColumnTransformer use this feature and define the default style\n",
       "- Estimators will overwrite some part of the style using the `sk-estimator` class\n",
       "*/\n",
       "\n",
       "/* Pipeline and ColumnTransformer style (default) */\n",
       "\n",
       "#sk-container-id-5 div.sk-toggleable {\n",
       "  /* Default theme specific background. It is overwritten whether we have a\n",
       "  specific estimator or a Pipeline/ColumnTransformer */\n",
       "  background-color: var(--sklearn-color-background);\n",
       "}\n",
       "\n",
       "/* Toggleable label */\n",
       "#sk-container-id-5 label.sk-toggleable__label {\n",
       "  cursor: pointer;\n",
       "  display: block;\n",
       "  width: 100%;\n",
       "  margin-bottom: 0;\n",
       "  padding: 0.5em;\n",
       "  box-sizing: border-box;\n",
       "  text-align: center;\n",
       "}\n",
       "\n",
       "#sk-container-id-5 label.sk-toggleable__label-arrow:before {\n",
       "  /* Arrow on the left of the label */\n",
       "  content: \"▸\";\n",
       "  float: left;\n",
       "  margin-right: 0.25em;\n",
       "  color: var(--sklearn-color-icon);\n",
       "}\n",
       "\n",
       "#sk-container-id-5 label.sk-toggleable__label-arrow:hover:before {\n",
       "  color: var(--sklearn-color-text);\n",
       "}\n",
       "\n",
       "/* Toggleable content - dropdown */\n",
       "\n",
       "#sk-container-id-5 div.sk-toggleable__content {\n",
       "  max-height: 0;\n",
       "  max-width: 0;\n",
       "  overflow: hidden;\n",
       "  text-align: left;\n",
       "  /* unfitted */\n",
       "  background-color: var(--sklearn-color-unfitted-level-0);\n",
       "}\n",
       "\n",
       "#sk-container-id-5 div.sk-toggleable__content.fitted {\n",
       "  /* fitted */\n",
       "  background-color: var(--sklearn-color-fitted-level-0);\n",
       "}\n",
       "\n",
       "#sk-container-id-5 div.sk-toggleable__content pre {\n",
       "  margin: 0.2em;\n",
       "  border-radius: 0.25em;\n",
       "  color: var(--sklearn-color-text);\n",
       "  /* unfitted */\n",
       "  background-color: var(--sklearn-color-unfitted-level-0);\n",
       "}\n",
       "\n",
       "#sk-container-id-5 div.sk-toggleable__content.fitted pre {\n",
       "  /* unfitted */\n",
       "  background-color: var(--sklearn-color-fitted-level-0);\n",
       "}\n",
       "\n",
       "#sk-container-id-5 input.sk-toggleable__control:checked~div.sk-toggleable__content {\n",
       "  /* Expand drop-down */\n",
       "  max-height: 200px;\n",
       "  max-width: 100%;\n",
       "  overflow: auto;\n",
       "}\n",
       "\n",
       "#sk-container-id-5 input.sk-toggleable__control:checked~label.sk-toggleable__label-arrow:before {\n",
       "  content: \"▾\";\n",
       "}\n",
       "\n",
       "/* Pipeline/ColumnTransformer-specific style */\n",
       "\n",
       "#sk-container-id-5 div.sk-label input.sk-toggleable__control:checked~label.sk-toggleable__label {\n",
       "  color: var(--sklearn-color-text);\n",
       "  background-color: var(--sklearn-color-unfitted-level-2);\n",
       "}\n",
       "\n",
       "#sk-container-id-5 div.sk-label.fitted input.sk-toggleable__control:checked~label.sk-toggleable__label {\n",
       "  background-color: var(--sklearn-color-fitted-level-2);\n",
       "}\n",
       "\n",
       "/* Estimator-specific style */\n",
       "\n",
       "/* Colorize estimator box */\n",
       "#sk-container-id-5 div.sk-estimator input.sk-toggleable__control:checked~label.sk-toggleable__label {\n",
       "  /* unfitted */\n",
       "  background-color: var(--sklearn-color-unfitted-level-2);\n",
       "}\n",
       "\n",
       "#sk-container-id-5 div.sk-estimator.fitted input.sk-toggleable__control:checked~label.sk-toggleable__label {\n",
       "  /* fitted */\n",
       "  background-color: var(--sklearn-color-fitted-level-2);\n",
       "}\n",
       "\n",
       "#sk-container-id-5 div.sk-label label.sk-toggleable__label,\n",
       "#sk-container-id-5 div.sk-label label {\n",
       "  /* The background is the default theme color */\n",
       "  color: var(--sklearn-color-text-on-default-background);\n",
       "}\n",
       "\n",
       "/* On hover, darken the color of the background */\n",
       "#sk-container-id-5 div.sk-label:hover label.sk-toggleable__label {\n",
       "  color: var(--sklearn-color-text);\n",
       "  background-color: var(--sklearn-color-unfitted-level-2);\n",
       "}\n",
       "\n",
       "/* Label box, darken color on hover, fitted */\n",
       "#sk-container-id-5 div.sk-label.fitted:hover label.sk-toggleable__label.fitted {\n",
       "  color: var(--sklearn-color-text);\n",
       "  background-color: var(--sklearn-color-fitted-level-2);\n",
       "}\n",
       "\n",
       "/* Estimator label */\n",
       "\n",
       "#sk-container-id-5 div.sk-label label {\n",
       "  font-family: monospace;\n",
       "  font-weight: bold;\n",
       "  display: inline-block;\n",
       "  line-height: 1.2em;\n",
       "}\n",
       "\n",
       "#sk-container-id-5 div.sk-label-container {\n",
       "  text-align: center;\n",
       "}\n",
       "\n",
       "/* Estimator-specific */\n",
       "#sk-container-id-5 div.sk-estimator {\n",
       "  font-family: monospace;\n",
       "  border: 1px dotted var(--sklearn-color-border-box);\n",
       "  border-radius: 0.25em;\n",
       "  box-sizing: border-box;\n",
       "  margin-bottom: 0.5em;\n",
       "  /* unfitted */\n",
       "  background-color: var(--sklearn-color-unfitted-level-0);\n",
       "}\n",
       "\n",
       "#sk-container-id-5 div.sk-estimator.fitted {\n",
       "  /* fitted */\n",
       "  background-color: var(--sklearn-color-fitted-level-0);\n",
       "}\n",
       "\n",
       "/* on hover */\n",
       "#sk-container-id-5 div.sk-estimator:hover {\n",
       "  /* unfitted */\n",
       "  background-color: var(--sklearn-color-unfitted-level-2);\n",
       "}\n",
       "\n",
       "#sk-container-id-5 div.sk-estimator.fitted:hover {\n",
       "  /* fitted */\n",
       "  background-color: var(--sklearn-color-fitted-level-2);\n",
       "}\n",
       "\n",
       "/* Specification for estimator info (e.g. \"i\" and \"?\") */\n",
       "\n",
       "/* Common style for \"i\" and \"?\" */\n",
       "\n",
       ".sk-estimator-doc-link,\n",
       "a:link.sk-estimator-doc-link,\n",
       "a:visited.sk-estimator-doc-link {\n",
       "  float: right;\n",
       "  font-size: smaller;\n",
       "  line-height: 1em;\n",
       "  font-family: monospace;\n",
       "  background-color: var(--sklearn-color-background);\n",
       "  border-radius: 1em;\n",
       "  height: 1em;\n",
       "  width: 1em;\n",
       "  text-decoration: none !important;\n",
       "  margin-left: 1ex;\n",
       "  /* unfitted */\n",
       "  border: var(--sklearn-color-unfitted-level-1) 1pt solid;\n",
       "  color: var(--sklearn-color-unfitted-level-1);\n",
       "}\n",
       "\n",
       ".sk-estimator-doc-link.fitted,\n",
       "a:link.sk-estimator-doc-link.fitted,\n",
       "a:visited.sk-estimator-doc-link.fitted {\n",
       "  /* fitted */\n",
       "  border: var(--sklearn-color-fitted-level-1) 1pt solid;\n",
       "  color: var(--sklearn-color-fitted-level-1);\n",
       "}\n",
       "\n",
       "/* On hover */\n",
       "div.sk-estimator:hover .sk-estimator-doc-link:hover,\n",
       ".sk-estimator-doc-link:hover,\n",
       "div.sk-label-container:hover .sk-estimator-doc-link:hover,\n",
       ".sk-estimator-doc-link:hover {\n",
       "  /* unfitted */\n",
       "  background-color: var(--sklearn-color-unfitted-level-3);\n",
       "  color: var(--sklearn-color-background);\n",
       "  text-decoration: none;\n",
       "}\n",
       "\n",
       "div.sk-estimator.fitted:hover .sk-estimator-doc-link.fitted:hover,\n",
       ".sk-estimator-doc-link.fitted:hover,\n",
       "div.sk-label-container:hover .sk-estimator-doc-link.fitted:hover,\n",
       ".sk-estimator-doc-link.fitted:hover {\n",
       "  /* fitted */\n",
       "  background-color: var(--sklearn-color-fitted-level-3);\n",
       "  color: var(--sklearn-color-background);\n",
       "  text-decoration: none;\n",
       "}\n",
       "\n",
       "/* Span, style for the box shown on hovering the info icon */\n",
       ".sk-estimator-doc-link span {\n",
       "  display: none;\n",
       "  z-index: 9999;\n",
       "  position: relative;\n",
       "  font-weight: normal;\n",
       "  right: .2ex;\n",
       "  padding: .5ex;\n",
       "  margin: .5ex;\n",
       "  width: min-content;\n",
       "  min-width: 20ex;\n",
       "  max-width: 50ex;\n",
       "  color: var(--sklearn-color-text);\n",
       "  box-shadow: 2pt 2pt 4pt #999;\n",
       "  /* unfitted */\n",
       "  background: var(--sklearn-color-unfitted-level-0);\n",
       "  border: .5pt solid var(--sklearn-color-unfitted-level-3);\n",
       "}\n",
       "\n",
       ".sk-estimator-doc-link.fitted span {\n",
       "  /* fitted */\n",
       "  background: var(--sklearn-color-fitted-level-0);\n",
       "  border: var(--sklearn-color-fitted-level-3);\n",
       "}\n",
       "\n",
       ".sk-estimator-doc-link:hover span {\n",
       "  display: block;\n",
       "}\n",
       "\n",
       "/* \"?\"-specific style due to the `<a>` HTML tag */\n",
       "\n",
       "#sk-container-id-5 a.estimator_doc_link {\n",
       "  float: right;\n",
       "  font-size: 1rem;\n",
       "  line-height: 1em;\n",
       "  font-family: monospace;\n",
       "  background-color: var(--sklearn-color-background);\n",
       "  border-radius: 1rem;\n",
       "  height: 1rem;\n",
       "  width: 1rem;\n",
       "  text-decoration: none;\n",
       "  /* unfitted */\n",
       "  color: var(--sklearn-color-unfitted-level-1);\n",
       "  border: var(--sklearn-color-unfitted-level-1) 1pt solid;\n",
       "}\n",
       "\n",
       "#sk-container-id-5 a.estimator_doc_link.fitted {\n",
       "  /* fitted */\n",
       "  border: var(--sklearn-color-fitted-level-1) 1pt solid;\n",
       "  color: var(--sklearn-color-fitted-level-1);\n",
       "}\n",
       "\n",
       "/* On hover */\n",
       "#sk-container-id-5 a.estimator_doc_link:hover {\n",
       "  /* unfitted */\n",
       "  background-color: var(--sklearn-color-unfitted-level-3);\n",
       "  color: var(--sklearn-color-background);\n",
       "  text-decoration: none;\n",
       "}\n",
       "\n",
       "#sk-container-id-5 a.estimator_doc_link.fitted:hover {\n",
       "  /* fitted */\n",
       "  background-color: var(--sklearn-color-fitted-level-3);\n",
       "}\n",
       "</style><div id=\"sk-container-id-5\" class=\"sk-top-container\"><div class=\"sk-text-repr-fallback\"><pre>Pipeline(steps=[(&#x27;poly&#x27;, PolynomialFeatures(include_bias=False)),\n",
       "                (&#x27;linear&#x27;, LinearRegression())])</pre><b>In a Jupyter environment, please rerun this cell to show the HTML representation or trust the notebook. <br />On GitHub, the HTML representation is unable to render, please try loading this page with nbviewer.org.</b></div><div class=\"sk-container\" hidden><div class=\"sk-item sk-dashed-wrapped\"><div class=\"sk-label-container\"><div class=\"sk-label fitted sk-toggleable\"><input class=\"sk-toggleable__control sk-hidden--visually\" id=\"sk-estimator-id-11\" type=\"checkbox\" ><label for=\"sk-estimator-id-11\" class=\"sk-toggleable__label fitted sk-toggleable__label-arrow fitted\">&nbsp;&nbsp;Pipeline<a class=\"sk-estimator-doc-link fitted\" rel=\"noreferrer\" target=\"_blank\" href=\"https://scikit-learn.org/1.4/modules/generated/sklearn.pipeline.Pipeline.html\">?<span>Documentation for Pipeline</span></a><span class=\"sk-estimator-doc-link fitted\">i<span>Fitted</span></span></label><div class=\"sk-toggleable__content fitted\"><pre>Pipeline(steps=[(&#x27;poly&#x27;, PolynomialFeatures(include_bias=False)),\n",
       "                (&#x27;linear&#x27;, LinearRegression())])</pre></div> </div></div><div class=\"sk-serial\"><div class=\"sk-item\"><div class=\"sk-estimator fitted sk-toggleable\"><input class=\"sk-toggleable__control sk-hidden--visually\" id=\"sk-estimator-id-12\" type=\"checkbox\" ><label for=\"sk-estimator-id-12\" class=\"sk-toggleable__label fitted sk-toggleable__label-arrow fitted\">&nbsp;PolynomialFeatures<a class=\"sk-estimator-doc-link fitted\" rel=\"noreferrer\" target=\"_blank\" href=\"https://scikit-learn.org/1.4/modules/generated/sklearn.preprocessing.PolynomialFeatures.html\">?<span>Documentation for PolynomialFeatures</span></a></label><div class=\"sk-toggleable__content fitted\"><pre>PolynomialFeatures(include_bias=False)</pre></div> </div></div><div class=\"sk-item\"><div class=\"sk-estimator fitted sk-toggleable\"><input class=\"sk-toggleable__control sk-hidden--visually\" id=\"sk-estimator-id-13\" type=\"checkbox\" ><label for=\"sk-estimator-id-13\" class=\"sk-toggleable__label fitted sk-toggleable__label-arrow fitted\">&nbsp;LinearRegression<a class=\"sk-estimator-doc-link fitted\" rel=\"noreferrer\" target=\"_blank\" href=\"https://scikit-learn.org/1.4/modules/generated/sklearn.linear_model.LinearRegression.html\">?<span>Documentation for LinearRegression</span></a></label><div class=\"sk-toggleable__content fitted\"><pre>LinearRegression()</pre></div> </div></div></div></div></div></div>"
      ],
      "text/plain": [
       "Pipeline(steps=[('poly', PolynomialFeatures(include_bias=False)),\n",
       "                ('linear', LinearRegression())])"
      ]
     },
     "execution_count": 95,
     "metadata": {},
     "output_type": "execute_result"
    }
   ],
   "source": [
    "X_train, X_test, y_train, y_test = train_test_split(X_scaled,y,test_size = 0.3, random_state = 156)\n",
    "model_poly = Pipeline([\n",
    "    ('poly', PolynomialFeatures(degree = 2, include_bias = False)),\n",
    "    ('linear', LinearRegression())]\n",
    ")\n",
    "model_poly.fit(X_train, y_train)"
   ]
  },
  {
   "cell_type": "code",
   "execution_count": 96,
   "id": "fab03ab7",
   "metadata": {},
   "outputs": [
    {
     "data": {
      "text/plain": [
       "np.float64(12637.953441868345)"
      ]
     },
     "execution_count": 96,
     "metadata": {},
     "output_type": "execute_result"
    }
   ],
   "source": [
    "pred_poly = model_poly.predict(X_test)\n",
    "mean_squared_error(y_test, pred_poly)"
   ]
  },
  {
   "cell_type": "code",
   "execution_count": 97,
   "id": "10f8db45",
   "metadata": {},
   "outputs": [
    {
     "data": {
      "text/plain": [
       "np.float64(0.14616840689118804)"
      ]
     },
     "execution_count": 97,
     "metadata": {},
     "output_type": "execute_result"
    }
   ],
   "source": [
    "r2_score(y_test, pred_poly)"
   ]
  },
  {
   "cell_type": "markdown",
   "id": "9f081b96",
   "metadata": {},
   "source": [
    "### 다항회귀 시뮬레이션"
   ]
  },
  {
   "cell_type": "code",
   "execution_count": 98,
   "id": "0eee37ea",
   "metadata": {},
   "outputs": [
    {
     "data": {
      "text/html": [
       "<div>\n",
       "<style scoped>\n",
       "    .dataframe tbody tr th:only-of-type {\n",
       "        vertical-align: middle;\n",
       "    }\n",
       "\n",
       "    .dataframe tbody tr th {\n",
       "        vertical-align: top;\n",
       "    }\n",
       "\n",
       "    .dataframe thead th {\n",
       "        text-align: right;\n",
       "    }\n",
       "</style>\n",
       "<table border=\"1\" class=\"dataframe\">\n",
       "  <thead>\n",
       "    <tr style=\"text-align: right;\">\n",
       "      <th></th>\n",
       "      <th>degree</th>\n",
       "      <th>MSE</th>\n",
       "      <th>RMSE</th>\n",
       "      <th>R2</th>\n",
       "    </tr>\n",
       "  </thead>\n",
       "  <tbody>\n",
       "    <tr>\n",
       "      <th>0</th>\n",
       "      <td>1</td>\n",
       "      <td>13055.735935</td>\n",
       "      <td>114.261699</td>\n",
       "      <td>0.117943</td>\n",
       "    </tr>\n",
       "    <tr>\n",
       "      <th>1</th>\n",
       "      <td>2</td>\n",
       "      <td>12637.953442</td>\n",
       "      <td>112.418653</td>\n",
       "      <td>0.146168</td>\n",
       "    </tr>\n",
       "    <tr>\n",
       "      <th>2</th>\n",
       "      <td>3</td>\n",
       "      <td>12586.945159</td>\n",
       "      <td>112.191556</td>\n",
       "      <td>0.149615</td>\n",
       "    </tr>\n",
       "    <tr>\n",
       "      <th>3</th>\n",
       "      <td>4</td>\n",
       "      <td>12368.671039</td>\n",
       "      <td>111.214527</td>\n",
       "      <td>0.164361</td>\n",
       "    </tr>\n",
       "    <tr>\n",
       "      <th>4</th>\n",
       "      <td>5</td>\n",
       "      <td>12694.538969</td>\n",
       "      <td>112.670045</td>\n",
       "      <td>0.142345</td>\n",
       "    </tr>\n",
       "  </tbody>\n",
       "</table>\n",
       "</div>"
      ],
      "text/plain": [
       "   degree           MSE        RMSE        R2\n",
       "0       1  13055.735935  114.261699  0.117943\n",
       "1       2  12637.953442  112.418653  0.146168\n",
       "2       3  12586.945159  112.191556  0.149615\n",
       "3       4  12368.671039  111.214527  0.164361\n",
       "4       5  12694.538969  112.670045  0.142345"
      ]
     },
     "execution_count": 98,
     "metadata": {},
     "output_type": "execute_result"
    }
   ],
   "source": [
    "results = []\n",
    "\n",
    "for degree in range(1, 6):\n",
    "    model_poly = Pipeline([\n",
    "        ('poly', PolynomialFeatures(degree = degree, include_bias = False)),\n",
    "        ('linear', LinearRegression())]\n",
    "    )\n",
    "    model_poly.fit(X_train, y_train)\n",
    "    pred_poly = model_poly.predict(X_test)\n",
    "    mse = mean_squared_error(y_test, pred_poly)\n",
    "    rmse = np.sqrt(mse)\n",
    "    r2 = r2_score(y_test, pred_poly)\n",
    "    \n",
    "    results.append({'degree': degree,\n",
    "                    'MSE': mse,\n",
    "                    'RMSE': rmse,\n",
    "                    'R2':r2})\n",
    "    \n",
    "pd.DataFrame(results)"
   ]
  },
  {
   "cell_type": "markdown",
   "id": "cb6b6a2e",
   "metadata": {},
   "source": [
    "Linear regression에서는 **4차 다항 회귀 모델(degree=4)** 이 가장 성능이 좋다.\n",
    "- R2는 약 16.4% 설명력을 가지며, RMSE는 약 111.2로 가장 낮아 예측 정확도가 가장 높다.\n",
    "- 다항식의 차수를 너무 높이면 오히려 과적합(overfitting)이 발생할 수 있으므로 적절한 차수 선택이 중요하다."
   ]
  },
  {
   "cell_type": "code",
   "execution_count": 99,
   "id": "5db313e1",
   "metadata": {},
   "outputs": [
    {
     "data": {
      "text/html": [
       "<div>\n",
       "<style scoped>\n",
       "    .dataframe tbody tr th:only-of-type {\n",
       "        vertical-align: middle;\n",
       "    }\n",
       "\n",
       "    .dataframe tbody tr th {\n",
       "        vertical-align: top;\n",
       "    }\n",
       "\n",
       "    .dataframe thead th {\n",
       "        text-align: right;\n",
       "    }\n",
       "</style>\n",
       "<table border=\"1\" class=\"dataframe\">\n",
       "  <thead>\n",
       "    <tr style=\"text-align: right;\">\n",
       "      <th></th>\n",
       "      <th>degree</th>\n",
       "      <th>MSE</th>\n",
       "      <th>RMSE</th>\n",
       "      <th>R2</th>\n",
       "    </tr>\n",
       "  </thead>\n",
       "  <tbody>\n",
       "    <tr>\n",
       "      <th>0</th>\n",
       "      <td>1</td>\n",
       "      <td>14679.654906</td>\n",
       "      <td>121.159626</td>\n",
       "      <td>0.008229</td>\n",
       "    </tr>\n",
       "    <tr>\n",
       "      <th>1</th>\n",
       "      <td>2</td>\n",
       "      <td>14558.238961</td>\n",
       "      <td>120.657528</td>\n",
       "      <td>0.016432</td>\n",
       "    </tr>\n",
       "    <tr>\n",
       "      <th>2</th>\n",
       "      <td>3</td>\n",
       "      <td>14535.903291</td>\n",
       "      <td>120.564934</td>\n",
       "      <td>0.017941</td>\n",
       "    </tr>\n",
       "    <tr>\n",
       "      <th>3</th>\n",
       "      <td>4</td>\n",
       "      <td>14622.579071</td>\n",
       "      <td>120.923857</td>\n",
       "      <td>0.012085</td>\n",
       "    </tr>\n",
       "    <tr>\n",
       "      <th>4</th>\n",
       "      <td>5</td>\n",
       "      <td>14598.049225</td>\n",
       "      <td>120.822387</td>\n",
       "      <td>0.013743</td>\n",
       "    </tr>\n",
       "  </tbody>\n",
       "</table>\n",
       "</div>"
      ],
      "text/plain": [
       "   degree           MSE        RMSE        R2\n",
       "0       1  14679.654906  121.159626  0.008229\n",
       "1       2  14558.238961  120.657528  0.016432\n",
       "2       3  14535.903291  120.564934  0.017941\n",
       "3       4  14622.579071  120.923857  0.012085\n",
       "4       5  14598.049225  120.822387  0.013743"
      ]
     },
     "execution_count": 99,
     "metadata": {},
     "output_type": "execute_result"
    }
   ],
   "source": [
    "results = []\n",
    "\n",
    "for degree in range(1, 6):\n",
    "    model_poly = Pipeline([\n",
    "        ('poly', PolynomialFeatures(degree = degree, include_bias = False)),\n",
    "        ('random', RandomForestRegressor())]\n",
    "    )\n",
    "    model_poly.fit(X_train, y_train)\n",
    "    pred_poly = model_poly.predict(X_test)\n",
    "    mse = mean_squared_error(y_test, pred_poly)\n",
    "    rmse = np.sqrt(mse)\n",
    "    r2 = r2_score(y_test, pred_poly)\n",
    "    \n",
    "    results.append({'degree': degree,\n",
    "                    'MSE': mse,\n",
    "                    'RMSE': rmse,\n",
    "                    'R2':r2})\n",
    "    \n",
    "pd.DataFrame(results)"
   ]
  },
  {
   "cell_type": "markdown",
   "id": "0a95cc20",
   "metadata": {},
   "source": [
    "Random forest regression은 전체적으로 모델 성능이 매우 낮다\n",
    "- R²이 0.01대라는 것은, 모델이 타깃값의 변동을 1%도 설명하지 못한다는 뜻이다.\n",
    "- Possible 원인:\n",
    "    - 타깃(charges)을 설명할 수 있는 핵심 변수 부족\n",
    "    - 데이터가 비선형이 아니라 회귀에 적합하지 않음\n",
    "    - 데이터 자체에 노이즈가 많거나 스케일 차이 존재\n",
    "\n",
    "결론:\n",
    "- degree 3이 그나마 가장 나은 성능을 보이지만, 전체적으로 성능이 매우 낮아 실무 적용은 어렵다.\n",
    "- 더 나은 모델을 위해서는:\n",
    "    - 추가 특성 생성 또는 다른 알고리즘 (예: 트리 계열, XGBoost) 고려\n",
    "    - 스케일 조정이나 이상치 제거 등 전처리 필요\n",
    "    - 변수 간의 상호작용이나 로그변환 등 피처 엔지니어링 시도"
   ]
  },
  {
   "cell_type": "markdown",
   "id": "dc88d0e5",
   "metadata": {},
   "source": [
    "# 규제 회귀 모델"
   ]
  },
  {
   "cell_type": "code",
   "execution_count": 100,
   "id": "3f2868d4",
   "metadata": {},
   "outputs": [],
   "source": [
    "from sklearn.linear_model import Ridge, Lasso, ElasticNet"
   ]
  },
  {
   "cell_type": "markdown",
   "id": "8989f58f",
   "metadata": {},
   "source": [
    "## Ridge"
   ]
  },
  {
   "cell_type": "markdown",
   "id": "ebf418f2",
   "metadata": {},
   "source": [
    "### 스케일링 전"
   ]
  },
  {
   "cell_type": "code",
   "execution_count": 101,
   "id": "3e9fa2bb",
   "metadata": {},
   "outputs": [
    {
     "data": {
      "text/plain": [
       "(np.float64(13055.712065344236), np.float64(0.11794425551588184))"
      ]
     },
     "execution_count": 101,
     "metadata": {},
     "output_type": "execute_result"
    }
   ],
   "source": [
    "ridge = Ridge(alpha = 1.0)\n",
    "ridge.fit(X_train, y_train)\n",
    "pred_ridge = ridge.predict(X_test)\n",
    "\n",
    "mse = mean_squared_error(y_test, pred_ridge)\n",
    "r2 = r2_score(y_test, pred_ridge)\n",
    "mse, r2"
   ]
  },
  {
   "cell_type": "code",
   "execution_count": 102,
   "id": "8207c068",
   "metadata": {},
   "outputs": [
    {
     "name": "stdout",
     "output_type": "stream",
     "text": [
      "ridge cv msg: 13053.887161, r2: 0.118068\n"
     ]
    }
   ],
   "source": [
    "from sklearn.linear_model import RidgeCV\n",
    "\n",
    "alphas = [0.001, 0.01, 0.1, 1, 10, 100]\n",
    "ridge_cv = RidgeCV(alphas = alphas, cv = 5)\n",
    "ridge_cv.fit(X_train, y_train)\n",
    "ridge_preds = ridge_cv.predict(X_test)\n",
    "ridge_mse = mean_squared_error(y_test, ridge_preds)\n",
    "ridge_r2 = r2_score(y_test, ridge_preds)\n",
    "\n",
    "print(f'ridge cv msg: {ridge_mse:4f}, r2: {ridge_r2:4f}')"
   ]
  },
  {
   "cell_type": "code",
   "execution_count": 116,
   "id": "11052d92",
   "metadata": {},
   "outputs": [
    {
     "data": {
      "text/plain": [
       "np.float64(100.0)"
      ]
     },
     "execution_count": 116,
     "metadata": {},
     "output_type": "execute_result"
    }
   ],
   "source": [
    "ridge_cv.alpha_"
   ]
  },
  {
   "cell_type": "code",
   "execution_count": 104,
   "id": "537444f0",
   "metadata": {},
   "outputs": [
    {
     "data": {
      "text/plain": [
       "array([11.12218479, 10.82322328, 14.37835485, 24.83569981, 17.54689413])"
      ]
     },
     "execution_count": 104,
     "metadata": {},
     "output_type": "execute_result"
    }
   ],
   "source": [
    "ridge_cv.coef_"
   ]
  },
  {
   "cell_type": "markdown",
   "id": "3ac15dbd",
   "metadata": {},
   "source": [
    "스케일 하기 전 ridge를 돌려보았을 때:\n",
    "- ridge cv msg: 13053.887161, r2: 0.118068\n",
    "- np.float64(100.0)\n",
    "- array([11.12218479, 10.82322328, 14.37835485, 24.83569981, 17.54689413])"
   ]
  },
  {
   "cell_type": "markdown",
   "id": "3e93f9bc",
   "metadata": {},
   "source": [
    "### 스케일링 후"
   ]
  },
  {
   "cell_type": "code",
   "execution_count": 136,
   "id": "6205333c",
   "metadata": {},
   "outputs": [
    {
     "name": "stdout",
     "output_type": "stream",
     "text": [
      "RidgeCV MSE: 13053.8684, R²: 0.1181\n"
     ]
    }
   ],
   "source": [
    "from sklearn.pipeline import make_pipeline\n",
    "\n",
    "# alpha 리스트 정의\n",
    "alphas = [0.001, 0.01, 0.1, 1, 10, 100]\n",
    "\n",
    "# Pipeline 생성: StandardScaler + RidgeCV\n",
    "ridge_cv_scaled = make_pipeline(\n",
    "    StandardScaler(),\n",
    "    RidgeCV(alphas=alphas, cv=5)\n",
    ")\n",
    "\n",
    "# 학습\n",
    "ridge_cv_scaled.fit(X_train_scaled, y_train)\n",
    "\n",
    "# 예측\n",
    "ridge_preds = ridge_cv_scaled.predict(X_test_scaled)\n",
    "\n",
    "# 성능 평가\n",
    "ridge_mse = mean_squared_error(y_test, ridge_preds)\n",
    "ridge_r2 = r2_score(y_test, ridge_preds)\n",
    "\n",
    "print(f\"RidgeCV MSE: {ridge_mse:.4f}, R²: {ridge_r2:.4f}\")"
   ]
  },
  {
   "cell_type": "code",
   "execution_count": 137,
   "id": "ea89f2eb",
   "metadata": {},
   "outputs": [
    {
     "data": {
      "text/plain": [
       "np.float64(100.0)"
      ]
     },
     "execution_count": 137,
     "metadata": {},
     "output_type": "execute_result"
    }
   ],
   "source": [
    "# alpha 값 확인\n",
    "ridge_cv_scaled.named_steps['ridgecv'].alpha_"
   ]
  },
  {
   "cell_type": "code",
   "execution_count": 138,
   "id": "9cd89dc1",
   "metadata": {},
   "outputs": [
    {
     "data": {
      "text/plain": [
       "array([11.10931499, 10.84501272, 14.39507637, 24.85588415, 17.54598631])"
      ]
     },
     "execution_count": 138,
     "metadata": {},
     "output_type": "execute_result"
    }
   ],
   "source": [
    "# 회귀 계수(coef_) 확인\n",
    "ridge_cv_scaled.named_steps['ridgecv'].coef_"
   ]
  },
  {
   "cell_type": "markdown",
   "id": "9bb93287",
   "metadata": {},
   "source": [
    "스케일 한 후 ridge를 돌려보았을 때:\n",
    "- RidgeCV MSE: 13053.8684, R²: 0.1181\n",
    "- np.float64(100.0)\n",
    "- array([11.10931499, 10.84501272, 14.39507637, 24.85588415, 17.54598631])"
   ]
  },
  {
   "cell_type": "markdown",
   "id": "7699cebe",
   "metadata": {},
   "source": [
    "비교 & 결론\n",
    "1. 성능 지표 (MSE, R²)\n",
    "    - **MSE (Mean Squared Error)** 는 스케일 전과 후 모두 거의 동일하며, 소수점 네 번째 자리에서만 차이가 나타난다 (13053.8872 → 13053.8684).\n",
    "    - **R² (결정 계수)** 도 변화가 없다 (0.1181).\\\n",
    "    → 스케일링이 성능에 미치는 영향은 사실상 없음.\n",
    "\n",
    "2. alpha 값\n",
    "    - RidgeCV에서 자동으로 찾은 최적의 alpha 값이 둘 다 100.0으로 동일하다.\\\n",
    "    → 데이터 스케일링 전후로도 정규화 강도는 동일하게 유지됨.\n",
    "\n",
    "3. 회귀 계수 (coef)\n",
    "    - 계수들의 값도 거의 비슷하지만, 스케일링 이후 미세한 차이가 존재한다.\n",
    "    - 이 차이는 각 특성(feature)의 스케일이 정규화되었기 때문에 생긴 것으로, 해석 가능한 계수의 변화로 이어질 수 있습니다.\\\n",
    "    → 계수의 직접적인 크기 비교나 해석을 할 경우 스케일링은 꼭 필요합니다."
   ]
  },
  {
   "cell_type": "markdown",
   "id": "c1e2e42a",
   "metadata": {},
   "source": [
    "## Lasso"
   ]
  },
  {
   "cell_type": "markdown",
   "id": "a1d0646d",
   "metadata": {},
   "source": [
    "### 스케일링 전"
   ]
  },
  {
   "cell_type": "code",
   "execution_count": 105,
   "id": "f7da3ee5",
   "metadata": {},
   "outputs": [],
   "source": [
    "from sklearn.linear_model import LassoCV"
   ]
  },
  {
   "cell_type": "code",
   "execution_count": 139,
   "id": "57c746e7",
   "metadata": {},
   "outputs": [
    {
     "data": {
      "text/plain": [
       "(np.float64(13046.609200402034), np.float64(0.11855925332476014))"
      ]
     },
     "execution_count": 139,
     "metadata": {},
     "output_type": "execute_result"
    }
   ],
   "source": [
    "lasso = Lasso(alpha = 1.0)\n",
    "lasso.fit(X_train, y_train)\n",
    "pred_lasso = lasso.predict(X_test)\n",
    "\n",
    "mse = mean_squared_error(y_test, pred_lasso)\n",
    "r2 = r2_score(y_test, pred_lasso)\n",
    "mse, r2"
   ]
  },
  {
   "cell_type": "code",
   "execution_count": 140,
   "id": "3a391cf7",
   "metadata": {},
   "outputs": [
    {
     "name": "stdout",
     "output_type": "stream",
     "text": [
      "lasso cv msg: 13054.541099, r2: 0.118023\n"
     ]
    }
   ],
   "source": [
    "alphas = [0.001, 0.01, 0.1, 1, 10, 100]\n",
    "lasso_cv = LassoCV(alphas = alphas, cv = 5, max_iter=10000)\n",
    "lasso_cv.fit(X_train, y_train)\n",
    "lasso_preds = lasso_cv.predict(X_test)\n",
    "lasso_mse = mean_squared_error(y_test, lasso_preds)\n",
    "lasso_r2 = r2_score(y_test, lasso_preds)\n",
    "print(f'lasso cv msg: {lasso_mse:4f}, r2: {lasso_r2:4f}')"
   ]
  },
  {
   "cell_type": "code",
   "execution_count": 141,
   "id": "f80bef07",
   "metadata": {},
   "outputs": [
    {
     "data": {
      "text/plain": [
       "np.float64(0.1)"
      ]
     },
     "execution_count": 141,
     "metadata": {},
     "output_type": "execute_result"
    }
   ],
   "source": [
    "lasso_cv.alpha_"
   ]
  },
  {
   "cell_type": "code",
   "execution_count": 142,
   "id": "83ad9b5e",
   "metadata": {},
   "outputs": [
    {
     "data": {
      "text/plain": [
       "array([11.1695067 , 10.89798804,  7.03400709, 32.39479968, 18.0209656 ])"
      ]
     },
     "execution_count": 142,
     "metadata": {},
     "output_type": "execute_result"
    }
   ],
   "source": [
    "lasso_cv.coef_"
   ]
  },
  {
   "cell_type": "markdown",
   "id": "c0b655f1",
   "metadata": {},
   "source": [
    "### 스케일링 후"
   ]
  },
  {
   "cell_type": "code",
   "execution_count": 144,
   "id": "4d51247f",
   "metadata": {},
   "outputs": [
    {
     "name": "stdout",
     "output_type": "stream",
     "text": [
      "Lasso (alpha=1.0) MSE: 13046.5659, R²: 0.1186\n",
      "LassoCV Best alpha: 0.1\n",
      "LassoCV MSE: 13054.5373, R²: 0.1180\n"
     ]
    }
   ],
   "source": [
    "from sklearn.preprocessing import StandardScaler\n",
    "from sklearn.linear_model import Lasso, LassoCV\n",
    "from sklearn.metrics import mean_squared_error, r2_score\n",
    "from sklearn.model_selection import train_test_split\n",
    "\n",
    "# 기본 Lasso 모델 학습\n",
    "lasso_scaled = Lasso(alpha=1.0)\n",
    "lasso_scaled.fit(X_train_scaled, y_train)\n",
    "pred_lasso_scaled = lasso_scaled.predict(X_test_scaled)\n",
    "\n",
    "# 평가\n",
    "mse = mean_squared_error(y_test, pred_lasso_scaled)\n",
    "r2 = r2_score(y_test, pred_lasso_scaled)\n",
    "print(f'Lasso (alpha=1.0) MSE: {mse:.4f}, R²: {r2:.4f}')\n",
    "\n",
    "# LassoCV로 최적 alpha 찾기\n",
    "alphas = [0.001, 0.01, 0.1, 1, 10, 100]\n",
    "lasso_cv_scaled = LassoCV(alphas=alphas, cv=5, max_iter=10000)\n",
    "lasso_cv_scaled.fit(X_train_scaled, y_train)\n",
    "lasso_preds_scaled = lasso_cv_scaled.predict(X_test_scaled)\n",
    "\n",
    "# 평가\n",
    "lasso_mse_1 = mean_squared_error(y_test, lasso_preds_scaled)\n",
    "lasso_r2_1 = r2_score(y_test, lasso_preds_scaled)\n",
    "\n",
    "print(f'LassoCV Best alpha: {lasso_cv_scaled.alpha_}')\n",
    "print(f'LassoCV MSE: {lasso_mse_1:.4f}, R²: {lasso_r2_1:.4f}')"
   ]
  },
  {
   "cell_type": "markdown",
   "id": "3790f53e",
   "metadata": {},
   "source": [
    "## 엘라스틱넷"
   ]
  },
  {
   "cell_type": "markdown",
   "id": "0856fbf6",
   "metadata": {},
   "source": [
    "### 스케일링 전"
   ]
  },
  {
   "cell_type": "code",
   "execution_count": 110,
   "id": "1d6166cc",
   "metadata": {},
   "outputs": [
    {
     "data": {
      "text/html": [
       "<style>#sk-container-id-6 {\n",
       "  /* Definition of color scheme common for light and dark mode */\n",
       "  --sklearn-color-text: black;\n",
       "  --sklearn-color-line: gray;\n",
       "  /* Definition of color scheme for unfitted estimators */\n",
       "  --sklearn-color-unfitted-level-0: #fff5e6;\n",
       "  --sklearn-color-unfitted-level-1: #f6e4d2;\n",
       "  --sklearn-color-unfitted-level-2: #ffe0b3;\n",
       "  --sklearn-color-unfitted-level-3: chocolate;\n",
       "  /* Definition of color scheme for fitted estimators */\n",
       "  --sklearn-color-fitted-level-0: #f0f8ff;\n",
       "  --sklearn-color-fitted-level-1: #d4ebff;\n",
       "  --sklearn-color-fitted-level-2: #b3dbfd;\n",
       "  --sklearn-color-fitted-level-3: cornflowerblue;\n",
       "\n",
       "  /* Specific color for light theme */\n",
       "  --sklearn-color-text-on-default-background: var(--sg-text-color, var(--theme-code-foreground, var(--jp-content-font-color1, black)));\n",
       "  --sklearn-color-background: var(--sg-background-color, var(--theme-background, var(--jp-layout-color0, white)));\n",
       "  --sklearn-color-border-box: var(--sg-text-color, var(--theme-code-foreground, var(--jp-content-font-color1, black)));\n",
       "  --sklearn-color-icon: #696969;\n",
       "\n",
       "  @media (prefers-color-scheme: dark) {\n",
       "    /* Redefinition of color scheme for dark theme */\n",
       "    --sklearn-color-text-on-default-background: var(--sg-text-color, var(--theme-code-foreground, var(--jp-content-font-color1, white)));\n",
       "    --sklearn-color-background: var(--sg-background-color, var(--theme-background, var(--jp-layout-color0, #111)));\n",
       "    --sklearn-color-border-box: var(--sg-text-color, var(--theme-code-foreground, var(--jp-content-font-color1, white)));\n",
       "    --sklearn-color-icon: #878787;\n",
       "  }\n",
       "}\n",
       "\n",
       "#sk-container-id-6 {\n",
       "  color: var(--sklearn-color-text);\n",
       "}\n",
       "\n",
       "#sk-container-id-6 pre {\n",
       "  padding: 0;\n",
       "}\n",
       "\n",
       "#sk-container-id-6 input.sk-hidden--visually {\n",
       "  border: 0;\n",
       "  clip: rect(1px 1px 1px 1px);\n",
       "  clip: rect(1px, 1px, 1px, 1px);\n",
       "  height: 1px;\n",
       "  margin: -1px;\n",
       "  overflow: hidden;\n",
       "  padding: 0;\n",
       "  position: absolute;\n",
       "  width: 1px;\n",
       "}\n",
       "\n",
       "#sk-container-id-6 div.sk-dashed-wrapped {\n",
       "  border: 1px dashed var(--sklearn-color-line);\n",
       "  margin: 0 0.4em 0.5em 0.4em;\n",
       "  box-sizing: border-box;\n",
       "  padding-bottom: 0.4em;\n",
       "  background-color: var(--sklearn-color-background);\n",
       "}\n",
       "\n",
       "#sk-container-id-6 div.sk-container {\n",
       "  /* jupyter's `normalize.less` sets `[hidden] { display: none; }`\n",
       "     but bootstrap.min.css set `[hidden] { display: none !important; }`\n",
       "     so we also need the `!important` here to be able to override the\n",
       "     default hidden behavior on the sphinx rendered scikit-learn.org.\n",
       "     See: https://github.com/scikit-learn/scikit-learn/issues/21755 */\n",
       "  display: inline-block !important;\n",
       "  position: relative;\n",
       "}\n",
       "\n",
       "#sk-container-id-6 div.sk-text-repr-fallback {\n",
       "  display: none;\n",
       "}\n",
       "\n",
       "div.sk-parallel-item,\n",
       "div.sk-serial,\n",
       "div.sk-item {\n",
       "  /* draw centered vertical line to link estimators */\n",
       "  background-image: linear-gradient(var(--sklearn-color-text-on-default-background), var(--sklearn-color-text-on-default-background));\n",
       "  background-size: 2px 100%;\n",
       "  background-repeat: no-repeat;\n",
       "  background-position: center center;\n",
       "}\n",
       "\n",
       "/* Parallel-specific style estimator block */\n",
       "\n",
       "#sk-container-id-6 div.sk-parallel-item::after {\n",
       "  content: \"\";\n",
       "  width: 100%;\n",
       "  border-bottom: 2px solid var(--sklearn-color-text-on-default-background);\n",
       "  flex-grow: 1;\n",
       "}\n",
       "\n",
       "#sk-container-id-6 div.sk-parallel {\n",
       "  display: flex;\n",
       "  align-items: stretch;\n",
       "  justify-content: center;\n",
       "  background-color: var(--sklearn-color-background);\n",
       "  position: relative;\n",
       "}\n",
       "\n",
       "#sk-container-id-6 div.sk-parallel-item {\n",
       "  display: flex;\n",
       "  flex-direction: column;\n",
       "}\n",
       "\n",
       "#sk-container-id-6 div.sk-parallel-item:first-child::after {\n",
       "  align-self: flex-end;\n",
       "  width: 50%;\n",
       "}\n",
       "\n",
       "#sk-container-id-6 div.sk-parallel-item:last-child::after {\n",
       "  align-self: flex-start;\n",
       "  width: 50%;\n",
       "}\n",
       "\n",
       "#sk-container-id-6 div.sk-parallel-item:only-child::after {\n",
       "  width: 0;\n",
       "}\n",
       "\n",
       "/* Serial-specific style estimator block */\n",
       "\n",
       "#sk-container-id-6 div.sk-serial {\n",
       "  display: flex;\n",
       "  flex-direction: column;\n",
       "  align-items: center;\n",
       "  background-color: var(--sklearn-color-background);\n",
       "  padding-right: 1em;\n",
       "  padding-left: 1em;\n",
       "}\n",
       "\n",
       "\n",
       "/* Toggleable style: style used for estimator/Pipeline/ColumnTransformer box that is\n",
       "clickable and can be expanded/collapsed.\n",
       "- Pipeline and ColumnTransformer use this feature and define the default style\n",
       "- Estimators will overwrite some part of the style using the `sk-estimator` class\n",
       "*/\n",
       "\n",
       "/* Pipeline and ColumnTransformer style (default) */\n",
       "\n",
       "#sk-container-id-6 div.sk-toggleable {\n",
       "  /* Default theme specific background. It is overwritten whether we have a\n",
       "  specific estimator or a Pipeline/ColumnTransformer */\n",
       "  background-color: var(--sklearn-color-background);\n",
       "}\n",
       "\n",
       "/* Toggleable label */\n",
       "#sk-container-id-6 label.sk-toggleable__label {\n",
       "  cursor: pointer;\n",
       "  display: block;\n",
       "  width: 100%;\n",
       "  margin-bottom: 0;\n",
       "  padding: 0.5em;\n",
       "  box-sizing: border-box;\n",
       "  text-align: center;\n",
       "}\n",
       "\n",
       "#sk-container-id-6 label.sk-toggleable__label-arrow:before {\n",
       "  /* Arrow on the left of the label */\n",
       "  content: \"▸\";\n",
       "  float: left;\n",
       "  margin-right: 0.25em;\n",
       "  color: var(--sklearn-color-icon);\n",
       "}\n",
       "\n",
       "#sk-container-id-6 label.sk-toggleable__label-arrow:hover:before {\n",
       "  color: var(--sklearn-color-text);\n",
       "}\n",
       "\n",
       "/* Toggleable content - dropdown */\n",
       "\n",
       "#sk-container-id-6 div.sk-toggleable__content {\n",
       "  max-height: 0;\n",
       "  max-width: 0;\n",
       "  overflow: hidden;\n",
       "  text-align: left;\n",
       "  /* unfitted */\n",
       "  background-color: var(--sklearn-color-unfitted-level-0);\n",
       "}\n",
       "\n",
       "#sk-container-id-6 div.sk-toggleable__content.fitted {\n",
       "  /* fitted */\n",
       "  background-color: var(--sklearn-color-fitted-level-0);\n",
       "}\n",
       "\n",
       "#sk-container-id-6 div.sk-toggleable__content pre {\n",
       "  margin: 0.2em;\n",
       "  border-radius: 0.25em;\n",
       "  color: var(--sklearn-color-text);\n",
       "  /* unfitted */\n",
       "  background-color: var(--sklearn-color-unfitted-level-0);\n",
       "}\n",
       "\n",
       "#sk-container-id-6 div.sk-toggleable__content.fitted pre {\n",
       "  /* unfitted */\n",
       "  background-color: var(--sklearn-color-fitted-level-0);\n",
       "}\n",
       "\n",
       "#sk-container-id-6 input.sk-toggleable__control:checked~div.sk-toggleable__content {\n",
       "  /* Expand drop-down */\n",
       "  max-height: 200px;\n",
       "  max-width: 100%;\n",
       "  overflow: auto;\n",
       "}\n",
       "\n",
       "#sk-container-id-6 input.sk-toggleable__control:checked~label.sk-toggleable__label-arrow:before {\n",
       "  content: \"▾\";\n",
       "}\n",
       "\n",
       "/* Pipeline/ColumnTransformer-specific style */\n",
       "\n",
       "#sk-container-id-6 div.sk-label input.sk-toggleable__control:checked~label.sk-toggleable__label {\n",
       "  color: var(--sklearn-color-text);\n",
       "  background-color: var(--sklearn-color-unfitted-level-2);\n",
       "}\n",
       "\n",
       "#sk-container-id-6 div.sk-label.fitted input.sk-toggleable__control:checked~label.sk-toggleable__label {\n",
       "  background-color: var(--sklearn-color-fitted-level-2);\n",
       "}\n",
       "\n",
       "/* Estimator-specific style */\n",
       "\n",
       "/* Colorize estimator box */\n",
       "#sk-container-id-6 div.sk-estimator input.sk-toggleable__control:checked~label.sk-toggleable__label {\n",
       "  /* unfitted */\n",
       "  background-color: var(--sklearn-color-unfitted-level-2);\n",
       "}\n",
       "\n",
       "#sk-container-id-6 div.sk-estimator.fitted input.sk-toggleable__control:checked~label.sk-toggleable__label {\n",
       "  /* fitted */\n",
       "  background-color: var(--sklearn-color-fitted-level-2);\n",
       "}\n",
       "\n",
       "#sk-container-id-6 div.sk-label label.sk-toggleable__label,\n",
       "#sk-container-id-6 div.sk-label label {\n",
       "  /* The background is the default theme color */\n",
       "  color: var(--sklearn-color-text-on-default-background);\n",
       "}\n",
       "\n",
       "/* On hover, darken the color of the background */\n",
       "#sk-container-id-6 div.sk-label:hover label.sk-toggleable__label {\n",
       "  color: var(--sklearn-color-text);\n",
       "  background-color: var(--sklearn-color-unfitted-level-2);\n",
       "}\n",
       "\n",
       "/* Label box, darken color on hover, fitted */\n",
       "#sk-container-id-6 div.sk-label.fitted:hover label.sk-toggleable__label.fitted {\n",
       "  color: var(--sklearn-color-text);\n",
       "  background-color: var(--sklearn-color-fitted-level-2);\n",
       "}\n",
       "\n",
       "/* Estimator label */\n",
       "\n",
       "#sk-container-id-6 div.sk-label label {\n",
       "  font-family: monospace;\n",
       "  font-weight: bold;\n",
       "  display: inline-block;\n",
       "  line-height: 1.2em;\n",
       "}\n",
       "\n",
       "#sk-container-id-6 div.sk-label-container {\n",
       "  text-align: center;\n",
       "}\n",
       "\n",
       "/* Estimator-specific */\n",
       "#sk-container-id-6 div.sk-estimator {\n",
       "  font-family: monospace;\n",
       "  border: 1px dotted var(--sklearn-color-border-box);\n",
       "  border-radius: 0.25em;\n",
       "  box-sizing: border-box;\n",
       "  margin-bottom: 0.5em;\n",
       "  /* unfitted */\n",
       "  background-color: var(--sklearn-color-unfitted-level-0);\n",
       "}\n",
       "\n",
       "#sk-container-id-6 div.sk-estimator.fitted {\n",
       "  /* fitted */\n",
       "  background-color: var(--sklearn-color-fitted-level-0);\n",
       "}\n",
       "\n",
       "/* on hover */\n",
       "#sk-container-id-6 div.sk-estimator:hover {\n",
       "  /* unfitted */\n",
       "  background-color: var(--sklearn-color-unfitted-level-2);\n",
       "}\n",
       "\n",
       "#sk-container-id-6 div.sk-estimator.fitted:hover {\n",
       "  /* fitted */\n",
       "  background-color: var(--sklearn-color-fitted-level-2);\n",
       "}\n",
       "\n",
       "/* Specification for estimator info (e.g. \"i\" and \"?\") */\n",
       "\n",
       "/* Common style for \"i\" and \"?\" */\n",
       "\n",
       ".sk-estimator-doc-link,\n",
       "a:link.sk-estimator-doc-link,\n",
       "a:visited.sk-estimator-doc-link {\n",
       "  float: right;\n",
       "  font-size: smaller;\n",
       "  line-height: 1em;\n",
       "  font-family: monospace;\n",
       "  background-color: var(--sklearn-color-background);\n",
       "  border-radius: 1em;\n",
       "  height: 1em;\n",
       "  width: 1em;\n",
       "  text-decoration: none !important;\n",
       "  margin-left: 1ex;\n",
       "  /* unfitted */\n",
       "  border: var(--sklearn-color-unfitted-level-1) 1pt solid;\n",
       "  color: var(--sklearn-color-unfitted-level-1);\n",
       "}\n",
       "\n",
       ".sk-estimator-doc-link.fitted,\n",
       "a:link.sk-estimator-doc-link.fitted,\n",
       "a:visited.sk-estimator-doc-link.fitted {\n",
       "  /* fitted */\n",
       "  border: var(--sklearn-color-fitted-level-1) 1pt solid;\n",
       "  color: var(--sklearn-color-fitted-level-1);\n",
       "}\n",
       "\n",
       "/* On hover */\n",
       "div.sk-estimator:hover .sk-estimator-doc-link:hover,\n",
       ".sk-estimator-doc-link:hover,\n",
       "div.sk-label-container:hover .sk-estimator-doc-link:hover,\n",
       ".sk-estimator-doc-link:hover {\n",
       "  /* unfitted */\n",
       "  background-color: var(--sklearn-color-unfitted-level-3);\n",
       "  color: var(--sklearn-color-background);\n",
       "  text-decoration: none;\n",
       "}\n",
       "\n",
       "div.sk-estimator.fitted:hover .sk-estimator-doc-link.fitted:hover,\n",
       ".sk-estimator-doc-link.fitted:hover,\n",
       "div.sk-label-container:hover .sk-estimator-doc-link.fitted:hover,\n",
       ".sk-estimator-doc-link.fitted:hover {\n",
       "  /* fitted */\n",
       "  background-color: var(--sklearn-color-fitted-level-3);\n",
       "  color: var(--sklearn-color-background);\n",
       "  text-decoration: none;\n",
       "}\n",
       "\n",
       "/* Span, style for the box shown on hovering the info icon */\n",
       ".sk-estimator-doc-link span {\n",
       "  display: none;\n",
       "  z-index: 9999;\n",
       "  position: relative;\n",
       "  font-weight: normal;\n",
       "  right: .2ex;\n",
       "  padding: .5ex;\n",
       "  margin: .5ex;\n",
       "  width: min-content;\n",
       "  min-width: 20ex;\n",
       "  max-width: 50ex;\n",
       "  color: var(--sklearn-color-text);\n",
       "  box-shadow: 2pt 2pt 4pt #999;\n",
       "  /* unfitted */\n",
       "  background: var(--sklearn-color-unfitted-level-0);\n",
       "  border: .5pt solid var(--sklearn-color-unfitted-level-3);\n",
       "}\n",
       "\n",
       ".sk-estimator-doc-link.fitted span {\n",
       "  /* fitted */\n",
       "  background: var(--sklearn-color-fitted-level-0);\n",
       "  border: var(--sklearn-color-fitted-level-3);\n",
       "}\n",
       "\n",
       ".sk-estimator-doc-link:hover span {\n",
       "  display: block;\n",
       "}\n",
       "\n",
       "/* \"?\"-specific style due to the `<a>` HTML tag */\n",
       "\n",
       "#sk-container-id-6 a.estimator_doc_link {\n",
       "  float: right;\n",
       "  font-size: 1rem;\n",
       "  line-height: 1em;\n",
       "  font-family: monospace;\n",
       "  background-color: var(--sklearn-color-background);\n",
       "  border-radius: 1rem;\n",
       "  height: 1rem;\n",
       "  width: 1rem;\n",
       "  text-decoration: none;\n",
       "  /* unfitted */\n",
       "  color: var(--sklearn-color-unfitted-level-1);\n",
       "  border: var(--sklearn-color-unfitted-level-1) 1pt solid;\n",
       "}\n",
       "\n",
       "#sk-container-id-6 a.estimator_doc_link.fitted {\n",
       "  /* fitted */\n",
       "  border: var(--sklearn-color-fitted-level-1) 1pt solid;\n",
       "  color: var(--sklearn-color-fitted-level-1);\n",
       "}\n",
       "\n",
       "/* On hover */\n",
       "#sk-container-id-6 a.estimator_doc_link:hover {\n",
       "  /* unfitted */\n",
       "  background-color: var(--sklearn-color-unfitted-level-3);\n",
       "  color: var(--sklearn-color-background);\n",
       "  text-decoration: none;\n",
       "}\n",
       "\n",
       "#sk-container-id-6 a.estimator_doc_link.fitted:hover {\n",
       "  /* fitted */\n",
       "  background-color: var(--sklearn-color-fitted-level-3);\n",
       "}\n",
       "</style><div id=\"sk-container-id-6\" class=\"sk-top-container\"><div class=\"sk-text-repr-fallback\"><pre>ElasticNet(alpha=0.1)</pre><b>In a Jupyter environment, please rerun this cell to show the HTML representation or trust the notebook. <br />On GitHub, the HTML representation is unable to render, please try loading this page with nbviewer.org.</b></div><div class=\"sk-container\" hidden><div class=\"sk-item\"><div class=\"sk-estimator fitted sk-toggleable\"><input class=\"sk-toggleable__control sk-hidden--visually\" id=\"sk-estimator-id-14\" type=\"checkbox\" checked><label for=\"sk-estimator-id-14\" class=\"sk-toggleable__label fitted sk-toggleable__label-arrow fitted\">&nbsp;&nbsp;ElasticNet<a class=\"sk-estimator-doc-link fitted\" rel=\"noreferrer\" target=\"_blank\" href=\"https://scikit-learn.org/1.4/modules/generated/sklearn.linear_model.ElasticNet.html\">?<span>Documentation for ElasticNet</span></a><span class=\"sk-estimator-doc-link fitted\">i<span>Fitted</span></span></label><div class=\"sk-toggleable__content fitted\"><pre>ElasticNet(alpha=0.1)</pre></div> </div></div></div></div>"
      ],
      "text/plain": [
       "ElasticNet(alpha=0.1)"
      ]
     },
     "execution_count": 110,
     "metadata": {},
     "output_type": "execute_result"
    }
   ],
   "source": [
    "enet = ElasticNet(alpha = 0.1, l1_ratio = 0.5)\n",
    "enet.fit(X_train, y_train)"
   ]
  },
  {
   "cell_type": "code",
   "execution_count": 128,
   "id": "8d26bf21",
   "metadata": {},
   "outputs": [
    {
     "name": "stdout",
     "output_type": "stream",
     "text": [
      "[엘라스틱넷] 회귀\n",
      "MSE: 13046.903616663098\n",
      "R2: 0.11853936229522144\n"
     ]
    }
   ],
   "source": [
    "enet_pred = enet.predict(X_test)\n",
    "print('[엘라스틱넷] 회귀')\n",
    "print('MSE:', mean_squared_error(y_test, enet_pred))\n",
    "print('R2:', r2_score(y_test, enet_pred))"
   ]
  },
  {
   "cell_type": "code",
   "execution_count": 153,
   "id": "372d4fa1",
   "metadata": {},
   "outputs": [
    {
     "name": "stdout",
     "output_type": "stream",
     "text": [
      "[ElasticNetCV 결과]\n",
      "Best alpha: 0.1\n",
      "Best l1_ratio: 0.5\n",
      "MSE: 13046.903616663098\n",
      "R²: 0.11853936229522144\n"
     ]
    }
   ],
   "source": [
    "from sklearn.linear_model import ElasticNetCV\n",
    "from sklearn.metrics import mean_squared_error, r2_score\n",
    "\n",
    "# ElasticNetCV로 최적의 alpha, l1_ratio 찾기\n",
    "enet_cv = ElasticNetCV(alphas=[0.001, 0.01, 0.1, 1, 10], \n",
    "                       l1_ratio=[.5], \n",
    "                       cv=5, max_iter=10000)\n",
    "enet_cv.fit(X_train, y_train)\n",
    "\n",
    "# 예측\n",
    "enet_pred_cv = enet_cv.predict(X_test)\n",
    "\n",
    "# 평가\n",
    "mse = mean_squared_error(y_test, enet_pred_cv)\n",
    "r2 = r2_score(y_test, enet_pred_cv)\n",
    "\n",
    "# 결과 출력\n",
    "print(\"[ElasticNetCV 결과]\")\n",
    "print(\"Best alpha:\", enet_cv.alpha_)\n",
    "print(\"Best l1_ratio:\", enet_cv.l1_ratio_)\n",
    "print(\"MSE:\", mse)\n",
    "print(\"R²:\", r2)"
   ]
  },
  {
   "cell_type": "markdown",
   "id": "f637043b",
   "metadata": {},
   "source": [
    "### 스케일링 후"
   ]
  },
  {
   "cell_type": "code",
   "execution_count": null,
   "id": "2b07356b",
   "metadata": {},
   "outputs": [
    {
     "name": "stdout",
     "output_type": "stream",
     "text": [
      "ElasticNet (alpha=1.0, l1_ratio=0.5) MSE: 13061.0645, R²: 0.1176\n",
      "ElasticNetCV Best alpha: 0.1, Best l1_ratio: 0.7\n",
      "ElasticNetCV MSE: 13050.5860, R²: 0.1183\n"
     ]
    }
   ],
   "source": [
    "from sklearn.linear_model import ElasticNet, ElasticNetCV\n",
    "from sklearn.preprocessing import StandardScaler\n",
    "from sklearn.model_selection import train_test_split\n",
    "from sklearn.metrics import mean_squared_error, r2_score\n",
    "\n",
    "# 기본 ElasticNet 모델 학습\n",
    "elastic = ElasticNet(alpha=1.0, l1_ratio=0.5)\n",
    "elastic.fit(X_train_scaled, y_train)\n",
    "pred_elastic = elastic.predict(X_test_scaled)\n",
    "\n",
    "# 평가\n",
    "mse_elastic = mean_squared_error(y_test, pred_elastic)\n",
    "r2_elastic = r2_score(y_test, pred_elastic)\n",
    "print(f'ElasticNet (alpha=1.0, l1_ratio=0.5) MSE: {mse_elastic:.4f}, R²: {r2_elastic:.4f}')\n",
    "\n",
    "# ElasticNetCV로 하이퍼파라미터 튜닝\n",
    "alphas = [0.001, 0.01, 0.1, 1, 10, 100]\n",
    "l1_ratios = [0.1, 0.3, 0.5, 0.7, 0.9]\n",
    "elastic_cv = ElasticNetCV(alphas=alphas, l1_ratio=l1_ratios, cv=5, max_iter=10000)\n",
    "elastic_cv.fit(X_train_scaled, y_train)\n",
    "elastic_preds = elastic_cv.predict(X_test_scaled)\n",
    "\n",
    "# 평가\n",
    "mse_cv = mean_squared_error(y_test, elastic_preds)\n",
    "r2_cv = r2_score(y_test, elastic_preds)\n",
    "print(f'ElasticNetCV Best alpha: {elastic_cv.alpha_}, Best l1_ratio: {elastic_cv.l1_ratio_}')\n",
    "print(f'ElasticNetCV MSE: {mse_cv:.4f}, R²: {r2_cv:.4f}')"
   ]
  },
  {
   "cell_type": "markdown",
   "id": "11a3ec06",
   "metadata": {},
   "source": [
    "- 성능(RMSE, R²) 차이는 미미하지만, 스케일링 후에는 l1_ratio가 증가하며 변수 선택의 강도가 더해졌다.\n",
    "- 정규화가 필요한 알고리즘 특성상 스케일링은 일반적으로 권장되며, 결과적으로도 해가 되지 않았다.\n",
    "- 다만, 이 경우에는 스케일링 전후 모두 거의 동일한 성능을 보이므로 스케일링의 영향이 크지 않은 데이터셋일 가능성이 있다."
   ]
  },
  {
   "cell_type": "markdown",
   "id": "98b60bcf",
   "metadata": {},
   "source": [
    "# 모델 성능 비교"
   ]
  },
  {
   "cell_type": "code",
   "execution_count": 154,
   "id": "46dfdd56",
   "metadata": {},
   "outputs": [
    {
     "data": {
      "text/html": [
       "<div>\n",
       "<style scoped>\n",
       "    .dataframe tbody tr th:only-of-type {\n",
       "        vertical-align: middle;\n",
       "    }\n",
       "\n",
       "    .dataframe tbody tr th {\n",
       "        vertical-align: top;\n",
       "    }\n",
       "\n",
       "    .dataframe thead th {\n",
       "        text-align: right;\n",
       "    }\n",
       "</style>\n",
       "<table border=\"1\" class=\"dataframe\">\n",
       "  <thead>\n",
       "    <tr style=\"text-align: right;\">\n",
       "      <th></th>\n",
       "      <th>모델</th>\n",
       "      <th>MSE</th>\n",
       "      <th>R2</th>\n",
       "    </tr>\n",
       "  </thead>\n",
       "  <tbody>\n",
       "    <tr>\n",
       "      <th>0</th>\n",
       "      <td>다항회귀</td>\n",
       "      <td>14598.049225</td>\n",
       "      <td>0.013743</td>\n",
       "    </tr>\n",
       "    <tr>\n",
       "      <th>1</th>\n",
       "      <td>릿지회귀</td>\n",
       "      <td>13053.868390</td>\n",
       "      <td>0.118069</td>\n",
       "    </tr>\n",
       "    <tr>\n",
       "      <th>2</th>\n",
       "      <td>라쏘회귀</td>\n",
       "      <td>13046.609200</td>\n",
       "      <td>0.118559</td>\n",
       "    </tr>\n",
       "    <tr>\n",
       "      <th>3</th>\n",
       "      <td>엘라스틱넷회귀</td>\n",
       "      <td>13046.903617</td>\n",
       "      <td>0.118539</td>\n",
       "    </tr>\n",
       "  </tbody>\n",
       "</table>\n",
       "</div>"
      ],
      "text/plain": [
       "        모델           MSE        R2\n",
       "0     다항회귀  14598.049225  0.013743\n",
       "1     릿지회귀  13053.868390  0.118069\n",
       "2     라쏘회귀  13046.609200  0.118559\n",
       "3  엘라스틱넷회귀  13046.903617  0.118539"
      ]
     },
     "execution_count": 154,
     "metadata": {},
     "output_type": "execute_result"
    }
   ],
   "source": [
    "results = pd.DataFrame({\n",
    "    '모델': ['다항회귀', '릿지회귀', '라쏘회귀', '엘라스틱넷회귀'],\n",
    "    'MSE': [mean_squared_error(y_test, pred_poly),\n",
    "            mean_squared_error(y_test, ridge_preds),\n",
    "            mean_squared_error(y_test, pred_lasso),\n",
    "            mean_squared_error(y_test, enet_pred)\n",
    "    ],\n",
    "    'R2': [r2_score(y_test, pred_poly),\n",
    "           r2_score(y_test, ridge_preds),\n",
    "           r2_score(y_test, pred_lasso),\n",
    "           r2_score(y_test, enet_pred),]\n",
    "})\n",
    "\n",
    "results"
   ]
  },
  {
   "cell_type": "markdown",
   "id": "8263f11a",
   "metadata": {},
   "source": [
    "가장 좋은 성능\n",
    "- MSE 기준 순위\n",
    "    1. 라쏘회귀\n",
    "    2. 엘라스틱넷회귀\n",
    "    3. 릿지회귀\n",
    "    4. 다항회귀\n",
    "\n",
    "- R2 기준 순위\n",
    "    1. 라쏘회귀\n",
    "    2. 엘라스틱넷회귀\n",
    "    3. 릿지회귀\n",
    "    4. 다항회귀\n",
    "\n",
    "MSE와 R2를 모두 보았을 때 가장 좋은 성능을 가진 모델은 **라쏘회귀**이다"
   ]
  },
  {
   "cell_type": "markdown",
   "id": "05d8ba2b",
   "metadata": {},
   "source": [
    "## 보고서 리뷰"
   ]
  },
  {
   "cell_type": "markdown",
   "id": "3cd570a7",
   "metadata": {},
   "source": [
    "회귀 모델의 성능 평가를 검토한 결과, 릿지(Ridge), 라쏘(Lasso), 엘라스틱넷(ElasticNet) 등 대부분의 모델에는 교차 검증(Cross-Validation, CV)이 적용되어 보다 신뢰도 높은 일반화 성능 지표를 산출하였다.\n",
    "\n",
    "그러나 다항 회귀(Polynomial Regression) 모델은 단일 홀드아웃 방식(단순 학습/테스트 분할)을 통해 평가되었으며, 교차 검증이 적용되지 않았다. 이러한 평가 방식의 차이는 모델 간의 성능 비교에 있어 공정성을 저해할 수 있으며, 특히 다항 회귀 모델의 성능이 실제보다 과소 혹은 과대 평가될 가능성을 내포한다. 이는 결과적으로 전체 모델 성능 순위에 영향을 줄 수 있다.\n",
    "\n",
    "따라서 모델 성능 비교의 일관성과 신뢰성을 확보하기 위해서는, 다항 회귀 모델에도 동일하게 교차 검증을 적용하여 평가 지표를 산출하는 것이 바람직하다. 이를 통해 보다 공정하고 정확한 모델 비교 및 결론 도출이 가능할 것이다."
   ]
  },
  {
   "cell_type": "markdown",
   "id": "adb2db0a",
   "metadata": {},
   "source": [
    "# 결론"
   ]
  },
  {
   "cell_type": "markdown",
   "id": "b8f10b1e",
   "metadata": {},
   "source": [
    "본 프로젝트에서는 서울시 자전거 대여량 데이터를 기반으로 다양한 회귀 모델을 적용하여 예측 성능을 비교 분석하였다. \n",
    "선형 회귀(Linear Regression), 릿지 회귀(Ridge), 라쏘 회귀(Lasso), 엘라스틱넷 회귀(ElasticNet), 다항 회귀(Polynomial Regression), 랜덤 포레스트 회귀(Random Forest Regression) 모델이 사용되었으며, 이 중 대부분은 교차 검증(Cross-Validation)을 통해 일반화된 성능을 평가하였다. \n",
    "모델 비교 결과, 전처리 및 스케일링 여부에 따라 성능 지표(RMSE 및 R²)에 일부 차이가 있었다. \n",
    "\n",
    "또한, 교차 검증을 적용한 경우, 모델의 하이퍼파라미터(α, l1_ratio 등)를 최적화함으로써 보다 안정적이고 일관된 성능을 확보할 수 있었다.\n",
    "한편, 다항 회귀 모델의 경우 유일하게 교차 검증이 적용되지 않아 모델 간 성능 비교에 있어 다소 공정성을 저해할 수 있는 요소로 판단된다. \n",
    "따라서 향후에는 다항 회귀 또한 동일한 평가 체계(CV)를 적용하여 보다 정밀한 성능 비교가 이루어질 필요가 있다.\n",
    "결론적으로, 회귀 모델을 활용한 수요 예측에서는 모델의 선택뿐만 아니라, 전처리 및 평가 방식의 일관성이 전체적인 모델 성능 해석과 실제 적용 가능성에 큰 영향을 미침을 확인할 수 있었다."
   ]
  }
 ],
 "metadata": {
  "kernelspec": {
   "display_name": "hi_ml_env",
   "language": "python",
   "name": "python3"
  },
  "language_info": {
   "codemirror_mode": {
    "name": "ipython",
    "version": 3
   },
   "file_extension": ".py",
   "mimetype": "text/x-python",
   "name": "python",
   "nbconvert_exporter": "python",
   "pygments_lexer": "ipython3",
   "version": "3.10.16"
  }
 },
 "nbformat": 4,
 "nbformat_minor": 5
}
