{
 "cells": [
  {
   "cell_type": "markdown",
   "id": "d6cbe4f1",
   "metadata": {},
   "source": [
    "### ANOVA (ANalysis Of VAriance) 예제"
   ]
  },
  {
   "cell_type": "code",
   "execution_count": 24,
   "id": "1e6925d9",
   "metadata": {},
   "outputs": [
    {
     "name": "stdout",
     "output_type": "stream",
     "text": [
      "F값: 24.28, p값: 0.0013\n"
     ]
    }
   ],
   "source": [
    "from scipy.stats import f_oneway\n",
    "\n",
    "# 세 그룹의 점수\n",
    "group1 = [80, 85, 90]\n",
    "group2 = [70, 75, 78]\n",
    "group3 = [60, 65, 62]\n",
    "\n",
    "f_stat, p_value = f_oneway(group1, group2, group3)\n",
    "print(f\"F값: {f_stat:.2f}, p값: {p_value:.4f}\")"
   ]
  },
  {
   "cell_type": "markdown",
   "id": "51a65931",
   "metadata": {},
   "source": [
    "H0: 세개 그룹이 평균은 차이가 없다\\\n",
    "H1: 세개 그룹이 평균은 차이가 있다 (적어도 1개의 그룹은 다르다)\n",
    "\n",
    "결과: f값 24 - 그룹간 분산의 차이가 그룹내 분산보다 크다\\\n",
    "p-value: 0.0013 => 유의수준보다 작다\n",
    "\n",
    "귀무가설을 기각하고, 그룹간 평균은 유의미한 차이가 있다"
   ]
  },
  {
   "cell_type": "code",
   "execution_count": 27,
   "id": "1405ef5b",
   "metadata": {},
   "outputs": [
    {
     "data": {
      "text/plain": [
       "0.6785714285714285"
      ]
     },
     "execution_count": 27,
     "metadata": {},
     "output_type": "execute_result"
    }
   ],
   "source": [
    "P_A = 0.1 # 암의 확률\n",
    "P_not_A = 1- P_A # 암이 아닐 확률\n",
    "P_B_given_A = 0.95 # 양성판정의 정확도\n",
    "P_B_given_not_A = 0.05 # 오진 (암이 아닌데, 양성 판정이 나올 확률)\n",
    "\n",
    "# 베이즈의 정리\n",
    "P_A_given_B = P_B_given_A * P_A / ((P_B_given_A * P_A) + (P_B_given_not_A * P_not_A))\n",
    "P_A_given_B"
   ]
  },
  {
   "cell_type": "markdown",
   "id": "be413600",
   "metadata": {},
   "source": [
    "# 확률의 계산"
   ]
  },
  {
   "cell_type": "markdown",
   "id": "8de123b1",
   "metadata": {},
   "source": [
    "## 동전던지기"
   ]
  },
  {
   "cell_type": "code",
   "execution_count": 28,
   "id": "5ff9f21d",
   "metadata": {},
   "outputs": [
    {
     "data": {
      "text/plain": [
       "0.5"
      ]
     },
     "execution_count": 28,
     "metadata": {},
     "output_type": "execute_result"
    }
   ],
   "source": [
    "space = ['앞면', '뒷면']\n",
    "event = ['앞면']\n",
    "\n",
    "prob = lambda event, space: len(event) / len(space)\n",
    "prob(event, space)"
   ]
  },
  {
   "cell_type": "code",
   "execution_count": 29,
   "id": "f536c5c4",
   "metadata": {},
   "outputs": [
    {
     "data": {
      "text/plain": [
       "0.16666666666666666"
      ]
     },
     "execution_count": 29,
     "metadata": {},
     "output_type": "execute_result"
    }
   ],
   "source": [
    "# 주사위 던지기\n",
    "# 1번 던져 3이 나올 확률\n",
    "\n",
    "space = [1,2,3,4,5,6]\n",
    "event = [3]\n",
    "\n",
    "prob(event,space)"
   ]
  },
  {
   "cell_type": "markdown",
   "id": "2a5ec3aa",
   "metadata": {},
   "source": [
    "# 확률의 덧셈"
   ]
  },
  {
   "cell_type": "markdown",
   "id": "2316744a",
   "metadata": {},
   "source": [
    "## 주사위에서 짝수이거나 4보다 큰 수가 나올 확률"
   ]
  },
  {
   "cell_type": "code",
   "execution_count": 32,
   "id": "9cf7a3c9",
   "metadata": {},
   "outputs": [],
   "source": [
    "space = {1,2,3,4,5,6}\n",
    "event_A = {2,4,6}\n",
    "event_B = {5,6}\n"
   ]
  },
  {
   "cell_type": "code",
   "execution_count": 33,
   "id": "865f52a4",
   "metadata": {},
   "outputs": [
    {
     "data": {
      "text/plain": [
       "{2, 4, 5, 6}"
      ]
     },
     "execution_count": 33,
     "metadata": {},
     "output_type": "execute_result"
    }
   ],
   "source": [
    "합집합 = event_A | event_B\n",
    "합집합"
   ]
  },
  {
   "cell_type": "code",
   "execution_count": 35,
   "id": "f9073f03",
   "metadata": {},
   "outputs": [
    {
     "data": {
      "text/plain": [
       "0.6666666666666666"
      ]
     },
     "execution_count": 35,
     "metadata": {},
     "output_type": "execute_result"
    }
   ],
   "source": [
    "합집합의갯수 = len(합집합)\n",
    "전체경우의수 = len(space)\n",
    "확률_1 = 합집합의갯수 / 전체경우의수\n",
    "확률_1 # 짝수 또는 4보다 큰 눈이 나올 확률"
   ]
  },
  {
   "cell_type": "markdown",
   "id": "b61d61cb",
   "metadata": {},
   "source": [
    "# 2 이하이거나 5 이상인 눈이 나올 확률"
   ]
  },
  {
   "cell_type": "code",
   "execution_count": 39,
   "id": "99d8f4c6",
   "metadata": {},
   "outputs": [],
   "source": [
    "space = {1,2,3,4,5,6}\n",
    "event_C = {1,2}\n",
    "event_D = {5,6}"
   ]
  },
  {
   "cell_type": "code",
   "execution_count": 40,
   "id": "378ecf0f",
   "metadata": {},
   "outputs": [
    {
     "data": {
      "text/plain": [
       "{1, 2, 5, 6}"
      ]
     },
     "execution_count": 40,
     "metadata": {},
     "output_type": "execute_result"
    }
   ],
   "source": [
    "합집합1 = event_C | event_D\n",
    "합집합1"
   ]
  },
  {
   "cell_type": "code",
   "execution_count": 41,
   "id": "8b30c337",
   "metadata": {},
   "outputs": [
    {
     "data": {
      "text/plain": [
       "0.6666666666666666"
      ]
     },
     "execution_count": 41,
     "metadata": {},
     "output_type": "execute_result"
    }
   ],
   "source": [
    "합집합의갯수 = len(합집합)\n",
    "전체경우의수 = len(space)\n",
    "확률_2 = 합집합의갯수 / 전체경우의수\n",
    "확률_2 # 짝수 또는 4보다 큰 눈이 나올 확률"
   ]
  },
  {
   "cell_type": "markdown",
   "id": "06e224a0",
   "metadata": {},
   "source": [
    "# 확률의 교집합"
   ]
  },
  {
   "cell_type": "markdown",
   "id": "6f3be9b5",
   "metadata": {},
   "source": [
    "## 주사위를 던져 짝수 & 2일 확률"
   ]
  },
  {
   "cell_type": "code",
   "execution_count": null,
   "id": "a7d5dcd4",
   "metadata": {},
   "outputs": [
    {
     "data": {
      "text/plain": [
       "{2}"
      ]
     },
     "execution_count": 43,
     "metadata": {},
     "output_type": "execute_result"
    }
   ],
   "source": [
    "# 조건부 확률\n",
    "sample_space = [1,2,3,4,5,6]\n",
    "event_A = [2,4,6]\n",
    "event_B = [2]\n",
    "\n",
    "P_A = len(event_A) / len(sample_space) # A일 확률\n",
    "P_B = len(event_B) / len(sample_space) # B일 확률\n",
    "P_B_and_A_ele = set(event_A) & set(event_B) # 교집합의 원소\n",
    "P_B_and_A_ele"
   ]
  },
  {
   "cell_type": "code",
   "execution_count": 45,
   "id": "195f06f7",
   "metadata": {},
   "outputs": [
    {
     "data": {
      "text/plain": [
       "0.16666666666666666"
      ]
     },
     "execution_count": 45,
     "metadata": {},
     "output_type": "execute_result"
    }
   ],
   "source": [
    "P_B_and_A = len(P_B_and_A_ele) / len(sample_space) # 교집합이 나올 확률\n",
    "P_B_and_A"
   ]
  },
  {
   "cell_type": "code",
   "execution_count": 47,
   "id": "25f83f83",
   "metadata": {},
   "outputs": [
    {
     "data": {
      "text/plain": [
       "0.3333333333333333"
      ]
     },
     "execution_count": 47,
     "metadata": {},
     "output_type": "execute_result"
    }
   ],
   "source": [
    "# 조건부확률: 짝수일 때 2가 나올 확률\n",
    "# P(B|A) = P(B_and_A) / P_A\n",
    "P_B_given_A = P_B_and_A / P_A\n",
    "P_B_given_A"
   ]
  },
  {
   "cell_type": "markdown",
   "id": "545908bc",
   "metadata": {},
   "source": [
    "# 우도와 확률값"
   ]
  },
  {
   "cell_type": "markdown",
   "id": "889687c9",
   "metadata": {},
   "source": [
    "동전 10번 던지고, 8번 앞면이 나왔다.\\\n",
    "우도의 계산"
   ]
  },
  {
   "cell_type": "code",
   "execution_count": 53,
   "id": "1b7137e2",
   "metadata": {},
   "outputs": [],
   "source": [
    "from scipy.stats import binom"
   ]
  },
  {
   "cell_type": "code",
   "execution_count": null,
   "id": "a2ddf274",
   "metadata": {},
   "outputs": [
    {
     "data": {
      "text/plain": [
       "(np.float64(0.04394531250000005), np.float64(0.30198988799999993))"
      ]
     },
     "execution_count": 55,
     "metadata": {},
     "output_type": "execute_result"
    }
   ],
   "source": [
    "n = 10\n",
    "k = 8 # 앞면의 횟수\n",
    "\n",
    "# 가설1 - 공정한 동전일 것이다\n",
    "p1 = 0.5 #앞면이 나올 확률 - 공정할 경우\n",
    "p1_likelihood = binom.pmf(k,n,p1) #조건, 총사건, 확률\n",
    "\n",
    "# 가설2\n",
    "p2 = 0.8\n",
    "p2_likelihood = binom.pmf(k,n,p2) #조건, 총사건, 확률\n",
    "\n",
    "p1_likelihood, p2_likelihood"
   ]
  },
  {
   "cell_type": "markdown",
   "id": "09688ddf",
   "metadata": {},
   "source": [
    "가설1의 경우, 앞면이 8번 나올 확률은 4.4%\\\n",
    "가설2의 경우, 앞면이 8번 나올 확률은 30.2%\n",
    "\n",
    "앞면 8번 나오는 관측값은 p = 0.8인 모델이 더 잘 설명한다. (우도가 크다)"
   ]
  },
  {
   "cell_type": "markdown",
   "id": "ff98a176",
   "metadata": {},
   "source": [
    "# 기대값\n",
    "x의 확률들의 평균"
   ]
  },
  {
   "cell_type": "code",
   "execution_count": 56,
   "id": "418a789b",
   "metadata": {},
   "outputs": [
    {
     "name": "stdout",
     "output_type": "stream",
     "text": [
      "기대값: 2.16667\n"
     ]
    }
   ],
   "source": [
    "x_values = [1,2,3]\n",
    "p_x = [1/6,3/6,2/6]\n",
    "\n",
    "exp_value = 0\n",
    "#기대값\n",
    "for i in range(len(x_values)):\n",
    "    exp_value += x_values[i] * p_x[i]\n",
    "    \n",
    "print(f'기대값: {exp_value:.5f}')"
   ]
  },
  {
   "cell_type": "code",
   "execution_count": 57,
   "id": "ef15ae9c",
   "metadata": {},
   "outputs": [],
   "source": [
    "from scipy.stats import norm"
   ]
  },
  {
   "cell_type": "code",
   "execution_count": 60,
   "id": "2c7cb84a",
   "metadata": {},
   "outputs": [
    {
     "data": {
      "image/png": "[encoded data removed]",
      "text/plain": [
       "<Figure size 1000x600 with 1 Axes>"
      ]
     },
     "metadata": {},
     "output_type": "display_data"
    }
   ],
   "source": [
    "mu = 0\n",
    "sigma = 1\n",
    "\n",
    "x = np.linspace(-4,4,1000)\n",
    "y = norm.pdf(x,loc=mu,scale=sigma)\n",
    "plt.plot(x,y)\n",
    "plt.show()"
   ]
  },
  {
   "cell_type": "markdown",
   "id": "55a12e99",
   "metadata": {},
   "source": [
    "# 표집분포"
   ]
  },
  {
   "cell_type": "code",
   "execution_count": 64,
   "id": "e2420e5c",
   "metadata": {},
   "outputs": [
    {
     "data": {
      "image/png": "[encoded data removed]",
      "text/plain": [
       "<Figure size 1000x600 with 1 Axes>"
      ]
     },
     "metadata": {},
     "output_type": "display_data"
    }
   ],
   "source": [
    "np.random.seed(0)\n",
    "X_pop = np.random.exponential (scale = 10, size = 10000)\n",
    "sample_mean = [np.mean(np.random.choice(X_pop, size=30))\n",
    "               for _ in range(10000)]\n",
    "\n",
    "plt.hist(sample_mean, bins=300)\n",
    "plt.show()"
   ]
  },
  {
   "cell_type": "markdown",
   "id": "e5c076ce",
   "metadata": {},
   "source": [
    "# z 점수"
   ]
  },
  {
   "cell_type": "code",
   "execution_count": 65,
   "id": "05b79c54",
   "metadata": {},
   "outputs": [
    {
     "data": {
      "text/plain": [
       "(1.0, 2.5)"
      ]
     },
     "execution_count": 65,
     "metadata": {},
     "output_type": "execute_result"
    }
   ],
   "source": [
    "mu = 100\n",
    "sigma = 10\n",
    "\n",
    "x1 = 110 # z점수를 계산하려고 하는 원래 점수\n",
    "x2 = 125\n",
    "\n",
    "# z점수 = (원점수 - 평균) / 표준편차\n",
    "z_x1 = (x1 - mu) / sigma\n",
    "z_x2 = (x2 - mu) / sigma\n",
    "z_x1, z_x2"
   ]
  },
  {
   "cell_type": "markdown",
   "id": "c1e3c394",
   "metadata": {},
   "source": [
    "z_x1 = 0.8413 - 0.5 => 0.3414\\\n",
    "z_x2 = 0.9938 - 0.5 => 0.4938\n",
    "\n",
    "0.4938 - 0.3413 = 0.1525 => About 15%"
   ]
  },
  {
   "cell_type": "markdown",
   "id": "1b88fb84",
   "metadata": {},
   "source": [
    "전체 분포에서 x1~x2 사이의 면적"
   ]
  },
  {
   "cell_type": "code",
   "execution_count": 68,
   "id": "0a9b5ffd",
   "metadata": {},
   "outputs": [
    {
     "data": {
      "text/plain": [
       "np.float64(0.15244558860568092)"
      ]
     },
     "execution_count": 68,
     "metadata": {},
     "output_type": "execute_result"
    }
   ],
   "source": [
    "area_z_x1 = norm.cdf(z_x1) - norm.cdf(0)\n",
    "area_z_x2 = norm.cdf(z_x2) - norm.cdf(0)\n",
    "diff_area = area_z_x2 - area_z_x1\n",
    "diff_area"
   ]
  },
  {
   "cell_type": "code",
   "execution_count": 72,
   "id": "6901dab2",
   "metadata": {},
   "outputs": [
    {
     "data": {
      "image/png": "[encoded data removed]",
      "text/plain": [
       "<Figure size 1000x600 with 1 Axes>"
      ]
     },
     "metadata": {},
     "output_type": "display_data"
    }
   ],
   "source": [
    "# 시각화\n",
    "x = np.linspace(mu - 4 * sigma, mu + 4 * sigma, 1000)\n",
    "y = norm.pdf(x, mu, sigma)\n",
    "plt.plot(x,y)\n",
    "plt.fill_between(x,y,where = (x>=100)&(x<=110), color = 'skyblue')\n",
    "plt.fill_between(x,y,where = (x>110)&(x<=125), color = 'lightgreen')\n",
    "plt.show()"
   ]
  },
  {
   "cell_type": "code",
   "execution_count": null,
   "id": "1ffe0ed0",
   "metadata": {},
   "outputs": [],
   "source": []
  },
  {
   "cell_type": "code",
   "execution_count": null,
   "id": "8c3696cd",
   "metadata": {},
   "outputs": [],
   "source": []
  },
  {
   "cell_type": "code",
   "execution_count": null,
   "id": "4569ab93",
   "metadata": {},
   "outputs": [],
   "source": []
  },
  {
   "cell_type": "code",
   "execution_count": null,
   "id": "ccd419f2",
   "metadata": {},
   "outputs": [],
   "source": []
  },
  {
   "cell_type": "code",
   "execution_count": null,
   "id": "e3f27e6a",
   "metadata": {},
   "outputs": [],
   "source": []
  },
  {
   "cell_type": "code",
   "execution_count": null,
   "id": "e5d69593",
   "metadata": {},
   "outputs": [],
   "source": []
  },
  {
   "cell_type": "code",
   "execution_count": null,
   "id": "f1a6b7b7",
   "metadata": {},
   "outputs": [],
   "source": []
  },
  {
   "cell_type": "code",
   "execution_count": null,
   "id": "f3012d43",
   "metadata": {},
   "outputs": [],
   "source": []
  },
  {
   "cell_type": "code",
   "execution_count": null,
   "id": "6117a56e",
   "metadata": {},
   "outputs": [],
   "source": []
  }
 ],
 "metadata": {
  "kernelspec": {
   "display_name": "hipython",
   "language": "python",
   "name": "python3"
  },
  "language_info": {
   "codemirror_mode": {
    "name": "ipython",
    "version": 3
   },
   "file_extension": ".py",
   "mimetype": "text/x-python",
   "name": "python",
   "nbconvert_exporter": "python",
   "pygments_lexer": "ipython3",
   "version": "3.12.9"
  }
 },
 "nbformat": 4,
 "nbformat_minor": 5
}
