{
 "cells": [
  {
   "cell_type": "code",
   "execution_count": 1,
   "id": "dc31920e-c116-4f2f-974d-6d30c1713bbf",
   "metadata": {},
   "outputs": [
    {
     "data": {
      "text/plain": [
       "False"
      ]
     },
     "execution_count": 1,
     "metadata": {},
     "output_type": "execute_result"
    }
   ],
   "source": [
    "#연산자\n",
    "2+3 #산술연산자\n",
    "a=2 #대입연산자\n",
    "a>2 #비교연산자"
   ]
  },
  {
   "cell_type": "code",
   "execution_count": 11,
   "id": "bdac8881-7394-4c1d-8bad-5494395f8a72",
   "metadata": {},
   "outputs": [
    {
     "data": {
      "text/plain": [
       "(2, 2, 2, 2)"
      ]
     },
     "execution_count": 11,
     "metadata": {},
     "output_type": "execute_result"
    }
   ],
   "source": [
    "b=c=d=a #대입연산자\n",
    "b,c,d,a"
   ]
  },
  {
   "cell_type": "code",
   "execution_count": 4,
   "id": "6feadfba-245b-4259-87cc-5f3c75d461d3",
   "metadata": {},
   "outputs": [
    {
     "data": {
      "text/plain": [
       "True"
      ]
     },
     "execution_count": 4,
     "metadata": {},
     "output_type": "execute_result"
    }
   ],
   "source": [
    "id(b)==id(c)"
   ]
  },
  {
   "cell_type": "markdown",
   "id": "71b0bd00-4a7f-46d8-acc9-344a6a2b050d",
   "metadata": {},
   "source": [
    "# 조건문\n",
    "- 조건문: 비교연산자를 이용한 부울값이 출력되어야 함\n",
    "- : (콜론) 이후 영역표시는 들여쓰기로 맞추어야함"
   ]
  },
  {
   "cell_type": "code",
   "execution_count": 13,
   "id": "1a155697-ae32-45f5-8cc7-c87514b6498e",
   "metadata": {},
   "outputs": [
    {
     "name": "stdout",
     "output_type": "stream",
     "text": [
      "pass\n"
     ]
    }
   ],
   "source": [
    "kor_score=95\n",
    "\n",
    "#단독if\n",
    "if kor_score>90: #True일때만 실행\n",
    "    print('pass')"
   ]
  },
  {
   "cell_type": "code",
   "execution_count": 10,
   "id": "96780cb8-f11d-42a1-8d6a-24d759e2d854",
   "metadata": {},
   "outputs": [
    {
     "name": "stdout",
     "output_type": "stream",
     "text": [
      "pass\n"
     ]
    }
   ],
   "source": [
    "#한줄 작성\n",
    "if kor_score>90: print('pass')"
   ]
  },
  {
   "cell_type": "code",
   "execution_count": 14,
   "id": "759d73d3-ebe4-4dd8-9e3f-93d8409aece9",
   "metadata": {},
   "outputs": [
    {
     "name": "stdout",
     "output_type": "stream",
     "text": [
      "pass\n"
     ]
    }
   ],
   "source": [
    "if kor_score>90:\n",
    "    print('pass')\n",
    "\n",
    "else: \n",
    "    print('fail')"
   ]
  },
  {
   "cell_type": "code",
   "execution_count": 19,
   "id": "75cbc140-5e38-4176-898d-47db3f9540b2",
   "metadata": {},
   "outputs": [
    {
     "name": "stdout",
     "output_type": "stream",
     "text": [
      "pass\n"
     ]
    }
   ],
   "source": [
    "#한줄 작성\n",
    "# 'True일때 실행문' if 조건식 else 'False일때 실행문' => : (콜론) 안씀\n",
    "# if kor_score>90: print('pass') else: print('fail') => 이렇게 쓰면 안됨 error 뜸\n",
    "\n",
    "print('pass') if kor_score>90 else print('fail') "
   ]
  },
  {
   "cell_type": "code",
   "execution_count": null,
   "id": "928b95e4-a1ce-419b-9a00-3932fc73fa35",
   "metadata": {},
   "outputs": [],
   "source": [
    "#수우미양가\n",
    ">=90"
   ]
  },
  {
   "cell_type": "code",
   "execution_count": 22,
   "id": "98835f6f-581e-494a-8146-119f50c704a5",
   "metadata": {},
   "outputs": [
    {
     "name": "stdin",
     "output_type": "stream",
     "text": [
      "점수를 입력하세요. 숫자로. 2\n"
     ]
    },
    {
     "name": "stdout",
     "output_type": "stream",
     "text": [
      "가\n"
     ]
    }
   ],
   "source": [
    "score=int(input('점수를 입력하세요. 숫자로.'))\n",
    "\n",
    "#중첩if\n",
    "if score >= 90:\n",
    "    print('수')\n",
    "else:  # 89 이하\n",
    "    if score >= 80:\n",
    "        print('우')\n",
    "    else:  # 79 이하\n",
    "        if score >= 70:\n",
    "            print('미')\n",
    "        else:  # 69 이하\n",
    "            if score >= 60:\n",
    "                print('양')\n",
    "            else:  # 59 이하\n",
    "                print('가')"
   ]
  },
  {
   "cell_type": "code",
   "execution_count": 24,
   "id": "a50d568b-2f84-4cfa-9109-abba78282ac8",
   "metadata": {},
   "outputs": [
    {
     "name": "stdin",
     "output_type": "stream",
     "text": [
      "점수를 입력하세요. 숫자로. 90\n"
     ]
    },
    {
     "name": "stdout",
     "output_type": "stream",
     "text": [
      "수\n",
      "우\n",
      "미\n"
     ]
    }
   ],
   "source": [
    "score=int(input('점수를 입력하세요. 숫자로.'))\n",
    "\n",
    "if score >=90:\n",
    "    print('수')\n",
    "\n",
    "if score >80:\n",
    "    print('우')\n",
    "\n",
    "if score >=70:\n",
    "    print('미')"
   ]
  },
  {
   "cell_type": "code",
   "execution_count": 26,
   "id": "76f80fa1-bd54-4fbc-bd01-2266925d15f2",
   "metadata": {},
   "outputs": [
    {
     "name": "stdin",
     "output_type": "stream",
     "text": [
      "점수를 입력하세요. 숫자로. 70\n"
     ]
    },
    {
     "name": "stdout",
     "output_type": "stream",
     "text": [
      "미\n"
     ]
    }
   ],
   "source": [
    "score=int(input('점수를 입력하세요. 숫자로.'))\n",
    "if score >=90:\n",
    "    print('수')\n",
    "elif score >=80:\n",
    "    print('우')\n",
    "elif score >=70:\n",
    "    print('미')\n",
    "else:\n",
    "    print('가')"
   ]
  },
  {
   "cell_type": "code",
   "execution_count": 34,
   "id": "2518dacc-f9a9-4c71-be74-2b9a535a6e96",
   "metadata": {},
   "outputs": [
    {
     "name": "stdin",
     "output_type": "stream",
     "text": [
      "수식을 입력하세요. (예.20 * 40) 20 / 2\n"
     ]
    },
    {
     "data": {
      "text/plain": [
       "('20', '/', '2')"
      ]
     },
     "execution_count": 34,
     "metadata": {},
     "output_type": "execute_result"
    }
   ],
   "source": [
    "formula=input('수식을 입력하세요. (예.20 * 40)')\n",
    "num1,opr,num2=formula.split()\n",
    "num1,opr,num2"
   ]
  },
  {
   "cell_type": "code",
   "execution_count": 37,
   "id": "004ae699-ca51-4379-ac95-26a0dae3483b",
   "metadata": {},
   "outputs": [
    {
     "name": "stdout",
     "output_type": "stream",
     "text": [
      "20.0 / 2.0 = 23.0\n"
     ]
    }
   ],
   "source": [
    "num1=float(num1)\n",
    "num2=float(num2)\n",
    "\n",
    "opr_list=['+','-','*'] #연산자\n",
    "\n",
    "if opr =='+':\n",
    "    result=num1+num2\n",
    "elif opr =='-':\n",
    "    result=num1-num2\n",
    "\n",
    "print(f'{num1} {opr} {num2} = {result}')"
   ]
  },
  {
   "cell_type": "code",
   "execution_count": 45,
   "id": "d9265499-d77c-45e1-8013-0eb3321026e0",
   "metadata": {},
   "outputs": [
    {
     "ename": "KeyboardInterrupt",
     "evalue": "Interrupted by user",
     "output_type": "error",
     "traceback": [
      "\u001b[31m---------------------------------------------------------------------------\u001b[39m",
      "\u001b[31mKeyboardInterrupt\u001b[39m                         Traceback (most recent call last)",
      "\u001b[36mCell\u001b[39m\u001b[36m \u001b[39m\u001b[32mIn[45]\u001b[39m\u001b[32m, line 3\u001b[39m\n\u001b[32m      1\u001b[39m \u001b[38;5;66;03m#지원하지 않는 연산입니다 메세지 띄우기\u001b[39;00m\n\u001b[32m----> \u001b[39m\u001b[32m3\u001b[39m formula=\u001b[38;5;28minput\u001b[39m(\u001b[33m'\u001b[39m\u001b[33m수식을 입력하세요. (예.20 * 40)\u001b[39m\u001b[33m'\u001b[39m)\n\u001b[32m      4\u001b[39m num1,opr,num2=formula.split()\n\u001b[32m      5\u001b[39m \u001b[38;5;28mprint\u001b[39m(num1,opr,num2)\n",
      "\u001b[36mFile \u001b[39m\u001b[32m~\\miniconda3\\envs\\hipython\\Lib\\site-packages\\ipykernel\\kernelbase.py:1282\u001b[39m, in \u001b[36mKernel.raw_input\u001b[39m\u001b[34m(self, prompt)\u001b[39m\n\u001b[32m   1280\u001b[39m     msg = \u001b[33m\"\u001b[39m\u001b[33mraw_input was called, but this frontend does not support input requests.\u001b[39m\u001b[33m\"\u001b[39m\n\u001b[32m   1281\u001b[39m     \u001b[38;5;28;01mraise\u001b[39;00m StdinNotImplementedError(msg)\n\u001b[32m-> \u001b[39m\u001b[32m1282\u001b[39m \u001b[38;5;28;01mreturn\u001b[39;00m \u001b[38;5;28mself\u001b[39m._input_request(\n\u001b[32m   1283\u001b[39m     \u001b[38;5;28mstr\u001b[39m(prompt),\n\u001b[32m   1284\u001b[39m     \u001b[38;5;28mself\u001b[39m._parent_ident[\u001b[33m\"\u001b[39m\u001b[33mshell\u001b[39m\u001b[33m\"\u001b[39m],\n\u001b[32m   1285\u001b[39m     \u001b[38;5;28mself\u001b[39m.get_parent(\u001b[33m\"\u001b[39m\u001b[33mshell\u001b[39m\u001b[33m\"\u001b[39m),\n\u001b[32m   1286\u001b[39m     password=\u001b[38;5;28;01mFalse\u001b[39;00m,\n\u001b[32m   1287\u001b[39m )\n",
      "\u001b[36mFile \u001b[39m\u001b[32m~\\miniconda3\\envs\\hipython\\Lib\\site-packages\\ipykernel\\kernelbase.py:1325\u001b[39m, in \u001b[36mKernel._input_request\u001b[39m\u001b[34m(self, prompt, ident, parent, password)\u001b[39m\n\u001b[32m   1322\u001b[39m \u001b[38;5;28;01mexcept\u001b[39;00m \u001b[38;5;167;01mKeyboardInterrupt\u001b[39;00m:\n\u001b[32m   1323\u001b[39m     \u001b[38;5;66;03m# re-raise KeyboardInterrupt, to truncate traceback\u001b[39;00m\n\u001b[32m   1324\u001b[39m     msg = \u001b[33m\"\u001b[39m\u001b[33mInterrupted by user\u001b[39m\u001b[33m\"\u001b[39m\n\u001b[32m-> \u001b[39m\u001b[32m1325\u001b[39m     \u001b[38;5;28;01mraise\u001b[39;00m \u001b[38;5;167;01mKeyboardInterrupt\u001b[39;00m(msg) \u001b[38;5;28;01mfrom\u001b[39;00m\u001b[38;5;250m \u001b[39m\u001b[38;5;28;01mNone\u001b[39;00m\n\u001b[32m   1326\u001b[39m \u001b[38;5;28;01mexcept\u001b[39;00m \u001b[38;5;167;01mException\u001b[39;00m:\n\u001b[32m   1327\u001b[39m     \u001b[38;5;28mself\u001b[39m.log.warning(\u001b[33m\"\u001b[39m\u001b[33mInvalid Message:\u001b[39m\u001b[33m\"\u001b[39m, exc_info=\u001b[38;5;28;01mTrue\u001b[39;00m)\n",
      "\u001b[31mKeyboardInterrupt\u001b[39m: Interrupted by user"
     ]
    }
   ],
   "source": [
    "#지원하지 않는 연산입니다 메세지 띄우기\n",
    "\n",
    "formula=input('수식을 입력하세요. (예.20 * 40)')\n",
    "num1,opr,num2=formula.split()\n",
    "print(num1,opr,num2)\n",
    "\n",
    "num1=float(num1)\n",
    "num2=float(num2)\n",
    "\n",
    "opr_list=['+','-','*','/'] #연산자\n",
    "\n",
    "if opr =='+':\n",
    "    result=num1+num2\n",
    "elif opr =='-':\n",
    "    result=num1-num2\n",
    "elif opr =='*':\n",
    "    result=num1*num2\n",
    "elif opr =='/':\n",
    "    result=num1/num2\n",
    "else:\n",
    "    print('지원하지 않는 연산입니다.')\n",
    "\n",
    "print(f'{num1} {opr} {num2} = {result}')"
   ]
  },
  {
   "cell_type": "code",
   "execution_count": 49,
   "id": "8ea333c6-5c45-45f8-9cd3-7beb74cafdce",
   "metadata": {},
   "outputs": [
    {
     "name": "stdin",
     "output_type": "stream",
     "text": [
      "수식을 입력하세요. (예.20 * 40) 20 / 3\n"
     ]
    },
    {
     "name": "stdout",
     "output_type": "stream",
     "text": [
      "20 / 3\n",
      "20.0 / 3.0 = 지원하지 않는 연산자입니다.\n"
     ]
    }
   ],
   "source": [
    "#지원하지 않는 연산입니다 메세지 띄우기\n",
    "\n",
    "formula=input('수식을 입력하세요. (예.20 * 40)')\n",
    "num1,opr,num2=formula.split()\n",
    "print(num1,opr,num2)\n",
    "\n",
    "num1=float(num1)\n",
    "num2=float(num2)\n",
    "\n",
    "opr_list=['+','-','*'] #연산자\n",
    "\n",
    "if opr =='+':\n",
    "    result=num1+num2\n",
    "elif opr =='-':\n",
    "    result=num1-num2\n",
    "elif opr =='*':\n",
    "    result=num1*num2\n",
    "else:\n",
    "    result='지원하지 않는 연산자입니다.'\n",
    "\n",
    "print(f'{num1} {opr} {num2} = {result}')"
   ]
  },
  {
   "cell_type": "code",
   "execution_count": 50,
   "id": "2b6751c6-ba21-4d7a-b096-e2be676acb63",
   "metadata": {},
   "outputs": [
    {
     "name": "stdin",
     "output_type": "stream",
     "text": [
      "수식을 입력하세요. (예.20 * 40) 20 ^ 2\n"
     ]
    },
    {
     "name": "stdout",
     "output_type": "stream",
     "text": [
      "20 ^ 2\n",
      "지원하지 않는 연산자입니다.\n",
      "20.0 ^ 2.0 = None\n"
     ]
    }
   ],
   "source": [
    "#지원하지 않는 연산입니다 메세지 띄우기\n",
    "\n",
    "formula=input('수식을 입력하세요. (예.20 * 40)')\n",
    "num1,opr,num2=formula.split()\n",
    "print(num1,opr,num2)\n",
    "\n",
    "num1=float(num1)\n",
    "num2=float(num2)\n",
    "\n",
    "opr_list=['+','-','*'] #연산자\n",
    "\n",
    "if opr =='+':\n",
    "    result=num1+num2\n",
    "elif opr =='-':\n",
    "    result=num1-num2\n",
    "elif opr =='*':\n",
    "    result=num1*num2\n",
    "elif opr =='/':\n",
    "    result=num1/num2\n",
    "else:\n",
    "    result=None\n",
    "\n",
    "if result==None:\n",
    "    print('지원하지 않는 연산자입니다.')\n",
    "\n",
    "print(f'{num1} {opr} {num2} = {result}')"
   ]
  },
  {
   "cell_type": "code",
   "execution_count": 54,
   "id": "a90a3960-0a1b-4af3-bcbd-17d1bc8b6237",
   "metadata": {},
   "outputs": [
    {
     "name": "stdin",
     "output_type": "stream",
     "text": [
      "수식을 입력하세요. (예.20 * 40) 20 ^ 3\n"
     ]
    },
    {
     "name": "stdout",
     "output_type": "stream",
     "text": [
      "지원하지 않는 연산자입니다.\n",
      "20 ^ 3 = None\n"
     ]
    }
   ],
   "source": [
    "formula=input('수식을 입력하세요. (예.20 * 40)')\n",
    "num1,opr,num2=formula.split()\n",
    "\n",
    "if opr not in opr_list:\n",
    "    print('지원하지 않는 연산자입니다.')\n",
    "else:\n",
    "    if opr =='+':\n",
    "        result=num1+num2\n",
    "    elif opr =='-':\n",
    "        result=num1-num2\n",
    "    elif opr =='*':\n",
    "        result=num1*num2\n",
    "    elif opr =='/':\n",
    "        result=num1/num2\n",
    "\n",
    "print(f'{num1} {opr} {num2} = {result}')"
   ]
  },
  {
   "cell_type": "markdown",
   "id": "e6df152b-80f2-449c-afcc-4c8d8471d95b",
   "metadata": {},
   "source": [
    "# 1줄로 쓰기"
   ]
  },
  {
   "cell_type": "code",
   "execution_count": 55,
   "id": "0ab50f35-acb7-4eac-b852-04b0218b9502",
   "metadata": {},
   "outputs": [
    {
     "name": "stdout",
     "output_type": "stream",
     "text": [
      "홀수\n"
     ]
    }
   ],
   "source": [
    "num=7\n",
    "#if num%2: print('짝수') else print ('홀수')\n",
    "\n",
    "print('짝수' if num % 2 == 0 else '홀수')"
   ]
  },
  {
   "cell_type": "code",
   "execution_count": 70,
   "id": "94664b3b-556a-41cb-9adb-385422630099",
   "metadata": {},
   "outputs": [
    {
     "name": "stdout",
     "output_type": "stream",
     "text": [
      "화이팅\n"
     ]
    }
   ],
   "source": [
    "#졸려=True - 쉽시다 아니면 화이팅\n",
    "졸려 = False\n",
    "#action='쉽시다' if 졸려==True else '화이팅'\n",
    "action='쉽시다' if 졸려 else '화이팅'\n",
    "print(action)"
   ]
  },
  {
   "cell_type": "code",
   "execution_count": 75,
   "id": "8c1fb75d-55c1-4bf2-a7d8-3613185ca5f9",
   "metadata": {},
   "outputs": [
    {
     "data": {
      "text/plain": [
       "'패'"
      ]
     },
     "execution_count": 75,
     "metadata": {},
     "output_type": "execute_result"
    }
   ],
   "source": [
    "player = '가위'\n",
    "computer = '바위'\n",
    "#result = '승' '패' '무승부'\n",
    "\n",
    "result='승'if player=='가위' and computer == '보' else '무승부' if player==computer else '패' \n",
    "result"
   ]
  },
  {
   "cell_type": "code",
   "execution_count": 81,
   "id": "7f3f2422-f42e-48ad-bc5b-9a24fc0de961",
   "metadata": {},
   "outputs": [
    {
     "data": {
      "text/plain": [
       "'C'"
      ]
     },
     "execution_count": 81,
     "metadata": {},
     "output_type": "execute_result"
    }
   ],
   "source": [
    "#학점 A,B,C,D 출력하는 1줄 조건식\n",
    "\n",
    "grade=75\n",
    "\n",
    "result='A' if grade>=90 else 'B' if grade>=80 else 'C' if grade>=70 else 'D'\n",
    "result"
   ]
  },
  {
   "cell_type": "markdown",
   "id": "d1b18f6b-b4eb-43d6-84fd-1d4f09b76df3",
   "metadata": {},
   "source": [
    "# Break, continue, pass"
   ]
  },
  {
   "cell_type": "code",
   "execution_count": 82,
   "id": "056809c2-c0ab-4e9d-a866-3c5429661ad1",
   "metadata": {},
   "outputs": [
    {
     "name": "stdout",
     "output_type": "stream",
     "text": [
      "현재 검사 중인 숫자: 1\n",
      "현재 검사 중인 숫자: 3\n",
      "현재 검사 중인 숫자: 5\n",
      "현재 검사 중인 숫자: 7\n",
      "9를 찾았습니다!\n"
     ]
    }
   ],
   "source": [
    "numbers = [1, 3, 5, 7, 9, 11, 13, 15]\n",
    "search_number = 9\n",
    "\n",
    "for num in numbers:\n",
    "    if num == search_number:\n",
    "        print(f\"{search_number}를 찾았습니다!\")\n",
    "        break\n",
    "    print(f\"현재 검사 중인 숫자: {num}\")\n"
   ]
  },
  {
   "cell_type": "code",
   "execution_count": 83,
   "id": "76a15eb0-f166-4e7f-b585-4665ba0a1ea2",
   "metadata": {},
   "outputs": [
    {
     "name": "stdout",
     "output_type": "stream",
     "text": [
      "2\n",
      "4\n",
      "6\n",
      "8\n",
      "10\n"
     ]
    }
   ],
   "source": [
    "for i in range(1, 11):\n",
    "    if i % 2 != 0:  # 홀수인 경우\n",
    "        continue\n",
    "    print(i)  # 짝수만 출력"
   ]
  },
  {
   "cell_type": "code",
   "execution_count": 86,
   "id": "c20a3a62-e29c-4b3c-ac64-a4588aad4e9a",
   "metadata": {},
   "outputs": [],
   "source": [
    "condition=True\n",
    "\n",
    "if condition:\n",
    "    pass  # 나중에 구현할 예정\n",
    "else:\n",
    "    print(\"else 구문 실행\")"
   ]
  }
 ],
 "metadata": {
  "kernelspec": {
   "display_name": "Python 3 (ipykernel)",
   "language": "python",
   "name": "python3"
  },
  "language_info": {
   "codemirror_mode": {
    "name": "ipython",
    "version": 3
   },
   "file_extension": ".py",
   "mimetype": "text/x-python",
   "name": "python",
   "nbconvert_exporter": "python",
   "pygments_lexer": "ipython3",
   "version": "3.12.9"
  }
 },
 "nbformat": 4,
 "nbformat_minor": 5
}
