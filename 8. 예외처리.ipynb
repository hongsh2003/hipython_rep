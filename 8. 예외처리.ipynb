{
 "cells": [
  {
   "cell_type": "markdown",
   "id": "1a773083-09e0-43b1-8777-df3f7a95bd12",
   "metadata": {},
   "source": [
    "# 예외의 종류\n",
    "\n",
    "1. 문법오류: SyntaxError, NameError, TypeError\\\n",
    "   https://docs.python.org/ko/3/library/exceptions.html#bltin-exceptions \n",
    "3. 논리오류: \n",
    "4. 예외상황: "
   ]
  },
  {
   "cell_type": "code",
   "execution_count": 3,
   "id": "cba7781b-e533-4a8d-9052-ac58cf9b9c75",
   "metadata": {},
   "outputs": [
    {
     "ename": "SyntaxError",
     "evalue": "expected ':' (1034960825.py, line 1)",
     "output_type": "error",
     "traceback": [
      "  \u001b[36mCell\u001b[39m\u001b[36m \u001b[39m\u001b[32mIn[3]\u001b[39m\u001b[32m, line 1\u001b[39m\n\u001b[31m    \u001b[39m\u001b[31mwhile True\u001b[39m\n              ^\n\u001b[31mSyntaxError\u001b[39m\u001b[31m:\u001b[39m expected ':'\n"
     ]
    }
   ],
   "source": [
    "while True\n",
    "    print('hello')"
   ]
  },
  {
   "cell_type": "code",
   "execution_count": 2,
   "id": "b26b0c89-e1d9-48df-801f-7f9e24c3c44e",
   "metadata": {},
   "outputs": [
    {
     "ename": "NameError",
     "evalue": "name 'am' is not defined",
     "output_type": "error",
     "traceback": [
      "\u001b[31m---------------------------------------------------------------------------\u001b[39m",
      "\u001b[31mNameError\u001b[39m                                 Traceback (most recent call last)",
      "\u001b[36mCell\u001b[39m\u001b[36m \u001b[39m\u001b[32mIn[2]\u001b[39m\u001b[32m, line 1\u001b[39m\n\u001b[32m----> \u001b[39m\u001b[32m1\u001b[39m \u001b[32m4\u001b[39m + \u001b[32m2\u001b[39m*am\n",
      "\u001b[31mNameError\u001b[39m: name 'am' is not defined"
     ]
    }
   ],
   "source": [
    "4 + 2*am"
   ]
  },
  {
   "cell_type": "code",
   "execution_count": 4,
   "id": "7fd0eb89-ba9e-4942-855e-7604317dd82a",
   "metadata": {},
   "outputs": [
    {
     "ename": "TypeError",
     "evalue": "unsupported operand type(s) for +: 'int' and 'str'",
     "output_type": "error",
     "traceback": [
      "\u001b[31m---------------------------------------------------------------------------\u001b[39m",
      "\u001b[31mTypeError\u001b[39m                                 Traceback (most recent call last)",
      "\u001b[36mCell\u001b[39m\u001b[36m \u001b[39m\u001b[32mIn[4]\u001b[39m\u001b[32m, line 1\u001b[39m\n\u001b[32m----> \u001b[39m\u001b[32m1\u001b[39m \u001b[32m2\u001b[39m+\u001b[33m'\u001b[39m\u001b[33m2\u001b[39m\u001b[33m'\u001b[39m\n",
      "\u001b[31mTypeError\u001b[39m: unsupported operand type(s) for +: 'int' and 'str'"
     ]
    }
   ],
   "source": [
    "2+'2'"
   ]
  },
  {
   "cell_type": "markdown",
   "id": "31076d31-2cdf-42f8-b71d-e00163b2c73e",
   "metadata": {},
   "source": [
    "# try:\n",
    "except"
   ]
  },
  {
   "cell_type": "code",
   "execution_count": 6,
   "id": "b1b3453a-30a3-488e-9e3b-958b017e060e",
   "metadata": {},
   "outputs": [],
   "source": [
    "#10/0 ZeroDivisionError"
   ]
  },
  {
   "cell_type": "code",
   "execution_count": 7,
   "id": "742858a1-c09b-400b-af48-02f8e4b8b0f4",
   "metadata": {},
   "outputs": [],
   "source": [
    "def divide(m, n):\n",
    "    return m/n"
   ]
  },
  {
   "cell_type": "code",
   "execution_count": 36,
   "id": "9f89052b-cbf5-4813-b78c-52a0262bfb38",
   "metadata": {},
   "outputs": [],
   "source": [
    "def divide(m, n,s):\n",
    "    try:\n",
    "        result=m/n\n",
    "        result+=int(s)\n",
    "        return result\n",
    "    except (ValueError, ZeroDivisionError):\n",
    "        print('0으로 나눌 수 없습니다')\n",
    "        return None\n",
    "    except : #나머지 모든 에러 받기\n",
    "        print('다른 에러가 발생했습니다')\n",
    "        return None\n",
    "    finally:\n",
    "        print('항상 실행되는 코드입니다')"
   ]
  },
  {
   "cell_type": "code",
   "execution_count": 37,
   "id": "1c0c3e7c-c608-4fc1-85aa-b55a2163eda3",
   "metadata": {},
   "outputs": [
    {
     "ename": "TypeError",
     "evalue": "divide() missing 1 required positional argument: 's'",
     "output_type": "error",
     "traceback": [
      "\u001b[31m---------------------------------------------------------------------------\u001b[39m",
      "\u001b[31mTypeError\u001b[39m                                 Traceback (most recent call last)",
      "\u001b[36mCell\u001b[39m\u001b[36m \u001b[39m\u001b[32mIn[37]\u001b[39m\u001b[32m, line 1\u001b[39m\n\u001b[32m----> \u001b[39m\u001b[32m1\u001b[39m result=divide(\u001b[32m3\u001b[39m,\u001b[32m0\u001b[39m)\n\u001b[32m      2\u001b[39m result\n",
      "\u001b[31mTypeError\u001b[39m: divide() missing 1 required positional argument: 's'"
     ]
    }
   ],
   "source": [
    "result=divide(3,0)\n",
    "result"
   ]
  },
  {
   "cell_type": "code",
   "execution_count": 38,
   "id": "876ca651-efe3-42b5-b690-525c2fa185d1",
   "metadata": {},
   "outputs": [
    {
     "name": "stdout",
     "output_type": "stream",
     "text": [
      "0으로 나눌 수 없습니다\n",
      "항상 실행되는 코드입니다\n"
     ]
    }
   ],
   "source": [
    "divide(3,2,'a')"
   ]
  },
  {
   "cell_type": "markdown",
   "id": "72c0d817-69bd-49fc-bf2c-65f4b823b7e1",
   "metadata": {},
   "source": [
    "# 예외 발생시키기"
   ]
  },
  {
   "cell_type": "code",
   "execution_count": 40,
   "id": "231ea4e3-7a08-4c76-83d3-b6637b11dd29",
   "metadata": {},
   "outputs": [
    {
     "ename": "TypeError",
     "evalue": "입력값오류",
     "output_type": "error",
     "traceback": [
      "\u001b[31m---------------------------------------------------------------------------\u001b[39m",
      "\u001b[31mTypeError\u001b[39m                                 Traceback (most recent call last)",
      "\u001b[36mCell\u001b[39m\u001b[36m \u001b[39m\u001b[32mIn[40]\u001b[39m\u001b[32m, line 1\u001b[39m\n\u001b[32m----> \u001b[39m\u001b[32m1\u001b[39m \u001b[38;5;28;01mraise\u001b[39;00m \u001b[38;5;167;01mTypeError\u001b[39;00m(\u001b[33m'\u001b[39m\u001b[33m입력값오류\u001b[39m\u001b[33m'\u001b[39m)\n",
      "\u001b[31mTypeError\u001b[39m: 입력값오류"
     ]
    }
   ],
   "source": [
    "raise TypeError('입력값오류')"
   ]
  },
  {
   "cell_type": "code",
   "execution_count": 42,
   "id": "cf61bf47-bdc9-4462-87ec-f49d96f941e4",
   "metadata": {},
   "outputs": [
    {
     "name": "stdout",
     "output_type": "stream",
     "text": [
      "('입력값오류',)\n"
     ]
    }
   ],
   "source": [
    "try:\n",
    "    raise TypeError('입력값오류')\n",
    "except TypeError as e:\n",
    "    print(e.args)"
   ]
  },
  {
   "cell_type": "markdown",
   "id": "d52b7680-b92a-4d7b-bf0b-8a1bb916fd5e",
   "metadata": {},
   "source": [
    "# 내가 정의하는 예외\n",
    "\n",
    "1. 예외 클래스 작성: 각 예외상황에 맞는 메세지를 작성\n",
    "2. 호출할 때 try: except로 받아줌"
   ]
  },
  {
   "cell_type": "code",
   "execution_count": 44,
   "id": "085e8b60-decf-49ff-adeb-9f6cbb6bf797",
   "metadata": {},
   "outputs": [],
   "source": [
    "class AgeException(Exception):\n",
    "    def __init__(self,msg):\n",
    "        self._message=msg\n",
    "\n",
    "def input_age():\n",
    "    age=int(input('나이를 입력하세요: '))\n",
    "\n",
    "    if age<0:\n",
    "        raise AgeException('나이는 양수입니다')\n",
    "    elif age>150:\n",
    "        raise AgeException('150세 이상??')\n",
    "    else: \n",
    "        return age"
   ]
  },
  {
   "cell_type": "code",
   "execution_count": 47,
   "id": "7bf96ba3-1885-4d7d-a06d-1c16e9d05b09",
   "metadata": {},
   "outputs": [
    {
     "name": "stdin",
     "output_type": "stream",
     "text": [
      "나이를 입력하세요:  360\n"
     ]
    },
    {
     "ename": "AgeException",
     "evalue": "150세 이상??",
     "output_type": "error",
     "traceback": [
      "\u001b[31m---------------------------------------------------------------------------\u001b[39m",
      "\u001b[31mAgeException\u001b[39m                              Traceback (most recent call last)",
      "\u001b[36mCell\u001b[39m\u001b[36m \u001b[39m\u001b[32mIn[47]\u001b[39m\u001b[32m, line 1\u001b[39m\n\u001b[32m----> \u001b[39m\u001b[32m1\u001b[39m input_age()\n",
      "\u001b[36mCell\u001b[39m\u001b[36m \u001b[39m\u001b[32mIn[44]\u001b[39m\u001b[32m, line 11\u001b[39m, in \u001b[36minput_age\u001b[39m\u001b[34m()\u001b[39m\n\u001b[32m      9\u001b[39m     \u001b[38;5;28;01mraise\u001b[39;00m AgeException(\u001b[33m'\u001b[39m\u001b[33m나이는 양수입니다\u001b[39m\u001b[33m'\u001b[39m)\n\u001b[32m     10\u001b[39m \u001b[38;5;28;01melif\u001b[39;00m age>\u001b[32m150\u001b[39m:\n\u001b[32m---> \u001b[39m\u001b[32m11\u001b[39m     \u001b[38;5;28;01mraise\u001b[39;00m AgeException(\u001b[33m'\u001b[39m\u001b[33m150세 이상??\u001b[39m\u001b[33m'\u001b[39m)\n\u001b[32m     12\u001b[39m \u001b[38;5;28;01melse\u001b[39;00m: \n\u001b[32m     13\u001b[39m     \u001b[38;5;28;01mreturn\u001b[39;00m age\n",
      "\u001b[31mAgeException\u001b[39m: 150세 이상??"
     ]
    }
   ],
   "source": [
    "input_age()"
   ]
  },
  {
   "cell_type": "code",
   "execution_count": 51,
   "id": "10d9159a-3a29-4046-aecf-b53f8198da86",
   "metadata": {},
   "outputs": [
    {
     "name": "stdin",
     "output_type": "stream",
     "text": [
      "나이를 입력하세요:  20\n"
     ]
    },
    {
     "name": "stdout",
     "output_type": "stream",
     "text": [
      "입력하신 나이는 20입니다\n"
     ]
    }
   ],
   "source": [
    "try:\n",
    "    age=input_age()\n",
    "except AgeException as e:\n",
    "    print (e.args[0])\n",
    "else:\n",
    "    print(f'입력하신 나이는 {age}입니다')"
   ]
  },
  {
   "cell_type": "code",
   "execution_count": null,
   "id": "afd16873-5863-4e09-b275-1cf2fbf8db52",
   "metadata": {},
   "outputs": [],
   "source": []
  },
  {
   "cell_type": "code",
   "execution_count": null,
   "id": "493f9e1d-514e-4d6f-b8a0-8a5988009cc9",
   "metadata": {},
   "outputs": [],
   "source": []
  },
  {
   "cell_type": "code",
   "execution_count": null,
   "id": "9b54611f-9046-4a44-b2e4-53706d2d0f85",
   "metadata": {},
   "outputs": [],
   "source": []
  },
  {
   "cell_type": "code",
   "execution_count": null,
   "id": "9f4bb3b9-71ee-4b84-9944-6ef593f623ad",
   "metadata": {},
   "outputs": [],
   "source": []
  },
  {
   "cell_type": "code",
   "execution_count": null,
   "id": "a74e3cf1-429b-4643-8b56-88920babded4",
   "metadata": {},
   "outputs": [],
   "source": []
  }
 ],
 "metadata": {
  "kernelspec": {
   "display_name": "Python 3 (ipykernel)",
   "language": "python",
   "name": "python3"
  },
  "language_info": {
   "codemirror_mode": {
    "name": "ipython",
    "version": 3
   },
   "file_extension": ".py",
   "mimetype": "text/x-python",
   "name": "python",
   "nbconvert_exporter": "python",
   "pygments_lexer": "ipython3",
   "version": "3.12.9"
  }
 },
 "nbformat": 4,
 "nbformat_minor": 5
}
