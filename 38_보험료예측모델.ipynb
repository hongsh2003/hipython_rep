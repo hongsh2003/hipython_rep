{
 "cells": [
  {
   "cell_type": "markdown",
   "id": "aa7af29b",
   "metadata": {},
   "source": [
    "# 선형회기 모델, 작성, 예측, 평가"
   ]
  },
  {
   "cell_type": "markdown",
   "id": "1bde8f63",
   "metadata": {},
   "source": [
    "# LinearRegression & RandomForestRegression"
   ]
  },
  {
   "cell_type": "code",
   "execution_count": 66,
   "id": "8ff5499a",
   "metadata": {},
   "outputs": [],
   "source": [
    "from sklearn.model_selection import train_test_split\n",
    "from sklearn.linear_model import LinearRegression\n",
    "from sklearn.ensemble import RandomForestRegressor\n",
    "from sklearn.metrics import mean_squared_error, r2_score\n",
    "import numpy as np\n",
    "import matplotlib.pyplot as plt\n",
    "import pandas as pd\n",
    "%matplotlib inline"
   ]
  },
  {
   "cell_type": "code",
   "execution_count": 34,
   "id": "2aa1ead5",
   "metadata": {},
   "outputs": [
    {
     "data": {
      "text/html": [
       "<div>\n",
       "<style scoped>\n",
       "    .dataframe tbody tr th:only-of-type {\n",
       "        vertical-align: middle;\n",
       "    }\n",
       "\n",
       "    .dataframe tbody tr th {\n",
       "        vertical-align: top;\n",
       "    }\n",
       "\n",
       "    .dataframe thead th {\n",
       "        text-align: right;\n",
       "    }\n",
       "</style>\n",
       "<table border=\"1\" class=\"dataframe\">\n",
       "  <thead>\n",
       "    <tr style=\"text-align: right;\">\n",
       "      <th></th>\n",
       "      <th>age</th>\n",
       "      <th>sex</th>\n",
       "      <th>bmi</th>\n",
       "      <th>children</th>\n",
       "      <th>smoker</th>\n",
       "      <th>region</th>\n",
       "      <th>charges</th>\n",
       "    </tr>\n",
       "  </thead>\n",
       "  <tbody>\n",
       "    <tr>\n",
       "      <th>0</th>\n",
       "      <td>19</td>\n",
       "      <td>female</td>\n",
       "      <td>27.900</td>\n",
       "      <td>0</td>\n",
       "      <td>yes</td>\n",
       "      <td>southwest</td>\n",
       "      <td>16884.92400</td>\n",
       "    </tr>\n",
       "    <tr>\n",
       "      <th>1</th>\n",
       "      <td>18</td>\n",
       "      <td>male</td>\n",
       "      <td>33.770</td>\n",
       "      <td>1</td>\n",
       "      <td>no</td>\n",
       "      <td>southeast</td>\n",
       "      <td>1725.55230</td>\n",
       "    </tr>\n",
       "    <tr>\n",
       "      <th>2</th>\n",
       "      <td>28</td>\n",
       "      <td>male</td>\n",
       "      <td>33.000</td>\n",
       "      <td>3</td>\n",
       "      <td>no</td>\n",
       "      <td>southeast</td>\n",
       "      <td>4449.46200</td>\n",
       "    </tr>\n",
       "    <tr>\n",
       "      <th>3</th>\n",
       "      <td>33</td>\n",
       "      <td>male</td>\n",
       "      <td>22.705</td>\n",
       "      <td>0</td>\n",
       "      <td>no</td>\n",
       "      <td>northwest</td>\n",
       "      <td>21984.47061</td>\n",
       "    </tr>\n",
       "    <tr>\n",
       "      <th>4</th>\n",
       "      <td>32</td>\n",
       "      <td>male</td>\n",
       "      <td>28.880</td>\n",
       "      <td>0</td>\n",
       "      <td>no</td>\n",
       "      <td>northwest</td>\n",
       "      <td>3866.85520</td>\n",
       "    </tr>\n",
       "    <tr>\n",
       "      <th>...</th>\n",
       "      <td>...</td>\n",
       "      <td>...</td>\n",
       "      <td>...</td>\n",
       "      <td>...</td>\n",
       "      <td>...</td>\n",
       "      <td>...</td>\n",
       "      <td>...</td>\n",
       "    </tr>\n",
       "    <tr>\n",
       "      <th>1333</th>\n",
       "      <td>50</td>\n",
       "      <td>male</td>\n",
       "      <td>30.970</td>\n",
       "      <td>3</td>\n",
       "      <td>no</td>\n",
       "      <td>northwest</td>\n",
       "      <td>10600.54830</td>\n",
       "    </tr>\n",
       "    <tr>\n",
       "      <th>1334</th>\n",
       "      <td>18</td>\n",
       "      <td>female</td>\n",
       "      <td>31.920</td>\n",
       "      <td>0</td>\n",
       "      <td>no</td>\n",
       "      <td>northeast</td>\n",
       "      <td>2205.98080</td>\n",
       "    </tr>\n",
       "    <tr>\n",
       "      <th>1335</th>\n",
       "      <td>18</td>\n",
       "      <td>female</td>\n",
       "      <td>36.850</td>\n",
       "      <td>0</td>\n",
       "      <td>no</td>\n",
       "      <td>southeast</td>\n",
       "      <td>1629.83350</td>\n",
       "    </tr>\n",
       "    <tr>\n",
       "      <th>1336</th>\n",
       "      <td>21</td>\n",
       "      <td>female</td>\n",
       "      <td>25.800</td>\n",
       "      <td>0</td>\n",
       "      <td>no</td>\n",
       "      <td>southwest</td>\n",
       "      <td>2007.94500</td>\n",
       "    </tr>\n",
       "    <tr>\n",
       "      <th>1337</th>\n",
       "      <td>61</td>\n",
       "      <td>female</td>\n",
       "      <td>29.070</td>\n",
       "      <td>0</td>\n",
       "      <td>yes</td>\n",
       "      <td>northwest</td>\n",
       "      <td>29141.36030</td>\n",
       "    </tr>\n",
       "  </tbody>\n",
       "</table>\n",
       "<p>1338 rows × 7 columns</p>\n",
       "</div>"
      ],
      "text/plain": [
       "      age     sex     bmi  children smoker     region      charges\n",
       "0      19  female  27.900         0    yes  southwest  16884.92400\n",
       "1      18    male  33.770         1     no  southeast   1725.55230\n",
       "2      28    male  33.000         3     no  southeast   4449.46200\n",
       "3      33    male  22.705         0     no  northwest  21984.47061\n",
       "4      32    male  28.880         0     no  northwest   3866.85520\n",
       "...   ...     ...     ...       ...    ...        ...          ...\n",
       "1333   50    male  30.970         3     no  northwest  10600.54830\n",
       "1334   18  female  31.920         0     no  northeast   2205.98080\n",
       "1335   18  female  36.850         0     no  southeast   1629.83350\n",
       "1336   21  female  25.800         0     no  southwest   2007.94500\n",
       "1337   61  female  29.070         0    yes  northwest  29141.36030\n",
       "\n",
       "[1338 rows x 7 columns]"
      ]
     },
     "execution_count": 34,
     "metadata": {},
     "output_type": "execute_result"
    }
   ],
   "source": [
    "df = pd.read_csv('./data1/premium.csv')\n",
    "df"
   ]
  },
  {
   "cell_type": "code",
   "execution_count": 35,
   "id": "39fb42c2",
   "metadata": {},
   "outputs": [
    {
     "data": {
      "text/plain": [
       "(1338, 7)"
      ]
     },
     "execution_count": 35,
     "metadata": {},
     "output_type": "execute_result"
    }
   ],
   "source": [
    "X = df.drop('charges', axis = 1).values\n",
    "y = df['charges'].values\n",
    "df.shape"
   ]
  },
  {
   "cell_type": "code",
   "execution_count": 36,
   "id": "e789c3eb",
   "metadata": {},
   "outputs": [
    {
     "data": {
      "text/html": [
       "<div>\n",
       "<style scoped>\n",
       "    .dataframe tbody tr th:only-of-type {\n",
       "        vertical-align: middle;\n",
       "    }\n",
       "\n",
       "    .dataframe tbody tr th {\n",
       "        vertical-align: top;\n",
       "    }\n",
       "\n",
       "    .dataframe thead th {\n",
       "        text-align: right;\n",
       "    }\n",
       "</style>\n",
       "<table border=\"1\" class=\"dataframe\">\n",
       "  <thead>\n",
       "    <tr style=\"text-align: right;\">\n",
       "      <th></th>\n",
       "      <th>age</th>\n",
       "      <th>sex</th>\n",
       "      <th>bmi</th>\n",
       "      <th>children</th>\n",
       "      <th>smoker</th>\n",
       "      <th>region</th>\n",
       "      <th>charges</th>\n",
       "    </tr>\n",
       "  </thead>\n",
       "  <tbody>\n",
       "    <tr>\n",
       "      <th>0</th>\n",
       "      <td>19</td>\n",
       "      <td>female</td>\n",
       "      <td>27.900</td>\n",
       "      <td>0</td>\n",
       "      <td>yes</td>\n",
       "      <td>southwest</td>\n",
       "      <td>16884.92400</td>\n",
       "    </tr>\n",
       "    <tr>\n",
       "      <th>1</th>\n",
       "      <td>18</td>\n",
       "      <td>male</td>\n",
       "      <td>33.770</td>\n",
       "      <td>1</td>\n",
       "      <td>no</td>\n",
       "      <td>southeast</td>\n",
       "      <td>1725.55230</td>\n",
       "    </tr>\n",
       "    <tr>\n",
       "      <th>2</th>\n",
       "      <td>28</td>\n",
       "      <td>male</td>\n",
       "      <td>33.000</td>\n",
       "      <td>3</td>\n",
       "      <td>no</td>\n",
       "      <td>southeast</td>\n",
       "      <td>4449.46200</td>\n",
       "    </tr>\n",
       "    <tr>\n",
       "      <th>3</th>\n",
       "      <td>33</td>\n",
       "      <td>male</td>\n",
       "      <td>22.705</td>\n",
       "      <td>0</td>\n",
       "      <td>no</td>\n",
       "      <td>northwest</td>\n",
       "      <td>21984.47061</td>\n",
       "    </tr>\n",
       "    <tr>\n",
       "      <th>4</th>\n",
       "      <td>32</td>\n",
       "      <td>male</td>\n",
       "      <td>28.880</td>\n",
       "      <td>0</td>\n",
       "      <td>no</td>\n",
       "      <td>northwest</td>\n",
       "      <td>3866.85520</td>\n",
       "    </tr>\n",
       "  </tbody>\n",
       "</table>\n",
       "</div>"
      ],
      "text/plain": [
       "   age     sex     bmi  children smoker     region      charges\n",
       "0   19  female  27.900         0    yes  southwest  16884.92400\n",
       "1   18    male  33.770         1     no  southeast   1725.55230\n",
       "2   28    male  33.000         3     no  southeast   4449.46200\n",
       "3   33    male  22.705         0     no  northwest  21984.47061\n",
       "4   32    male  28.880         0     no  northwest   3866.85520"
      ]
     },
     "execution_count": 36,
     "metadata": {},
     "output_type": "execute_result"
    }
   ],
   "source": [
    "df.head()"
   ]
  },
  {
   "cell_type": "markdown",
   "id": "f629b69b",
   "metadata": {},
   "source": [
    "## 결측치 제거"
   ]
  },
  {
   "cell_type": "code",
   "execution_count": 48,
   "id": "ffbd690f",
   "metadata": {},
   "outputs": [
    {
     "name": "stdout",
     "output_type": "stream",
     "text": [
      "0\n"
     ]
    }
   ],
   "source": [
    "# BMI 컬럼의 평균 계산\n",
    "bmi_mean = df['bmi'].mean()\n",
    "\n",
    "# 결측값을 평균으로 대체\n",
    "df['bmi'] = df['bmi'].fillna(bmi_mean)\n",
    "\n",
    "# 결과 확인\n",
    "print(df['bmi'].isnull().sum())  # 0이면 성공"
   ]
  },
  {
   "cell_type": "markdown",
   "id": "87c08039",
   "metadata": {},
   "source": [
    "## 문자형 변수 숫자로 변환"
   ]
  },
  {
   "cell_type": "code",
   "execution_count": 49,
   "id": "74f4e06b",
   "metadata": {},
   "outputs": [
    {
     "name": "stdout",
     "output_type": "stream",
     "text": [
      "   age  sex     bmi  children  smoker  region      charges\n",
      "0   19    0  27.900         0       1       3  16884.92400\n",
      "1   18    1  33.770         1       0       2   1725.55230\n",
      "2   28    1  33.000         3       0       2   4449.46200\n",
      "3   33    1  22.705         0       0       1  21984.47061\n",
      "4   32    1  28.880         0       0       1   3866.85520\n"
     ]
    }
   ],
   "source": [
    "# 문자형 변수 숫자로 변환 (sex, region, smoker)\n",
    "df_encoded = df.copy()\n",
    "df_encoded['sex'] = df_encoded['sex'].map({'female': 0, 'male': 1})\n",
    "df_encoded['region'] = df_encoded['region'].map({'northeast': 0, 'northwest': 1, 'southeast': 2, 'southwest': 3})\n",
    "df_encoded['smoker'] = df_encoded['smoker'].map({'no': 0, 'yes': 1})\n",
    "\n",
    "print(df_encoded.head())"
   ]
  },
  {
   "cell_type": "code",
   "execution_count": 45,
   "id": "087336f6",
   "metadata": {},
   "outputs": [
    {
     "name": "stdout",
     "output_type": "stream",
     "text": [
      "<class 'pandas.core.frame.DataFrame'>\n",
      "RangeIndex: 1338 entries, 0 to 1337\n",
      "Data columns (total 7 columns):\n",
      " #   Column    Non-Null Count  Dtype  \n",
      "---  ------    --------------  -----  \n",
      " 0   age       1338 non-null   int64  \n",
      " 1   sex       1338 non-null   int64  \n",
      " 2   bmi       1333 non-null   float64\n",
      " 3   children  1338 non-null   int64  \n",
      " 4   smoker    1338 non-null   int64  \n",
      " 5   region    1338 non-null   int64  \n",
      " 6   charges   1338 non-null   float64\n",
      "dtypes: float64(2), int64(5)\n",
      "memory usage: 73.3 KB\n"
     ]
    }
   ],
   "source": [
    "df_encoded.info()"
   ]
  },
  {
   "cell_type": "markdown",
   "id": "fb6927dc",
   "metadata": {},
   "source": [
    "## X, y 다시 정의"
   ]
  },
  {
   "cell_type": "code",
   "execution_count": 50,
   "id": "7f0095bc",
   "metadata": {},
   "outputs": [],
   "source": [
    "# X1, y 정의\n",
    "X1 = df_encoded.drop('charges', axis=1)\n",
    "y = df_encoded['charges']"
   ]
  },
  {
   "cell_type": "markdown",
   "id": "5ac67c1f",
   "metadata": {},
   "source": [
    "# 단독모델"
   ]
  },
  {
   "cell_type": "code",
   "execution_count": 51,
   "id": "82b7b3be",
   "metadata": {},
   "outputs": [
    {
     "data": {
      "text/plain": [
       "array([14474.70246359, -1367.94174448, 11182.0795591 ])"
      ]
     },
     "execution_count": 51,
     "metadata": {},
     "output_type": "execute_result"
    }
   ],
   "source": [
    "X_train, X_test, y_train, y_test = train_test_split(X1, y, test_size = 0.3, random_state = 156)\n",
    "lr = LinearRegression()\n",
    "lr.fit(X_train, y_train)\n",
    "y_pred = lr.predict(X_test)\n",
    "y_pred[:3]"
   ]
  },
  {
   "cell_type": "markdown",
   "id": "93a1962c",
   "metadata": {},
   "source": [
    " 위 결과\n",
    " - LinearRegression 모델이 예측한 의료비(charges)의 추정값 상위 3개\n",
    " - 선형 회귀는 출력값의 범위를 제한하지 않기 때문에, 회귀선 아래로 지나치는 경우 음수가 나올 수 있음. 하지만 의료비는 음수가 될 수 없는 값이므로, 개선이 필요"
   ]
  },
  {
   "cell_type": "code",
   "execution_count": 52,
   "id": "988accb4",
   "metadata": {},
   "outputs": [
    {
     "data": {
      "text/plain": [
       "(np.float64(5892.287122021437), np.float64(34719047.52833968))"
      ]
     },
     "execution_count": 52,
     "metadata": {},
     "output_type": "execute_result"
    }
   ],
   "source": [
    "# 평가\n",
    "mse = mean_squared_error(y_test, y_pred)\n",
    "rmse = np.sqrt(mse)\n",
    "rmse, mse"
   ]
  },
  {
   "cell_type": "markdown",
   "id": "99f8f363",
   "metadata": {},
   "source": [
    "위 결과\n",
    "- y_test: 실제 의료비 (실제 값)\n",
    "- y_pred: 예측된 의료비\n",
    "- mean_squared_error: 오차의 제곱 평균 → MSE\n",
    "- np.sqrt(mse): MSE의 제곱근 → RMSE\n",
    "- RMSE ≈ 5892원이면, 의료비 예측에서 평균적으로 약 5,892원 정도의 오차가 있다는 뜻\n",
    "- 일반적으로 RMSE가 작을수록 성능이 좋음"
   ]
  },
  {
   "cell_type": "code",
   "execution_count": 53,
   "id": "f8c59cfd",
   "metadata": {},
   "outputs": [
    {
     "data": {
      "text/plain": [
       "np.float64(0.7314050294401666)"
      ]
     },
     "execution_count": 53,
     "metadata": {},
     "output_type": "execute_result"
    }
   ],
   "source": [
    "# 결정계수\n",
    "r2_score(y_test, y_pred)"
   ]
  },
  {
   "cell_type": "markdown",
   "id": "d09daa62",
   "metadata": {},
   "source": [
    "위 결과\n",
    "- 모델이 **전체 변동의 약 73.1%**를 설명하고 있다는 뜻\n",
    "- 1에 가까울수록 좋은 모델\n",
    "- 0이면 예측이 평균만큼도 설명하지 못한 것이고, 음수면 완전히 잘못된 모델"
   ]
  },
  {
   "cell_type": "code",
   "execution_count": 54,
   "id": "5b400f8e",
   "metadata": {},
   "outputs": [
    {
     "data": {
      "text/plain": [
       "(np.float64(-12749.427561095079),\n",
       " array([  257.5385329 ,  -339.97677884,   369.66261678,   471.40493778,\n",
       "        23624.46109983,  -375.59873801]))"
      ]
     },
     "execution_count": 54,
     "metadata": {},
     "output_type": "execute_result"
    }
   ],
   "source": [
    "# 회귀식\n",
    "# W1, W0\n",
    "lr.intercept_, lr.coef_"
   ]
  },
  {
   "cell_type": "markdown",
   "id": "62fa481d",
   "metadata": {},
   "source": [
    "위 결과\n",
    "- intercept_: 선형 회귀식의 y절편 (기준값)\n",
    "    - 모든 독립변수가 0일 때 예측되는 charges 값\n",
    "    - 여기선 -12749.4 → 음수지만 해석보단 상대비교가 중요\n",
    "\n",
    "- coef_: 각 독립변수의 회귀계수 (즉, 영향력)\n",
    "    - charges = W0 + W1*age + W2*sex + ... 와 같은 식에서 W1~Wn\n"
   ]
  },
  {
   "cell_type": "code",
   "execution_count": 55,
   "id": "ba48058a",
   "metadata": {},
   "outputs": [
    {
     "data": {
      "text/plain": [
       "(np.float64(-12749.4),\n",
       " array([  257.5,  -340. ,   369.7,   471.4, 23624.5,  -375.6]))"
      ]
     },
     "execution_count": 55,
     "metadata": {},
     "output_type": "execute_result"
    }
   ],
   "source": [
    "np.round(lr.intercept_, 1), np.round(lr.coef_, 1) # 위에 있는 식을 계산한 결과"
   ]
  },
  {
   "cell_type": "markdown",
   "id": "2e3d43cc",
   "metadata": {},
   "source": [
    "위 결과 \n",
    "- 위에서 출력된 절편과 계수를 소수점 1자리로 반올림한 결과\n",
    "    - 보기 쉽게 출력하기 위한 가공\n"
   ]
  },
  {
   "cell_type": "code",
   "execution_count": 58,
   "id": "48ba61b5",
   "metadata": {},
   "outputs": [
    {
     "data": {
      "text/plain": [
       "smoker      23624.5\n",
       "children      471.4\n",
       "bmi           369.7\n",
       "age           257.5\n",
       "sex          -340.0\n",
       "region       -375.6\n",
       "dtype: float64"
      ]
     },
     "execution_count": 58,
     "metadata": {},
     "output_type": "execute_result"
    }
   ],
   "source": [
    "pd.Series(data = np.round(lr.coef_, 1), index = df.drop('charges', axis = 1).columns).sort_values(ascending = False)"
   ]
  },
  {
   "cell_type": "code",
   "execution_count": 60,
   "id": "408d5c17",
   "metadata": {},
   "outputs": [
    {
     "data": {
      "text/plain": [
       "array([-37353966.147801  , -38018280.71475136, -32981193.39000173,\n",
       "       -39560881.14778336, -37174240.90789755])"
      ]
     },
     "execution_count": 60,
     "metadata": {},
     "output_type": "execute_result"
    }
   ],
   "source": [
    "from sklearn.model_selection import cross_val_score\n",
    "neg_mse_scores = cross_val_score(lr, X1, y, scoring = 'neg_mean_squared_error', cv = 5)\n",
    "neg_mse_scores"
   ]
  },
  {
   "cell_type": "code",
   "execution_count": 61,
   "id": "19942e56",
   "metadata": {},
   "outputs": [
    {
     "data": {
      "text/plain": [
       "(np.float64(6081.4847105593835),\n",
       " array([6111.78911186, 6165.89658645, 5742.92550796, 6289.74412419,\n",
       "        6097.06822234]))"
      ]
     },
     "execution_count": 61,
     "metadata": {},
     "output_type": "execute_result"
    }
   ],
   "source": [
    "# MSE, RMSE\n",
    "RMSE = np.sqrt(neg_mse_scores * -1)\n",
    "np.mean(RMSE), RMSE"
   ]
  },
  {
   "cell_type": "code",
   "execution_count": 62,
   "id": "4dfde492",
   "metadata": {},
   "outputs": [
    {
     "data": {
      "text/plain": [
       "(array([0.75962321, 0.70729102, 0.77528105, 0.73350581, 0.7552539 ]),\n",
       " np.float64(0.7461909971637162))"
      ]
     },
     "execution_count": 62,
     "metadata": {},
     "output_type": "execute_result"
    }
   ],
   "source": [
    "# R2\n",
    "r2_scores = cross_val_score(lr, X1, y, scoring = 'r2', cv = 5)\n",
    "r2_scores, np.mean(r2_scores)"
   ]
  },
  {
   "cell_type": "code",
   "execution_count": 68,
   "id": "bae6e330",
   "metadata": {},
   "outputs": [
    {
     "name": "stdout",
     "output_type": "stream",
     "text": [
      "Linear Regression\n",
      "RMSE: 5892.29\n",
      "R²: 0.7314\n"
     ]
    }
   ],
   "source": [
    "# Linear Regression 학습 및 평가\n",
    "lr = LinearRegression()\n",
    "lr.fit(X_train, y_train)\n",
    "lr_pred = lr.predict(X_test)\n",
    "lr_rmse = np.sqrt(mean_squared_error(y_test, lr_pred))\n",
    "lr_r2 = r2_score(y_test, lr_pred)\n",
    "\n",
    "print(\"Linear Regression\")\n",
    "print(f\"RMSE: {lr_rmse:.2f}\")\n",
    "print(f\"R²: {lr_r2:.4f}\")"
   ]
  },
  {
   "cell_type": "code",
   "execution_count": 77,
   "id": "0a8c600a",
   "metadata": {},
   "outputs": [
    {
     "name": "stdout",
     "output_type": "stream",
     "text": [
      "Random Forest Regression\n",
      "RMSE: 4760.46\n",
      "R²: 0.8247\n"
     ]
    }
   ],
   "source": [
    "# Random Forest Regressor 학습 및 평가\n",
    "rf = RandomForestRegressor(n_estimators=100, random_state=200)\n",
    "rf.fit(X_train, y_train)\n",
    "rf_pred = rf.predict(X_test)\n",
    "rf_rmse = np.sqrt(mean_squared_error(y_test, rf_pred))\n",
    "rf_r2 = r2_score(y_test, rf_pred)\n",
    "\n",
    "print(\"Random Forest Regression\")\n",
    "print(f\"RMSE: {rf_rmse:.2f}\")\n",
    "print(f\"R²: {rf_r2:.4f}\")"
   ]
  },
  {
   "cell_type": "markdown",
   "id": "ebad1923",
   "metadata": {},
   "source": [
    "RMSE: 예측값과 실제값 사이의 평균 오차 크기 (작을수록 좋음)\n",
    "\n",
    "R² (결정계수): 모델이 데이터를 얼마나 잘 설명하는지 (1에 가까울수록 좋음)"
   ]
  },
  {
   "cell_type": "markdown",
   "id": "bbd3e613",
   "metadata": {},
   "source": [
    "# 교차검증"
   ]
  },
  {
   "cell_type": "code",
   "execution_count": 79,
   "id": "ab64d2e2",
   "metadata": {},
   "outputs": [
    {
     "name": "stdout",
     "output_type": "stream",
     "text": [
      "RMSE (각 fold): [4748.69945332 5508.3730006  4650.41986061 5052.94671873 4790.65796783]\n",
      "평균 RMSE: 4950.21940021638\n",
      "R² (각 fold): [0.85488738 0.76639064 0.85264745 0.82800682 0.84890016]\n",
      "평균 R²: 0.8301664881701845\n"
     ]
    }
   ],
   "source": [
    "from sklearn.ensemble import RandomForestRegressor\n",
    "from sklearn.model_selection import cross_val_score\n",
    "import numpy as np\n",
    "\n",
    "# 모델 정의\n",
    "rf = RandomForestRegressor(random_state=42)\n",
    "\n",
    "# --- (1) MSE 기반 교차검증 ---\n",
    "neg_mse_scores = cross_val_score(rf, X1, y, scoring='neg_mean_squared_error', cv=5)\n",
    "rmse_scores = np.sqrt(-neg_mse_scores)\n",
    "\n",
    "print(\"RMSE (각 fold):\", rmse_scores)\n",
    "print(\"평균 RMSE:\", np.mean(rmse_scores))\n",
    "\n",
    "# --- (2) R² 기반 교차검증 ---\n",
    "r2_scores = cross_val_score(rf, X1, y, scoring='r2', cv=5)\n",
    "\n",
    "print(\"R² (각 fold):\", r2_scores)\n",
    "print(\"평균 R²:\", np.mean(r2_scores))\n"
   ]
  },
  {
   "cell_type": "code",
   "execution_count": null,
   "id": "7615fba8",
   "metadata": {},
   "outputs": [
    {
     "name": "stdout",
     "output_type": "stream",
     "text": [
      "RMSE (각 fold): [6111.78911186 6165.89658645 5742.92550796 6289.74412419 6097.06822234]\n",
      "평균 RMSE: 6081.4847105593835\n",
      "R² (각 fold): [0.75962321 0.70729102 0.77528105 0.73350581 0.7552539 ]\n",
      "평균 R²: 0.7461909971637162\n"
     ]
    }
   ],
   "source": [
    "from sklearn.linear_model import LinearRegression\n",
    "from sklearn.model_selection import cross_val_score\n",
    "import numpy as np\n",
    "\n",
    "# 모델 정의\n",
    "lr = LinearRegression()\n",
    "\n",
    "# --- (1) MSE 기반 교차검증 ---\n",
    "neg_mse_scores = cross_val_score(lr, X1, y, scoring='neg_mean_squared_error', cv=5)\n",
    "rmse_scores = np.sqrt(-neg_mse_scores)\n",
    "\n",
    "print(\"RMSE (각 fold):\", rmse_scores)\n",
    "print(\"평균 RMSE:\", np.mean(rmse_scores))\n",
    "\n",
    "# --- (2) R² 기반 교차검증 ---\n",
    "r2_scores = cross_val_score(lr, X1, y, scoring='r2', cv=5)\n",
    "\n",
    "print(\"R² (각 fold):\", r2_scores)\n",
    "print(\"평균 R²:\", np.mean(r2_scores)) "
   ]
  },
  {
   "cell_type": "code",
   "execution_count": null,
   "id": "c3c37de3",
   "metadata": {},
   "outputs": [],
   "source": []
  },
  {
   "cell_type": "code",
   "execution_count": null,
   "id": "7f56badf",
   "metadata": {},
   "outputs": [],
   "source": []
  },
  {
   "cell_type": "code",
   "execution_count": null,
   "id": "0b7cb5c1",
   "metadata": {},
   "outputs": [],
   "source": []
  },
  {
   "cell_type": "code",
   "execution_count": null,
   "id": "dc230ac6",
   "metadata": {},
   "outputs": [],
   "source": []
  },
  {
   "cell_type": "code",
   "execution_count": null,
   "id": "9e663b31",
   "metadata": {},
   "outputs": [],
   "source": []
  },
  {
   "cell_type": "code",
   "execution_count": null,
   "id": "ee32ade1",
   "metadata": {},
   "outputs": [],
   "source": []
  }
 ],
 "metadata": {
  "kernelspec": {
   "display_name": "hi_ml_env",
   "language": "python",
   "name": "python3"
  },
  "language_info": {
   "codemirror_mode": {
    "name": "ipython",
    "version": 3
   },
   "file_extension": ".py",
   "mimetype": "text/x-python",
   "name": "python",
   "nbconvert_exporter": "python",
   "pygments_lexer": "ipython3",
   "version": "3.10.16"
  }
 },
 "nbformat": 4,
 "nbformat_minor": 5
}
