{
 "cells": [
  {
   "cell_type": "code",
   "execution_count": 1,
   "id": "a0a7f6c5-8c0d-40ca-b9e6-51935dd5748f",
   "metadata": {},
   "outputs": [
    {
     "name": "stdout",
     "output_type": "stream",
     "text": [
      "7\n"
     ]
    }
   ],
   "source": [
    "def calculate_sum(a,b):\n",
    "    result=a+b\n",
    "\n",
    "    return result\n",
    "\n",
    "print(calculate_sum(3,4))"
   ]
  },
  {
   "cell_type": "markdown",
   "id": "c4b3b2c1-82a8-4ff8-8020-6c1847caaaaf",
   "metadata": {},
   "source": [
    "# 들어가기: 주석"
   ]
  },
  {
   "cell_type": "markdown",
   "id": "b8276b51-3c13-4438-a6b3-0fc3300365a7",
   "metadata": {},
   "source": [
    "# 표준 입력과 표준 출력"
   ]
  },
  {
   "cell_type": "code",
   "execution_count": 5,
   "id": "43d18e13-d9b3-4b27-8f5a-6b8a88d8c489",
   "metadata": {},
   "outputs": [
    {
     "data": {
      "text/plain": [
       "10"
      ]
     },
     "execution_count": 5,
     "metadata": {},
     "output_type": "execute_result"
    }
   ],
   "source": [
    "12345\n",
    "10\n",
    "# iphyton 라이브러리의 기본 기능\n",
    "# print(12345) 표준출력 기능을 내장하고 있음"
   ]
  },
  {
   "cell_type": "code",
   "execution_count": 6,
   "id": "75d721db-297a-40de-93cd-4ce486f66fc2",
   "metadata": {},
   "outputs": [
    {
     "name": "stdout",
     "output_type": "stream",
     "text": [
      "12345\n"
     ]
    },
    {
     "data": {
      "text/plain": [
       "10"
      ]
     },
     "execution_count": 6,
     "metadata": {},
     "output_type": "execute_result"
    }
   ],
   "source": [
    "print(12345)\n",
    "10"
   ]
  },
  {
   "cell_type": "code",
   "execution_count": 12,
   "id": "a9ef13e3-58f6-4964-a6b5-b1a843ccbe07",
   "metadata": {},
   "outputs": [
    {
     "data": {
      "text/plain": [
       "'12345'"
      ]
     },
     "execution_count": 12,
     "metadata": {},
     "output_type": "execute_result"
    }
   ],
   "source": [
    "'12345' #문자열 str"
   ]
  },
  {
   "cell_type": "code",
   "execution_count": 8,
   "id": "28273479-92c6-4ff0-bd6d-4a29861739a1",
   "metadata": {},
   "outputs": [
    {
     "data": {
      "text/plain": [
       "str"
      ]
     },
     "execution_count": 8,
     "metadata": {},
     "output_type": "execute_result"
    }
   ],
   "source": [
    "type('12345')"
   ]
  },
  {
   "cell_type": "code",
   "execution_count": 9,
   "id": "1253eda2-eadb-455a-b9f4-05e8f3e27423",
   "metadata": {},
   "outputs": [
    {
     "data": {
      "text/plain": [
       "int"
      ]
     },
     "execution_count": 9,
     "metadata": {},
     "output_type": "execute_result"
    }
   ],
   "source": [
    "type(12345)"
   ]
  },
  {
   "cell_type": "code",
   "execution_count": 14,
   "id": "855af771-871c-4337-919b-4f4b8acd15a2",
   "metadata": {},
   "outputs": [],
   "source": [
    "#'12345'+10 type error"
   ]
  },
  {
   "cell_type": "code",
   "execution_count": 11,
   "id": "34cd8ec5-28db-4222-9715-b9cb1970aeff",
   "metadata": {},
   "outputs": [
    {
     "data": {
      "text/plain": [
       "12355"
      ]
     },
     "execution_count": 11,
     "metadata": {},
     "output_type": "execute_result"
    }
   ],
   "source": [
    "12345+10"
   ]
  },
  {
   "cell_type": "code",
   "execution_count": 15,
   "id": "0f25a2d5-4643-4ad6-a1e5-fd39f0a4f576",
   "metadata": {},
   "outputs": [
    {
     "data": {
      "text/plain": [
       "'12345'"
      ]
     },
     "execution_count": 15,
     "metadata": {},
     "output_type": "execute_result"
    }
   ],
   "source": [
    "\"12345\""
   ]
  },
  {
   "cell_type": "code",
   "execution_count": 16,
   "id": "b912418e-cbb6-4ae8-88ac-57446c01cb3e",
   "metadata": {},
   "outputs": [
    {
     "data": {
      "text/plain": [
       "str"
      ]
     },
     "execution_count": 16,
     "metadata": {},
     "output_type": "execute_result"
    }
   ],
   "source": [
    "type(\"12345\")"
   ]
  },
  {
   "cell_type": "code",
   "execution_count": 17,
   "id": "f364065a-aa86-4a5e-88aa-f4bfc826db51",
   "metadata": {},
   "outputs": [
    {
     "data": {
      "text/plain": [
       "'123451234512345'"
      ]
     },
     "execution_count": 17,
     "metadata": {},
     "output_type": "execute_result"
    }
   ],
   "source": [
    "'12345'*3"
   ]
  },
  {
   "cell_type": "code",
   "execution_count": 27,
   "id": "91c51072-b849-4283-a96b-74da05e54008",
   "metadata": {},
   "outputs": [
    {
     "name": "stdin",
     "output_type": "stream",
     "text": [
      "Enter your name: Sue\n"
     ]
    },
    {
     "data": {
      "text/plain": [
       "'Sue'"
      ]
     },
     "execution_count": 27,
     "metadata": {},
     "output_type": "execute_result"
    }
   ],
   "source": [
    "name = input('Enter your name:')\n",
    "name"
   ]
  },
  {
   "cell_type": "code",
   "execution_count": 24,
   "id": "fc27e766-b0f8-44da-8e1e-e28918d8069a",
   "metadata": {},
   "outputs": [
    {
     "name": "stdin",
     "output_type": "stream",
     "text": [
      "Enter your age: 22\n"
     ]
    },
    {
     "data": {
      "text/plain": [
       "'22'"
      ]
     },
     "execution_count": 24,
     "metadata": {},
     "output_type": "execute_result"
    }
   ],
   "source": [
    "age = input('Enter your age:')\n",
    "age"
   ]
  },
  {
   "cell_type": "code",
   "execution_count": 25,
   "id": "56f97edf-bf70-48c6-81fd-1a15682349c1",
   "metadata": {},
   "outputs": [
    {
     "data": {
      "text/plain": [
       "'22'"
      ]
     },
     "execution_count": 25,
     "metadata": {},
     "output_type": "execute_result"
    }
   ],
   "source": [
    "age"
   ]
  },
  {
   "cell_type": "code",
   "execution_count": 28,
   "id": "e7afe2de-a8a1-4840-9f63-e8236cb98108",
   "metadata": {},
   "outputs": [
    {
     "data": {
      "text/plain": [
       "'Sue'"
      ]
     },
     "execution_count": 28,
     "metadata": {},
     "output_type": "execute_result"
    }
   ],
   "source": [
    "name"
   ]
  },
  {
   "cell_type": "code",
   "execution_count": 29,
   "id": "485b35e1-d846-42e9-a2f7-24af600d576c",
   "metadata": {},
   "outputs": [
    {
     "data": {
      "text/plain": [
       "('22', 'Sue')"
      ]
     },
     "execution_count": 29,
     "metadata": {},
     "output_type": "execute_result"
    }
   ],
   "source": [
    "age, name"
   ]
  },
  {
   "cell_type": "code",
   "execution_count": 32,
   "id": "79bb05f3-a40a-4f57-8742-0e40c399c43a",
   "metadata": {},
   "outputs": [
    {
     "name": "stdout",
     "output_type": "stream",
     "text": [
      "I am Sue and my age is22 this year\n"
     ]
    }
   ],
   "source": [
    "print('I am', name, 'and my age is'+ age, 'this year')"
   ]
  },
  {
   "cell_type": "code",
   "execution_count": 39,
   "id": "e221f603-34f3-4aae-aedd-4bf957d275fc",
   "metadata": {
    "scrolled": true
   },
   "outputs": [],
   "source": [
    "age=int(age)\n"
   ]
  },
  {
   "cell_type": "code",
   "execution_count": 40,
   "id": "b51f4d92-ee84-4df4-b152-0576dfb10fe2",
   "metadata": {},
   "outputs": [
    {
     "data": {
      "text/plain": [
       "32"
      ]
     },
     "execution_count": 40,
     "metadata": {},
     "output_type": "execute_result"
    }
   ],
   "source": [
    "age+10"
   ]
  },
  {
   "cell_type": "markdown",
   "id": "8c09f278-1c63-4855-9775-3bd021c2b152",
   "metadata": {},
   "source": [
    "# 연습"
   ]
  },
  {
   "cell_type": "code",
   "execution_count": 43,
   "id": "93d42ffc-42c8-4e56-92e9-12a7248c716a",
   "metadata": {},
   "outputs": [
    {
     "name": "stdout",
     "output_type": "stream",
     "text": [
      "홍: 홍당무는\n",
      "수: 수박에 비해\n",
      "현: 현저히 단맛이 부족하다\n"
     ]
    }
   ],
   "source": [
    "#자기 이름으로 삼행시 짓기\n",
    "print('홍: 홍당무는')\n",
    "print('수: 수박에 비해')\n",
    "print('현: 현저히 단맛이 부족하다')"
   ]
  },
  {
   "cell_type": "code",
   "execution_count": 47,
   "id": "ca6fa128-3680-455e-80a0-136b268b3697",
   "metadata": {},
   "outputs": [
    {
     "name": "stdin",
     "output_type": "stream",
     "text": [
      "홍:  홍당무는\n",
      "수:  수박에 비해\n",
      "현:  현저히 단맛이 부족하다\n"
     ]
    },
    {
     "name": "stdout",
     "output_type": "stream",
     "text": [
      "홍당무는! 수박에 비해! 현저히 단맛이 부족하다\n"
     ]
    }
   ],
   "source": [
    "line1=input('홍: ')\n",
    "line2=input('수: ')\n",
    "line3=input('현: ')\n",
    "print(line1, line2, line3, sep='! ')"
   ]
  },
  {
   "cell_type": "code",
   "execution_count": 51,
   "id": "52526934-e455-455d-b45d-c54ce37a863f",
   "metadata": {},
   "outputs": [
    {
     "name": "stdout",
     "output_type": "stream",
     "text": [
      "홍당무는\n",
      " 수박에 비해\n",
      " 현저히 단맛이 부족하다\n"
     ]
    }
   ],
   "source": [
    "print(line1, line2, line3, sep='\\n ') #\\n은 줄바꿈 기호임"
   ]
  },
  {
   "cell_type": "markdown",
   "id": "7688d9d7-98bf-45db-8368-c64b37729bc0",
   "metadata": {},
   "source": [
    "문자열의 시작이 \\ (역슬레시)이면 우린 이걸 이스케이프 문자 (특수문자) 라고 부름\n",
    "\\n\n",
    "\\t\n",
    "\\\\"
   ]
  },
  {
   "cell_type": "code",
   "execution_count": 58,
   "id": "cfc3e010-feaa-4675-8007-d65db159b46a",
   "metadata": {},
   "outputs": [
    {
     "name": "stdout",
     "output_type": "stream",
     "text": [
      "홍당무는\n",
      "수박에 비해\n",
      "현저히 단맛이 부족하다\n"
     ]
    }
   ],
   "source": [
    "삼행시=line1+'\\n'+line2+'\\n'+line3\n",
    "print(삼행시)"
   ]
  },
  {
   "cell_type": "markdown",
   "id": "a3812e22-6bf0-4381-9d58-acbecfbcbdc5",
   "metadata": {},
   "source": [
    "# 변수"
   ]
  },
  {
   "cell_type": "markdown",
   "id": "8c01150a-98eb-4cd5-aa2d-1a4dcc546416",
   "metadata": {},
   "source": [
    "변수 type safe: 변수를 선언할 때 타입 (유형)을 지정하지 않아도 되는 특성\n",
    "변수명=값\n",
    "\n",
    "## 변수의 명명규칙\n",
    "1. 문자, 숫자, 밑줄(_)을 가지고 만든다\n",
    "2. 숫자로 시작하면 X\n",
    "3. 대소문자를 구분\n",
    "4. 예약어, 특수기호, 공백 X"
   ]
  },
  {
   "cell_type": "code",
   "execution_count": 60,
   "id": "a95939e3-aa81-49f3-be1f-9f0361810287",
   "metadata": {},
   "outputs": [
    {
     "data": {
      "text/plain": [
       "(10, 'hello', 3.141592)"
      ]
     },
     "execution_count": 60,
     "metadata": {},
     "output_type": "execute_result"
    }
   ],
   "source": [
    "x=10\n",
    "y='hello'\n",
    "z=3.141592\n",
    "x,y,z"
   ]
  },
  {
   "cell_type": "code",
   "execution_count": 63,
   "id": "a77ebb2f-e01d-41ef-a4e6-170e46c3756e",
   "metadata": {},
   "outputs": [
    {
     "name": "stdout",
     "output_type": "stream",
     "text": [
      "<class 'int'> <class 'str'> <class 'float'>\n"
     ]
    }
   ],
   "source": [
    "print(type(x), type (y), type (z))"
   ]
  },
  {
   "cell_type": "code",
   "execution_count": 66,
   "id": "5c0ebe41-de51-42df-a75e-a43eca32d2af",
   "metadata": {},
   "outputs": [
    {
     "data": {
      "text/plain": [
       "(10, 20, 30)"
      ]
     },
     "execution_count": 66,
     "metadata": {},
     "output_type": "execute_result"
    }
   ],
   "source": [
    "a,b,c=10,20,30\n",
    "a,b,c"
   ]
  },
  {
   "cell_type": "code",
   "execution_count": 72,
   "id": "51f0df0a-d5c2-4f67-869c-987780b31798",
   "metadata": {},
   "outputs": [
    {
     "data": {
      "text/plain": [
       "(10, 20, 30)"
      ]
     },
     "execution_count": 72,
     "metadata": {},
     "output_type": "execute_result"
    }
   ],
   "source": [
    "a=10; b=20; c=30\n",
    "a,b,c"
   ]
  },
  {
   "cell_type": "code",
   "execution_count": 71,
   "id": "6a0dbd76-b007-4ed7-a7e6-c09d8f4a9582",
   "metadata": {},
   "outputs": [
    {
     "data": {
      "text/plain": [
       "(40, 40, 40)"
      ]
     },
     "execution_count": 71,
     "metadata": {},
     "output_type": "execute_result"
    }
   ],
   "source": [
    "a=b=c=40\n",
    "a,b,c"
   ]
  },
  {
   "cell_type": "code",
   "execution_count": 73,
   "id": "aec751d8-72b7-4af7-888d-2a9afdcb58cc",
   "metadata": {},
   "outputs": [
    {
     "data": {
      "text/plain": [
       "(True, None)"
      ]
     },
     "execution_count": 73,
     "metadata": {},
     "output_type": "execute_result"
    }
   ],
   "source": [
    "d=True #bool형\n",
    "e=None #type이 없음 => NoneType\n",
    "d,e"
   ]
  },
  {
   "cell_type": "code",
   "execution_count": 1,
   "id": "1b0ea8d6-185e-4bf8-8404-6d2bfa8058c4",
   "metadata": {},
   "outputs": [
    {
     "name": "stdout",
     "output_type": "stream",
     "text": [
      "10 10\n"
     ]
    },
    {
     "data": {
      "text/plain": [
       "(140703739030232, 140703739030232)"
      ]
     },
     "execution_count": 1,
     "metadata": {},
     "output_type": "execute_result"
    }
   ],
   "source": [
    "a=10\n",
    "b=a\n",
    "print(a,b)\n",
    "id(a), id(b)"
   ]
  },
  {
   "cell_type": "code",
   "execution_count": 2,
   "id": "80885d7e-7a8c-45bf-8e1d-49de36a4dedb",
   "metadata": {},
   "outputs": [
    {
     "name": "stdout",
     "output_type": "stream",
     "text": [
      "10 10\n"
     ]
    },
    {
     "data": {
      "text/plain": [
       "(140703739030232, 140703739030232)"
      ]
     },
     "execution_count": 2,
     "metadata": {},
     "output_type": "execute_result"
    }
   ],
   "source": [
    "aa=10\n",
    "bb=10\n",
    "print(aa,bb)\n",
    "id(aa), id(bb)"
   ]
  },
  {
   "cell_type": "code",
   "execution_count": 3,
   "id": "1155551a-f9b1-47fb-b39f-ca905c90e885",
   "metadata": {},
   "outputs": [
    {
     "name": "stdout",
     "output_type": "stream",
     "text": [
      "20 10\n"
     ]
    },
    {
     "data": {
      "text/plain": [
       "(140703739030552, 140703739030232)"
      ]
     },
     "execution_count": 3,
     "metadata": {},
     "output_type": "execute_result"
    }
   ],
   "source": [
    "a=20\n",
    "print(a,b)\n",
    "id(a), id(b)"
   ]
  },
  {
   "cell_type": "code",
   "execution_count": 4,
   "id": "93997bc9-a498-4886-8c29-ec2e8caf47ce",
   "metadata": {},
   "outputs": [],
   "source": [
    "#의미를 부여하기 어려운 변수 => 수식이 아닌 경우는 사용 X\n",
    "x=100\n",
    "y=100\n",
    "\n",
    "#의미 있는 변수명\n",
    "age=20\n",
    "name='Sue'\n",
    "user_name='Hong'\n",
    "admin_name='Milp'\n",
    "\n",
    "#대문자 Upper-casssse => 상수에 사용\n",
    "PI=3.141592\n",
    "MAX_CONNECTIONS =10 #최대연결 수\n",
    "MIN_VALUE=0 #최소값"
   ]
  },
  {
   "cell_type": "markdown",
   "id": "c2b8e590-909b-4706-8814-ec9320da5381",
   "metadata": {},
   "source": [
    "## NAME_SPACE\n",
    "\n",
    "변수가 최초로 정의된 영역에 따라 유효범위가 결정됨\n",
    "\n",
    "- 지역변수: 함수 영역 내에서 선언한 변수\n",
    "- 전역변수: 함수 영역 밖에서 선언한 변수 => 이걸 쓰고 싶으면 global 키워드를 사용\n",
    "- 정적변수: 클래스에서 사용하는 변수"
   ]
  },
  {
   "cell_type": "code",
   "execution_count": 5,
   "id": "ac524248-9eb3-410a-bb96-73bb6d48d4a9",
   "metadata": {},
   "outputs": [
    {
     "name": "stdout",
     "output_type": "stream",
     "text": [
      "여기는 함수의 영역입니다 100\n"
     ]
    }
   ],
   "source": [
    "# 지역변수\n",
    "def local_example():\n",
    "    local_var=100\n",
    "    print('여기는 함수의 영역입니다',local_var)\n",
    "\n",
    "#Local_var #NameError: name 'local_var' is not defined\n",
    "\n",
    "local_example()"
   ]
  },
  {
   "cell_type": "code",
   "execution_count": 14,
   "id": "076ed89a-d828-4aad-9a9d-b9d522844170",
   "metadata": {},
   "outputs": [
    {
     "name": "stdout",
     "output_type": "stream",
     "text": [
      "나는 전역이다 111\n"
     ]
    }
   ],
   "source": [
    "#전역변수\n",
    "def global_example():\n",
    "    global_var=111\n",
    "    print('나는 전역이다', global_var)\n",
    "\n",
    "global_example()"
   ]
  },
  {
   "cell_type": "code",
   "execution_count": 38,
   "id": "341d803f-ceef-41f1-aa81-01b1fc0cbba5",
   "metadata": {},
   "outputs": [
    {
     "name": "stdout",
     "output_type": "stream",
     "text": [
      "나는 전역이다\n",
      "여기는 함수의 영역입니다. 100 나는 전역이다\n"
     ]
    }
   ],
   "source": [
    "#전역변수\n",
    "global_var='나는 전역이다'\n",
    "print(global_var)\n",
    "\n",
    "def global_example():\n",
    "    local_var=100\n",
    "    print('여기는 함수의 영역입니다.', local_var, global_var)\n",
    "\n",
    "global_example()"
   ]
  },
  {
   "cell_type": "code",
   "execution_count": 39,
   "id": "0fed1c85-c7c9-4f24-b0cc-8ba10733e3ce",
   "metadata": {},
   "outputs": [
    {
     "name": "stdout",
     "output_type": "stream",
     "text": [
      "나는 전역이다\n",
      "여기는 함수의 영역입니다. 100\n",
      "100\n"
     ]
    }
   ],
   "source": [
    "#전역변수 global variable\n",
    "var_test='나는 전역이다'\n",
    "print(var_test)\n",
    "\n",
    "def global_example():\n",
    "    global var_test\n",
    "    var_test=100\n",
    "    print('여기는 함수의 영역입니다.', var_test)\n",
    "\n",
    "global_example()\n",
    "print(var_test)"
   ]
  },
  {
   "cell_type": "code",
   "execution_count": 37,
   "id": "3f3ac190-77a3-48cc-a4ce-26acf8de2f7d",
   "metadata": {},
   "outputs": [
    {
     "name": "stdout",
     "output_type": "stream",
     "text": [
      "카운터:  1\n",
      "카운터:  2\n",
      "카운터:  3\n"
     ]
    }
   ],
   "source": [
    "#변수 영역 연습\n",
    "counter=0 #global\n",
    "\n",
    "def increment_counter():\n",
    "    #counter=counter+1\n",
    "    global counter\n",
    "    counter+=1 #증가연산제\n",
    "    print('카운터: ',counter)\n",
    "\n",
    "increment_counter()\n",
    "increment_counter()\n",
    "increment_counter()"
   ]
  },
  {
   "cell_type": "markdown",
   "id": "485fcadf-5757-4bc7-a764-12977e48bd1f",
   "metadata": {},
   "source": [
    "# 교재 변수 연습"
   ]
  },
  {
   "cell_type": "code",
   "execution_count": 41,
   "id": "6bb87809-6d8b-40f7-ab08-68d17827388a",
   "metadata": {},
   "outputs": [
    {
     "data": {
      "text/plain": [
       "0"
      ]
     },
     "execution_count": 41,
     "metadata": {},
     "output_type": "execute_result"
    }
   ],
   "source": [
    "a=123\n",
    "a=-178\n",
    "a=0\n",
    "a"
   ]
  },
  {
   "cell_type": "code",
   "execution_count": 45,
   "id": "0fd3d5e5-ac5a-43c4-8906-c2c95a3ed9ce",
   "metadata": {},
   "outputs": [
    {
     "data": {
      "text/plain": [
       "[1, 4, 3]"
      ]
     },
     "execution_count": 45,
     "metadata": {},
     "output_type": "execute_result"
    }
   ],
   "source": [
    "# [:]을 사용해서 복사 가능\n",
    "a=[1,2,3]\n",
    "b=a[:]\n",
    "a[1]=4\n",
    "a\n",
    "# => a 리스트 값을 바꾸더라도 b 리스트에는 아무런 영향이 없음"
   ]
  },
  {
   "cell_type": "code",
   "execution_count": 46,
   "id": "ba799de8-70b8-4205-8393-de4e5d0d110d",
   "metadata": {},
   "outputs": [
    {
     "data": {
      "text/plain": [
       "[1, 2, 3]"
      ]
     },
     "execution_count": 46,
     "metadata": {},
     "output_type": "execute_result"
    }
   ],
   "source": [
    "b"
   ]
  },
  {
   "cell_type": "code",
   "execution_count": 48,
   "id": "573a605c-60c8-4b0c-abd1-f3b8c2cd48c5",
   "metadata": {},
   "outputs": [
    {
     "data": {
      "text/plain": [
       "False"
      ]
     },
     "execution_count": 48,
     "metadata": {},
     "output_type": "execute_result"
    }
   ],
   "source": [
    "from copy import copy\n",
    "a=[1,2,3]\n",
    "b=copy(a)\n",
    "\n",
    "b is a\n",
    "\n",
    "#=> 두 변수의 값은 같지만 b is a가 False를 리턴하므로 b와 a가 가리키는 객체는 서로 다름"
   ]
  },
  {
   "cell_type": "code",
   "execution_count": 49,
   "id": "f5c89536-eb57-4ef6-8e45-666851d0dad5",
   "metadata": {},
   "outputs": [
    {
     "data": {
      "text/plain": [
       "5"
      ]
     },
     "execution_count": 49,
     "metadata": {},
     "output_type": "execute_result"
    }
   ],
   "source": [
    "a=3\n",
    "b=5\n",
    "a,b=b,a\n",
    "a"
   ]
  },
  {
   "cell_type": "code",
   "execution_count": 51,
   "id": "e916f2cf-219d-4667-aea0-b54604d833d4",
   "metadata": {},
   "outputs": [
    {
     "data": {
      "text/plain": [
       "3"
      ]
     },
     "execution_count": 51,
     "metadata": {},
     "output_type": "execute_result"
    }
   ],
   "source": [
    "b\n",
    "#처음에 a에 값 3, b에는 값 5가 대입되어 있었지만 a,b=b,a 문장을 (continued)\n",
    "#수행한 후에는 그 값이 서로 바뀌었다는 것을 확인할 수 있음"
   ]
  },
  {
   "cell_type": "code",
   "execution_count": 52,
   "id": "359ff8ba-97c4-46e6-9879-c79cdc4b6798",
   "metadata": {},
   "outputs": [
    {
     "name": "stdout",
     "output_type": "stream",
     "text": [
      "Hello World\n"
     ]
    }
   ],
   "source": [
    "print ('Hello World')"
   ]
  },
  {
   "cell_type": "code",
   "execution_count": 54,
   "id": "907da1b8-1c25-4c4a-9148-f53452e15083",
   "metadata": {},
   "outputs": [
    {
     "name": "stdout",
     "output_type": "stream",
     "text": [
      "Mary's cosmetics\n"
     ]
    }
   ],
   "source": [
    "print(\"Mary's cosmetics\")"
   ]
  },
  {
   "cell_type": "code",
   "execution_count": 55,
   "id": "0bb9ab7e-a8dc-4f36-a7c5-51b81360da47",
   "metadata": {},
   "outputs": [
    {
     "name": "stdout",
     "output_type": "stream",
     "text": [
      "신씨가 소리질렀다. \"도둑이야\".\n"
     ]
    }
   ],
   "source": [
    "print('신씨가 소리질렀다. \"도둑이야\".')"
   ]
  },
  {
   "cell_type": "code",
   "execution_count": 56,
   "id": "c27257f0-e2fc-4a5c-828b-6286204df2d1",
   "metadata": {},
   "outputs": [
    {
     "name": "stdout",
     "output_type": "stream",
     "text": [
      "C:\\Windows\n"
     ]
    },
    {
     "name": "stderr",
     "output_type": "stream",
     "text": [
      "<>:1: SyntaxWarning: invalid escape sequence '\\W'\n",
      "<>:1: SyntaxWarning: invalid escape sequence '\\W'\n",
      "C:\\Users\\Admin\\AppData\\Local\\Temp\\ipykernel_2052\\1624947657.py:1: SyntaxWarning: invalid escape sequence '\\W'\n",
      "  print('C:\\Windows')\n"
     ]
    }
   ],
   "source": [
    "print('C:\\Windows')"
   ]
  },
  {
   "cell_type": "code",
   "execution_count": 58,
   "id": "4132fd19-4480-4974-b1f8-e486fbe0fe9f",
   "metadata": {},
   "outputs": [
    {
     "name": "stdout",
     "output_type": "stream",
     "text": [
      "안녕하세요.\n",
      "만나서\t\t반갑습니다.\n"
     ]
    }
   ],
   "source": [
    "print(\"안녕하세요.\\n만나서\\t\\t반갑습니다.\")\n",
    "#\\n은 다음 줄로 넘기기\n",
    "#\\t는 tap"
   ]
  },
  {
   "cell_type": "code",
   "execution_count": 60,
   "id": "ff5b04e2-9cf9-4cb9-9fdf-58b8005d7fb9",
   "metadata": {},
   "outputs": [
    {
     "name": "stdout",
     "output_type": "stream",
     "text": [
      "naver;kakao;samsung\n"
     ]
    }
   ],
   "source": [
    "print('naver','kakao','samsung', sep=\";\")"
   ]
  },
  {
   "cell_type": "code",
   "execution_count": 62,
   "id": "d6db7f82-afad-436a-beb2-674572d2be5c",
   "metadata": {},
   "outputs": [
    {
     "name": "stdout",
     "output_type": "stream",
     "text": [
      "firstsecond\n"
     ]
    }
   ],
   "source": [
    "print(\"first\",end=\"\");print(\"second\")"
   ]
  },
  {
   "cell_type": "code",
   "execution_count": 65,
   "id": "83a608ad-3883-4622-a972-b1c602440a89",
   "metadata": {},
   "outputs": [
    {
     "name": "stdout",
     "output_type": "stream",
     "text": [
      "1.6666666666666667\n"
     ]
    }
   ],
   "source": [
    "print(5/3)"
   ]
  },
  {
   "cell_type": "code",
   "execution_count": 66,
   "id": "e772db8f-fc46-410e-b281-f01d3a9d7fd8",
   "metadata": {},
   "outputs": [
    {
     "name": "stdout",
     "output_type": "stream",
     "text": [
      "500000\n"
     ]
    }
   ],
   "source": [
    "삼전=50000\n",
    "총평가금액=삼전*10\n",
    "print(총평가금액)"
   ]
  },
  {
   "cell_type": "code",
   "execution_count": 67,
   "id": "679020bc-c10b-44bd-878e-56ab4b40bac5",
   "metadata": {},
   "outputs": [
    {
     "name": "stdout",
     "output_type": "stream",
     "text": [
      "298000000000000 <class 'int'>\n",
      "50000 <class 'int'>\n",
      "15.79 <class 'float'>\n"
     ]
    }
   ],
   "source": [
    "시가총액=298000000000000\n",
    "현재가=50000\n",
    "PER=15.79\n",
    "\n",
    "print(시가총액, type(시가총액))\n",
    "print(현재가, type(현재가))\n",
    "print(PER, type(PER))"
   ]
  },
  {
   "cell_type": "code",
   "execution_count": 72,
   "id": "d28d66ed-0273-4cc3-a72e-8820d7354bbd",
   "metadata": {},
   "outputs": [
    {
     "name": "stdout",
     "output_type": "stream",
     "text": [
      "hello! python\n"
     ]
    }
   ],
   "source": [
    "s='hello'\n",
    "t='python'\n",
    "\n",
    "print(s+'!',t)"
   ]
  },
  {
   "cell_type": "code",
   "execution_count": 73,
   "id": "eb5fb56b-8427-4623-b6c4-d9edcb2224d6",
   "metadata": {},
   "outputs": [
    {
     "data": {
      "text/plain": [
       "8"
      ]
     },
     "execution_count": 73,
     "metadata": {},
     "output_type": "execute_result"
    }
   ],
   "source": [
    "2+2*3"
   ]
  },
  {
   "cell_type": "markdown",
   "id": "359fc9aa-b75d-4f5e-b1fa-a7e1d9afebe5",
   "metadata": {},
   "source": [
    "# 자료형\n",
    "\n",
    "- 기본 자료형: 숫자형, 문자열형 (str), 부울형\n",
    "- 복합 자료형: 리스트, 셋, 튜플, 딕셔너리"
   ]
  },
  {
   "cell_type": "markdown",
   "id": "efd63856-2cea-42fe-9967-7df49bb9992f",
   "metadata": {},
   "source": [
    "| Type | 설명 | 예시 |\n",
    "|-------|--------|--------|\n",
    "| 정수형 (int) | 정수를 저장하는 자료형 | 1, -5, 100 |\n",
    "| 실수형 (float) | 소수점이 있는 숫자를 저장하는 자료형 | 3.14, -0.001, 2.0 |\n",
    "| 문자열 (str) | 텍스트를 저장하는 자료형 | \"Hello\", '파이썬' |\n",
    "| 논리형 (bool) | 침/거짓 값을 저장하는 자료형 | True, False |"
   ]
  },
  {
   "cell_type": "markdown",
   "id": "565d3417-b376-4681-b9fa-f0927199b3c0",
   "metadata": {},
   "source": [
    "- 수정 불가능한 데이터 타입: 수치형, 부울형, 문자열, 튜플\n",
    "- 수정 가능한 데이터 타입: 리스트, 딕셔너리, 셋\n"
   ]
  },
  {
   "cell_type": "code",
   "execution_count": 74,
   "id": "83e661c0-aff0-4fd3-a127-1c39e950a9a3",
   "metadata": {},
   "outputs": [
    {
     "data": {
      "text/plain": [
       "(20, int)"
      ]
     },
     "execution_count": 74,
     "metadata": {},
     "output_type": "execute_result"
    }
   ],
   "source": [
    "#수치형 - int\n",
    "20, type(20)"
   ]
  },
  {
   "cell_type": "code",
   "execution_count": 75,
   "id": "f4928223-5690-46af-bbea-c1d2838abdca",
   "metadata": {},
   "outputs": [
    {
     "data": {
      "text/plain": [
       "int"
      ]
     },
     "execution_count": 75,
     "metadata": {},
     "output_type": "execute_result"
    }
   ],
   "source": [
    "age = 20\n",
    "type(age)"
   ]
  },
  {
   "cell_type": "markdown",
   "id": "4126d88a-183e-4104-866b-9852d1d78d69",
   "metadata": {},
   "source": [
    "1. 진법: 10진수, 2진수, 8진수, 16진수\n",
    "2. 입력하는 방법은 다르지만, print() 결과는 동일하다"
   ]
  },
  {
   "cell_type": "code",
   "execution_count": 77,
   "id": "282a0502-d8b7-480b-8fe4-8d6f45f201ec",
   "metadata": {},
   "outputs": [
    {
     "data": {
      "text/plain": [
       "(10, 5)"
      ]
     },
     "execution_count": 77,
     "metadata": {},
     "output_type": "execute_result"
    }
   ],
   "source": [
    "a=10\n",
    "b=0b0101 #2진수 - 0/1로 표현하는 방법 -> 0101 = 2^2+2^0 \n",
    "a,b"
   ]
  },
  {
   "cell_type": "code",
   "execution_count": 82,
   "id": "3c291713-9e32-4e79-9e20-c79b212ee1be",
   "metadata": {},
   "outputs": [
    {
     "data": {
      "text/plain": [
       "8"
      ]
     },
     "execution_count": 82,
     "metadata": {},
     "output_type": "execute_result"
    }
   ],
   "source": [
    "c=0o10 #0o = 8진수 -> 8^1 + 8= 8 \n",
    "c"
   ]
  },
  {
   "cell_type": "code",
   "execution_count": 81,
   "id": "c01cf373-a20e-447d-9e87-ec737d622e4a",
   "metadata": {},
   "outputs": [
    {
     "data": {
      "text/plain": [
       "8"
      ]
     },
     "execution_count": 81,
     "metadata": {},
     "output_type": "execute_result"
    }
   ],
   "source": [
    "d=0b1000\n",
    "d"
   ]
  },
  {
   "cell_type": "code",
   "execution_count": 83,
   "id": "aa69ca00-9633-4b79-8229-2a27d9f91915",
   "metadata": {},
   "outputs": [
    {
     "data": {
      "text/plain": [
       "365"
      ]
     },
     "execution_count": 83,
     "metadata": {},
     "output_type": "execute_result"
    }
   ],
   "source": [
    "e=0x16d #1*16^2 + 6*16^1 +d(13)*16^0 = 256+96+16\n",
    "e"
   ]
  },
  {
   "cell_type": "code",
   "execution_count": 93,
   "id": "65cc5f69-9a12-42bb-bbaf-35cda8e932b7",
   "metadata": {},
   "outputs": [
    {
     "data": {
      "text/plain": [
       "(3.14, float)"
      ]
     },
     "execution_count": 93,
     "metadata": {},
     "output_type": "execute_result"
    }
   ],
   "source": [
    "#float\n",
    "b=3.14\n",
    "b,type(b)"
   ]
  },
  {
   "cell_type": "markdown",
   "id": "2dc05ed6-36ae-4097-a722-1d5ff2679bdb",
   "metadata": {},
   "source": [
    "지수의 표기\n",
    "\n",
    "숫자e2 -> 10^2의 곱 =/ 10**3\n",
    "숫자e-2 -> 10^-2의 곱 =/ 10**-1"
   ]
  },
  {
   "cell_type": "code",
   "execution_count": 88,
   "id": "c3261a38-e46e-4732-8734-cf3cbb3acef0",
   "metadata": {},
   "outputs": [
    {
     "data": {
      "text/plain": [
       "(1000.0, 1000)"
      ]
     },
     "execution_count": 88,
     "metadata": {},
     "output_type": "execute_result"
    }
   ],
   "source": [
    "fa=10e2\n",
    "fa, 10**3"
   ]
  },
  {
   "cell_type": "code",
   "execution_count": 92,
   "id": "05db687d-2f91-4c88-9dde-96c5f36955d3",
   "metadata": {},
   "outputs": [
    {
     "data": {
      "text/plain": [
       "(0.1, 0.1)"
      ]
     },
     "execution_count": 92,
     "metadata": {},
     "output_type": "execute_result"
    }
   ],
   "source": [
    "fp=10e-2\n",
    "fp, 10**-1"
   ]
  },
  {
   "cell_type": "code",
   "execution_count": 91,
   "id": "fa69e3d4-448c-4703-878f-eb7459b53b7b",
   "metadata": {},
   "outputs": [
    {
     "data": {
      "text/plain": [
       "3141500000.0"
      ]
     },
     "execution_count": 91,
     "metadata": {},
     "output_type": "execute_result"
    }
   ],
   "source": [
    "fc=3.1415e9\n",
    "fc"
   ]
  },
  {
   "cell_type": "markdown",
   "id": "4f90d0cd-1488-43d1-bb16-e777097b8197",
   "metadata": {},
   "source": [
    "Boolean값 - True, False\n",
    "논리연산, 비교연산"
   ]
  },
  {
   "cell_type": "code",
   "execution_count": 94,
   "id": "8ddf4565-c147-495f-97e9-20182247c831",
   "metadata": {},
   "outputs": [
    {
     "data": {
      "text/plain": [
       "(bool, bool)"
      ]
     },
     "execution_count": 94,
     "metadata": {},
     "output_type": "execute_result"
    }
   ],
   "source": [
    "ba=True\n",
    "bb=True\n",
    "type(ba), type(bb)"
   ]
  },
  {
   "cell_type": "code",
   "execution_count": 97,
   "id": "133e0d68-f7b2-42d0-8bf1-fc822911839f",
   "metadata": {},
   "outputs": [
    {
     "data": {
      "text/plain": [
       "False"
      ]
     },
     "execution_count": 97,
     "metadata": {},
     "output_type": "execute_result"
    }
   ],
   "source": [
    "ba == 0"
   ]
  },
  {
   "cell_type": "code",
   "execution_count": 98,
   "id": "67ecc4bc-caa2-4423-8582-7083a56cd359",
   "metadata": {},
   "outputs": [
    {
     "data": {
      "text/plain": [
       "False"
      ]
     },
     "execution_count": 98,
     "metadata": {},
     "output_type": "execute_result"
    }
   ],
   "source": [
    "ba =='True'"
   ]
  },
  {
   "cell_type": "code",
   "execution_count": 99,
   "id": "fe3258f2-2723-4481-b2c6-3dadd6c5a8d0",
   "metadata": {
    "scrolled": true
   },
   "outputs": [
    {
     "data": {
      "text/plain": [
       "1"
      ]
     },
     "execution_count": 99,
     "metadata": {},
     "output_type": "execute_result"
    }
   ],
   "source": [
    "#논리 연산자 - and or not\n",
    "\n",
    "bc=1\n",
    "ba and bc"
   ]
  },
  {
   "cell_type": "code",
   "execution_count": 101,
   "id": "8b698471-c9ba-4ad0-9a45-15c41a5eea32",
   "metadata": {},
   "outputs": [],
   "source": [
    "#사칙연산 + - * / //몫 나머지 %\n",
    "a=2\n",
    "b=3"
   ]
  },
  {
   "cell_type": "code",
   "execution_count": 105,
   "id": "24edf34d-a0b0-4a43-b395-4ef6d1686948",
   "metadata": {},
   "outputs": [
    {
     "data": {
      "text/plain": [
       "(0.6666666666666666, 0, 2)"
      ]
     },
     "execution_count": 105,
     "metadata": {},
     "output_type": "execute_result"
    }
   ],
   "source": [
    "a+b\n",
    "a-b\n",
    "a*b\n",
    "a/b, a//b, a%b #몫, 나머지"
   ]
  },
  {
   "cell_type": "code",
   "execution_count": 110,
   "id": "5858c409-0df1-490c-9851-286e2e09192b",
   "metadata": {},
   "outputs": [
    {
     "data": {
      "text/plain": [
       "True"
      ]
     },
     "execution_count": 110,
     "metadata": {},
     "output_type": "execute_result"
    }
   ],
   "source": [
    "#비교연산자\n",
    "1+2==3\n",
    "1+2 !=3\n",
    "1+3 > 3\n",
    "1+3 <= 4"
   ]
  },
  {
   "cell_type": "code",
   "execution_count": 111,
   "id": "bd9f55bb-4251-4d38-b4f2-5ab30df68f26",
   "metadata": {},
   "outputs": [
    {
     "data": {
      "text/plain": [
       "True"
      ]
     },
     "execution_count": 111,
     "metadata": {},
     "output_type": "execute_result"
    }
   ],
   "source": [
    "#비교연산자와 논리연산자의 결합\n",
    "10%2 == 0 and 12%3 == 0"
   ]
  },
  {
   "cell_type": "code",
   "execution_count": 112,
   "id": "35a8c880-8c74-474e-b141-eb424a534ec6",
   "metadata": {},
   "outputs": [
    {
     "data": {
      "text/plain": [
       "('1234', '5678', 2672987954928, 2673026210464)"
      ]
     },
     "execution_count": 112,
     "metadata": {},
     "output_type": "execute_result"
    }
   ],
   "source": [
    "a='1234'\n",
    "b='5678'\n",
    "a,b,id(a),id(b)"
   ]
  },
  {
   "cell_type": "code",
   "execution_count": 113,
   "id": "9a1a64ca-54d8-439c-b428-692595daedd9",
   "metadata": {},
   "outputs": [
    {
     "data": {
      "text/plain": [
       "False"
      ]
     },
     "execution_count": 113,
     "metadata": {},
     "output_type": "execute_result"
    }
   ],
   "source": [
    "id(a)==id(b)"
   ]
  },
  {
   "cell_type": "code",
   "execution_count": 114,
   "id": "0599d70d-66d1-4cee-9821-825c454ea8c5",
   "metadata": {},
   "outputs": [
    {
     "data": {
      "text/plain": [
       "(10, 12)"
      ]
     },
     "execution_count": 114,
     "metadata": {},
     "output_type": "execute_result"
    }
   ],
   "source": [
    "#대입연산자\n",
    "a=10\n",
    "b=a+2\n",
    "a,b"
   ]
  },
  {
   "cell_type": "code",
   "execution_count": 115,
   "id": "12f95283-da1a-4370-9ec0-7c43f1a12da0",
   "metadata": {},
   "outputs": [
    {
     "data": {
      "text/plain": [
       "21"
      ]
     },
     "execution_count": 115,
     "metadata": {},
     "output_type": "execute_result"
    }
   ],
   "source": [
    "a=20\n",
    "a+=1 #a= a+1\n",
    "a"
   ]
  },
  {
   "cell_type": "code",
   "execution_count": 117,
   "id": "9ef49732-895d-4512-bbb8-4ce4963f060c",
   "metadata": {},
   "outputs": [
    {
     "data": {
      "text/plain": [
       "19"
      ]
     },
     "execution_count": 117,
     "metadata": {},
     "output_type": "execute_result"
    }
   ],
   "source": [
    "a -= 1\n",
    "a"
   ]
  },
  {
   "cell_type": "code",
   "execution_count": 124,
   "id": "6cfab763-0c33-4b84-9325-53ef21e30ea4",
   "metadata": {},
   "outputs": [
    {
     "data": {
      "text/plain": [
       "7"
      ]
     },
     "execution_count": 124,
     "metadata": {},
     "output_type": "execute_result"
    }
   ],
   "source": [
    "a=3\n",
    "b=2\n",
    "a += 2 + b\n",
    "a"
   ]
  },
  {
   "cell_type": "code",
   "execution_count": 125,
   "id": "6338f77a-8798-4251-b1ac-1637d8a2e787",
   "metadata": {},
   "outputs": [
    {
     "ename": "SyntaxError",
     "evalue": "invalid syntax (2694438186.py, line 2)",
     "output_type": "error",
     "traceback": [
      "  \u001b[36mCell\u001b[39m\u001b[36m \u001b[39m\u001b[32mIn[125]\u001b[39m\u001b[32m, line 2\u001b[39m\n\u001b[31m    \u001b[39m\u001b[31m' ', \" \", \"\"\" \"\"\", ''' ''' docstring\u001b[39m\n                               ^\n\u001b[31mSyntaxError\u001b[39m\u001b[31m:\u001b[39m invalid syntax\n"
     ]
    }
   ],
   "source": [
    "#문자열 str\n",
    "' ', \" \", \"\"\" \"\"\", ''' ''' docstring"
   ]
  },
  {
   "cell_type": "code",
   "execution_count": 126,
   "id": "ed25089c-afcf-43ce-a679-d8bbdcbb10a6",
   "metadata": {},
   "outputs": [
    {
     "data": {
      "text/plain": [
       "'hellopython'"
      ]
     },
     "execution_count": 126,
     "metadata": {},
     "output_type": "execute_result"
    }
   ],
   "source": [
    "a='hello'\n",
    "b='python'\n",
    "a+b #+는 문자열끼리 연산"
   ]
  },
  {
   "cell_type": "code",
   "execution_count": 127,
   "id": "9e6ed535-22bb-4ed2-ab24-3897bc6f6d52",
   "metadata": {},
   "outputs": [
    {
     "data": {
      "text/plain": [
       "'**********'"
      ]
     },
     "execution_count": 127,
     "metadata": {},
     "output_type": "execute_result"
    }
   ],
   "source": [
    "c='*'\n",
    "c*10"
   ]
  },
  {
   "cell_type": "code",
   "execution_count": 129,
   "id": "5d995f0f-1412-4352-b00c-f81de3082ea2",
   "metadata": {},
   "outputs": [
    {
     "data": {
      "text/plain": [
       "\"Hong's family\""
      ]
     },
     "execution_count": 129,
     "metadata": {},
     "output_type": "execute_result"
    }
   ],
   "source": [
    "d=\"Hong's family\"\n",
    "d"
   ]
  },
  {
   "cell_type": "code",
   "execution_count": 130,
   "id": "f856e7db-58f1-48ae-9f81-f04c10846e77",
   "metadata": {},
   "outputs": [
    {
     "data": {
      "text/plain": [
       "True"
      ]
     },
     "execution_count": 130,
     "metadata": {},
     "output_type": "execute_result"
    }
   ],
   "source": [
    "e='1'\n",
    "e=='1'"
   ]
  },
  {
   "cell_type": "code",
   "execution_count": 132,
   "id": "6ac1425d-7a58-4036-9f4b-03fe1f25e04c",
   "metadata": {},
   "outputs": [
    {
     "data": {
      "text/plain": [
       "'2'"
      ]
     },
     "execution_count": 132,
     "metadata": {},
     "output_type": "execute_result"
    }
   ],
   "source": [
    "#문자열은 리스트, 열거형\n",
    "a='20010331Rabcd' #13개의 글자의 목록\n",
    "a[0] #숫자 자리수 => 인덱스 (0번째 자리부터 시작)"
   ]
  },
  {
   "cell_type": "code",
   "execution_count": 136,
   "id": "2ae096e4-b97a-4c97-a6f4-2b71eeb58394",
   "metadata": {},
   "outputs": [
    {
     "data": {
      "text/plain": [
       "'1'"
      ]
     },
     "execution_count": 136,
     "metadata": {},
     "output_type": "execute_result"
    }
   ],
   "source": [
    "a[3] #인덱싱"
   ]
  },
  {
   "cell_type": "code",
   "execution_count": 147,
   "id": "df22e5a6-a1da-441d-b0e6-b939b9781bdb",
   "metadata": {},
   "outputs": [
    {
     "data": {
      "text/plain": [
       "'2001'"
      ]
     },
     "execution_count": 147,
     "metadata": {},
     "output_type": "execute_result"
    }
   ],
   "source": [
    "a[0:4] #영역을 지정할 때 : (콜론) 사용 => 슬라이싱 (Slicing)\n",
    "a[:4]"
   ]
  },
  {
   "cell_type": "code",
   "execution_count": 146,
   "id": "ba4cdd35-c1ae-4a1c-bbfa-8165b4b34339",
   "metadata": {},
   "outputs": [
    {
     "data": {
      "text/plain": [
       "'Rab'"
      ]
     },
     "execution_count": 146,
     "metadata": {},
     "output_type": "execute_result"
    }
   ],
   "source": [
    "#a='20010331Rabcd'중에 Rab만 가져오기\n",
    "a[8:11]"
   ]
  },
  {
   "cell_type": "code",
   "execution_count": 150,
   "id": "b783a2db-010c-4c7f-bcbd-51befb5fee9a",
   "metadata": {},
   "outputs": [
    {
     "data": {
      "text/plain": [
       "'abcd'"
      ]
     },
     "execution_count": 150,
     "metadata": {},
     "output_type": "execute_result"
    }
   ],
   "source": [
    "#a='20010331Rabcd'중에 abcd만 가져오기\n",
    "a[9:] #인덱스 = 0에서 시작한다"
   ]
  },
  {
   "cell_type": "code",
   "execution_count": 151,
   "id": "daf71cb1-c1d1-496e-b5dc-db676c7457bd",
   "metadata": {},
   "outputs": [
    {
     "data": {
      "text/plain": [
       "True"
      ]
     },
     "execution_count": 151,
     "metadata": {},
     "output_type": "execute_result"
    }
   ],
   "source": [
    "s='abc'\n",
    "a=s\n",
    "a is s"
   ]
  },
  {
   "cell_type": "code",
   "execution_count": 152,
   "id": "51788808-7cda-4ed1-b8b4-d40df87ac4b2",
   "metadata": {},
   "outputs": [
    {
     "data": {
      "text/plain": [
       "True"
      ]
     },
     "execution_count": 152,
     "metadata": {},
     "output_type": "execute_result"
    }
   ],
   "source": [
    "b=s[:]\n",
    "a is b"
   ]
  },
  {
   "cell_type": "code",
   "execution_count": 155,
   "id": "e904e357-615f-4c76-abdc-4da6e90d8e87",
   "metadata": {},
   "outputs": [
    {
     "name": "stdout",
     "output_type": "stream",
     "text": [
      "1111111111111111111111111111111111111111111111111111111111111111111111111111111111111111111111111111111111111111111111111111111111111111111111111111111111111111111111111111111111111111111111111111111111111111111111111111111111111111111111111111111111111111111111111111111111111111111111111111111111111111111111111111111111111111111111111111111111111111111111111111111111111111111111111111111111111111111111111111111111111111111111111111111111111111111111111111111111111111111111111111111111111111111111111111111111111111111111111111111111111111111111111111111111111111111111111111111111111111111111111111111111111111111111111111111111111111111111111111111111111111111111111111111111111111111111111111111111111111111111111111111111111111111111111111111111111111111111111111111111111111111111111111111111111111111111111111111111111111111111111111111111111111111111111111111111111111111111111111111111111111111111111111111111111111111111111111111111111111111111111111111111111111111111111111111111111111\n"
     ]
    },
    {
     "data": {
      "text/plain": [
       "True"
      ]
     },
     "execution_count": 155,
     "metadata": {},
     "output_type": "execute_result"
    }
   ],
   "source": [
    "s1='1'*1000\n",
    "\n",
    "b=s1[:]\n",
    "print(b)\n",
    "s1==b"
   ]
  },
  {
   "cell_type": "code",
   "execution_count": null,
   "id": "18581714-e7f3-4d26-a329-6d9a87a9beff",
   "metadata": {},
   "outputs": [],
   "source": []
  },
  {
   "cell_type": "code",
   "execution_count": null,
   "id": "472ed1fb-3081-453a-9c29-a345374a155c",
   "metadata": {},
   "outputs": [],
   "source": []
  },
  {
   "cell_type": "code",
   "execution_count": null,
   "id": "fada2ccf-433e-45ed-a877-c15ab7d743d6",
   "metadata": {},
   "outputs": [],
   "source": []
  },
  {
   "cell_type": "code",
   "execution_count": null,
   "id": "980b9b6b-a082-4812-a29f-760317bc87d6",
   "metadata": {},
   "outputs": [],
   "source": []
  },
  {
   "cell_type": "code",
   "execution_count": null,
   "id": "7710afff-c225-435b-bc37-93049aacc49c",
   "metadata": {},
   "outputs": [],
   "source": []
  },
  {
   "cell_type": "code",
   "execution_count": null,
   "id": "d18a9bc1-b7bf-4f4a-850e-2bbcdb048dc0",
   "metadata": {},
   "outputs": [],
   "source": []
  },
  {
   "cell_type": "code",
   "execution_count": null,
   "id": "865e5e88-a579-4458-83bf-85a9be0c0ec7",
   "metadata": {},
   "outputs": [],
   "source": []
  },
  {
   "cell_type": "code",
   "execution_count": null,
   "id": "0be36d40-16e6-4e17-ba40-1cc9b9be9a3f",
   "metadata": {},
   "outputs": [],
   "source": []
  },
  {
   "cell_type": "code",
   "execution_count": null,
   "id": "f5c0ca68-0e7d-4439-ab4b-cadfdfe9cfb8",
   "metadata": {},
   "outputs": [],
   "source": []
  },
  {
   "cell_type": "code",
   "execution_count": null,
   "id": "7f063831-60ef-49f4-a8a1-bb772601cb60",
   "metadata": {},
   "outputs": [],
   "source": []
  }
 ],
 "metadata": {
  "kernelspec": {
   "display_name": "Python 3 (ipykernel)",
   "language": "python",
   "name": "python3"
  },
  "language_info": {
   "codemirror_mode": {
    "name": "ipython",
    "version": 3
   },
   "file_extension": ".py",
   "mimetype": "text/x-python",
   "name": "python",
   "nbconvert_exporter": "python",
   "pygments_lexer": "ipython3",
   "version": "3.12.9"
  }
 },
 "nbformat": 4,
 "nbformat_minor": 5
}
